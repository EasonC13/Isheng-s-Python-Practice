{
 "cells": [
  {
   "cell_type": "markdown",
   "metadata": {
    "ExecuteTime": {
     "end_time": "2019-04-12T10:28:42.480857Z",
     "start_time": "2019-04-12T10:28:39.934956Z"
    }
   },
   "source": [
    "# HW ���� - �ګ��ʵe���[�ݼƪ���\n",
    "\n",
    "> Hsiao, Wei-pin @ NTNU Math\n",
    "\n",
    "## �y�z\n",
    "\n",
    "[�ګ��ʵe��](https://ani.gamer.com.tw/)�O�x�W�ثe�̤j���ʵe��y�����A��B������������ꪺ bilibili ��饻�� niconico (�������\���ͦۦ�W�ǰʵe)�A�������M�D�չϧQ�� Python �إߪ��ΡA�w����ʵe�Ʃx������s�f(�����u�ץ��b��e���饻�ʵe�`��)�[�����p���ơC���M�פ����U�C�X�ӳ����G\n",
    "\n",
    "1. [`AGI_Daily_DWer.py`](https://github.com/PeterHsi/AniGamerInfo/blob/master/AGI_Daily_DWer.py) ���ε{���X�A�N�ګ��ʵe�Ƥ��[�ݼƦr�s�ɬ� `.csv` �ɡC\n",
    "   \n",
    "   �ɮשR�W�W�h���G`AGI_Daily_YYYYmmdd-HHMM.csv`�A�䤤 `YYYY` ���褸�~�A`mm` ����A`dd` ����A`HH` ����(24�p�ɨ�)�A`MM` �����A�ɰϬ� UTC/GMT+8 (�x�_�ɰ�)�C\n",
    "   ��满���Ԩ��G https://github.com/PeterHsi/AniGamerInfo/blob/master/README.md\n",
    "   \n",
    "2. �Ƶ{���O�A�H�]�w�Ƶ{�覡���� `AGI_Daily_DWer.py` �C\n",
    "\n",
    "�ثe���G��m�� [PeterHsi/AniGamerInfo](https://github.com/PeterHsi/AniGamerInfo) �� GitHub �M�פ�(�]�t�C�p�ɻ`���@�����ƾ�)�A�w��U����СC\n",
    "    \n",
    "### �e�H�έp�Ʀr�ѦҡG\n",
    "- [\\[18��\\] �ʵe�� ��f�ֿn�[�ݦ����`����](https://www.ptt.cc/bbs/C_Chat/M.1546933824.A.B3A.html) (by PTTid: durantjosh)\n",
    "- [Re: \\[19�V\\] �ʵe�� �V�f�ֿn�[�ݦ��ƨ���](https://www.ptt.cc/bbs/C_Chat/M.1554210297.A.6B5.html) (by PTTid: durantjosh)\n",
    "\n",
    "---\n",
    "\n",
    "## 1. ���ε{���X\n",
    "\n",
    "�{���X�s���� [`AGI_Daily_DWer.py`](https://github.com/PeterHsi/AniGamerInfo/blob/master/AGI_Daily_DWer.py)�A�H�U���{���X�����G\n",
    "\n",
    "### ���J�ݭn���M��\n",
    "\n",
    "���J�p�U�M��A�̭��n���� BeautifulSoup (�t�d�����)�P pandas (�t�d�s��)�C"
   ]
  },
  {
   "cell_type": "code",
   "execution_count": 1,
   "metadata": {
    "ExecuteTime": {
     "end_time": "2019-04-12T10:28:42.480857Z",
     "start_time": "2019-04-12T10:28:39.934956Z"
    }
   },
   "outputs": [],
   "source": [
    "import os\n",
    "import datetime\n",
    "import pandas as pd\n",
    "import requests\n",
    "from bs4 import BeautifulSoup"
   ]
  },
  {
   "cell_type": "markdown",
   "metadata": {},
   "source": [
    "### ���o�ګ��ʵe�Ʃx�� HTML ���"
   ]
  },
  {
   "cell_type": "code",
   "execution_count": 2,
   "metadata": {
    "ExecuteTime": {
     "end_time": "2019-04-12T10:28:46.458068Z",
     "start_time": "2019-04-12T10:28:45.490181Z"
    }
   },
   "outputs": [],
   "source": [
    "reqAniGamer = requests.get('https://ani.gamer.com.tw/')\n",
    "soup = BeautifulSoup(reqAniGamer.text, 'html.parser')\n",
    "thisSeasonAnime = soup.find_all(attrs={\"data-look\": \"���u�s�f\"})"
   ]
  },
  {
   "cell_type": "markdown",
   "metadata": {
    "ExecuteTime": {
     "end_time": "2019-04-12T10:28:46.458068Z",
     "start_time": "2019-04-12T10:28:45.490181Z"
    }
   },
   "source": [
    "![](Data/HW_Mid_aniGamerHomepage.png)\n",
    "\n",
    "�����ˬd�x����l�X�|�o�{�A�C�Ӹ`�ت���T�����b�o��A�ҥH�o��O�ڭ̭n�����B�z���ϰ�"
   ]
  },
  {
   "cell_type": "code",
   "execution_count": 2,
   "metadata": {
    "ExecuteTime": {
     "end_time": "2019-04-12T10:28:46.458068Z",
     "start_time": "2019-04-12T10:28:45.490181Z"
    }
   },
   "outputs": [],
   "source": [
    "numAni = [x for x in range(len(thisSeasonAnime))]\n",
    "title = [str(thisSeasonAnime[i].find('p').string) for i in numAni]\n",
    "vol = [thisSeasonAnime[i].find(\n",
    "    class_=\"newanime-vol\").string.replace(\"�� \", \"\").replace(\" ��\", \"\") for i in numAni]\n",
    "update = [thisSeasonAnime[i].find(\n",
    "    class_=\"newanime-date\").string.replace(\" ��s\", \"\") for i in numAni]\n",
    "unNumber = [thisSeasonAnime[i].find(\n",
    "    class_=\"newanime-count\") for i in numAni]\n",
    "number = []\n",
    "for str_temp in unNumber:\n",
    "    posEnd = str(str_temp).find(\"</span>\")\n",
    "    posSta = str(str_temp).rfind(\">\", 0, posEnd)\n",
    "    num_temp = str(str_temp)[posSta+1:posEnd].replace(\",\", \"\")\n",
    "    number.append(num_temp)"
   ]
  },
  {
   "cell_type": "markdown",
   "metadata": {
    "ExecuteTime": {
     "end_time": "2019-04-12T10:28:46.458068Z",
     "start_time": "2019-04-12T10:28:45.490181Z"
    }
   },
   "source": [
    "### �N�^����ƷJ�����"
   ]
  },
  {
   "cell_type": "code",
   "execution_count": 2,
   "metadata": {
    "ExecuteTime": {
     "end_time": "2019-04-12T10:28:46.458068Z",
     "start_time": "2019-04-12T10:28:45.490181Z"
    }
   },
   "outputs": [],
   "source": [
    "AnimeInfo = pd.DataFrame(\n",
    "    {'title': title,\n",
    "     'vol': vol,\n",
    "     'update': update,\n",
    "     'number': number\n",
    "     })\n",
    "AnimeInfo['date'] = datetime.datetime.now().strftime(\"%Y/%m/%d %H:%M:%S\")AnimeInfo.drop_duplicates(inplace = True)"
   ]
  },
  {
   "cell_type": "markdown",
   "metadata": {
    "ExecuteTime": {
     "end_time": "2019-04-12T10:28:46.458068Z",
     "start_time": "2019-04-12T10:28:45.490181Z"
    }
   },
   "source": [
    "�U���U�Ӥ���Ʋʲ��p�U�G"
   ]
  },
  {
   "cell_type": "code",
   "execution_count": 2,
   "metadata": {
    "ExecuteTime": {
     "end_time": "2019-04-12T10:28:46.458068Z",
     "start_time": "2019-04-12T10:28:45.490181Z"
    }
   },
   "outputs": [
    {
     "data": {
      "text/html": [
       "<div>\n",
       "<style scoped>\n",
       "    .dataframe tbody tr th:only-of-type {\n",
       "        vertical-align: middle;\n",
       "    }\n",
       "\n",
       "    .dataframe tbody tr th {\n",
       "        vertical-align: top;\n",
       "    }\n",
       "\n",
       "    .dataframe thead th {\n",
       "        text-align: right;\n",
       "    }\n",
       "</style>\n",
       "<table border=\"1\" class=\"dataframe\">\n",
       "  <thead>\n",
       "    <tr style=\"text-align: right;\">\n",
       "      <th></th>\n",
       "      <th>title</th>\n",
       "      <th>vol</th>\n",
       "      <th>update</th>\n",
       "      <th>number</th>\n",
       "      <th>date</th>\n",
       "    </tr>\n",
       "  </thead>\n",
       "  <tbody>\n",
       "    <tr>\n",
       "      <th>0</th>\n",
       "      <td>�ʷR�����k�ͥ~��-�M��</td>\n",
       "      <td>2</td>\n",
       "      <td>04/12</td>\n",
       "      <td>2149</td>\n",
       "      <td>2019/04/12 18:28:46</td>\n",
       "    </tr>\n",
       "    <tr>\n",
       "      <th>1</th>\n",
       "      <td>Fight League ��W�p��</td>\n",
       "      <td>9</td>\n",
       "      <td>04/11</td>\n",
       "      <td>57250</td>\n",
       "      <td>2019/04/12 18:28:46</td>\n",
       "    </tr>\n",
       "    <tr>\n",
       "      <th>2</th>\n",
       "      <td>�@���W�H (�ĤG�u)</td>\n",
       "      <td>13</td>\n",
       "      <td>04/10</td>\n",
       "      <td>356899</td>\n",
       "      <td>2019/04/12 18:28:46</td>\n",
       "    </tr>\n",
       "    <tr>\n",
       "      <th>3</th>\n",
       "      <td>�jŧ�]�k 501 �����X�ʡI</td>\n",
       "      <td>1</td>\n",
       "      <td>04/10</td>\n",
       "      <td>14948</td>\n",
       "      <td>2019/04/12 18:28:46</td>\n",
       "    </tr>\n",
       "    <tr>\n",
       "      <th>4</th>\n",
       "      <td>�p�ۤ��P act2</td>\n",
       "      <td>2</td>\n",
       "      <td>04/09</td>\n",
       "      <td>58901</td>\n",
       "      <td>2019/04/12 18:28:46</td>\n",
       "    </tr>\n",
       "  </tbody>\n",
       "</table>\n",
       "</div>"
      ],
      "text/plain": [
       "               title vol update  number                 date\n",
       "0        �ʷR�����k�ͥ~��-�M��   2  04/12    2149  2019/04/12 18:28:46\n",
       "1  Fight League ��W�p��   9  04/11   57250  2019/04/12 18:28:46\n",
       "2         �@���W�H (�ĤG�u)  13  04/10  356899  2019/04/12 18:28:46\n",
       "3     �jŧ�]�k 501 �����X�ʡI   1  04/10   14948  2019/04/12 18:28:46\n",
       "4          �p�ۤ��P act2   2  04/09   58901  2019/04/12 18:28:46"
      ]
     },
     "execution_count": 2,
     "metadata": {},
     "output_type": "execute_result"
    }
   ],
   "source": [
    "AnimeInfo.head()"
   ]
  },
  {
   "cell_type": "markdown",
   "metadata": {
    "ExecuteTime": {
     "end_time": "2019-04-12T10:28:56.631026Z",
     "start_time": "2019-04-12T10:28:56.571027Z"
    }
   },
   "source": [
    "### �s��"
   ]
  },
  {
   "cell_type": "code",
   "execution_count": 3,
   "metadata": {
    "ExecuteTime": {
     "end_time": "2019-04-12T10:28:56.631026Z",
     "start_time": "2019-04-12T10:28:56.571027Z"
    }
   },
   "outputs": [],
   "source": [
    "tsp = datetime.datetime.now().strftime(\"%Y%m%d-%H%M\")\n",
    "if not os.path.exists(pathlib.PurePath('DailyData/'))\n",
    "    os.makedirs(pathlib.PurePath('DailyData/'))\n",
    "AnimeInfo.to_csv(pathlib.PurePath('DailyData/AniGamerInfo '+tsp+'.csv'))"
   ]
  },
  {
   "cell_type": "markdown",
   "metadata": {},
   "source": [
    "���ϥ� `PurePath` ������"
   ]
  },
  {
   "cell_type": "code",
   "execution_count": null,
   "metadata": {},
   "outputs": [],
   "source": [
    "# tsp = datetime.datetime.now().strftime(\"%Y%m%d-%H%M\")\n",
    "# if not os.path.exists('DailyData/'):\n",
    "#     os.makedirs('DailyData/')\n",
    "# AnimeInfo.to_csv('DailyData/AGI_Daily_'+tsp+'.csv')"
   ]
  },
  {
   "cell_type": "markdown",
   "metadata": {},
   "source": [
    "## 2. �Ƶ{���O\n",
    "\n",
    "�]�w�������� repo ����A�Q�ιq�����Ƶ{�\�����U�C�R�O"
   ]
  },
  {
   "cell_type": "code",
   "execution_count": null,
   "metadata": {},
   "outputs": [],
   "source": [
    "# cd /your path here/\n",
    "# git config credential.helper store #�Ĥ@���ݭn���榹��\n",
    "# git pull\n",
    "# python3 AGI_Daily_DWer.py #python3 ���O�����ҽվ�\n",
    "# git add .\n",
    "# git commit -a -m \"Scheduled Commit: `date`\"\n",
    "# git push"
   ]
  },
  {
   "cell_type": "markdown",
   "metadata": {},
   "source": [
    "### �����GWindows ���Ƶ{�\��\n",
    "\n",
    "�����Ч��u�u�@�Ƶ{��(Task Scheduler)�v�o�Ӥ��سn��\n",
    "\n",
    "![](Data/HW_Mid_winSche01.png)\n",
    "\n",
    "�M����u�إߤu�@�v\n",
    "\n",
    "![](Data/HW_Mid_winSche02.png)\n",
    "\n",
    "�M��s�W�ʧ@(�N�Ƶ{���H�¤�r�ɦs�ɨõ��� `.bat` ���ɦW�åH�U�Ϥ覡��w����)\n",
    "\n",
    "![](Data/HW_Mid_winSche03.png)\n",
    "\n",
    "�]�wĲ�o����\n",
    "\n",
    "![](Data/HW_Mid_winSche04.png)\n",
    "\n",
    "�̫�]�w�A���v�����x�s�Ƶ{\n",
    "\n",
    "![](Data/HW_Mid_winSche05.png)\n",
    "\n",
    "�����ˬd�O�_���̮ɤu�@�A�վ�N�n�F!"
   ]
  }
 ],
 "metadata": {
  "file_extension": ".py",
  "hide_input": false,
  "kernelspec": {
   "display_name": "Python 3",
   "language": "python",
   "name": "python3"
  },
  "language_info": {
   "codemirror_mode": {
    "name": "ipython",
    "version": 3
   },
   "file_extension": ".py",
   "mimetype": "text/x-python",
   "name": "python",
   "nbconvert_exporter": "python",
   "pygments_lexer": "ipython3",
   "version": "3.6.8"
  },
  "mimetype": "text/x-python",
  "name": "python",
  "npconvert_exporter": "python",
  "pygments_lexer": "ipython3",
  "varInspector": {
   "cols": {
    "lenName": 16,
    "lenType": 16,
    "lenVar": 40
   },
   "kernels_config": {
    "python": {
     "delete_cmd_postfix": "",
     "delete_cmd_prefix": "del ",
     "library": "var_list.py",
     "varRefreshCmd": "print(var_dic_list())"
    },
    "r": {
     "delete_cmd_postfix": ") ",
     "delete_cmd_prefix": "rm(",
     "library": "var_list.r",
     "varRefreshCmd": "cat(var_dic_list()) "
    }
   },
   "types_to_exclude": [
    "module",
    "function",
    "builtin_function_or_method",
    "instance",
    "_Feature"
   ],
   "window_display": false
  },
  "version": 3
 },
 "nbformat": 4,
 "nbformat_minor": 2
}