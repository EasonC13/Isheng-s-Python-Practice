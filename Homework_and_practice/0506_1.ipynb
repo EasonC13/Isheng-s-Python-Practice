{
 "cells": [
  {
   "cell_type": "code",
   "execution_count": 1,
   "metadata": {},
   "outputs": [
    {
     "name": "stdout",
     "output_type": "stream",
     "text": [
      "env: KERAS_BACKEND=tensorflow\n"
     ]
    }
   ],
   "source": [
    "%env KERAS_BACKEND=tensorflow\n",
    "%matplotlib inline\n",
    "import numpy as np\n",
    "import matplotlib.pyplot as plt"
   ]
  },
  {
   "cell_type": "code",
   "execution_count": 2,
   "metadata": {},
   "outputs": [
    {
     "name": "stderr",
     "output_type": "stream",
     "text": [
      "Using TensorFlow backend.\n"
     ]
    }
   ],
   "source": [
    "from keras.datasets import mnist"
   ]
  },
  {
   "cell_type": "code",
   "execution_count": 3,
   "metadata": {},
   "outputs": [],
   "source": [
    "(x_train, y_train),(x_test, y_test)=mnist.load_data()"
   ]
  },
  {
   "cell_type": "code",
   "execution_count": 4,
   "metadata": {},
   "outputs": [],
   "source": [
    "x_train = x_train.reshape(60000, 28,28,1)\n",
    "x_test = x_test.reshape(-1,28,28,1)"
   ]
  },
  {
   "cell_type": "code",
   "execution_count": 5,
   "metadata": {},
   "outputs": [
    {
     "data": {
      "text/plain": [
       "(60000, 28, 28, 1)"
      ]
     },
     "execution_count": 5,
     "metadata": {},
     "output_type": "execute_result"
    }
   ],
   "source": [
    "x_train.shape"
   ]
  },
  {
   "cell_type": "code",
   "execution_count": 7,
   "metadata": {},
   "outputs": [
    {
     "data": {
      "text/plain": [
       "<matplotlib.image.AxesImage at 0x1e2148c6898>"
      ]
     },
     "execution_count": 7,
     "metadata": {},
     "output_type": "execute_result"
    },
    {
     "data": {
      "image/png": "[encoded data removed]",
      "text/plain": [
       "<Figure size 432x288 with 1 Axes>"
      ]
     },
     "metadata": {},
     "output_type": "display_data"
    }
   ],
   "source": [
    "X=x_train[9487].reshape(28,28)\n",
    "plt.imshow(X)"
   ]
  },
  {
   "cell_type": "code",
   "execution_count": 8,
   "metadata": {},
   "outputs": [],
   "source": [
    "from keras.utils import np_utils\n",
    "y_train = np_utils.to_categorical(y_train,10)\n",
    "y_test = np_utils.to_categorical(y_test,10)"
   ]
  },
  {
   "cell_type": "code",
   "execution_count": 42,
   "metadata": {},
   "outputs": [
    {
     "data": {
      "text/plain": [
       "array([[0., 0., 0., ..., 0., 0., 0.],\n",
       "       [1., 0., 0., ..., 0., 0., 0.],\n",
       "       [0., 0., 0., ..., 0., 0., 0.],\n",
       "       ...,\n",
       "       [0., 0., 0., ..., 0., 0., 0.],\n",
       "       [0., 0., 0., ..., 0., 0., 0.],\n",
       "       [0., 0., 0., ..., 0., 1., 0.]], dtype=float32)"
      ]
     },
     "execution_count": 42,
     "metadata": {},
     "output_type": "execute_result"
    }
   ],
   "source": [
    "y_train"
   ]
  },
  {
   "cell_type": "code",
   "execution_count": 12,
   "metadata": {},
   "outputs": [],
   "source": [
    "x_train = x_train/x_train.max()\n",
    "x_test = x_test/x_test.max()"
   ]
  },
  {
   "cell_type": "code",
   "execution_count": 36,
   "metadata": {},
   "outputs": [],
   "source": [
    "from keras.models import Sequential\n",
    "from keras.layers import Dense, Activation, Flatten\n",
    "from keras.layers import Conv2D, MaxPool2D\n",
    "from keras.optimizers import SGD\n",
    "from keras.layers import Input\n",
    "from keras.layers import concatenate, add\n",
    "from keras.models import Model"
   ]
  },
  {
   "cell_type": "code",
   "execution_count": 34,
   "metadata": {},
   "outputs": [],
   "source": [
    "f_1=Conv2D(8,(5,5), padding='same',activation='relu')\n",
    "pool_1 = MaxPool2D(pool_size=(2, 2))\n",
    "f_2=Conv2D(16,(5,5), padding='same',activation='relu')\n",
    "pool_2 = MaxPool2D(pool_size=(2, 2))\n",
    "f_3=Conv2D(24,(5,5), padding='same',activation='relu')\n",
    "pool_3 = MaxPool2D(pool_size=(2, 2))\n",
    "f_4=Conv2D(36,(5,5), padding='same',activation='relu')\n",
    "pool_4 = MaxPool2D(pool_size=(2, 2))\n",
    "f_5=Dense(30, activation='relu')\n",
    "f_5_1=Dense(18,activation='sigmoid')\n",
    "f_6=Dense(24, activation='relu')\n",
    "f_7=Dense(10,activation='softmax')"
   ]
  },
  {
   "cell_type": "code",
   "execution_count": 45,
   "metadata": {},
   "outputs": [],
   "source": [
    "goin=Input(shape=(28,28,1))\n",
    "h_1=pool_1(f_1(goin))\n",
    "h_2=pool_2(f_2(h_1))\n",
    "h_3=pool_3(f_3(h_2))\n",
    "h_4=Flatten()(pool_4(f_4(h_3)))\n",
    "h_5_1=f_5(h_4)\n",
    "h_5_2=f_5_1(h_4)\n",
    "h_5=concatenate([h_5_1,h_5_2])\n",
    "h_6=f_6(h_5)\n",
    "h_7=f_7(h_6)"
   ]
  },
  {
   "cell_type": "code",
   "execution_count": 46,
   "metadata": {},
   "outputs": [],
   "source": [
    "model=Model(goin,h_7)"
   ]
  },
  {
   "cell_type": "code",
   "execution_count": 47,
   "metadata": {},
   "outputs": [],
   "source": [
    "model.compile(loss='mse',optimizer=SGD(lr=0.7),metrics=['accuracy'])"
   ]
  },
  {
   "cell_type": "code",
   "execution_count": 48,
   "metadata": {},
   "outputs": [
    {
     "name": "stdout",
     "output_type": "stream",
     "text": [
      "__________________________________________________________________________________________________\n",
      "Layer (type)                    Output Shape         Param #     Connected to                     \n",
      "==================================================================================================\n",
      "input_9 (InputLayer)            (None, 28, 28, 1)    0                                            \n",
      "__________________________________________________________________________________________________\n",
      "conv2d_21 (Conv2D)              (None, 28, 28, 8)    208         input_9[0][0]                    \n",
      "__________________________________________________________________________________________________\n",
      "max_pooling2d_17 (MaxPooling2D) (None, 14, 14, 8)    0           conv2d_21[3][0]                  \n",
      "__________________________________________________________________________________________________\n",
      "conv2d_22 (Conv2D)              (None, 14, 14, 16)   3216        max_pooling2d_17[3][0]           \n",
      "__________________________________________________________________________________________________\n",
      "max_pooling2d_18 (MaxPooling2D) (None, 7, 7, 16)     0           conv2d_22[3][0]                  \n",
      "__________________________________________________________________________________________________\n",
      "conv2d_23 (Conv2D)              (None, 7, 7, 24)     9624        max_pooling2d_18[3][0]           \n",
      "__________________________________________________________________________________________________\n",
      "max_pooling2d_19 (MaxPooling2D) (None, 3, 3, 24)     0           conv2d_23[3][0]                  \n",
      "__________________________________________________________________________________________________\n",
      "conv2d_24 (Conv2D)              (None, 3, 3, 36)     21636       max_pooling2d_19[3][0]           \n",
      "__________________________________________________________________________________________________\n",
      "max_pooling2d_20 (MaxPooling2D) (None, 1, 1, 36)     0           conv2d_24[3][0]                  \n",
      "__________________________________________________________________________________________________\n",
      "flatten_3 (Flatten)             (None, 36)           0           max_pooling2d_20[3][0]           \n",
      "__________________________________________________________________________________________________\n",
      "dense_6 (Dense)                 multiple             1110        flatten_3[0][0]                  \n",
      "__________________________________________________________________________________________________\n",
      "dense_7 (Dense)                 multiple             666         flatten_3[0][0]                  \n",
      "__________________________________________________________________________________________________\n",
      "concatenate_2 (Concatenate)     (None, 48)           0           dense_6[1][0]                    \n",
      "                                                                 dense_7[1][0]                    \n",
      "__________________________________________________________________________________________________\n",
      "dense_8 (Dense)                 multiple             1176        concatenate_2[0][0]              \n",
      "__________________________________________________________________________________________________\n",
      "dense_9 (Dense)                 multiple             250         dense_8[1][0]                    \n",
      "==================================================================================================\n",
      "Total params: 37,886\n",
      "Trainable params: 37,886\n",
      "Non-trainable params: 0\n",
      "__________________________________________________________________________________________________\n"
     ]
    }
   ],
   "source": [
    "model.summary()"
   ]
  },
  {
   "cell_type": "code",
   "execution_count": 49,
   "metadata": {},
   "outputs": [
    {
     "name": "stdout",
     "output_type": "stream",
     "text": [
      "WARNING:tensorflow:From C:\\Users\\user\\Anaconda3\\lib\\site-packages\\tensorflow\\python\\ops\\math_ops.py:3066: to_int32 (from tensorflow.python.ops.math_ops) is deprecated and will be removed in a future version.\n",
      "Instructions for updating:\n",
      "Use tf.cast instead.\n",
      "Epoch 1/10\n",
      "60000/60000 [==============================] - 51s 853us/step - loss: 0.0838 - acc: 0.2853\n",
      "Epoch 2/10\n",
      "60000/60000 [==============================] - 51s 851us/step - loss: 0.0163 - acc: 0.8906\n",
      "Epoch 3/10\n",
      "60000/60000 [==============================] - 51s 850us/step - loss: 0.0064 - acc: 0.9587\n",
      "Epoch 4/10\n",
      "60000/60000 [==============================] - 48s 804us/step - loss: 0.0046 - acc: 0.9704\n",
      "Epoch 5/10\n",
      "60000/60000 [==============================] - 46s 774us/step - loss: 0.0038 - acc: 0.9751\n",
      "Epoch 6/10\n",
      "60000/60000 [==============================] - 46s 773us/step - loss: 0.0032 - acc: 0.9793\n",
      "Epoch 7/10\n",
      "60000/60000 [==============================] - 46s 767us/step - loss: 0.0029 - acc: 0.9812\n",
      "Epoch 8/10\n",
      "60000/60000 [==============================] - 45s 750us/step - loss: 0.0025 - acc: 0.9843\n",
      "Epoch 9/10\n",
      "60000/60000 [==============================] - 46s 768us/step - loss: 0.0022 - acc: 0.9861\n",
      "Epoch 10/10\n",
      "60000/60000 [==============================] - 46s 766us/step - loss: 0.0020 - acc: 0.9877\n"
     ]
    },
    {
     "data": {
      "text/plain": [
       "<keras.callbacks.History at 0x1e212698b70>"
      ]
     },
     "execution_count": 49,
     "metadata": {},
     "output_type": "execute_result"
    }
   ],
   "source": [
    "model.fit(x_train,y_train,batch_size=100, epochs=10)"
   ]
  },
  {
   "cell_type": "code",
   "execution_count": 51,
   "metadata": {},
   "outputs": [
    {
     "name": "stdout",
     "output_type": "stream",
     "text": [
      "10000/10000 [==============================] - 4s 396us/step\n"
     ]
    },
    {
     "data": {
      "text/plain": [
       "0.9797"
      ]
     },
     "execution_count": 51,
     "metadata": {},
     "output_type": "execute_result"
    }
   ],
   "source": [
    "score = model.evaluate(x_test,y_test)\n",
    "score[1]"
   ]
  },
  {
   "cell_type": "code",
   "execution_count": 57,
   "metadata": {},
   "outputs": [
    {
     "name": "stdout",
     "output_type": "stream",
     "text": [
      "測試資料的 loss: 0.003076\n",
      "測試資料的正確率: 0.979700\n"
     ]
    }
   ],
   "source": [
    "print('測試資料的 loss: %f'%(score[0]))\n",
    "print('測試資料的正確率: %f'%(score[1]))"
   ]
  },
  {
   "cell_type": "code",
   "execution_count": 58,
   "metadata": {},
   "outputs": [],
   "source": [
    "model.save('0506_practice_1_model_weights.h5')"
   ]
  },
  {
   "cell_type": "code",
   "execution_count": 60,
   "metadata": {},
   "outputs": [
    {
     "name": "stdout",
     "output_type": "stream",
     "text": [
      "準確率高達9797！！\n",
      "灑花！！\n"
     ]
    }
   ],
   "source": [
    "print('''準確率高達9797！！\n",
    "灑花！！''')"
   ]
  },
  {
   "cell_type": "code",
   "execution_count": null,
   "metadata": {},
   "outputs": [],
   "source": []
  }
 ],
 "metadata": {
  "kernelspec": {
   "display_name": "Python 3",
   "language": "python",
   "name": "python3"
  },
  "language_info": {
   "codemirror_mode": {
    "name": "ipython",
    "version": 3
   },
   "file_extension": ".py",
   "mimetype": "text/x-python",
   "name": "python",
   "nbconvert_exporter": "python",
   "pygments_lexer": "ipython3",
   "version": "3.6.5"
  }
 },
 "nbformat": 4,
 "nbformat_minor": 2
}
