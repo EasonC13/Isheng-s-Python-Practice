{
 "cells": [
  {
   "cell_type": "markdown",
   "metadata": {},
   "source": [
    "# PTT自動登入器\n",
    "本程式將可讀取位於指定路徑的txt檔內的ptt帳號密碼<br/>\n",
    "然後自動登入其中的所有PTT帳號<br/>\n",
    "格式要求為一行一個帳號密碼，帳號密碼之間以「:」相隔<br/>\n",
    "如 *account:password*<br/>\n"
   ]
  },
  {
   "cell_type": "markdown",
   "metadata": {},
   "source": [
    "此程式需使用chrome瀏覽器，使用jupyterNotebook執行。"
   ]
  },
  {
   "cell_type": "code",
   "execution_count": 1,
   "metadata": {},
   "outputs": [],
   "source": [
    "import pyautogui\n",
    "import time\n",
    "\n",
    "f = open(r'C:/Users/user/Documents/securty/ptt.txt').readlines()\n",
    "pyautogui.keyDown('ctrlleft')\n",
    "pyautogui.press(\"n\")\n",
    "pyautogui.keyUp('ctrlleft')\n",
    "time.sleep(1)\n",
    "t=0.5\n",
    "pyautogui.typewrite('https://term.ptt.cc', interval=0.1)\n",
    "pyautogui.press(\"enter\")\n",
    "time.sleep(3)\n",
    "for i in range(len(f)):\n",
    "    for j in str(f[i]).split(':'):\n",
    "        pyautogui.typewrite(j,interval=0.1)\n",
    "        pyautogui.press('enter')\n",
    "        time.sleep(1)\n",
    "    time.sleep(1)\n",
    "    pyautogui.press('enter')\n",
    "    pyautogui.press('left')\n",
    "    pyautogui.press('g')\n",
    "    time.sleep(t)\n",
    "    pyautogui.press('enter')\n",
    "    time.sleep(t)\n",
    "    pyautogui.press('y')\n",
    "    time.sleep(t)\n",
    "    pyautogui.press('enter')\n",
    "    time.sleep(t)\n",
    "    pyautogui.press('enter')\n",
    "    time.sleep(t)\n",
    "    pyautogui.press('enter')\n",
    "    time.sleep(t)\n",
    "pyautogui.keyDown(\"ctrl\")   #使用PyAutoGUI的套件，模擬按下ALT+F4\n",
    "pyautogui.keyDown(\"F4\")\n",
    "pyautogui.keyUp(\"ctrl\")"
   ]
  },
  {
   "cell_type": "code",
   "execution_count": null,
   "metadata": {},
   "outputs": [],
   "source": []
  }
 ],
 "metadata": {
  "kernelspec": {
   "display_name": "Python 3",
   "language": "python",
   "name": "python3"
  },
  "language_info": {
   "codemirror_mode": {
    "name": "ipython",
    "version": 3
   },
   "file_extension": ".py",
   "mimetype": "text/x-python",
   "name": "python",
   "nbconvert_exporter": "python",
   "pygments_lexer": "ipython3",
   "version": "3.6.5"
  }
 },
 "nbformat": 4,
 "nbformat_minor": 2
}
