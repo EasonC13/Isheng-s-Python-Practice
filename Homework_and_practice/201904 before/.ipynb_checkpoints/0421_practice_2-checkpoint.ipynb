{
 "cells": [
  {
   "cell_type": "markdown",
   "metadata": {
    "colab_type": "text",
    "id": "Q7D9fLFER-aO"
   },
   "source": [
    "本程式使用jupyter測試完畢後<br/>\n",
    "送至Colab訓練<br/>\n",
    "此ipynb檔案，為直接從Colab下載\n"
   ]
  },
  {
   "cell_type": "code",
   "execution_count": 1,
   "metadata": {
    "colab": {},
    "colab_type": "code",
    "id": "lMfr7LPSp2zK"
   },
   "outputs": [],
   "source": [
    "%matplotlib inline\n",
    "import numpy as np\n",
    "import matplotlib.pyplot as plt\n",
    "from ipywidgets import interact"
   ]
  },
  {
   "cell_type": "markdown",
   "metadata": {
    "colab_type": "text",
    "id": "aV19o-yfp2zP"
   },
   "source": [
    "讀入資料<br/>\n",
    "MNIST 是有一堆 0-9 的手寫數字圖庫。有 6 萬筆訓練資料, 1 萬筆測試資料。<br/>它是 \"Modified\" 版的 NIST 數據庫, 原來的版本有更多資料。<br/>這個 Modified 的版本是由 LeCun, Cortes, 及 Burges 等人做的。<br/>可以參考這個數據庫的[原始網頁](http://yann.lecun.com/exdb/mnist/)。\n",
    "<br/>\n",
    "    \"MNIST 可以說是 Deep Learning 最有名的範例, 它被 Deep Learning 大師 Hinton 稱為「機器學習的果蠅」。\""
   ]
  },
  {
   "cell_type": "code",
   "execution_count": 2,
   "metadata": {
    "colab": {},
    "colab_type": "code",
    "id": "flszj5AOp2zR",
    "scrolled": true
   },
   "outputs": [
    {
     "name": "stderr",
     "output_type": "stream",
     "text": [
      "Using TensorFlow backend.\n"
     ]
    }
   ],
   "source": [
    "from keras.datasets import mnist"
   ]
  },
  {
   "cell_type": "code",
   "execution_count": 3,
   "metadata": {
    "colab": {},
    "colab_type": "code",
    "id": "5jKHjnyGp2zW"
   },
   "outputs": [],
   "source": [
    "(x_train, y_train),( x_test, y_test) = mnist.load_data()"
   ]
  },
  {
   "cell_type": "code",
   "execution_count": 4,
   "metadata": {
    "colab": {},
    "colab_type": "code",
    "id": "-UseSqJ-p2zZ"
   },
   "outputs": [
    {
     "data": {
      "text/plain": [
       "<matplotlib.image.AxesImage at 0x2f8520b0898>"
      ]
     },
     "execution_count": 4,
     "metadata": {},
     "output_type": "execute_result"
    },
    {
     "data": {
      "image/png": "[encoded data removed]",
      "text/plain": [
       "<Figure size 432x288 with 1 Axes>"
      ]
     },
     "metadata": {},
     "output_type": "display_data"
    }
   ],
   "source": [
    "plt.imshow(x_train[0],cmap='Greys')"
   ]
  },
  {
   "cell_type": "code",
   "execution_count": 5,
   "metadata": {
    "colab": {},
    "colab_type": "code",
    "id": "D5GK8Q_kp2zc"
   },
   "outputs": [
    {
     "data": {
      "application/vnd.jupyter.widget-view+json": {
       "model_id": "8a3660593114445d827b547f95dd188b",
       "version_major": 2,
       "version_minor": 0
      },
      "text/plain": [
       "interactive(children=(IntSlider(value=3000, description='x', max=6000), Output()), _dom_classes=('widget-inter…"
      ]
     },
     "metadata": {},
     "output_type": "display_data"
    },
    {
     "data": {
      "text/plain": [
       "<function __main__.<lambda>(x)>"
      ]
     },
     "execution_count": 5,
     "metadata": {},
     "output_type": "execute_result"
    }
   ],
   "source": [
    "backup=x_train\n",
    "interact(lambda x:plt.imshow(backup[int(x)],cmap='Greys'),x=(0,6000))"
   ]
  },
  {
   "cell_type": "code",
   "execution_count": 6,
   "metadata": {
    "colab": {},
    "colab_type": "code",
    "id": "DNtpwho9p2zg"
   },
   "outputs": [],
   "source": [
    "from keras.models import model_from_json\n",
    "from keras.optimizers import SGD"
   ]
  },
  {
   "cell_type": "code",
   "execution_count": 7,
   "metadata": {
    "colab": {},
    "colab_type": "code",
    "id": "5eseewdqp2zi"
   },
   "outputs": [
    {
     "data": {
      "text/plain": [
       "(60000, 28, 28)"
      ]
     },
     "execution_count": 7,
     "metadata": {},
     "output_type": "execute_result"
    }
   ],
   "source": [
    "x_train.shape"
   ]
  },
  {
   "cell_type": "code",
   "execution_count": 8,
   "metadata": {
    "colab": {},
    "colab_type": "code",
    "id": "LEZQ6fJLp2zm"
   },
   "outputs": [],
   "source": [
    "x_train = x_train.reshape(-1,784)\n",
    "x_test = x_test.reshape(-1,784)"
   ]
  },
  {
   "cell_type": "code",
   "execution_count": 9,
   "metadata": {
    "colab": {},
    "colab_type": "code",
    "id": "H2jeSHa6p2zp"
   },
   "outputs": [],
   "source": [
    "from keras.utils import np_utils"
   ]
  },
  {
   "cell_type": "code",
   "execution_count": 10,
   "metadata": {
    "colab": {},
    "colab_type": "code",
    "id": "Z0Zr-flZp2zs"
   },
   "outputs": [
    {
     "data": {
      "text/plain": [
       "5"
      ]
     },
     "execution_count": 10,
     "metadata": {},
     "output_type": "execute_result"
    }
   ],
   "source": [
    "y_train[0]"
   ]
  },
  {
   "cell_type": "code",
   "execution_count": 11,
   "metadata": {
    "colab": {},
    "colab_type": "code",
    "id": "sIGJ2IFkp2zx"
   },
   "outputs": [],
   "source": [
    "y_train = np_utils.to_categorical(y_train,10)\n",
    "y_test = np_utils.to_categorical(y_test,10)"
   ]
  },
  {
   "cell_type": "code",
   "execution_count": 12,
   "metadata": {
    "colab": {},
    "colab_type": "code",
    "id": "pgDBOS82p2zz"
   },
   "outputs": [
    {
     "data": {
      "text/plain": [
       "array([0., 0., 0., 0., 0., 1., 0., 0., 0., 0.], dtype=float32)"
      ]
     },
     "execution_count": 12,
     "metadata": {},
     "output_type": "execute_result"
    }
   ],
   "source": [
    "y_train[0]"
   ]
  },
  {
   "cell_type": "code",
   "execution_count": 13,
   "metadata": {
    "colab": {},
    "colab_type": "code",
    "id": "b54PrOz9p2z3"
   },
   "outputs": [],
   "source": [
    "from keras.models import Sequential\n",
    "from keras.layers import Dense, Activation\n",
    "from keras.optimizers import SGD"
   ]
  },
  {
   "cell_type": "code",
   "execution_count": 14,
   "metadata": {
    "colab": {},
    "colab_type": "code",
    "id": "ZJf6EPE1p2z5"
   },
   "outputs": [],
   "source": [
    "model = Sequential()"
   ]
  },
  {
   "cell_type": "code",
   "execution_count": 15,
   "metadata": {
    "colab": {},
    "colab_type": "code",
    "id": "qt5VgW7Ip2z7"
   },
   "outputs": [
    {
     "name": "stdout",
     "output_type": "stream",
     "text": [
      "WARNING:tensorflow:From C:\\Users\\user\\Anaconda3\\lib\\site-packages\\tensorflow\\python\\framework\\op_def_library.py:263: colocate_with (from tensorflow.python.framework.ops) is deprecated and will be removed in a future version.\n",
      "Instructions for updating:\n",
      "Colocations handled automatically by placer.\n"
     ]
    }
   ],
   "source": [
    "model.add(Dense(50,input_dim=784)) #第一層有50個\n",
    "model.add(Activation('sigmoid')) #第一層用sigmod"
   ]
  },
  {
   "cell_type": "code",
   "execution_count": 16,
   "metadata": {
    "colab": {},
    "colab_type": "code",
    "id": "ht9JF2LVp2z_"
   },
   "outputs": [],
   "source": [
    "model.add(Dense(30)) #第二層\n",
    "model.add(Activation('relu')) "
   ]
  },
  {
   "cell_type": "code",
   "execution_count": 17,
   "metadata": {
    "colab": {},
    "colab_type": "code",
    "id": "izSGe_lVp20C"
   },
   "outputs": [],
   "source": [
    "model.add(Dense(20)) #第3層\n",
    "model.add(Activation('relu')) "
   ]
  },
  {
   "cell_type": "code",
   "execution_count": 18,
   "metadata": {
    "colab": {},
    "colab_type": "code",
    "id": "ejOZKr-xp20E"
   },
   "outputs": [],
   "source": [
    "model.add(Dense(10)) #第4層\n",
    "model.add(Activation('relu')) "
   ]
  },
  {
   "cell_type": "code",
   "execution_count": 19,
   "metadata": {
    "colab": {},
    "colab_type": "code",
    "id": "A9v6PvkArMme"
   },
   "outputs": [],
   "source": [
    "model.add(Dense(10))\n",
    "model.add(Activation('softmax'))"
   ]
  },
  {
   "cell_type": "code",
   "execution_count": 20,
   "metadata": {
    "colab": {},
    "colab_type": "code",
    "id": "jT6BcZ1Op20H"
   },
   "outputs": [],
   "source": [
    "model.compile(loss='mse', optimizer=SGD(lr=0.087), metrics=['accuracy'])"
   ]
  },
  {
   "cell_type": "code",
   "execution_count": 21,
   "metadata": {
    "colab": {},
    "colab_type": "code",
    "id": "zjWW0AJ-p20J"
   },
   "outputs": [
    {
     "name": "stdout",
     "output_type": "stream",
     "text": [
      "_________________________________________________________________\n",
      "Layer (type)                 Output Shape              Param #   \n",
      "=================================================================\n",
      "dense_1 (Dense)              (None, 50)                39250     \n",
      "_________________________________________________________________\n",
      "activation_1 (Activation)    (None, 50)                0         \n",
      "_________________________________________________________________\n",
      "dense_2 (Dense)              (None, 30)                1530      \n",
      "_________________________________________________________________\n",
      "activation_2 (Activation)    (None, 30)                0         \n",
      "_________________________________________________________________\n",
      "dense_3 (Dense)              (None, 20)                620       \n",
      "_________________________________________________________________\n",
      "activation_3 (Activation)    (None, 20)                0         \n",
      "_________________________________________________________________\n",
      "dense_4 (Dense)              (None, 10)                210       \n",
      "_________________________________________________________________\n",
      "activation_4 (Activation)    (None, 10)                0         \n",
      "_________________________________________________________________\n",
      "dense_5 (Dense)              (None, 10)                110       \n",
      "_________________________________________________________________\n",
      "activation_5 (Activation)    (None, 10)                0         \n",
      "=================================================================\n",
      "Total params: 41,720\n",
      "Trainable params: 41,720\n",
      "Non-trainable params: 0\n",
      "_________________________________________________________________\n"
     ]
    }
   ],
   "source": [
    "model.summary()"
   ]
  },
  {
   "cell_type": "markdown",
   "metadata": {
    "colab_type": "text",
    "id": "SdzIKJyyp20P"
   },
   "source": [
    "開始訓練"
   ]
  },
  {
   "cell_type": "code",
   "execution_count": 22,
   "metadata": {
    "colab": {},
    "colab_type": "code",
    "id": "ZV5eEuUkp20P"
   },
   "outputs": [
    {
     "name": "stdout",
     "output_type": "stream",
     "text": [
      "WARNING:tensorflow:From C:\\Users\\user\\Anaconda3\\lib\\site-packages\\tensorflow\\python\\ops\\math_ops.py:3066: to_int32 (from tensorflow.python.ops.math_ops) is deprecated and will be removed in a future version.\n",
      "Instructions for updating:\n",
      "Use tf.cast instead.\n",
      "Epoch 1/120\n",
      "60000/60000 [==============================] - 1s 19us/step - loss: 0.0889 - acc: 0.1563\n",
      "Epoch 2/120\n",
      "60000/60000 [==============================] - 1s 12us/step - loss: 0.0819 - acc: 0.2154\n",
      "Epoch 3/120\n",
      "60000/60000 [==============================] - 1s 13us/step - loss: 0.0727 - acc: 0.3532\n",
      "Epoch 4/120\n",
      "60000/60000 [==============================] - 1s 11us/step - loss: 0.0619 - acc: 0.5417\n",
      "Epoch 5/120\n",
      "60000/60000 [==============================] - 1s 12us/step - loss: 0.0486 - acc: 0.6515\n",
      "Epoch 6/120\n",
      "60000/60000 [==============================] - 1s 13us/step - loss: 0.0411 - acc: 0.7116\n",
      "Epoch 7/120\n",
      "60000/60000 [==============================] - 1s 12us/step - loss: 0.0348 - acc: 0.7572\n",
      "Epoch 8/120\n",
      "60000/60000 [==============================] - 1s 13us/step - loss: 0.0289 - acc: 0.8017\n",
      "Epoch 9/120\n",
      "60000/60000 [==============================] - 1s 13us/step - loss: 0.0231 - acc: 0.8507\n",
      "Epoch 10/120\n",
      "60000/60000 [==============================] - 1s 12us/step - loss: 0.0198 - acc: 0.8715\n",
      "Epoch 11/120\n",
      "60000/60000 [==============================] - 1s 12us/step - loss: 0.0178 - acc: 0.8832\n",
      "Epoch 12/120\n",
      "60000/60000 [==============================] - 1s 12us/step - loss: 0.0169 - acc: 0.8886\n",
      "Epoch 13/120\n",
      "60000/60000 [==============================] - 1s 12us/step - loss: 0.0158 - acc: 0.8966\n",
      "Epoch 14/120\n",
      "60000/60000 [==============================] - 1s 13us/step - loss: 0.0148 - acc: 0.9027\n",
      "Epoch 15/120\n",
      "60000/60000 [==============================] - 1s 12us/step - loss: 0.0143 - acc: 0.9059\n",
      "Epoch 16/120\n",
      "60000/60000 [==============================] - 1s 13us/step - loss: 0.0140 - acc: 0.9083\n",
      "Epoch 17/120\n",
      "60000/60000 [==============================] - 1s 12us/step - loss: 0.0137 - acc: 0.9100\n",
      "Epoch 18/120\n",
      "60000/60000 [==============================] - 1s 12us/step - loss: 0.0132 - acc: 0.9133\n",
      "Epoch 19/120\n",
      "60000/60000 [==============================] - 1s 13us/step - loss: 0.0127 - acc: 0.9163\n",
      "Epoch 20/120\n",
      "60000/60000 [==============================] - 1s 13us/step - loss: 0.0124 - acc: 0.9188\n",
      "Epoch 21/120\n",
      "60000/60000 [==============================] - 1s 12us/step - loss: 0.0120 - acc: 0.9218\n",
      "Epoch 22/120\n",
      "60000/60000 [==============================] - 1s 12us/step - loss: 0.0120 - acc: 0.9213\n",
      "Epoch 23/120\n",
      "60000/60000 [==============================] - 1s 12us/step - loss: 0.0119 - acc: 0.9223\n",
      "Epoch 24/120\n",
      "60000/60000 [==============================] - 1s 13us/step - loss: 0.0116 - acc: 0.9239\n",
      "Epoch 25/120\n",
      "60000/60000 [==============================] - 1s 12us/step - loss: 0.0112 - acc: 0.9266\n",
      "Epoch 26/120\n",
      "60000/60000 [==============================] - 1s 12us/step - loss: 0.0111 - acc: 0.9273\n",
      "Epoch 27/120\n",
      "60000/60000 [==============================] - 1s 12us/step - loss: 0.0110 - acc: 0.9278\n",
      "Epoch 28/120\n",
      "60000/60000 [==============================] - 1s 13us/step - loss: 0.0110 - acc: 0.9281\n",
      "Epoch 29/120\n",
      "60000/60000 [==============================] - 1s 13us/step - loss: 0.0109 - acc: 0.9280\n",
      "Epoch 30/120\n",
      "60000/60000 [==============================] - 1s 15us/step - loss: 0.0104 - acc: 0.9324\n",
      "Epoch 31/120\n",
      "60000/60000 [==============================] - 1s 15us/step - loss: 0.0101 - acc: 0.9338\n",
      "Epoch 32/120\n",
      "60000/60000 [==============================] - 1s 12us/step - loss: 0.0098 - acc: 0.9354\n",
      "Epoch 33/120\n",
      "60000/60000 [==============================] - 1s 11us/step - loss: 0.0098 - acc: 0.9359\n",
      "Epoch 34/120\n",
      "60000/60000 [==============================] - 1s 10us/step - loss: 0.0098 - acc: 0.9355\n",
      "Epoch 35/120\n",
      "60000/60000 [==============================] - 1s 11us/step - loss: 0.0098 - acc: 0.9361\n",
      "Epoch 36/120\n",
      "60000/60000 [==============================] - 1s 11us/step - loss: 0.0096 - acc: 0.9384\n",
      "Epoch 37/120\n",
      "60000/60000 [==============================] - 1s 11us/step - loss: 0.0092 - acc: 0.9403\n",
      "Epoch 38/120\n",
      "60000/60000 [==============================] - 1s 11us/step - loss: 0.0092 - acc: 0.9406\n",
      "Epoch 39/120\n",
      "60000/60000 [==============================] - 1s 14us/step - loss: 0.0092 - acc: 0.9402\n",
      "Epoch 40/120\n",
      "60000/60000 [==============================] - 1s 14us/step - loss: 0.0095 - acc: 0.9384\n",
      "Epoch 41/120\n",
      "60000/60000 [==============================] - 1s 11us/step - loss: 0.0095 - acc: 0.9382\n",
      "Epoch 42/120\n",
      "60000/60000 [==============================] - 1s 11us/step - loss: 0.0089 - acc: 0.9430\n",
      "Epoch 43/120\n",
      "60000/60000 [==============================] - 1s 12us/step - loss: 0.0090 - acc: 0.9418\n",
      "Epoch 44/120\n",
      "60000/60000 [==============================] - 1s 16us/step - loss: 0.0091 - acc: 0.9412\n",
      "Epoch 45/120\n",
      "60000/60000 [==============================] - 1s 14us/step - loss: 0.0090 - acc: 0.9420\n",
      "Epoch 46/120\n",
      "60000/60000 [==============================] - 1s 13us/step - loss: 0.0089 - acc: 0.9420\n",
      "Epoch 47/120\n",
      "60000/60000 [==============================] - 1s 13us/step - loss: 0.0088 - acc: 0.9428\n",
      "Epoch 48/120\n",
      "60000/60000 [==============================] - 1s 11us/step - loss: 0.0085 - acc: 0.9451\n",
      "Epoch 49/120\n",
      "60000/60000 [==============================] - 1s 13us/step - loss: 0.0088 - acc: 0.9429\n",
      "Epoch 50/120\n",
      "60000/60000 [==============================] - 1s 11us/step - loss: 0.0086 - acc: 0.9443\n",
      "Epoch 51/120\n",
      "60000/60000 [==============================] - 1s 10us/step - loss: 0.0085 - acc: 0.9456\n",
      "Epoch 52/120\n",
      "60000/60000 [==============================] - 1s 11us/step - loss: 0.0086 - acc: 0.9439\n",
      "Epoch 53/120\n",
      "60000/60000 [==============================] - 1s 10us/step - loss: 0.0082 - acc: 0.9466\n",
      "Epoch 54/120\n",
      "60000/60000 [==============================] - 1s 12us/step - loss: 0.0082 - acc: 0.9469\n",
      "Epoch 55/120\n",
      "60000/60000 [==============================] - 1s 11us/step - loss: 0.0083 - acc: 0.9465\n",
      "Epoch 56/120\n",
      "60000/60000 [==============================] - 1s 11us/step - loss: 0.0084 - acc: 0.9455\n",
      "Epoch 57/120\n",
      "60000/60000 [==============================] - 1s 11us/step - loss: 0.0078 - acc: 0.9494\n",
      "Epoch 58/120\n",
      "60000/60000 [==============================] - 1s 14us/step - loss: 0.0081 - acc: 0.9475\n",
      "Epoch 59/120\n",
      "60000/60000 [==============================] - 1s 19us/step - loss: 0.0082 - acc: 0.9472\n",
      "Epoch 60/120\n",
      "60000/60000 [==============================] - 1s 12us/step - loss: 0.0081 - acc: 0.9472\n",
      "Epoch 61/120\n",
      "60000/60000 [==============================] - 1s 13us/step - loss: 0.0079 - acc: 0.9482\n",
      "Epoch 62/120\n",
      "60000/60000 [==============================] - 1s 12us/step - loss: 0.0078 - acc: 0.9499\n",
      "Epoch 63/120\n",
      "60000/60000 [==============================] - 1s 12us/step - loss: 0.0078 - acc: 0.9494\n",
      "Epoch 64/120\n",
      "60000/60000 [==============================] - 1s 16us/step - loss: 0.0075 - acc: 0.9514\n",
      "Epoch 65/120\n",
      "60000/60000 [==============================] - 1s 13us/step - loss: 0.0077 - acc: 0.9497\n",
      "Epoch 66/120\n",
      "60000/60000 [==============================] - 1s 12us/step - loss: 0.0075 - acc: 0.9510\n",
      "Epoch 67/120\n",
      "60000/60000 [==============================] - 1s 14us/step - loss: 0.0074 - acc: 0.9524\n",
      "Epoch 68/120\n",
      "60000/60000 [==============================] - 1s 14us/step - loss: 0.0073 - acc: 0.9530\n",
      "Epoch 69/120\n",
      "60000/60000 [==============================] - 1s 11us/step - loss: 0.0076 - acc: 0.9511\n",
      "Epoch 70/120\n",
      "60000/60000 [==============================] - 1s 15us/step - loss: 0.0075 - acc: 0.9513\n",
      "Epoch 71/120\n",
      "60000/60000 [==============================] - 1s 13us/step - loss: 0.0077 - acc: 0.9501\n",
      "Epoch 72/120\n",
      "60000/60000 [==============================] - 1s 11us/step - loss: 0.0075 - acc: 0.9514\n",
      "Epoch 73/120\n",
      "60000/60000 [==============================] - 1s 11us/step - loss: 0.0073 - acc: 0.9528\n",
      "Epoch 74/120\n",
      "60000/60000 [==============================] - 1s 12us/step - loss: 0.0071 - acc: 0.9539\n",
      "Epoch 75/120\n",
      "60000/60000 [==============================] - 1s 11us/step - loss: 0.0072 - acc: 0.9531\n",
      "Epoch 76/120\n",
      "60000/60000 [==============================] - 1s 11us/step - loss: 0.0071 - acc: 0.9545\n",
      "Epoch 77/120\n",
      "60000/60000 [==============================] - 1s 11us/step - loss: 0.0072 - acc: 0.9535\n",
      "Epoch 78/120\n"
     ]
    },
    {
     "name": "stdout",
     "output_type": "stream",
     "text": [
      "60000/60000 [==============================] - 1s 12us/step - loss: 0.0074 - acc: 0.9529\n",
      "Epoch 79/120\n",
      "60000/60000 [==============================] - 1s 12us/step - loss: 0.0067 - acc: 0.9567\n",
      "Epoch 80/120\n",
      "60000/60000 [==============================] - 1s 11us/step - loss: 0.0070 - acc: 0.9551\n",
      "Epoch 81/120\n",
      "60000/60000 [==============================] - 1s 11us/step - loss: 0.0068 - acc: 0.9559\n",
      "Epoch 82/120\n",
      "60000/60000 [==============================] - 1s 11us/step - loss: 0.0068 - acc: 0.9564\n",
      "Epoch 83/120\n",
      "60000/60000 [==============================] - 1s 11us/step - loss: 0.0069 - acc: 0.9552\n",
      "Epoch 84/120\n",
      "60000/60000 [==============================] - 1s 11us/step - loss: 0.0069 - acc: 0.9558\n",
      "Epoch 85/120\n",
      "60000/60000 [==============================] - 1s 11us/step - loss: 0.0068 - acc: 0.9561\n",
      "Epoch 86/120\n",
      "60000/60000 [==============================] - 1s 10us/step - loss: 0.0067 - acc: 0.9561\n",
      "Epoch 87/120\n",
      "60000/60000 [==============================] - 1s 11us/step - loss: 0.0069 - acc: 0.9546\n",
      "Epoch 88/120\n",
      "60000/60000 [==============================] - 1s 11us/step - loss: 0.0069 - acc: 0.9553\n",
      "Epoch 89/120\n",
      "60000/60000 [==============================] - 1s 10us/step - loss: 0.0071 - acc: 0.9536\n",
      "Epoch 90/120\n",
      "60000/60000 [==============================] - 1s 11us/step - loss: 0.0074 - acc: 0.9519\n",
      "Epoch 91/120\n",
      "60000/60000 [==============================] - 1s 11us/step - loss: 0.0071 - acc: 0.9538\n",
      "Epoch 92/120\n",
      "60000/60000 [==============================] - 1s 11us/step - loss: 0.0069 - acc: 0.9551\n",
      "Epoch 93/120\n",
      "60000/60000 [==============================] - 1s 11us/step - loss: 0.0070 - acc: 0.9541\n",
      "Epoch 94/120\n",
      "60000/60000 [==============================] - 1s 11us/step - loss: 0.0068 - acc: 0.9555\n",
      "Epoch 95/120\n",
      "60000/60000 [==============================] - 1s 10us/step - loss: 0.0067 - acc: 0.9564\n",
      "Epoch 96/120\n",
      "60000/60000 [==============================] - 1s 11us/step - loss: 0.0066 - acc: 0.9572\n",
      "Epoch 97/120\n",
      "60000/60000 [==============================] - 1s 11us/step - loss: 0.0063 - acc: 0.9597\n",
      "Epoch 98/120\n",
      "60000/60000 [==============================] - 1s 11us/step - loss: 0.0065 - acc: 0.9578\n",
      "Epoch 99/120\n",
      "60000/60000 [==============================] - 1s 11us/step - loss: 0.0067 - acc: 0.9569\n",
      "Epoch 100/120\n",
      "60000/60000 [==============================] - 1s 10us/step - loss: 0.0065 - acc: 0.9579\n",
      "Epoch 101/120\n",
      "60000/60000 [==============================] - 1s 11us/step - loss: 0.0065 - acc: 0.9577\n",
      "Epoch 102/120\n",
      "60000/60000 [==============================] - 1s 11us/step - loss: 0.0064 - acc: 0.9591\n",
      "Epoch 103/120\n",
      "60000/60000 [==============================] - 1s 11us/step - loss: 0.0064 - acc: 0.9586\n",
      "Epoch 104/120\n",
      "60000/60000 [==============================] - 1s 11us/step - loss: 0.0063 - acc: 0.9599\n",
      "Epoch 105/120\n",
      "60000/60000 [==============================] - 1s 12us/step - loss: 0.0061 - acc: 0.9605\n",
      "Epoch 106/120\n",
      "60000/60000 [==============================] - 1s 16us/step - loss: 0.0062 - acc: 0.9607\n",
      "Epoch 107/120\n",
      "60000/60000 [==============================] - 1s 12us/step - loss: 0.0064 - acc: 0.9586\n",
      "Epoch 108/120\n",
      "60000/60000 [==============================] - 1s 12us/step - loss: 0.0061 - acc: 0.9604\n",
      "Epoch 109/120\n",
      "60000/60000 [==============================] - 1s 12us/step - loss: 0.0063 - acc: 0.9597\n",
      "Epoch 110/120\n",
      "60000/60000 [==============================] - 1s 11us/step - loss: 0.0061 - acc: 0.9609\n",
      "Epoch 111/120\n",
      "60000/60000 [==============================] - 1s 15us/step - loss: 0.0063 - acc: 0.9593\n",
      "Epoch 112/120\n",
      "60000/60000 [==============================] - 1s 11us/step - loss: 0.0062 - acc: 0.9601\n",
      "Epoch 113/120\n",
      "60000/60000 [==============================] - 1s 11us/step - loss: 0.0061 - acc: 0.9610\n",
      "Epoch 114/120\n",
      "60000/60000 [==============================] - 1s 12us/step - loss: 0.0062 - acc: 0.9594\n",
      "Epoch 115/120\n",
      "60000/60000 [==============================] - 1s 15us/step - loss: 0.0060 - acc: 0.9609\n",
      "Epoch 116/120\n",
      "60000/60000 [==============================] - 1s 14us/step - loss: 0.0062 - acc: 0.9603\n",
      "Epoch 117/120\n",
      "60000/60000 [==============================] - 1s 13us/step - loss: 0.0062 - acc: 0.9599\n",
      "Epoch 118/120\n",
      "60000/60000 [==============================] - 1s 11us/step - loss: 0.0061 - acc: 0.9613\n",
      "Epoch 119/120\n",
      "60000/60000 [==============================] - 1s 11us/step - loss: 0.0060 - acc: 0.9614\n",
      "Epoch 120/120\n",
      "60000/60000 [==============================] - 1s 11us/step - loss: 0.0060 - acc: 0.9612\n"
     ]
    },
    {
     "data": {
      "text/plain": [
       "<keras.callbacks.History at 0x2f85cf40898>"
      ]
     },
     "execution_count": 22,
     "metadata": {},
     "output_type": "execute_result"
    }
   ],
   "source": [
    "model.fit(x_train, y_train, batch_size=100, epochs=120) #訓練120次"
   ]
  },
  {
   "cell_type": "code",
   "execution_count": 23,
   "metadata": {
    "colab": {},
    "colab_type": "code",
    "id": "Xav-vDxzp20S"
   },
   "outputs": [],
   "source": [
    "predict = model.predict_classes(x_test)"
   ]
  },
  {
   "cell_type": "code",
   "execution_count": 24,
   "metadata": {
    "colab": {},
    "colab_type": "code",
    "id": "kQJnrPertroe"
   },
   "outputs": [
    {
     "name": "stdout",
     "output_type": "stream",
     "text": [
      "10000/10000 [==============================] - 0s 18us/step\n"
     ]
    }
   ],
   "source": [
    "score = model.evaluate(x_test, y_test)"
   ]
  },
  {
   "cell_type": "code",
   "execution_count": 25,
   "metadata": {
    "colab": {},
    "colab_type": "code",
    "id": "F9UZsGJutzUo"
   },
   "outputs": [
    {
     "name": "stdout",
     "output_type": "stream",
     "text": [
      "loss: 0.007235214456840186\n",
      "正確率 0.9525\n"
     ]
    }
   ],
   "source": [
    "print('loss:', score[0])\n",
    "print('正確率', score[1])"
   ]
  },
  {
   "cell_type": "code",
   "execution_count": 26,
   "metadata": {
    "colab": {},
    "colab_type": "code",
    "id": "rP9oCVbdt2cy"
   },
   "outputs": [],
   "source": [
    "import time\n",
    "def test(num):\n",
    "  num=int(num)\n",
    "  plt.imshow(x_test[num].reshape(28,28),cmap='Greys')\n",
    "  print('neural network think it is: ', predict[num])"
   ]
  },
  {
   "cell_type": "code",
   "execution_count": 27,
   "metadata": {
    "colab": {},
    "colab_type": "code",
    "id": "1_FWSJRXui4v"
   },
   "outputs": [
    {
     "name": "stdout",
     "output_type": "stream",
     "text": [
      "神經網路認為他是:  8\n"
     ]
    },
    {
     "data": {
      "image/png": "[encoded data removed]",
      "text/plain": [
       "<Figure size 432x288 with 1 Axes>"
      ]
     },
     "metadata": {},
     "output_type": "display_data"
    },
    {
     "name": "stdout",
     "output_type": "stream",
     "text": [
      "神經網路認為他是:  6\n"
     ]
    },
    {
     "data": {
      "image/png": "[encoded data removed]",
      "text/plain": [
       "<Figure size 432x288 with 1 Axes>"
      ]
     },
     "metadata": {},
     "output_type": "display_data"
    },
    {
     "name": "stdout",
     "output_type": "stream",
     "text": [
      "神經網路認為他是:  9\n"
     ]
    },
    {
     "data": {
      "image/png": "[encoded data removed]",
      "text/plain": [
       "<Figure size 432x288 with 1 Axes>"
      ]
     },
     "metadata": {},
     "output_type": "display_data"
    },
    {
     "name": "stdout",
     "output_type": "stream",
     "text": [
      "神經網路認為他是:  7\n"
     ]
    },
    {
     "data": {
      "image/png": "[encoded data removed]",
      "text/plain": [
       "<Figure size 432x288 with 1 Axes>"
      ]
     },
     "metadata": {},
     "output_type": "display_data"
    },
    {
     "name": "stdout",
     "output_type": "stream",
     "text": [
      "神經網路認為他是:  2\n"
     ]
    },
    {
     "data": {
      "image/png": "[encoded data removed]",
      "text/plain": [
       "<Figure size 432x288 with 1 Axes>"
      ]
     },
     "metadata": {},
     "output_type": "display_data"
    },
    {
     "name": "stdout",
     "output_type": "stream",
     "text": [
      "神經網路認為他是:  3\n"
     ]
    },
    {
     "data": {
      "image/png": "[encoded data removed]",
      "text/plain": [
       "<Figure size 432x288 with 1 Axes>"
      ]
     },
     "metadata": {},
     "output_type": "display_data"
    },
    {
     "name": "stdout",
     "output_type": "stream",
     "text": [
      "神經網路認為他是:  4\n"
     ]
    },
    {
     "data": {
      "image/png": "[encoded data removed]",
      "text/plain": [
       "<Figure size 432x288 with 1 Axes>"
      ]
     },
     "metadata": {},
     "output_type": "display_data"
    },
    {
     "name": "stdout",
     "output_type": "stream",
     "text": [
      "神經網路認為他是:  0\n"
     ]
    },
    {
     "data": {
      "image/png": "[encoded data removed]",
      "text/plain": [
       "<Figure size 432x288 with 1 Axes>"
      ]
     },
     "metadata": {},
     "output_type": "display_data"
    },
    {
     "name": "stdout",
     "output_type": "stream",
     "text": [
      "神經網路認為他是:  2\n"
     ]
    },
    {
     "data": {
      "image/png": "[encoded data removed]",
      "text/plain": [
       "<Figure size 432x288 with 1 Axes>"
      ]
     },
     "metadata": {},
     "output_type": "display_data"
    },
    {
     "name": "stdout",
     "output_type": "stream",
     "text": [
      "神經網路認為他是:  1\n"
     ]
    },
    {
     "data": {
      "image/png": "[encoded data removed]",
      "text/plain": [
       "<Figure size 432x288 with 1 Axes>"
      ]
     },
     "metadata": {},
     "output_type": "display_data"
    }
   ],
   "source": [
    "x=np.random.randint(1,6000)\n",
    "for i in range(10):\n",
    "  #test(x)\n",
    "  #time.sleep(2)\n",
    "  x=int(x)+1\n",
    "  print('神經網路認為他是: ', predict[x])\n",
    "  plt.imshow(x_test[x].reshape(28,28),cmap='Greys')\n",
    "  plt.show()"
   ]
  },
  {
   "cell_type": "markdown",
   "metadata": {
    "colab_type": "text",
    "id": "O_fHm_TbutRi"
   },
   "source": [
    "結果超滿意 存起來！<br/>\n",
    "雲端儲存需參考https://mattwang44.github.io/en/articles/colab/"
   ]
  },
  {
   "cell_type": "code",
   "execution_count": 29,
   "metadata": {
    "colab": {},
    "colab_type": "code",
    "id": "DJX_kT6pN8f0"
   },
   "outputs": [],
   "source": [
    "model_json = model.to_json()\n",
    "open('model_0421_2.json','w').write(model_json)\n",
    "model.save_weights('model_0421_2.h5')"
   ]
  },
  {
   "cell_type": "code",
   "execution_count": 0,
   "metadata": {
    "colab": {},
    "colab_type": "code",
    "id": "UeIyNasnOHfQ"
   },
   "outputs": [],
   "source": []
  },
  {
   "cell_type": "code",
   "execution_count": 0,
   "metadata": {
    "colab": {},
    "colab_type": "code",
    "id": "NdiMKMqlOIlA"
   },
   "outputs": [],
   "source": [
    "from google.colab import files"
   ]
  },
  {
   "cell_type": "code",
   "execution_count": 0,
   "metadata": {
    "colab": {},
    "colab_type": "code",
    "id": "j-jjjKtIPeJ7"
   },
   "outputs": [],
   "source": [
    "files.download('model_0421_2.json')"
   ]
  },
  {
   "cell_type": "code",
   "execution_count": 0,
   "metadata": {
    "colab": {},
    "colab_type": "code",
    "id": "z9kz0QjVRgtR"
   },
   "outputs": [],
   "source": [
    "files.download('model_0421_2.h5')"
   ]
  },
  {
   "cell_type": "code",
   "execution_count": 0,
   "metadata": {
    "colab": {},
    "colab_type": "code",
    "id": "h6RQhM_4RkNr"
   },
   "outputs": [],
   "source": []
  }
 ],
 "metadata": {
  "accelerator": "GPU",
  "colab": {
   "collapsed_sections": [],
   "name": "0421 practice.ipynb",
   "private_outputs": true,
   "provenance": [],
   "version": "0.3.2"
  },
  "kernelspec": {
   "display_name": "Python 3",
   "language": "python",
   "name": "python3"
  },
  "language_info": {
   "codemirror_mode": {
    "name": "ipython",
    "version": 3
   },
   "file_extension": ".py",
   "mimetype": "text/x-python",
   "name": "python",
   "nbconvert_exporter": "python",
   "pygments_lexer": "ipython3",
   "version": "3.6.5"
  }
 },
 "nbformat": 4,
 "nbformat_minor": 1
}
