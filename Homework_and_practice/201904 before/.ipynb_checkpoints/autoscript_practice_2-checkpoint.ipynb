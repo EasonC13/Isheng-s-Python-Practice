{
 "cells": [
  {
   "cell_type": "code",
   "execution_count": 26,
   "metadata": {},
   "outputs": [],
   "source": [
    "import autopy as autopy\n",
    "import time"
   ]
  },
  {
   "cell_type": "code",
   "execution_count": 8,
   "metadata": {},
   "outputs": [],
   "source": [
    "#autopy.mouse.move(900, 100) # 移動滑鼠\n",
    "#autopy.mouse.smooth_move(400, 400) # 平滑移動滑鼠（上面那個是瞬間的）"
   ]
  },
  {
   "cell_type": "code",
   "execution_count": 15,
   "metadata": {},
   "outputs": [],
   "source": [
    "autopy.mouse.move(1000,150) #1莊"
   ]
  },
  {
   "cell_type": "code",
   "execution_count": 19,
   "metadata": {},
   "outputs": [],
   "source": [
    "autopy.mouse.move(850,150) #1閒"
   ]
  },
  {
   "cell_type": "code",
   "execution_count": 38,
   "metadata": {},
   "outputs": [],
   "source": [
    "autopy.mouse.move(925, 260) #1確定下注"
   ]
  },
  {
   "cell_type": "code",
   "execution_count": 28,
   "metadata": {},
   "outputs": [],
   "source": [
    "autopy.mouse.click() # 單擊\n",
    "#autopy.mouse.toggle(True) # 按下左鍵\n",
    "#autopy.mouse.toggle(False) # 鬆開左鍵"
   ]
  },
  {
   "cell_type": "code",
   "execution_count": 27,
   "metadata": {},
   "outputs": [],
   "source": [
    "time.sleep(1)\n",
    "autopy.mouse.toggle(None,True) # 按下左鍵\n",
    "time.sleep(1)\n",
    "autopy.mouse.toggle(None,False) # 鬆開左鍵"
   ]
  },
  {
   "cell_type": "code",
   "execution_count": 42,
   "metadata": {},
   "outputs": [],
   "source": [
    "autopy.mouse.move(1000,150) #1莊\n",
    "for i in range(10):\n",
    "    autopy.mouse.click() # 單擊\n",
    "autopy.mouse.move(850,150) #1閒\n",
    "for i in range(10):\n",
    "    autopy.mouse.click() # 單擊\n",
    "#time.sleep(1)\n",
    "autopy.mouse.move(925, 260) #確定下注\n",
    "autopy.mouse.click() # 單擊"
   ]
  },
  {
   "cell_type": "markdown",
   "metadata": {},
   "source": [
    "以下是滑鼠點擊次數的運算"
   ]
  },
  {
   "cell_type": "code",
   "execution_count": null,
   "metadata": {},
   "outputs": [],
   "source": [
    "def click_1_Z():\n",
    "    autopy.mouse.move(1000,150) #1莊\n",
    "    autopy.mouse.click()\n",
    "    "
   ]
  },
  {
   "cell_type": "code",
   "execution_count": 44,
   "metadata": {},
   "outputs": [
    {
     "name": "stdout",
     "output_type": "stream",
     "text": [
      "0\n",
      "1\n",
      "2\n",
      "3\n",
      "4\n"
     ]
    }
   ],
   "source": [
    "Z_1=5 #莊家\n",
    "S_1=5 #閒家\n",
    "Total_1=0\n",
    "\n",
    "#第一次\n",
    "\n",
    "#開始\n",
    "temp_Z_1 = Z_1\n",
    "temp_S_1 = S_1\n",
    "for i in range(temp_Z_1):\n",
    "    "
   ]
  },
  {
   "cell_type": "code",
   "execution_count": null,
   "metadata": {},
   "outputs": [],
   "source": []
  }
 ],
 "metadata": {
  "kernelspec": {
   "display_name": "Python 3",
   "language": "python",
   "name": "python3"
  },
  "language_info": {
   "codemirror_mode": {
    "name": "ipython",
    "version": 3
   },
   "file_extension": ".py",
   "mimetype": "text/x-python",
   "name": "python",
   "nbconvert_exporter": "python",
   "pygments_lexer": "ipython3",
   "version": "3.6.5"
  }
 },
 "nbformat": 4,
 "nbformat_minor": 2
}
