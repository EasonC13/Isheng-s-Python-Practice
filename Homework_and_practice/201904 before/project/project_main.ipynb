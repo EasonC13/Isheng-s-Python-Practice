{
 "cells": [
  {
   "cell_type": "code",
   "execution_count": 1,
   "metadata": {},
   "outputs": [],
   "source": [
    "from PIL import ImageGrab\n",
    "import numpy as np\n",
    "import matplotlib.pyplot as plt\n",
    "import time\n",
    "import autopy"
   ]
  },
  {
   "cell_type": "code",
   "execution_count": null,
   "metadata": {},
   "outputs": [],
   "source": []
  },
  {
   "cell_type": "code",
   "execution_count": null,
   "metadata": {},
   "outputs": [],
   "source": []
  },
  {
   "cell_type": "code",
   "execution_count": null,
   "metadata": {},
   "outputs": [],
   "source": []
  },
  {
   "cell_type": "code",
   "execution_count": 4,
   "metadata": {},
   "outputs": [],
   "source": [
    "def Screenshot_1_result():\n",
    "#from PIL import ImageGrab\n",
    "    im=ImageGrab.grab(bbox=(300,100,1000,1000))\n",
    "    width = 410  # 图片大小\n",
    "    height = 250\n",
    "    ima=im.crop((\n",
    "            width - 50,\n",
    "            height - 145,\n",
    "            width-45,\n",
    "            height-140))\n",
    "    return np.array(ima)[3][1]\n",
    "\n",
    "def WhatHappend_1(): #第一號台，當前情形\n",
    "    result=Screenshot_1_result()\n",
    "    if list(result)==[0,153,51]:\n",
    "        #print('和')\n",
    "        return 3\n",
    "    elif list(result)==[0,51,204]:\n",
    "        #print('閒贏')\n",
    "        return 2\n",
    "    elif list(result)==[204,0,51]:\n",
    "        #print('莊贏')\n",
    "        return 1\n",
    "    elif list(result)==[51,51,51]:\n",
    "        #print('結算中')\n",
    "        return 4\n",
    "    elif list(result)==[255,255,255]:\n",
    "        #print('可以下注')\n",
    "        return 5\n",
    "    else:\n",
    "        #print('error')\n",
    "        return 0\n",
    "    \n",
    "def click_1_Z():\n",
    "    autopy.mouse.move(1000,150) #1莊\n",
    "    autopy.mouse.click()\n",
    "def click_1_S():\n",
    "    autopy.mouse.move(850,150) #1閒\n",
    "    autopy.mouse.click()\n",
    "def godeal_1():\n",
    "    autopy.mouse.move(925, 260) #確定下注\n",
    "    autopy.mouse.click()\n",
    "def wait(wait_coda):\n",
    "    if wait_coda==0:\n",
    "        return 0\n",
    "    else:\n",
    "        time.sleep(8)\n",
    "        return 0"
   ]
  },
  {
   "cell_type": "code",
   "execution_count": 13,
   "metadata": {},
   "outputs": [
    {
     "name": "stdout",
     "output_type": "stream",
     "text": [
      " 莊家要按6次，閒家要按5次, 目前金額相比初始金額為10.000000, 已經執行4次00"
     ]
    },
    {
     "ename": "KeyboardInterrupt",
     "evalue": "",
     "output_type": "error",
     "traceback": [
      "\u001b[1;31m---------------------------------------------------------------------------\u001b[0m",
      "\u001b[1;31mKeyboardInterrupt\u001b[0m                         Traceback (most recent call last)",
      "\u001b[1;32m<ipython-input-13-c2371c88ad70>\u001b[0m in \u001b[0;36m<module>\u001b[1;34m()\u001b[0m\n\u001b[0;32m     48\u001b[0m \u001b[1;33m\u001b[0m\u001b[0m\n\u001b[0;32m     49\u001b[0m     \u001b[0mprint\u001b[0m\u001b[1;33m(\u001b[0m\u001b[1;34m'\\r 莊家要按%d次，閒家要按%d次, 目前金額相比初始金額為%f, 已經執行%d次%d'\u001b[0m\u001b[1;33m%\u001b[0m\u001b[1;33m(\u001b[0m\u001b[0mZ_1\u001b[0m\u001b[1;33m,\u001b[0m\u001b[0mS_1\u001b[0m\u001b[1;33m,\u001b[0m\u001b[0mTotal_1\u001b[0m\u001b[1;33m*\u001b[0m\u001b[0mzoma\u001b[0m\u001b[1;33m,\u001b[0m\u001b[0mtimes\u001b[0m\u001b[1;33m,\u001b[0m\u001b[0mwait_coda_1\u001b[0m\u001b[1;33m)\u001b[0m\u001b[1;33m,\u001b[0m\u001b[0mend\u001b[0m\u001b[1;33m=\u001b[0m\u001b[1;34m''\u001b[0m\u001b[1;33m)\u001b[0m\u001b[1;33m\u001b[0m\u001b[0m\n\u001b[1;32m---> 50\u001b[1;33m     \u001b[0mtime\u001b[0m\u001b[1;33m.\u001b[0m\u001b[0msleep\u001b[0m\u001b[1;33m(\u001b[0m\u001b[1;36m0.25\u001b[0m\u001b[1;33m)\u001b[0m\u001b[1;33m\u001b[0m\u001b[0m\n\u001b[0m\u001b[0;32m     51\u001b[0m     \u001b[1;31m#times+=1\u001b[0m\u001b[1;33m\u001b[0m\u001b[1;33m\u001b[0m\u001b[0m\n",
      "\u001b[1;31mKeyboardInterrupt\u001b[0m: "
     ]
    }
   ],
   "source": [
    "Z_1=5 #莊家\n",
    "S_1=5 #閒家\n",
    "Total_1=0.0\n",
    "stop=False\n",
    "tempconfig=0\n",
    "do_press_1=1\n",
    "times=0\n",
    "zoma=20 #籌碼\n",
    "wait_coda_1=0\n",
    "wait_time=9\n",
    "#本程式開發者不負責任何不當使用程式的責任\n",
    "while(stop==False):    \n",
    "    #開始\n",
    "    #print(WhatHappend_1())\n",
    "    if WhatHappend_1()==5 and do_press_1==1:\n",
    "        if wait_coda_1!=0:\n",
    "                wait_coda_1-=0.25\n",
    "        else:\n",
    "            for i in range(Z_1):\n",
    "                click_1_Z()\n",
    "            for i in range(S_1):\n",
    "                click_1_S()\n",
    "            godeal_1()\n",
    "            do_press_1=0\n",
    "            times+=1\n",
    "    while(do_press_1==0):\n",
    "        if WhatHappend_1()==1:\n",
    "            Total_1+=((Z_1*0.95)-S_1)\n",
    "            Z_1=5\n",
    "            S_1+=1\n",
    "            do_press_1=1\n",
    "            wait_coda_1=wait_time\n",
    "            break\n",
    "        elif WhatHappend_1()==2:\n",
    "            Total_1+=(S_1-Z_1)\n",
    "            Z_1+=1\n",
    "            S_1=5\n",
    "            do_press_1=1\n",
    "            wait_coda_1=wait_time\n",
    "            break\n",
    "        elif WhatHappend_1()==3:\n",
    "            do_press_1=1\n",
    "            wait_coda_1=wait_time\n",
    "            break\n",
    "        else:\n",
    "            break\n",
    "            #print('error')\n",
    "        \n",
    "    print('\\r 莊家要按%d次，閒家要按%d次, 目前金額相比初始金額為%f, 已經執行%d次%d'%(Z_1,S_1,Total_1*zoma,times,wait_coda_1),end='')\n",
    "    time.sleep(0.25)\n",
    "    #times+=1"
   ]
  },
  {
   "cell_type": "code",
   "execution_count": 320,
   "metadata": {},
   "outputs": [],
   "source": [
    "click_1_Z()"
   ]
  },
  {
   "cell_type": "code",
   "execution_count": 333,
   "metadata": {},
   "outputs": [
    {
     "data": {
      "text/plain": [
       "array([204,   0,  51], dtype=uint8)"
      ]
     },
     "execution_count": 333,
     "metadata": {},
     "output_type": "execute_result"
    }
   ],
   "source": [
    "Screenshot_1_result()"
   ]
  },
  {
   "cell_type": "code",
   "execution_count": 15,
   "metadata": {},
   "outputs": [
    {
     "ename": "NameError",
     "evalue": "name 'situation' is not defined",
     "output_type": "error",
     "traceback": [
      "\u001b[1;31m---------------------------------------------------------------------------\u001b[0m",
      "\u001b[1;31mNameError\u001b[0m                                 Traceback (most recent call last)",
      "\u001b[1;32m<ipython-input-15-3d16514bd877>\u001b[0m in \u001b[0;36m<module>\u001b[1;34m()\u001b[0m\n\u001b[0;32m     54\u001b[0m             \u001b[1;31m#print('error')\u001b[0m\u001b[1;33m\u001b[0m\u001b[1;33m\u001b[0m\u001b[0m\n\u001b[0;32m     55\u001b[0m     \u001b[1;32mif\u001b[0m \u001b[0mcheck\u001b[0m\u001b[1;33m==\u001b[0m\u001b[1;36m1\u001b[0m\u001b[1;33m:\u001b[0m\u001b[1;33m\u001b[0m\u001b[0m\n\u001b[1;32m---> 56\u001b[1;33m         \u001b[0mprint\u001b[0m\u001b[1;33m(\u001b[0m\u001b[1;34m'情況'\u001b[0m\u001b[1;33m,\u001b[0m\u001b[0msituation\u001b[0m\u001b[1;33m)\u001b[0m\u001b[1;33m\u001b[0m\u001b[0m\n\u001b[0m\u001b[0;32m     57\u001b[0m         \u001b[0mprint\u001b[0m\u001b[1;33m(\u001b[0m\u001b[1;34m' 莊家要按%d次，閒家要按%d次, 目前金額相比初始金額為%f, 已經執行%d次%d\\n'\u001b[0m\u001b[1;33m%\u001b[0m\u001b[1;33m(\u001b[0m\u001b[0mZ_1\u001b[0m\u001b[1;33m,\u001b[0m\u001b[0mS_1\u001b[0m\u001b[1;33m,\u001b[0m\u001b[0mTotal_1\u001b[0m\u001b[1;33m*\u001b[0m\u001b[0mzoma\u001b[0m\u001b[1;33m,\u001b[0m\u001b[0mtimes\u001b[0m\u001b[1;33m,\u001b[0m\u001b[0mwait_coda_1\u001b[0m\u001b[1;33m)\u001b[0m\u001b[1;33m)\u001b[0m\u001b[1;33m\u001b[0m\u001b[0m\n\u001b[0;32m     58\u001b[0m         \u001b[0mcheck\u001b[0m\u001b[1;33m=\u001b[0m\u001b[1;36m0\u001b[0m\u001b[1;33m\u001b[0m\u001b[0m\n",
      "\u001b[1;31mNameError\u001b[0m: name 'situation' is not defined"
     ]
    }
   ],
   "source": [
    "Z_1=5 #莊家\n",
    "S_1=5 #閒家\n",
    "Total_1=0.0\n",
    "stop=False\n",
    "tempconfig=0\n",
    "do_press_1=1\n",
    "times=0\n",
    "zoma=20 #籌碼\n",
    "wait_coda_1=0\n",
    "wait_time=9\n",
    "check=1\n",
    "situation=0\n",
    "#本程式開發者不負責任何不當使用程式的責任\n",
    "while(stop==False):    \n",
    "    #開始\n",
    "    #print(WhatHappend_1())\n",
    "    if WhatHappend_1()==5 and do_press_1==1:\n",
    "        if wait_coda_1!=0:\n",
    "                wait_coda_1-=0.25\n",
    "        else:\n",
    "            for i in range(Z_1):\n",
    "                click_1_Z()\n",
    "            for i in range(S_1):\n",
    "                click_1_S()\n",
    "            godeal_1()\n",
    "            do_press_1=0\n",
    "            times+=1\n",
    "    while(do_press_1==0):\n",
    "        if WhatHappend_1()==1:\n",
    "            situation=WhatHappend_1()\n",
    "            Total_1+=((Z_1*0.95)-S_1)\n",
    "            Z_1=5\n",
    "            S_1+=1\n",
    "            do_press_1=1\n",
    "            wait_coda_1=wait_time\n",
    "            check=1\n",
    "            break\n",
    "        elif WhatHappend_1()==2:\n",
    "            situation=WhatHappend_1()\n",
    "            Total_1+=(S_1-Z_1)\n",
    "            Z_1+=1\n",
    "            S_1=5\n",
    "            do_press_1=1\n",
    "            wait_coda_1=wait_time\n",
    "            check=1\n",
    "            break\n",
    "        elif WhatHappend_1()==3:\n",
    "            situation=WhatHappend_1()\n",
    "            do_press_1=1\n",
    "            wait_coda_1=wait_time\n",
    "            check=1\n",
    "            break\n",
    "        else:\n",
    "            break\n",
    "            #print('error')\n",
    "    if check==1: \n",
    "        print('情況',situation)\n",
    "        print(' 莊家要按%d次，閒家要按%d次, 目前金額相比初始金額為%f, 已經執行%d次%d\\n'%(Z_1,S_1,Total_1*zoma,times,wait_coda_1))\n",
    "        check=0\n",
    "    time.sleep(0.25)\n",
    "    #times+=1"
   ]
  },
  {
   "cell_type": "code",
   "execution_count": null,
   "metadata": {},
   "outputs": [],
   "source": []
  }
 ],
 "metadata": {
  "kernelspec": {
   "display_name": "Python 3",
   "language": "python",
   "name": "python3"
  },
  "language_info": {
   "codemirror_mode": {
    "name": "ipython",
    "version": 3
   },
   "file_extension": ".py",
   "mimetype": "text/x-python",
   "name": "python",
   "nbconvert_exporter": "python",
   "pygments_lexer": "ipython3",
   "version": "3.6.5"
  }
 },
 "nbformat": 4,
 "nbformat_minor": 2
}
