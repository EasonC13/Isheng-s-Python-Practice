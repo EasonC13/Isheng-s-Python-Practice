{
 "cells": [
  {
   "cell_type": "code",
   "execution_count": 2,
   "metadata": {
    "ExecuteTime": {
     "end_time": "2019-07-31T04:11:52.369043Z",
     "start_time": "2019-07-31T04:11:52.366043Z"
    }
   },
   "outputs": [],
   "source": [
    "import pymongo\n",
    "from pymongo import MongoClient\n",
    "import numpy as np\n",
    "import matplotlib.pyplot as plt\n",
    "from keras.preprocessing import sequence\n",
    "import urllib.parse"
   ]
  },
  {
   "cell_type": "code",
   "execution_count": 3,
   "metadata": {
    "ExecuteTime": {
     "end_time": "2019-07-31T04:11:52.689993Z",
     "start_time": "2019-07-31T04:11:52.687010Z"
    }
   },
   "outputs": [],
   "source": [
    "import time"
   ]
  },
  {
   "cell_type": "code",
   "execution_count": 38,
   "metadata": {
    "ExecuteTime": {
     "end_time": "2019-07-31T04:22:00.718662Z",
     "start_time": "2019-07-31T04:22:00.713639Z"
    }
   },
   "outputs": [
    {
     "name": "stdout",
     "output_type": "stream",
     "text": [
      "env: KERAS_BACKEND=tensorflow\n"
     ]
    }
   ],
   "source": [
    "from keras.utils import np_utils\n",
    "# Import the Keras libraries and packages\n",
    "%env KERAS_BACKEND=tensorflow\n",
    "from keras.models import Sequential\n",
    "from keras.layers import Dense\n",
    "from keras.layers import LSTM, Input,Embedding\n",
    "from keras.layers import Dropout\n",
    "from keras.optimizers import SGD"
   ]
  },
  {
   "cell_type": "markdown",
   "metadata": {},
   "source": [
    "### 寫一個模型\n",
    "輸入：歷史交易資料，以周為單為<br/>\n",
    "輸出：這個交易者正不正常<br/>\n",
    "正常資料：輸出標記為0，定義為交易額度非常均勻，無極端值<br/>\n",
    "不正常資料：輸出標記為1，定義為某次交易的額度遠超過其他額度，有極端值<br/><br/>\n",
    "發現問題描述：如果在第一層新增一層BatchNormalization，則可順利偵測並獲得極高準確率<br/>否則會失敗\n"
   ]
  },
  {
   "cell_type": "markdown",
   "metadata": {},
   "source": [
    "使用模型：LSTM<br/>\n",
    "輸入參數使用數字大小，然後數字大小是交易額\n"
   ]
  },
  {
   "cell_type": "code",
   "execution_count": 119,
   "metadata": {
    "ExecuteTime": {
     "end_time": "2019-07-31T07:47:38.236554Z",
     "start_time": "2019-07-31T07:47:38.230543Z"
    }
   },
   "outputs": [
    {
     "data": {
      "text/plain": [
       "array([[17, 11, 15],\n",
       "       [18, 26, 10],\n",
       "       [ 8, 30, 32]])"
      ]
     },
     "execution_count": 119,
     "metadata": {},
     "output_type": "execute_result"
    }
   ],
   "source": [
    "np.random.randint(3,37,(3,3))"
   ]
  },
  {
   "cell_type": "code",
   "execution_count": 155,
   "metadata": {
    "ExecuteTime": {
     "end_time": "2019-07-31T08:03:38.914953Z",
     "start_time": "2019-07-31T08:03:38.617135Z"
    }
   },
   "outputs": [],
   "source": [
    "data = []\n",
    "answer = []\n",
    "for i in range(1000):\n",
    "    temp = []\n",
    "    origin = np.random.randint(10,200000)\n",
    "    for d in range(100):\n",
    "        origin += np.random.randint(-10,10)\n",
    "        if origin<=0:\n",
    "            origin = 0\n",
    "        temp.append(origin)\n",
    "    answer.append(0)\n",
    "    data.append(temp)"
   ]
  },
  {
   "cell_type": "code",
   "execution_count": 127,
   "metadata": {
    "ExecuteTime": {
     "end_time": "2019-07-31T07:51:10.458506Z",
     "start_time": "2019-07-31T07:51:10.454517Z"
    }
   },
   "outputs": [],
   "source": [
    "data = np.array(data) #正常資料"
   ]
  },
  {
   "cell_type": "code",
   "execution_count": 137,
   "metadata": {
    "ExecuteTime": {
     "end_time": "2019-07-31T07:54:18.709335Z",
     "start_time": "2019-07-31T07:54:18.704583Z"
    }
   },
   "outputs": [
    {
     "name": "stdout",
     "output_type": "stream",
     "text": [
      "87\n"
     ]
    }
   ],
   "source": [
    "if False==bool(90%30):\n",
    "    print(87)"
   ]
  },
  {
   "cell_type": "code",
   "execution_count": 269,
   "metadata": {
    "ExecuteTime": {
     "end_time": "2019-07-31T09:02:57.024369Z",
     "start_time": "2019-07-31T09:02:56.423683Z"
    }
   },
   "outputs": [],
   "source": [
    "bad_data = []\n",
    "bad_answer = []\n",
    "for i in range(1000):\n",
    "    temp = []\n",
    "    origin = np.random.randint(1,2000)\n",
    "    trigger = 0\n",
    "    for d in range(100):\n",
    "        origin += np.random.randint(-10,10)\n",
    "        if np.random.randint(-20,1)>-2:\n",
    "            #print(i)\n",
    "            temp2 = origin\n",
    "            origin+=np.random.randint(1,9)*origin\n",
    "            temp.append(origin)\n",
    "            origin = temp2\n",
    "            trigger = 1\n",
    "        else:temp.append(origin)\n",
    "    bad_data.append(temp)\n",
    "    bad_answer.append(trigger)"
   ]
  },
  {
   "cell_type": "code",
   "execution_count": 270,
   "metadata": {
    "ExecuteTime": {
     "end_time": "2019-07-31T09:02:57.762317Z",
     "start_time": "2019-07-31T09:02:57.747338Z"
    }
   },
   "outputs": [
    {
     "data": {
      "text/plain": [
       "(1000, 100)"
      ]
     },
     "execution_count": 270,
     "metadata": {},
     "output_type": "execute_result"
    }
   ],
   "source": [
    "np.array(bad_data).shape"
   ]
  },
  {
   "cell_type": "code",
   "execution_count": 272,
   "metadata": {
    "ExecuteTime": {
     "end_time": "2019-07-31T09:03:04.055008Z",
     "start_time": "2019-07-31T09:03:04.049258Z"
    }
   },
   "outputs": [
    {
     "data": {
      "text/plain": [
       "False"
      ]
     },
     "execution_count": 272,
     "metadata": {},
     "output_type": "execute_result"
    }
   ],
   "source": [
    "0 in bad_answer"
   ]
  },
  {
   "cell_type": "code",
   "execution_count": 273,
   "metadata": {
    "ExecuteTime": {
     "end_time": "2019-07-31T09:03:06.340670Z",
     "start_time": "2019-07-31T09:03:06.317920Z"
    }
   },
   "outputs": [],
   "source": [
    "raw_data = np.array(list(data) + list(bad_data))"
   ]
  },
  {
   "cell_type": "code",
   "execution_count": 274,
   "metadata": {
    "ExecuteTime": {
     "end_time": "2019-07-31T09:03:07.279308Z",
     "start_time": "2019-07-31T09:03:07.274322Z"
    }
   },
   "outputs": [],
   "source": [
    "raw_answer = np.array(answer+bad_answer)"
   ]
  },
  {
   "cell_type": "markdown",
   "metadata": {},
   "source": [
    "#### data完成 準備製作模型"
   ]
  },
  {
   "cell_type": "code",
   "execution_count": 275,
   "metadata": {
    "ExecuteTime": {
     "end_time": "2019-07-31T09:03:09.287661Z",
     "start_time": "2019-07-31T09:03:09.282674Z"
    }
   },
   "outputs": [
    {
     "data": {
      "text/plain": [
       "(2000,)"
      ]
     },
     "execution_count": 275,
     "metadata": {},
     "output_type": "execute_result"
    }
   ],
   "source": [
    "raw_answer.shape"
   ]
  },
  {
   "cell_type": "code",
   "execution_count": 276,
   "metadata": {
    "ExecuteTime": {
     "end_time": "2019-07-31T09:03:10.608893Z",
     "start_time": "2019-07-31T09:03:10.602909Z"
    }
   },
   "outputs": [
    {
     "data": {
      "text/plain": [
       "(2000, 100)"
      ]
     },
     "execution_count": 276,
     "metadata": {},
     "output_type": "execute_result"
    }
   ],
   "source": [
    "raw_data.shape"
   ]
  },
  {
   "cell_type": "code",
   "execution_count": 277,
   "metadata": {
    "ExecuteTime": {
     "end_time": "2019-07-31T09:03:11.356117Z",
     "start_time": "2019-07-31T09:03:11.352624Z"
    }
   },
   "outputs": [],
   "source": [
    "import sklearn"
   ]
  },
  {
   "cell_type": "code",
   "execution_count": 278,
   "metadata": {
    "ExecuteTime": {
     "end_time": "2019-07-31T09:03:12.041638Z",
     "start_time": "2019-07-31T09:03:12.036651Z"
    }
   },
   "outputs": [],
   "source": [
    "import sklearn.model_selection"
   ]
  },
  {
   "cell_type": "code",
   "execution_count": 279,
   "metadata": {
    "ExecuteTime": {
     "end_time": "2019-07-31T09:03:12.655988Z",
     "start_time": "2019-07-31T09:03:12.648489Z"
    }
   },
   "outputs": [],
   "source": [
    "train_x, test_x, train_y, test_y = sklearn.model_selection.train_test_split(raw_data, raw_answer, test_size = 0.33, random_state= 87)"
   ]
  },
  {
   "cell_type": "code",
   "execution_count": 300,
   "metadata": {
    "ExecuteTime": {
     "end_time": "2019-07-31T09:30:59.611183Z",
     "start_time": "2019-07-31T09:30:59.607250Z"
    }
   },
   "outputs": [],
   "source": [
    "from keras.layers import pooling, Flatten, BatchNormalization\n"
   ]
  },
  {
   "cell_type": "code",
   "execution_count": 340,
   "metadata": {
    "ExecuteTime": {
     "end_time": "2019-07-31T09:54:23.064632Z",
     "start_time": "2019-07-31T09:54:22.962606Z"
    }
   },
   "outputs": [],
   "source": [
    "model = Sequential()\n",
    "k=80\n",
    "model.add(BatchNormalization(input_shape=(100,)))\n",
    "\n",
    "#model.add(Dense(80,  activation = 'relu',input_shape=(100,)))\n",
    "model.add(Dense(80,  activation = 'relu'))\n",
    "\n",
    "model.add(Dense(40,activation='relu'))\n",
    "#model.add(Dropout(0.4))\n",
    "model.add(Dense(20,activation='relu'))\n",
    "\n",
    "#model.add(Flatten())\n",
    "#model.add(Dropout(0.4))\n",
    "model.add(Dense(1, activation = \"sigmoid\"))"
   ]
  },
  {
   "cell_type": "code",
   "execution_count": 341,
   "metadata": {
    "ExecuteTime": {
     "end_time": "2019-07-31T09:54:23.214187Z",
     "start_time": "2019-07-31T09:54:23.181265Z"
    }
   },
   "outputs": [],
   "source": [
    "model.compile(loss='mse',\n",
    "              optimizer = \"adam\", #本來是ADAM\n",
    "              metrics = ['accuracy'])"
   ]
  },
  {
   "cell_type": "code",
   "execution_count": 342,
   "metadata": {
    "ExecuteTime": {
     "end_time": "2019-07-31T09:54:23.663763Z",
     "start_time": "2019-07-31T09:54:23.658802Z"
    }
   },
   "outputs": [
    {
     "name": "stdout",
     "output_type": "stream",
     "text": [
      "_________________________________________________________________\n",
      "Layer (type)                 Output Shape              Param #   \n",
      "=================================================================\n",
      "batch_normalization_6 (Batch (None, 100)               400       \n",
      "_________________________________________________________________\n",
      "dense_100 (Dense)            (None, 80)                8080      \n",
      "_________________________________________________________________\n",
      "dense_101 (Dense)            (None, 40)                3240      \n",
      "_________________________________________________________________\n",
      "dense_102 (Dense)            (None, 20)                820       \n",
      "_________________________________________________________________\n",
      "dense_103 (Dense)            (None, 1)                 21        \n",
      "=================================================================\n",
      "Total params: 12,561\n",
      "Trainable params: 12,361\n",
      "Non-trainable params: 200\n",
      "_________________________________________________________________\n"
     ]
    }
   ],
   "source": [
    "model.summary()"
   ]
  },
  {
   "cell_type": "code",
   "execution_count": 343,
   "metadata": {
    "ExecuteTime": {
     "end_time": "2019-07-31T09:54:25.580521Z",
     "start_time": "2019-07-31T09:54:24.191945Z"
    }
   },
   "outputs": [
    {
     "name": "stdout",
     "output_type": "stream",
     "text": [
      "Epoch 1/10\n",
      "1340/1340 [==============================] - 1s 540us/step - loss: 0.1731 - acc: 0.7530\n",
      "Epoch 2/10\n",
      "1340/1340 [==============================] - 0s 22us/step - loss: 0.0925 - acc: 0.8679\n",
      "Epoch 3/10\n",
      "1340/1340 [==============================] - 0s 22us/step - loss: 0.0810 - acc: 0.8806\n",
      "Epoch 4/10\n",
      "1340/1340 [==============================] - 0s 21us/step - loss: 0.0774 - acc: 0.8948\n",
      "Epoch 5/10\n",
      "1340/1340 [==============================] - 0s 22us/step - loss: 0.0712 - acc: 0.9022\n",
      "Epoch 6/10\n",
      "1340/1340 [==============================] - 0s 18us/step - loss: 0.0665 - acc: 0.9149\n",
      "Epoch 7/10\n",
      "1340/1340 [==============================] - 0s 21us/step - loss: 0.0609 - acc: 0.9231\n",
      "Epoch 8/10\n",
      "1340/1340 [==============================] - 0s 23us/step - loss: 0.0547 - acc: 0.9321\n",
      "Epoch 9/10\n",
      "1340/1340 [==============================] - 0s 22us/step - loss: 0.0495 - acc: 0.9418\n",
      "Epoch 10/10\n",
      "1340/1340 [==============================] - 0s 23us/step - loss: 0.0496 - acc: 0.9463\n"
     ]
    },
    {
     "data": {
      "text/plain": [
       "<keras.callbacks.History at 0x170ab8285c0>"
      ]
     },
     "execution_count": 343,
     "metadata": {},
     "output_type": "execute_result"
    }
   ],
   "source": [
    "model.fit(np.array(train_x), np.array(train_y), batch_size=100, epochs= 10)"
   ]
  },
  {
   "cell_type": "code",
   "execution_count": 349,
   "metadata": {
    "ExecuteTime": {
     "end_time": "2019-07-31T10:03:08.583813Z",
     "start_time": "2019-07-31T10:03:08.563525Z"
    }
   },
   "outputs": [
    {
     "name": "stdout",
     "output_type": "stream",
     "text": [
      "660/660 [==============================] - 0s 22us/step\n"
     ]
    },
    {
     "data": {
      "text/plain": [
       "[0.03758163635026325, 0.9499999992775194]"
      ]
     },
     "execution_count": 349,
     "metadata": {},
     "output_type": "execute_result"
    }
   ],
   "source": [
    "model.evaluate(test_x, test_y)"
   ]
  },
  {
   "cell_type": "code",
   "execution_count": 345,
   "metadata": {
    "ExecuteTime": {
     "end_time": "2019-07-31T09:54:31.062639Z",
     "start_time": "2019-07-31T09:54:31.015338Z"
    }
   },
   "outputs": [],
   "source": [
    "model2 = Sequential()\n",
    "#model2.add(BatchNormalization(input_shape=(100,)))\n",
    "\n",
    "model2.add(Dense(80,  activation = 'relu',input_shape=(100,)))\n",
    "#model.add(Dense(80,  activation = 'relu'))\n",
    "\n",
    "model2.add(Dense(40,activation='relu'))\n",
    "#model.add(Dropout(0.4))\n",
    "model2.add(Dense(20,activation='relu'))\n",
    "\n",
    "#model.add(Flatten())\n",
    "#model.add(Dropout(0.4))\n",
    "model2.add(Dense(1, activation = \"sigmoid\"))"
   ]
  },
  {
   "cell_type": "code",
   "execution_count": 346,
   "metadata": {
    "ExecuteTime": {
     "end_time": "2019-07-31T09:54:32.073010Z",
     "start_time": "2019-07-31T09:54:32.035898Z"
    }
   },
   "outputs": [],
   "source": [
    "model2.compile(loss='mse',\n",
    "              optimizer = \"adam\", #本來是ADAM\n",
    "              metrics = ['accuracy'])"
   ]
  },
  {
   "cell_type": "code",
   "execution_count": 347,
   "metadata": {
    "ExecuteTime": {
     "end_time": "2019-07-31T09:54:32.237814Z",
     "start_time": "2019-07-31T09:54:32.232853Z"
    }
   },
   "outputs": [
    {
     "name": "stdout",
     "output_type": "stream",
     "text": [
      "_________________________________________________________________\n",
      "Layer (type)                 Output Shape              Param #   \n",
      "=================================================================\n",
      "dense_104 (Dense)            (None, 80)                8080      \n",
      "_________________________________________________________________\n",
      "dense_105 (Dense)            (None, 40)                3240      \n",
      "_________________________________________________________________\n",
      "dense_106 (Dense)            (None, 20)                820       \n",
      "_________________________________________________________________\n",
      "dense_107 (Dense)            (None, 1)                 21        \n",
      "=================================================================\n",
      "Total params: 12,161\n",
      "Trainable params: 12,161\n",
      "Non-trainable params: 0\n",
      "_________________________________________________________________\n"
     ]
    }
   ],
   "source": [
    "model2.summary()"
   ]
  },
  {
   "cell_type": "code",
   "execution_count": 348,
   "metadata": {
    "ExecuteTime": {
     "end_time": "2019-07-31T09:54:40.235535Z",
     "start_time": "2019-07-31T09:54:39.096547Z"
    }
   },
   "outputs": [
    {
     "name": "stdout",
     "output_type": "stream",
     "text": [
      "Epoch 1/10\n",
      "1340/1340 [==============================] - 1s 509us/step - loss: 0.4729 - acc: 0.5261\n",
      "Epoch 2/10\n",
      "1340/1340 [==============================] - 0s 19us/step - loss: 0.5286 - acc: 0.4709\n",
      "Epoch 3/10\n",
      "1340/1340 [==============================] - 0s 20us/step - loss: 0.5016 - acc: 0.4985\n",
      "Epoch 4/10\n",
      "1340/1340 [==============================] - 0s 19us/step - loss: 0.5007 - acc: 0.4993\n",
      "Epoch 5/10\n",
      "1340/1340 [==============================] - 0s 19us/step - loss: 0.5007 - acc: 0.4993\n",
      "Epoch 6/10\n",
      "1340/1340 [==============================] - 0s 18us/step - loss: 0.5007 - acc: 0.4993\n",
      "Epoch 7/10\n",
      "1340/1340 [==============================] - 0s 19us/step - loss: 0.5007 - acc: 0.4993\n",
      "Epoch 8/10\n",
      "1340/1340 [==============================] - 0s 20us/step - loss: 0.5007 - acc: 0.4993\n",
      "Epoch 9/10\n",
      "1340/1340 [==============================] - 0s 16us/step - loss: 0.5007 - acc: 0.4993\n",
      "Epoch 10/10\n",
      "1340/1340 [==============================] - 0s 19us/step - loss: 0.5007 - acc: 0.4993\n"
     ]
    },
    {
     "data": {
      "text/plain": [
       "<keras.callbacks.History at 0x170acdea048>"
      ]
     },
     "execution_count": 348,
     "metadata": {},
     "output_type": "execute_result"
    }
   ],
   "source": [
    "model2.fit(np.array(train_x), np.array(train_y), batch_size=100, epochs= 10)"
   ]
  },
  {
   "cell_type": "code",
   "execution_count": 350,
   "metadata": {
    "ExecuteTime": {
     "end_time": "2019-07-31T10:03:47.079773Z",
     "start_time": "2019-07-31T10:03:46.817330Z"
    }
   },
   "outputs": [
    {
     "name": "stdout",
     "output_type": "stream",
     "text": [
      "660/660 [==============================] - 0s 389us/step\n"
     ]
    },
    {
     "data": {
      "text/plain": [
       "[0.49848484920732905, 0.5015151516957717]"
      ]
     },
     "execution_count": 350,
     "metadata": {},
     "output_type": "execute_result"
    }
   ],
   "source": [
    "model2.evaluate(test_x, test_y)"
   ]
  },
  {
   "cell_type": "code",
   "execution_count": 371,
   "metadata": {
    "ExecuteTime": {
     "end_time": "2019-07-31T10:08:10.491502Z",
     "start_time": "2019-07-31T10:08:10.426420Z"
    }
   },
   "outputs": [],
   "source": [
    "model3 = Sequential()\n",
    "model3.add(BatchNormalization(input_shape=(100,)))"
   ]
  },
  {
   "cell_type": "code",
   "execution_count": 372,
   "metadata": {
    "ExecuteTime": {
     "end_time": "2019-07-31T10:08:10.632368Z",
     "start_time": "2019-07-31T10:08:10.600031Z"
    }
   },
   "outputs": [],
   "source": [
    "model3.compile(loss='mse',\n",
    "              optimizer = \"adam\", #本來是ADAM\n",
    "              metrics = ['accuracy'])"
   ]
  },
  {
   "cell_type": "code",
   "execution_count": 373,
   "metadata": {
    "ExecuteTime": {
     "end_time": "2019-07-31T10:08:11.149451Z",
     "start_time": "2019-07-31T10:08:11.146458Z"
    }
   },
   "outputs": [
    {
     "name": "stdout",
     "output_type": "stream",
     "text": [
      "_________________________________________________________________\n",
      "Layer (type)                 Output Shape              Param #   \n",
      "=================================================================\n",
      "batch_normalization_9 (Batch (None, 100)               400       \n",
      "=================================================================\n",
      "Total params: 400\n",
      "Trainable params: 200\n",
      "Non-trainable params: 200\n",
      "_________________________________________________________________\n"
     ]
    }
   ],
   "source": [
    "model3.summary()"
   ]
  },
  {
   "cell_type": "code",
   "execution_count": 376,
   "metadata": {
    "ExecuteTime": {
     "end_time": "2019-07-31T10:08:25.595239Z",
     "start_time": "2019-07-31T10:08:25.590254Z"
    }
   },
   "outputs": [
    {
     "data": {
      "text/plain": [
       "array([   9.,    9.,    9.,    9.,    9.,    9.,    9.,    9., 1009.,\n",
       "          9.,    9.,    9.,    9.,    9.,    9.,    9.,    9.,    9.,\n",
       "          9.,    9.,    9.,    9.,    9.,    9.,    9.,    9.,    9.,\n",
       "          9.,    9.,    9.,    9.,    9.,    9.,    9.,    9.,    9.,\n",
       "          9.,    9.,    9.,    9.,    9.,    9.,    9.,    9.,    9.,\n",
       "          9.,    9.,    9.,    9.,    9.,    9.,    9.,    9.,    9.,\n",
       "          9.,    9.,    9.,    9.,    9.,    9.,    9.,    9.,    9.,\n",
       "          9.,    9.,    9.,    9.,    9.,    9.,    9.,    9.,    9.,\n",
       "          9.,    9.,    9.,    9.,    9.,    9.,    9.,    9.,    9.,\n",
       "          9.,    9.,    9.,    9.,    9.,    9.,    9.,    9.,    9.,\n",
       "          9.,    9.,    9.,    9.,    9.,    9.,    9.,    9.,    9.,\n",
       "          9.])"
      ]
     },
     "execution_count": 376,
     "metadata": {},
     "output_type": "execute_result"
    }
   ],
   "source": [
    "a = np.zeros(100)\n",
    "\n",
    "a+= np.random.randint(1,10)\n",
    "\n",
    "a[8] += 1000\n",
    "\n",
    "a.shape\n",
    "\n",
    "a"
   ]
  },
  {
   "cell_type": "code",
   "execution_count": 377,
   "metadata": {
    "ExecuteTime": {
     "end_time": "2019-07-31T10:08:26.342242Z",
     "start_time": "2019-07-31T10:08:26.336218Z"
    }
   },
   "outputs": [
    {
     "data": {
      "text/plain": [
       "array([[   8.995503,    8.995503,    8.995503,    8.995503,    8.995503,\n",
       "           8.995503,    8.995503,    8.995503, 1008.49585 ,    8.995503,\n",
       "           8.995503,    8.995503,    8.995503,    8.995503,    8.995503,\n",
       "           8.995503,    8.995503,    8.995503,    8.995503,    8.995503,\n",
       "           8.995503,    8.995503,    8.995503,    8.995503,    8.995503,\n",
       "           8.995503,    8.995503,    8.995503,    8.995503,    8.995503,\n",
       "           8.995503,    8.995503,    8.995503,    8.995503,    8.995503,\n",
       "           8.995503,    8.995503,    8.995503,    8.995503,    8.995503,\n",
       "           8.995503,    8.995503,    8.995503,    8.995503,    8.995503,\n",
       "           8.995503,    8.995503,    8.995503,    8.995503,    8.995503,\n",
       "           8.995503,    8.995503,    8.995503,    8.995503,    8.995503,\n",
       "           8.995503,    8.995503,    8.995503,    8.995503,    8.995503,\n",
       "           8.995503,    8.995503,    8.995503,    8.995503,    8.995503,\n",
       "           8.995503,    8.995503,    8.995503,    8.995503,    8.995503,\n",
       "           8.995503,    8.995503,    8.995503,    8.995503,    8.995503,\n",
       "           8.995503,    8.995503,    8.995503,    8.995503,    8.995503,\n",
       "           8.995503,    8.995503,    8.995503,    8.995503,    8.995503,\n",
       "           8.995503,    8.995503,    8.995503,    8.995503,    8.995503,\n",
       "           8.995503,    8.995503,    8.995503,    8.995503,    8.995503,\n",
       "           8.995503,    8.995503,    8.995503,    8.995503,    8.995503]],\n",
       "      dtype=float32)"
      ]
     },
     "execution_count": 377,
     "metadata": {},
     "output_type": "execute_result"
    }
   ],
   "source": [
    "model3.predict(np.array(a).reshape(1,-1))"
   ]
  },
  {
   "cell_type": "code",
   "execution_count": 378,
   "metadata": {
    "ExecuteTime": {
     "end_time": "2019-07-31T10:08:30.560487Z",
     "start_time": "2019-07-31T10:08:29.739726Z"
    }
   },
   "outputs": [
    {
     "name": "stdout",
     "output_type": "stream",
     "text": [
      "Epoch 1/1\n",
      "1/1 [==============================] - 1s 680ms/step - loss: 0.0000e+00 - acc: 1.0000\n"
     ]
    },
    {
     "data": {
      "text/plain": [
       "<keras.callbacks.History at 0x170af9cee48>"
      ]
     },
     "execution_count": 378,
     "metadata": {},
     "output_type": "execute_result"
    }
   ],
   "source": [
    "model3.fit(a.reshape(1,-1), np.zeros(100).reshape(1,-1))"
   ]
  },
  {
   "cell_type": "code",
   "execution_count": 379,
   "metadata": {
    "ExecuteTime": {
     "end_time": "2019-07-31T10:08:34.155279Z",
     "start_time": "2019-07-31T10:08:34.149298Z"
    }
   },
   "outputs": [
    {
     "data": {
      "text/plain": [
       "array([[-0.00027466, -0.00027466, -0.00027466, -0.00027466, -0.00027466,\n",
       "        -0.00027466, -0.00027466, -0.00027466, -0.03125   , -0.00027466,\n",
       "        -0.00027466, -0.00027466, -0.00027466, -0.00027466, -0.00027466,\n",
       "        -0.00027466, -0.00027466, -0.00027466, -0.00027466, -0.00027466,\n",
       "        -0.00027466, -0.00027466, -0.00027466, -0.00027466, -0.00027466,\n",
       "        -0.00027466, -0.00027466, -0.00027466, -0.00027466, -0.00027466,\n",
       "        -0.00027466, -0.00027466, -0.00027466, -0.00027466, -0.00027466,\n",
       "        -0.00027466, -0.00027466, -0.00027466, -0.00027466, -0.00027466,\n",
       "        -0.00027466, -0.00027466, -0.00027466, -0.00027466, -0.00027466,\n",
       "        -0.00027466, -0.00027466, -0.00027466, -0.00027466, -0.00027466,\n",
       "        -0.00027466, -0.00027466, -0.00027466, -0.00027466, -0.00027466,\n",
       "        -0.00027466, -0.00027466, -0.00027466, -0.00027466, -0.00027466,\n",
       "        -0.00027466, -0.00027466, -0.00027466, -0.00027466, -0.00027466,\n",
       "        -0.00027466, -0.00027466, -0.00027466, -0.00027466, -0.00027466,\n",
       "        -0.00027466, -0.00027466, -0.00027466, -0.00027466, -0.00027466,\n",
       "        -0.00027466, -0.00027466, -0.00027466, -0.00027466, -0.00027466,\n",
       "        -0.00027466, -0.00027466, -0.00027466, -0.00027466, -0.00027466,\n",
       "        -0.00027466, -0.00027466, -0.00027466, -0.00027466, -0.00027466,\n",
       "        -0.00027466, -0.00027466, -0.00027466, -0.00027466, -0.00027466,\n",
       "        -0.00027466, -0.00024414, -0.00024414, -0.00024414, -0.00024414]],\n",
       "      dtype=float32)"
      ]
     },
     "execution_count": 379,
     "metadata": {},
     "output_type": "execute_result"
    }
   ],
   "source": [
    "model3.predict(np.array(a).reshape(1,-1))"
   ]
  },
  {
   "cell_type": "code",
   "execution_count": null,
   "metadata": {},
   "outputs": [],
   "source": []
  }
 ],
 "metadata": {
  "kernelspec": {
   "display_name": "Python 3",
   "language": "python",
   "name": "python3"
  },
  "language_info": {
   "codemirror_mode": {
    "name": "ipython",
    "version": 3
   },
   "file_extension": ".py",
   "mimetype": "text/x-python",
   "name": "python",
   "nbconvert_exporter": "python",
   "pygments_lexer": "ipython3",
   "version": "3.6.5"
  },
  "toc": {
   "base_numbering": 1,
   "nav_menu": {},
   "number_sections": true,
   "sideBar": true,
   "skip_h1_title": false,
   "title_cell": "Table of Contents",
   "title_sidebar": "Contents",
   "toc_cell": false,
   "toc_position": {},
   "toc_section_display": true,
   "toc_window_display": false
  },
  "varInspector": {
   "cols": {
    "lenName": 16,
    "lenType": 16,
    "lenVar": 40
   },
   "kernels_config": {
    "python": {
     "delete_cmd_postfix": "",
     "delete_cmd_prefix": "del ",
     "library": "var_list.py",
     "varRefreshCmd": "print(var_dic_list())"
    },
    "r": {
     "delete_cmd_postfix": ") ",
     "delete_cmd_prefix": "rm(",
     "library": "var_list.r",
     "varRefreshCmd": "cat(var_dic_list()) "
    }
   },
   "types_to_exclude": [
    "module",
    "function",
    "builtin_function_or_method",
    "instance",
    "_Feature"
   ],
   "window_display": false
  }
 },
 "nbformat": 4,
 "nbformat_minor": 2
}
