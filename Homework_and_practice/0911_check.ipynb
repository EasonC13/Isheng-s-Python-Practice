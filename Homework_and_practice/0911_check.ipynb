{
 "cells": [
  {
   "cell_type": "code",
   "execution_count": 1,
   "metadata": {
    "ExecuteTime": {
     "end_time": "2019-09-11T05:15:22.498413Z",
     "start_time": "2019-09-11T05:15:22.298586Z"
    }
   },
   "outputs": [],
   "source": [
    "import pandas as pd\n",
    "import numpy as np"
   ]
  },
  {
   "cell_type": "code",
   "execution_count": 3,
   "metadata": {
    "ExecuteTime": {
     "end_time": "2019-09-11T05:15:26.700551Z",
     "start_time": "2019-09-11T05:15:26.661126Z"
    }
   },
   "outputs": [],
   "source": [
    "import sklearn"
   ]
  },
  {
   "cell_type": "code",
   "execution_count": 9,
   "metadata": {
    "ExecuteTime": {
     "end_time": "2019-09-11T05:16:14.959709Z",
     "start_time": "2019-09-11T05:16:13.381690Z"
    }
   },
   "outputs": [
    {
     "name": "stderr",
     "output_type": "stream",
     "text": [
      "/home/fio/anaconda3/envs/gpu/lib/python3.6/site-packages/IPython/core/interactiveshell.py:3058: DtypeWarning: Columns (17,21,22) have mixed types. Specify dtype option on import or set low_memory=False.\n",
      "  interactivity=interactivity, compiler=compiler, result=result)\n"
     ]
    }
   ],
   "source": [
    "#載入資料\n",
    "df = pd.read_csv(\"./data/train.csv\", encoding='big5')\n",
    "\n",
    "X_test = pd.read_csv(\"./data/test.csv\", encoding='big5')"
   ]
  },
  {
   "cell_type": "code",
   "execution_count": 10,
   "metadata": {
    "ExecuteTime": {
     "end_time": "2019-09-11T05:16:17.951446Z",
     "start_time": "2019-09-11T05:16:17.706959Z"
    }
   },
   "outputs": [],
   "source": [
    "#把有ＮＡ的都砍掉\n",
    "cols_with_missing = [col for col in df.columns if df[col].isnull().any()] \n",
    "\n",
    "df.drop(cols_with_missing, axis=1, inplace=True)\n",
    "X_test.drop(cols_with_missing, axis=1, inplace=True)"
   ]
  },
  {
   "cell_type": "code",
   "execution_count": 11,
   "metadata": {
    "ExecuteTime": {
     "end_time": "2019-09-11T05:16:20.722840Z",
     "start_time": "2019-09-11T05:16:20.667725Z"
    }
   },
   "outputs": [
    {
     "data": {
      "text/plain": [
       "0        0\n",
       "1        0\n",
       "2        0\n",
       "3        0\n",
       "4        0\n",
       "        ..\n",
       "99995    0\n",
       "99996    1\n",
       "99997    1\n",
       "99998    0\n",
       "99999    0\n",
       "Name: Y1, Length: 100000, dtype: int64"
      ]
     },
     "execution_count": 11,
     "metadata": {},
     "output_type": "execute_result"
    }
   ],
   "source": [
    "#提取答案\n",
    "train_y = df['Y1']=='Y'\n",
    "df.drop(columns=\"Y1\", inplace=True)\n",
    "X = df.copy()\n",
    "train_y_all = train_y+1-1\n",
    "train_y_all"
   ]
  },
  {
   "cell_type": "code",
   "execution_count": 12,
   "metadata": {
    "ExecuteTime": {
     "end_time": "2019-09-11T05:16:23.440764Z",
     "start_time": "2019-09-11T05:16:23.438362Z"
    }
   },
   "outputs": [],
   "source": [
    "#把object類型都先砍掉\n",
    "s = (X.dtypes == 'object')\n",
    "object_cols = list(s[s].index)"
   ]
  },
  {
   "cell_type": "code",
   "execution_count": 13,
   "metadata": {
    "ExecuteTime": {
     "end_time": "2019-09-11T05:16:26.139236Z",
     "start_time": "2019-09-11T05:16:26.136798Z"
    }
   },
   "outputs": [
    {
     "data": {
      "text/plain": [
       "['AGE',\n",
       " 'CHARGE_CITY_CD',\n",
       " 'CONTACT_CITY_CD',\n",
       " 'LAST_A_CCONTACT_DT',\n",
       " 'LAST_A_ISSUE_DT']"
      ]
     },
     "execution_count": 13,
     "metadata": {},
     "output_type": "execute_result"
    }
   ],
   "source": [
    "object_cols[0:5]"
   ]
  },
  {
   "cell_type": "code",
   "execution_count": 14,
   "metadata": {
    "ExecuteTime": {
     "end_time": "2019-09-11T05:16:28.804728Z",
     "start_time": "2019-09-11T05:16:28.798773Z"
    }
   },
   "outputs": [],
   "source": [
    "x_train = X.drop(columns = object_cols)\n",
    "x_test = X_test.drop(columns=object_cols)"
   ]
  },
  {
   "cell_type": "code",
   "execution_count": 15,
   "metadata": {
    "ExecuteTime": {
     "end_time": "2019-09-11T05:16:31.838361Z",
     "start_time": "2019-09-11T05:16:31.749959Z"
    }
   },
   "outputs": [],
   "source": [
    "from sklearn.model_selection import train_test_split"
   ]
  },
  {
   "cell_type": "code",
   "execution_count": 16,
   "metadata": {
    "ExecuteTime": {
     "end_time": "2019-09-11T05:16:34.798004Z",
     "start_time": "2019-09-11T05:16:34.787969Z"
    }
   },
   "outputs": [],
   "source": [
    "x_train, x_valid, y_train, y_valid = train_test_split(x_train, train_y_all, test_size=0.5)\n",
    "#x_train, y_train = train_all, train_y_all"
   ]
  },
  {
   "cell_type": "code",
   "execution_count": 17,
   "metadata": {
    "ExecuteTime": {
     "end_time": "2019-09-11T05:16:37.974128Z",
     "start_time": "2019-09-11T05:16:37.971572Z"
    }
   },
   "outputs": [
    {
     "data": {
      "text/plain": [
       "(50000, 15)"
      ]
     },
     "execution_count": 17,
     "metadata": {},
     "output_type": "execute_result"
    }
   ],
   "source": [
    "x_train.shape"
   ]
  },
  {
   "cell_type": "code",
   "execution_count": 18,
   "metadata": {
    "ExecuteTime": {
     "end_time": "2019-09-11T05:16:56.085909Z",
     "start_time": "2019-09-11T05:16:56.074005Z"
    }
   },
   "outputs": [],
   "source": [
    "import xgboost as xgb"
   ]
  },
  {
   "cell_type": "code",
   "execution_count": 19,
   "metadata": {
    "ExecuteTime": {
     "end_time": "2019-09-11T05:17:00.993267Z",
     "start_time": "2019-09-11T05:16:59.403022Z"
    }
   },
   "outputs": [
    {
     "data": {
      "text/plain": [
       "XGBClassifier(base_score=0.5, booster='gbtree', colsample_bylevel=1,\n",
       "              colsample_bytree=1, gamma=0, learning_rate=0.1, max_delta_step=0,\n",
       "              max_depth=3, min_child_weight=1, missing=None, n_estimators=1000,\n",
       "              n_jobs=1, nthread=None, objective='binary:logistic',\n",
       "              random_state=0, reg_alpha=0, reg_lambda=1, scale_pos_weight=1,\n",
       "              seed=None, silent=True, slient=False, subsample=1,\n",
       "              tree_method='gpu_hist')"
      ]
     },
     "execution_count": 19,
     "metadata": {},
     "output_type": "execute_result"
    }
   ],
   "source": [
    "model = xgb.XGBClassifier(n_estimators=1000, tree_method='gpu_hist', slient= False)\n",
    "\n",
    "model.fit(x_train, y_train)"
   ]
  },
  {
   "cell_type": "code",
   "execution_count": 20,
   "metadata": {
    "ExecuteTime": {
     "end_time": "2019-09-11T05:17:04.178932Z",
     "start_time": "2019-09-11T05:17:04.169372Z"
    }
   },
   "outputs": [],
   "source": [
    "result = model.predict(x_valid)"
   ]
  },
  {
   "cell_type": "code",
   "execution_count": 21,
   "metadata": {
    "ExecuteTime": {
     "end_time": "2019-09-11T05:17:07.347280Z",
     "start_time": "2019-09-11T05:17:07.343104Z"
    }
   },
   "outputs": [
    {
     "data": {
      "text/plain": [
       "0.97876"
      ]
     },
     "execution_count": 21,
     "metadata": {},
     "output_type": "execute_result"
    }
   ],
   "source": [
    "sklearn.metrics.accuracy_score(result, y_valid)"
   ]
  },
  {
   "cell_type": "markdown",
   "metadata": {},
   "source": [
    "以上程式碼顯示，使用XGboost正確率達0.97<br>下面在針對測試資料做運算"
   ]
  },
  {
   "cell_type": "code",
   "execution_count": null,
   "metadata": {},
   "outputs": [],
   "source": []
  },
  {
   "cell_type": "code",
   "execution_count": 24,
   "metadata": {
    "ExecuteTime": {
     "end_time": "2019-09-11T05:18:44.475712Z",
     "start_time": "2019-09-11T05:18:42.935404Z"
    }
   },
   "outputs": [],
   "source": [
    "#載入資料\n",
    "df = pd.read_csv(\"./data/train.csv\", encoding='big5')\n",
    "\n",
    "X_test = pd.read_csv(\"./data/test.csv\", encoding='big5')"
   ]
  },
  {
   "cell_type": "code",
   "execution_count": 25,
   "metadata": {
    "ExecuteTime": {
     "end_time": "2019-09-11T05:18:47.898863Z",
     "start_time": "2019-09-11T05:18:47.647655Z"
    }
   },
   "outputs": [],
   "source": [
    "#把有ＮＡ的都砍掉\n",
    "cols_with_missing = [col for col in df.columns if df[col].isnull().any()] \n",
    "\n",
    "df.drop(cols_with_missing, axis=1, inplace=True)\n",
    "X_test.drop(cols_with_missing, axis=1, inplace=True)"
   ]
  },
  {
   "cell_type": "code",
   "execution_count": 26,
   "metadata": {
    "ExecuteTime": {
     "end_time": "2019-09-11T05:18:52.155552Z",
     "start_time": "2019-09-11T05:18:52.109322Z"
    }
   },
   "outputs": [],
   "source": [
    "#提取答案\n",
    "train_y = df['Y1']=='Y'\n",
    "df.drop(columns=\"Y1\", inplace=True)\n",
    "X = df.copy()\n",
    "train_y_all = train_y+1-1"
   ]
  },
  {
   "cell_type": "code",
   "execution_count": 27,
   "metadata": {
    "ExecuteTime": {
     "end_time": "2019-09-11T05:18:59.575482Z",
     "start_time": "2019-09-11T05:18:59.572972Z"
    }
   },
   "outputs": [],
   "source": [
    "#把object類型都先砍掉\n",
    "s = (X.dtypes == 'object')\n",
    "object_cols = list(s[s].index)"
   ]
  },
  {
   "cell_type": "code",
   "execution_count": 28,
   "metadata": {
    "ExecuteTime": {
     "end_time": "2019-09-11T05:19:02.754314Z",
     "start_time": "2019-09-11T05:19:02.751932Z"
    }
   },
   "outputs": [
    {
     "data": {
      "text/plain": [
       "['AGE',\n",
       " 'CHARGE_CITY_CD',\n",
       " 'CONTACT_CITY_CD',\n",
       " 'LAST_A_CCONTACT_DT',\n",
       " 'LAST_A_ISSUE_DT']"
      ]
     },
     "execution_count": 28,
     "metadata": {},
     "output_type": "execute_result"
    }
   ],
   "source": [
    "object_cols[0:5]"
   ]
  },
  {
   "cell_type": "code",
   "execution_count": 29,
   "metadata": {
    "ExecuteTime": {
     "end_time": "2019-09-11T05:19:34.199646Z",
     "start_time": "2019-09-11T05:19:34.193227Z"
    }
   },
   "outputs": [],
   "source": [
    "x_train = X.drop(columns = object_cols)\n",
    "x_test = X_test.drop(columns=object_cols)"
   ]
  },
  {
   "cell_type": "code",
   "execution_count": 30,
   "metadata": {
    "ExecuteTime": {
     "end_time": "2019-09-11T05:19:37.428928Z",
     "start_time": "2019-09-11T05:19:37.427329Z"
    }
   },
   "outputs": [],
   "source": [
    "from sklearn.model_selection import train_test_split"
   ]
  },
  {
   "cell_type": "code",
   "execution_count": 32,
   "metadata": {
    "ExecuteTime": {
     "end_time": "2019-09-11T05:19:57.388899Z",
     "start_time": "2019-09-11T05:19:57.386868Z"
    }
   },
   "outputs": [],
   "source": [
    "#x_train, x_valid, y_train, y_valid = train_test_split(x_train, train_y_all, test_size=0.5)\n",
    "x_train, y_train = x_train, train_y_all"
   ]
  },
  {
   "cell_type": "code",
   "execution_count": 33,
   "metadata": {
    "ExecuteTime": {
     "end_time": "2019-09-11T05:20:00.592751Z",
     "start_time": "2019-09-11T05:20:00.590266Z"
    }
   },
   "outputs": [
    {
     "data": {
      "text/plain": [
       "(100000, 15)"
      ]
     },
     "execution_count": 33,
     "metadata": {},
     "output_type": "execute_result"
    }
   ],
   "source": [
    "x_train.shape"
   ]
  },
  {
   "cell_type": "code",
   "execution_count": 34,
   "metadata": {
    "ExecuteTime": {
     "end_time": "2019-09-11T05:20:04.815665Z",
     "start_time": "2019-09-11T05:20:04.813917Z"
    }
   },
   "outputs": [],
   "source": [
    "import xgboost as xgb"
   ]
  },
  {
   "cell_type": "code",
   "execution_count": 36,
   "metadata": {
    "ExecuteTime": {
     "end_time": "2019-09-11T05:20:46.622098Z",
     "start_time": "2019-09-11T05:20:45.704750Z"
    }
   },
   "outputs": [
    {
     "data": {
      "text/plain": [
       "XGBClassifier(base_score=0.5, booster='gbtree', colsample_bylevel=1,\n",
       "              colsample_bytree=1, gamma=0, learning_rate=0.1, max_delta_step=0,\n",
       "              max_depth=3, min_child_weight=1, missing=None, n_estimators=1000,\n",
       "              n_jobs=1, nthread=None, objective='binary:logistic',\n",
       "              random_state=0, reg_alpha=0, reg_lambda=1, scale_pos_weight=1,\n",
       "              seed=None, silent=True, subsample=1, tree_method='gpu_hist')"
      ]
     },
     "execution_count": 36,
     "metadata": {},
     "output_type": "execute_result"
    }
   ],
   "source": [
    "model = xgb.XGBClassifier(n_estimators=1000, tree_method='gpu_hist')\n",
    "\n",
    "model.fit(x_train, y_train)"
   ]
  },
  {
   "cell_type": "markdown",
   "metadata": {},
   "source": [
    "因為想先試水溫，我把0轉成1，1轉成0<br>透過1-score來取得真正成績<br>來避免我們到時候無法解釋為什麼成果這麼好的可能發生"
   ]
  },
  {
   "cell_type": "code",
   "execution_count": 54,
   "metadata": {
    "ExecuteTime": {
     "end_time": "2019-09-11T05:25:53.354309Z",
     "start_time": "2019-09-11T05:25:53.301653Z"
    }
   },
   "outputs": [],
   "source": [
    "result = model.predict(x_test)\n",
    "#這行註解掉即可取得實際結果\n",
    "result = (result==0)+1-1"
   ]
  },
  {
   "cell_type": "code",
   "execution_count": 55,
   "metadata": {
    "ExecuteTime": {
     "end_time": "2019-09-11T05:25:56.585923Z",
     "start_time": "2019-09-11T05:25:56.583821Z"
    }
   },
   "outputs": [
    {
     "data": {
      "text/plain": [
       "(150000,)"
      ]
     },
     "execution_count": 55,
     "metadata": {},
     "output_type": "execute_result"
    }
   ],
   "source": [
    "result.shape"
   ]
  },
  {
   "cell_type": "code",
   "execution_count": 56,
   "metadata": {
    "ExecuteTime": {
     "end_time": "2019-09-11T05:25:59.814737Z",
     "start_time": "2019-09-11T05:25:59.804177Z"
    }
   },
   "outputs": [],
   "source": [
    "submit = pd.read_csv(\"./data/submit_test.csv\")"
   ]
  },
  {
   "cell_type": "code",
   "execution_count": 57,
   "metadata": {
    "ExecuteTime": {
     "end_time": "2019-09-11T05:26:03.036513Z",
     "start_time": "2019-09-11T05:26:03.032997Z"
    }
   },
   "outputs": [
    {
     "data": {
      "text/html": [
       "<div>\n",
       "<style scoped>\n",
       "    .dataframe tbody tr th:only-of-type {\n",
       "        vertical-align: middle;\n",
       "    }\n",
       "\n",
       "    .dataframe tbody tr th {\n",
       "        vertical-align: top;\n",
       "    }\n",
       "\n",
       "    .dataframe thead th {\n",
       "        text-align: right;\n",
       "    }\n",
       "</style>\n",
       "<table border=\"1\" class=\"dataframe\">\n",
       "  <thead>\n",
       "    <tr style=\"text-align: right;\">\n",
       "      <th></th>\n",
       "      <th>CUS_ID</th>\n",
       "      <th>Ypred</th>\n",
       "    </tr>\n",
       "  </thead>\n",
       "  <tbody>\n",
       "    <tr>\n",
       "      <td>0</td>\n",
       "      <td>1193</td>\n",
       "      <td>0</td>\n",
       "    </tr>\n",
       "    <tr>\n",
       "      <td>1</td>\n",
       "      <td>1727</td>\n",
       "      <td>0</td>\n",
       "    </tr>\n",
       "    <tr>\n",
       "      <td>2</td>\n",
       "      <td>3293</td>\n",
       "      <td>0</td>\n",
       "    </tr>\n",
       "    <tr>\n",
       "      <td>3</td>\n",
       "      <td>4328</td>\n",
       "      <td>0</td>\n",
       "    </tr>\n",
       "    <tr>\n",
       "      <td>4</td>\n",
       "      <td>5555</td>\n",
       "      <td>0</td>\n",
       "    </tr>\n",
       "  </tbody>\n",
       "</table>\n",
       "</div>"
      ],
      "text/plain": [
       "   CUS_ID  Ypred\n",
       "0    1193      0\n",
       "1    1727      0\n",
       "2    3293      0\n",
       "3    4328      0\n",
       "4    5555      0"
      ]
     },
     "execution_count": 57,
     "metadata": {},
     "output_type": "execute_result"
    }
   ],
   "source": [
    "submit.head()"
   ]
  },
  {
   "cell_type": "code",
   "execution_count": 58,
   "metadata": {
    "ExecuteTime": {
     "end_time": "2019-09-11T05:26:11.962075Z",
     "start_time": "2019-09-11T05:26:11.959841Z"
    }
   },
   "outputs": [],
   "source": [
    "submit.Ypred = result"
   ]
  },
  {
   "cell_type": "code",
   "execution_count": 60,
   "metadata": {
    "ExecuteTime": {
     "end_time": "2019-09-11T05:26:21.840824Z",
     "start_time": "2019-09-11T05:26:21.836509Z"
    }
   },
   "outputs": [
    {
     "data": {
      "text/html": [
       "<div>\n",
       "<style scoped>\n",
       "    .dataframe tbody tr th:only-of-type {\n",
       "        vertical-align: middle;\n",
       "    }\n",
       "\n",
       "    .dataframe tbody tr th {\n",
       "        vertical-align: top;\n",
       "    }\n",
       "\n",
       "    .dataframe thead th {\n",
       "        text-align: right;\n",
       "    }\n",
       "</style>\n",
       "<table border=\"1\" class=\"dataframe\">\n",
       "  <thead>\n",
       "    <tr style=\"text-align: right;\">\n",
       "      <th></th>\n",
       "      <th>CUS_ID</th>\n",
       "      <th>Ypred</th>\n",
       "    </tr>\n",
       "  </thead>\n",
       "  <tbody>\n",
       "    <tr>\n",
       "      <td>0</td>\n",
       "      <td>1193</td>\n",
       "      <td>1</td>\n",
       "    </tr>\n",
       "    <tr>\n",
       "      <td>1</td>\n",
       "      <td>1727</td>\n",
       "      <td>1</td>\n",
       "    </tr>\n",
       "    <tr>\n",
       "      <td>2</td>\n",
       "      <td>3293</td>\n",
       "      <td>1</td>\n",
       "    </tr>\n",
       "    <tr>\n",
       "      <td>3</td>\n",
       "      <td>4328</td>\n",
       "      <td>1</td>\n",
       "    </tr>\n",
       "    <tr>\n",
       "      <td>4</td>\n",
       "      <td>5555</td>\n",
       "      <td>1</td>\n",
       "    </tr>\n",
       "  </tbody>\n",
       "</table>\n",
       "</div>"
      ],
      "text/plain": [
       "   CUS_ID  Ypred\n",
       "0    1193      1\n",
       "1    1727      1\n",
       "2    3293      1\n",
       "3    4328      1\n",
       "4    5555      1"
      ]
     },
     "execution_count": 60,
     "metadata": {},
     "output_type": "execute_result"
    }
   ],
   "source": [
    "submit.head()"
   ]
  },
  {
   "cell_type": "code",
   "execution_count": 61,
   "metadata": {
    "ExecuteTime": {
     "end_time": "2019-09-11T05:27:33.667901Z",
     "start_time": "2019-09-11T05:27:33.436146Z"
    }
   },
   "outputs": [],
   "source": [
    "submit.to_csv(\"./result/0911_xgboost_reverse.csv\")"
   ]
  },
  {
   "cell_type": "markdown",
   "metadata": {},
   "source": [
    "成果 0.49"
   ]
  },
  {
   "cell_type": "code",
   "execution_count": null,
   "metadata": {},
   "outputs": [],
   "source": []
  }
 ],
 "metadata": {
  "hide_input": false,
  "kernelspec": {
   "display_name": "gpu",
   "language": "python",
   "name": "gpu"
  },
  "varInspector": {
   "cols": {
    "lenName": 16,
    "lenType": 16,
    "lenVar": 40
   },
   "kernels_config": {
    "python": {
     "delete_cmd_postfix": "",
     "delete_cmd_prefix": "del ",
     "library": "var_list.py",
     "varRefreshCmd": "print(var_dic_list())"
    },
    "r": {
     "delete_cmd_postfix": ") ",
     "delete_cmd_prefix": "rm(",
     "library": "var_list.r",
     "varRefreshCmd": "cat(var_dic_list()) "
    }
   },
   "types_to_exclude": [
    "module",
    "function",
    "builtin_function_or_method",
    "instance",
    "_Feature"
   ],
   "window_display": false
  }
 },
 "nbformat": 4,
 "nbformat_minor": 2
}
