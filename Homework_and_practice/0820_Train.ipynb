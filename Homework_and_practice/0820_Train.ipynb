{
 "cells": [
  {
   "cell_type": "code",
   "execution_count": 1,
   "metadata": {
    "ExecuteTime": {
     "end_time": "2019-08-30T06:33:08.001268Z",
     "start_time": "2019-08-30T06:32:56.162648Z"
    },
    "scrolled": true
   },
   "outputs": [
    {
     "name": "stdout",
     "output_type": "stream",
     "text": [
      "start\n",
      "finish to load data\n"
     ]
    }
   ],
   "source": [
    "import pandas as pd\n",
    "print(\"start\")\n",
    "df = pd.read_csv(\"./Data/processed_data.csv\")\n",
    "df = df[df.n_rating>1000]\n",
    "#df.head()\n",
    "print(\"finish to load data\")"
   ]
  },
  {
   "cell_type": "code",
   "execution_count": 2,
   "metadata": {
    "ExecuteTime": {
     "end_time": "2019-08-30T06:33:08.028343Z",
     "start_time": "2019-08-30T06:33:08.019165Z"
    }
   },
   "outputs": [
    {
     "data": {
      "text/html": [
       "<div>\n",
       "<style scoped>\n",
       "    .dataframe tbody tr th:only-of-type {\n",
       "        vertical-align: middle;\n",
       "    }\n",
       "\n",
       "    .dataframe tbody tr th {\n",
       "        vertical-align: top;\n",
       "    }\n",
       "\n",
       "    .dataframe thead th {\n",
       "        text-align: right;\n",
       "    }\n",
       "</style>\n",
       "<table border=\"1\" class=\"dataframe\">\n",
       "  <thead>\n",
       "    <tr style=\"text-align: right;\">\n",
       "      <th></th>\n",
       "      <th>Unnamed: 0</th>\n",
       "      <th>userId</th>\n",
       "      <th>movieId</th>\n",
       "      <th>rating</th>\n",
       "      <th>title</th>\n",
       "      <th>genres</th>\n",
       "      <th>n_rating</th>\n",
       "      <th>mean_rating</th>\n",
       "    </tr>\n",
       "  </thead>\n",
       "  <tbody>\n",
       "    <tr>\n",
       "      <th>0</th>\n",
       "      <td>0</td>\n",
       "      <td>1</td>\n",
       "      <td>2</td>\n",
       "      <td>3.5</td>\n",
       "      <td>Jumanji (1995)</td>\n",
       "      <td>Adventure|Children|Fantasy</td>\n",
       "      <td>22243</td>\n",
       "      <td>3.211977</td>\n",
       "    </tr>\n",
       "    <tr>\n",
       "      <th>1</th>\n",
       "      <td>1</td>\n",
       "      <td>5</td>\n",
       "      <td>2</td>\n",
       "      <td>3.0</td>\n",
       "      <td>Jumanji (1995)</td>\n",
       "      <td>Adventure|Children|Fantasy</td>\n",
       "      <td>22243</td>\n",
       "      <td>3.211977</td>\n",
       "    </tr>\n",
       "    <tr>\n",
       "      <th>2</th>\n",
       "      <td>2</td>\n",
       "      <td>13</td>\n",
       "      <td>2</td>\n",
       "      <td>3.0</td>\n",
       "      <td>Jumanji (1995)</td>\n",
       "      <td>Adventure|Children|Fantasy</td>\n",
       "      <td>22243</td>\n",
       "      <td>3.211977</td>\n",
       "    </tr>\n",
       "    <tr>\n",
       "      <th>3</th>\n",
       "      <td>3</td>\n",
       "      <td>29</td>\n",
       "      <td>2</td>\n",
       "      <td>3.0</td>\n",
       "      <td>Jumanji (1995)</td>\n",
       "      <td>Adventure|Children|Fantasy</td>\n",
       "      <td>22243</td>\n",
       "      <td>3.211977</td>\n",
       "    </tr>\n",
       "    <tr>\n",
       "      <th>4</th>\n",
       "      <td>4</td>\n",
       "      <td>34</td>\n",
       "      <td>2</td>\n",
       "      <td>3.0</td>\n",
       "      <td>Jumanji (1995)</td>\n",
       "      <td>Adventure|Children|Fantasy</td>\n",
       "      <td>22243</td>\n",
       "      <td>3.211977</td>\n",
       "    </tr>\n",
       "  </tbody>\n",
       "</table>\n",
       "</div>"
      ],
      "text/plain": [
       "   Unnamed: 0  userId  movieId  rating           title  \\\n",
       "0           0       1        2     3.5  Jumanji (1995)   \n",
       "1           1       5        2     3.0  Jumanji (1995)   \n",
       "2           2      13        2     3.0  Jumanji (1995)   \n",
       "3           3      29        2     3.0  Jumanji (1995)   \n",
       "4           4      34        2     3.0  Jumanji (1995)   \n",
       "\n",
       "                       genres  n_rating  mean_rating  \n",
       "0  Adventure|Children|Fantasy     22243     3.211977  \n",
       "1  Adventure|Children|Fantasy     22243     3.211977  \n",
       "2  Adventure|Children|Fantasy     22243     3.211977  \n",
       "3  Adventure|Children|Fantasy     22243     3.211977  \n",
       "4  Adventure|Children|Fantasy     22243     3.211977  "
      ]
     },
     "execution_count": 2,
     "metadata": {},
     "output_type": "execute_result"
    }
   ],
   "source": [
    "df.head()"
   ]
  },
  {
   "cell_type": "code",
   "execution_count": 3,
   "metadata": {
    "ExecuteTime": {
     "end_time": "2019-08-30T06:33:08.109334Z",
     "start_time": "2019-08-30T06:33:08.044068Z"
    }
   },
   "outputs": [],
   "source": [
    "import requests\n",
    "def telegram_bot_sendtext(bot_message):\n",
    "    \n",
    "    bot_token = '661544421:AAHuZSMukZmFlhU-npE23CowogP375a0au4'\n",
    "    bot_chatID = '-225157366'\n",
    "    send_text = 'https://api.telegram.org/bot' + bot_token + '/sendMessage?chat_id=' + bot_chatID + '&parse_mode=Markdown&text=' + bot_message\n",
    "\n",
    "    response = requests.get(send_text)\n",
    "\n",
    "    return response.json()\n"
   ]
  },
  {
   "cell_type": "code",
   "execution_count": 4,
   "metadata": {
    "ExecuteTime": {
     "end_time": "2019-08-30T06:33:08.675647Z",
     "start_time": "2019-08-30T06:33:08.145210Z"
    }
   },
   "outputs": [
    {
     "name": "stderr",
     "output_type": "stream",
     "text": [
      "/home/fio/anaconda3/lib/python3.6/site-packages/h5py/__init__.py:36: FutureWarning: Conversion of the second argument of issubdtype from `float` to `np.floating` is deprecated. In future, it will be treated as `np.float64 == np.dtype(float).type`.\n",
      "  from ._conv import register_converters as _register_converters\n",
      "Using TensorFlow backend.\n"
     ]
    }
   ],
   "source": [
    "import numpy as np\n",
    "import keras\n",
    "import tensorflow as tf\n"
   ]
  },
  {
   "cell_type": "code",
   "execution_count": 5,
   "metadata": {
    "ExecuteTime": {
     "end_time": "2019-08-30T06:33:08.695141Z",
     "start_time": "2019-08-30T06:33:08.693905Z"
    }
   },
   "outputs": [],
   "source": [
    "#del user_input, movie_input, Embedd_movies, Embedd_user\n",
    "#model = keras.models.load_model(\"300_drop03.h5\")"
   ]
  },
  {
   "cell_type": "code",
   "execution_count": 6,
   "metadata": {
    "ExecuteTime": {
     "end_time": "2019-08-30T06:33:08.923312Z",
     "start_time": "2019-08-30T06:33:08.711545Z"
    }
   },
   "outputs": [],
   "source": [
    "user_input = keras.Input(shape = (1,), name = \"user_id\")\n",
    "movie_input = keras.Input(shape = (1,), name = \"movie_id\")\n",
    "Embedd_user = keras.layers.Embedding(df.userId.max()+10,300, name=\"Embedd_user\")(user_input)\n",
    "Embedd_movies = keras.layers.Embedding(df.movieId.max()+10,300, name=\"Embedd_movies\")(movie_input)\n",
    "Dot = keras.layers.Dot(2)([Embedd_user,Embedd_movies])\n",
    "Flatten = keras.layers.Flatten()(Dot)"
   ]
  },
  {
   "cell_type": "code",
   "execution_count": 15,
   "metadata": {
    "ExecuteTime": {
     "end_time": "2019-08-30T07:59:48.513966Z",
     "start_time": "2019-08-30T07:59:48.508237Z"
    }
   },
   "outputs": [],
   "source": [
    "\n",
    "del user_input, movie_input, Embedd_movies, Embedd_user, Dot\n"
   ]
  },
  {
   "cell_type": "code",
   "execution_count": 16,
   "metadata": {
    "ExecuteTime": {
     "end_time": "2019-08-30T07:59:48.922743Z",
     "start_time": "2019-08-30T07:59:48.682960Z"
    }
   },
   "outputs": [
    {
     "name": "stdout",
     "output_type": "stream",
     "text": [
      "Model: \"model_2\"\n",
      "__________________________________________________________________________________________________\n",
      "Layer (type)                    Output Shape         Param #     Connected to                     \n",
      "==================================================================================================\n",
      "user_id (InputLayer)            (None, 1)            0                                            \n",
      "__________________________________________________________________________________________________\n",
      "movie_id (InputLayer)           (None, 1)            0                                            \n",
      "__________________________________________________________________________________________________\n",
      "Embedd_user (Embedding)         (None, 1, 300)       41550900    user_id[0][0]                    \n",
      "__________________________________________________________________________________________________\n",
      "Embedd_movies (Embedding)       (None, 1, 300)       33858600    movie_id[0][0]                   \n",
      "__________________________________________________________________________________________________\n",
      "Dropout_user (Dropout)          (None, 1, 300)       0           Embedd_user[0][0]                \n",
      "__________________________________________________________________________________________________\n",
      "Dropout_movie (Dropout)         (None, 1, 300)       0           Embedd_movies[0][0]              \n",
      "__________________________________________________________________________________________________\n",
      "dot_3 (Dot)                     (None, 1, 1)         0           Dropout_user[0][0]               \n",
      "                                                                 Dropout_movie[0][0]              \n",
      "__________________________________________________________________________________________________\n",
      "flatten_3 (Flatten)             (None, 1)            0           dot_3[0][0]                      \n",
      "==================================================================================================\n",
      "Total params: 75,409,500\n",
      "Trainable params: 75,409,500\n",
      "Non-trainable params: 0\n",
      "__________________________________________________________________________________________________\n"
     ]
    }
   ],
   "source": [
    "\n",
    "movie_r12n = keras.regularizers.l2(1e-6)\n",
    "user_r12n = keras.regularizers.l2(1e-7)\n",
    "movie_r12n = None\n",
    "user_r12n = None\n",
    "\n",
    "user_input = keras.Input(shape = (1,), name = \"user_id\")\n",
    "movie_input = keras.Input(shape = (1,), name = \"movie_id\")\n",
    "mean_rate = keras.Input(shape = (1,), name = \"mean_rate\")\n",
    "Embedd_user = keras.layers.Embedding(df.userId.max()+10,300, name=\"Embedd_user\",\n",
    "                                     input_length=1, embeddings_regularizer= movie_r12n)(user_input)\n",
    "Embedd_movies = keras.layers.Embedding(df.movieId.max()+10,300, name=\"Embedd_movies\", \n",
    "                                       input_length=1, embeddings_regularizer= user_r12n)(movie_input)\n",
    "user_dropout = keras.layers.Dropout(0.3, name=\"Dropout_user\")(Embedd_user)\n",
    "movie_dropout = keras.layers.Dropout(0.3, name=\"Dropout_movie\")(Embedd_movies)\n",
    "Dot = keras.layers.Dot(2)([user_dropout, movie_dropout])\n",
    "Flatten = keras.layers.Flatten()(Dot)\n",
    "model = keras.Model(\n",
    "    inputs = [user_input, movie_input],\n",
    "    outputs = Flatten\n",
    ")\n",
    "\n",
    "model.summary()\n"
   ]
  },
  {
   "cell_type": "code",
   "execution_count": 6,
   "metadata": {
    "ExecuteTime": {
     "end_time": "2019-08-20T06:03:02.574840Z",
     "start_time": "2019-08-20T06:03:02.364194Z"
    }
   },
   "outputs": [
    {
     "name": "stdout",
     "output_type": "stream",
     "text": [
      "__________________________________________________________________________________________________\n",
      "Layer (type)                    Output Shape         Param #     Connected to                     \n",
      "==================================================================================================\n",
      "user_id (InputLayer)            (None, 1)            0                                            \n",
      "__________________________________________________________________________________________________\n",
      "movie_id (InputLayer)           (None, 1)            0                                            \n",
      "__________________________________________________________________________________________________\n",
      "Embedd_user (Embedding)         (None, 1, 300)       41550900    user_id[0][0]                    \n",
      "__________________________________________________________________________________________________\n",
      "Embedd_movies (Embedding)       (None, 1, 300)       33858600    movie_id[0][0]                   \n",
      "__________________________________________________________________________________________________\n",
      "Dropout_user (Dropout)          (None, 1, 300)       0           Embedd_user[0][0]                \n",
      "__________________________________________________________________________________________________\n",
      "Dropout_movie (Dropout)         (None, 1, 300)       0           Embedd_movies[0][0]              \n",
      "__________________________________________________________________________________________________\n",
      "dot_2 (Dot)                     (None, 1, 1)         0           Dropout_user[0][0]               \n",
      "                                                                 Dropout_movie[0][0]              \n",
      "__________________________________________________________________________________________________\n",
      "flatten_2 (Flatten)             (None, 1)            0           dot_2[0][0]                      \n",
      "__________________________________________________________________________________________________\n",
      "mean_rate (InputLayer)          (None, 1)            0                                            \n",
      "__________________________________________________________________________________________________\n",
      "add_1 (Add)                     (None, 1)            0           flatten_2[0][0]                  \n",
      "                                                                 mean_rate[0][0]                  \n",
      "==================================================================================================\n",
      "Total params: 75,409,500\n",
      "Trainable params: 75,409,500\n",
      "Non-trainable params: 0\n",
      "__________________________________________________________________________________________________\n"
     ]
    }
   ],
   "source": [
    "\n",
    "movie_r12n = keras.regularizers.l2(1e-6)\n",
    "user_r12n = keras.regularizers.l2(1e-7)\n",
    "movie_r12n = None\n",
    "user_r12n = None\n",
    "\n",
    "user_input = keras.Input(shape = (1,), name = \"user_id\")\n",
    "movie_input = keras.Input(shape = (1,), name = \"movie_id\")\n",
    "mean_rate = keras.Input(shape = (1,), name = \"mean_rate\")\n",
    "Embedd_user = keras.layers.Embedding(df.userId.max()+10,300, name=\"Embedd_user\",\n",
    "                                     input_length=1, embeddings_regularizer= movie_r12n)(user_input)\n",
    "Embedd_movies = keras.layers.Embedding(df.movieId.max()+10,300, name=\"Embedd_movies\", \n",
    "                                       input_length=1, embeddings_regularizer= user_r12n)(movie_input)\n",
    "user_dropout = keras.layers.Dropout(0.3, name=\"Dropout_user\")(Embedd_user)\n",
    "movie_dropout = keras.layers.Dropout(0.3, name=\"Dropout_movie\")(Embedd_movies)\n",
    "Dot = keras.layers.Dot(2)([user_dropout, movie_dropout])\n",
    "Flatten = keras.layers.Flatten()(Dot)\n",
    "Out = keras.layers.Add()([Flatten, mean_rate])\n",
    "model = keras.Model(\n",
    "    inputs = [user_input, movie_input, mean_rate],\n",
    "    outputs = Out\n",
    ")\n",
    "\n",
    "model.summary()\n"
   ]
  },
  {
   "cell_type": "code",
   "execution_count": 66,
   "metadata": {
    "ExecuteTime": {
     "end_time": "2019-08-21T07:16:14.292784Z",
     "start_time": "2019-08-21T07:16:14.068681Z"
    }
   },
   "outputs": [
    {
     "name": "stdout",
     "output_type": "stream",
     "text": [
      "__________________________________________________________________________________________________\n",
      "Layer (type)                    Output Shape         Param #     Connected to                     \n",
      "==================================================================================================\n",
      "user_id (InputLayer)            (None, 1)            0                                            \n",
      "__________________________________________________________________________________________________\n",
      "movie_id (InputLayer)           (None, 1)            0                                            \n",
      "__________________________________________________________________________________________________\n",
      "Embedd_user (Embedding)         (None, 1, 30)        4155090     user_id[0][0]                    \n",
      "__________________________________________________________________________________________________\n",
      "Embedd_movies (Embedding)       (None, 1, 30)        3385860     movie_id[0][0]                   \n",
      "__________________________________________________________________________________________________\n",
      "Dropout_user (Dropout)          (None, 1, 30)        0           Embedd_user[0][0]                \n",
      "__________________________________________________________________________________________________\n",
      "Dropout_movie (Dropout)         (None, 1, 30)        0           Embedd_movies[0][0]              \n",
      "__________________________________________________________________________________________________\n",
      "concatenate (Concatenate)       (None, 1, 60)        0           Dropout_user[0][0]               \n",
      "                                                                 Dropout_movie[0][0]              \n",
      "__________________________________________________________________________________________________\n",
      "flatten_12 (Flatten)            (None, 60)           0           concatenate[0][0]                \n",
      "__________________________________________________________________________________________________\n",
      "dense_19 (Dense)                (None, 200)          12200       flatten_12[0][0]                 \n",
      "__________________________________________________________________________________________________\n",
      "dense_20 (Dense)                (None, 100)          20100       dense_19[0][0]                   \n",
      "__________________________________________________________________________________________________\n",
      "dense_21 (Dense)                (None, 1)            101         dense_20[0][0]                   \n",
      "==================================================================================================\n",
      "Total params: 7,573,351\n",
      "Trainable params: 7,573,351\n",
      "Non-trainable params: 0\n",
      "__________________________________________________________________________________________________\n"
     ]
    }
   ],
   "source": [
    "\n",
    "movie_r12n = keras.regularizers.l2(1e-6)\n",
    "user_r12n = keras.regularizers.l2(1e-7)\n",
    "movie_r12n = None\n",
    "user_r12n = None\n",
    "\n",
    "user_input = keras.Input(shape = (1,), name = \"user_id\")\n",
    "movie_input = keras.Input(shape = (1,), name = \"movie_id\")\n",
    "mean_rate = keras.Input(shape = (1,), name = \"mean_rate\")\n",
    "Embedd_user = keras.layers.Embedding(df.userId.max()+10,30, name=\"Embedd_user\",\n",
    "                                     input_length=1, embeddings_regularizer= movie_r12n)(user_input)\n",
    "Embedd_movies = keras.layers.Embedding(df.movieId.max()+10,30, name=\"Embedd_movies\", \n",
    "                                       input_length=1, embeddings_regularizer= user_r12n)(movie_input)\n",
    "Embedd_user = keras.layers.Dropout(0.3, name=\"Dropout_user\")(Embedd_user)\n",
    "Embedd_movies = keras.layers.Dropout(0.3, name=\"Dropout_movie\")(Embedd_movies)\n",
    "concatenate = keras.layers.concatenate([Embedd_user, Embedd_movies], name = 'concatenate')\n",
    "out = keras.layers.Flatten()(concatenate)\n",
    "for i in [200,100,1]:\n",
    "    out = keras.layers.Dense(i, activation='relu')(out)\n",
    "#Dot = keras.layers.Dot(2)([user_dropout, movie_dropout])\n",
    "#Flatten = keras.layers.Flatten()(Dot)\n",
    "model = keras.Model(\n",
    "    inputs = [user_input, movie_input],\n",
    "    outputs = out\n",
    ")\n",
    "\n",
    "model.summary()\n"
   ]
  },
  {
   "cell_type": "code",
   "execution_count": 21,
   "metadata": {
    "ExecuteTime": {
     "end_time": "2019-08-30T08:00:53.431183Z",
     "start_time": "2019-08-30T08:00:53.411473Z"
    }
   },
   "outputs": [],
   "source": [
    "\n",
    "model.compile(\n",
    "    # Technical note: when using embedding layers, I highly recommend using one of the optimizers\n",
    "    # found  in tf.train: https://www.tensorflow.org/api_guides/python/train#Optimizers\n",
    "    # Passing in a string like 'adam' or 'SGD' will load one of keras's optimizers (found under \n",
    "    # tf.keras.optimizers). They seem to be much slower on problems like this, because they\n",
    "    # don't efficiently handle sparse gradient updates.\n",
    "    tf.train.AdamOptimizer(0.005),\n",
    "    loss='MSE',\n",
    "    metrics=['MAE'],\n",
    ")\n"
   ]
  },
  {
   "cell_type": "code",
   "execution_count": 10,
   "metadata": {
    "ExecuteTime": {
     "end_time": "2019-08-30T06:33:16.719771Z",
     "start_time": "2019-08-30T06:33:16.710000Z"
    }
   },
   "outputs": [
    {
     "name": "stdout",
     "output_type": "stream",
     "text": [
      "Model: \"model_1\"\n",
      "__________________________________________________________________________________________________\n",
      "Layer (type)                    Output Shape         Param #     Connected to                     \n",
      "==================================================================================================\n",
      "user_id (InputLayer)            (None, 1)            0                                            \n",
      "__________________________________________________________________________________________________\n",
      "movie_id (InputLayer)           (None, 1)            0                                            \n",
      "__________________________________________________________________________________________________\n",
      "Embedd_user (Embedding)         (None, 1, 300)       41550900    user_id[0][0]                    \n",
      "__________________________________________________________________________________________________\n",
      "Embedd_movies (Embedding)       (None, 1, 300)       33858600    movie_id[0][0]                   \n",
      "__________________________________________________________________________________________________\n",
      "Dropout_user (Dropout)          (None, 1, 300)       0           Embedd_user[0][0]                \n",
      "__________________________________________________________________________________________________\n",
      "Dropout_movie (Dropout)         (None, 1, 300)       0           Embedd_movies[0][0]              \n",
      "__________________________________________________________________________________________________\n",
      "dot_2 (Dot)                     (None, 1, 1)         0           Dropout_user[0][0]               \n",
      "                                                                 Dropout_movie[0][0]              \n",
      "__________________________________________________________________________________________________\n",
      "flatten_2 (Flatten)             (None, 1)            0           dot_2[0][0]                      \n",
      "==================================================================================================\n",
      "Total params: 75,409,500\n",
      "Trainable params: 75,409,500\n",
      "Non-trainable params: 0\n",
      "__________________________________________________________________________________________________\n"
     ]
    }
   ],
   "source": [
    "model.summary()"
   ]
  },
  {
   "cell_type": "code",
   "execution_count": 11,
   "metadata": {
    "ExecuteTime": {
     "end_time": "2019-08-30T06:33:19.103083Z",
     "start_time": "2019-08-30T06:33:19.094371Z"
    }
   },
   "outputs": [
    {
     "data": {
      "text/html": [
       "<div>\n",
       "<style scoped>\n",
       "    .dataframe tbody tr th:only-of-type {\n",
       "        vertical-align: middle;\n",
       "    }\n",
       "\n",
       "    .dataframe tbody tr th {\n",
       "        vertical-align: top;\n",
       "    }\n",
       "\n",
       "    .dataframe thead th {\n",
       "        text-align: right;\n",
       "    }\n",
       "</style>\n",
       "<table border=\"1\" class=\"dataframe\">\n",
       "  <thead>\n",
       "    <tr style=\"text-align: right;\">\n",
       "      <th></th>\n",
       "      <th>Unnamed: 0</th>\n",
       "      <th>userId</th>\n",
       "      <th>movieId</th>\n",
       "      <th>rating</th>\n",
       "      <th>title</th>\n",
       "      <th>genres</th>\n",
       "      <th>n_rating</th>\n",
       "      <th>mean_rating</th>\n",
       "    </tr>\n",
       "  </thead>\n",
       "  <tbody>\n",
       "    <tr>\n",
       "      <th>0</th>\n",
       "      <td>0</td>\n",
       "      <td>1</td>\n",
       "      <td>2</td>\n",
       "      <td>3.5</td>\n",
       "      <td>Jumanji (1995)</td>\n",
       "      <td>Adventure|Children|Fantasy</td>\n",
       "      <td>22243</td>\n",
       "      <td>3.211977</td>\n",
       "    </tr>\n",
       "    <tr>\n",
       "      <th>1</th>\n",
       "      <td>1</td>\n",
       "      <td>5</td>\n",
       "      <td>2</td>\n",
       "      <td>3.0</td>\n",
       "      <td>Jumanji (1995)</td>\n",
       "      <td>Adventure|Children|Fantasy</td>\n",
       "      <td>22243</td>\n",
       "      <td>3.211977</td>\n",
       "    </tr>\n",
       "    <tr>\n",
       "      <th>2</th>\n",
       "      <td>2</td>\n",
       "      <td>13</td>\n",
       "      <td>2</td>\n",
       "      <td>3.0</td>\n",
       "      <td>Jumanji (1995)</td>\n",
       "      <td>Adventure|Children|Fantasy</td>\n",
       "      <td>22243</td>\n",
       "      <td>3.211977</td>\n",
       "    </tr>\n",
       "    <tr>\n",
       "      <th>3</th>\n",
       "      <td>3</td>\n",
       "      <td>29</td>\n",
       "      <td>2</td>\n",
       "      <td>3.0</td>\n",
       "      <td>Jumanji (1995)</td>\n",
       "      <td>Adventure|Children|Fantasy</td>\n",
       "      <td>22243</td>\n",
       "      <td>3.211977</td>\n",
       "    </tr>\n",
       "    <tr>\n",
       "      <th>4</th>\n",
       "      <td>4</td>\n",
       "      <td>34</td>\n",
       "      <td>2</td>\n",
       "      <td>3.0</td>\n",
       "      <td>Jumanji (1995)</td>\n",
       "      <td>Adventure|Children|Fantasy</td>\n",
       "      <td>22243</td>\n",
       "      <td>3.211977</td>\n",
       "    </tr>\n",
       "  </tbody>\n",
       "</table>\n",
       "</div>"
      ],
      "text/plain": [
       "   Unnamed: 0  userId  movieId  rating           title  \\\n",
       "0           0       1        2     3.5  Jumanji (1995)   \n",
       "1           1       5        2     3.0  Jumanji (1995)   \n",
       "2           2      13        2     3.0  Jumanji (1995)   \n",
       "3           3      29        2     3.0  Jumanji (1995)   \n",
       "4           4      34        2     3.0  Jumanji (1995)   \n",
       "\n",
       "                       genres  n_rating  mean_rating  \n",
       "0  Adventure|Children|Fantasy     22243     3.211977  \n",
       "1  Adventure|Children|Fantasy     22243     3.211977  \n",
       "2  Adventure|Children|Fantasy     22243     3.211977  \n",
       "3  Adventure|Children|Fantasy     22243     3.211977  \n",
       "4  Adventure|Children|Fantasy     22243     3.211977  "
      ]
     },
     "execution_count": 11,
     "metadata": {},
     "output_type": "execute_result"
    }
   ],
   "source": [
    "df.head()"
   ]
  },
  {
   "cell_type": "code",
   "execution_count": 20,
   "metadata": {
    "ExecuteTime": {
     "end_time": "2019-08-30T08:00:47.821627Z",
     "start_time": "2019-08-30T08:00:45.715695Z"
    }
   },
   "outputs": [
    {
     "data": {
      "text/plain": [
       "(5329654,)"
      ]
     },
     "execution_count": 20,
     "metadata": {},
     "output_type": "execute_result"
    }
   ],
   "source": [
    "from sklearn.model_selection import train_test_split\n",
    "u_train, u_test, m_train, m_test, r_train, r_test , mr_train, mr_test= train_test_split(df.userId, df.movieId, df.rating,\n",
    "                                                                                        df.mean_rating,\n",
    "                                                                     test_size= 0.7,\n",
    "                                                                    random_state = 87)\n",
    "r_train.shape"
   ]
  },
  {
   "cell_type": "code",
   "execution_count": 45,
   "metadata": {
    "ExecuteTime": {
     "end_time": "2019-08-30T04:14:46.169049Z",
     "start_time": "2019-08-30T04:14:46.164186Z"
    }
   },
   "outputs": [
    {
     "data": {
      "text/plain": [
       "'import tensorflow as tf\\nfrom tensorflow.python import debug as tf_debug\\nimport keras\\nrun_metadata = tf.RunMetadata()\\nkeras.backend.set_session(\\n    tf_debug.TensorBoardDebugWrapperSession(tf.Session(), \"fio:6007\"))'"
      ]
     },
     "execution_count": 45,
     "metadata": {},
     "output_type": "execute_result"
    }
   ],
   "source": [
    "\n",
    "'''import tensorflow as tf\n",
    "from tensorflow.python import debug as tf_debug\n",
    "import keras\n",
    "run_metadata = tf.RunMetadata()\n",
    "keras.backend.set_session(\n",
    "    tf_debug.TensorBoardDebugWrapperSession(tf.Session(), \"fio:6007\"))'''\n"
   ]
  },
  {
   "cell_type": "code",
   "execution_count": 13,
   "metadata": {
    "ExecuteTime": {
     "end_time": "2019-08-30T06:33:34.455342Z",
     "start_time": "2019-08-30T06:33:32.459703Z"
    }
   },
   "outputs": [],
   "source": [
    "from keras.callbacks import TensorBoard\n",
    "import time\n",
    "from time import time as currentTime\n",
    "import tensorflow as tf\n",
    "tensorboard = TensorBoard(log_dir=\"logs/{}\".format(currentTime()))"
   ]
  },
  {
   "cell_type": "code",
   "execution_count": 22,
   "metadata": {
    "ExecuteTime": {
     "end_time": "2019-08-30T08:03:08.019193Z",
     "start_time": "2019-08-30T08:00:57.191405Z"
    }
   },
   "outputs": [
    {
     "name": "stdout",
     "output_type": "stream",
     "text": [
      "Train on 5329654 samples, validate on 12435862 samples\n",
      "Epoch 1/20\n",
      "5329654/5329654 [==============================] - 7s 1us/step - loss: 10.7867 - mean_absolute_error: 3.0192 - val_loss: 2.2303 - val_mean_absolute_error: 1.1948\n",
      "Epoch 2/20\n",
      "5329654/5329654 [==============================] - 6s 1us/step - loss: 1.1622 - mean_absolute_error: 0.8343 - val_loss: 0.7927 - val_mean_absolute_error: 0.6890\n",
      "Epoch 3/20\n",
      "5329654/5329654 [==============================] - 6s 1us/step - loss: 0.7991 - mean_absolute_error: 0.6957 - val_loss: 0.7487 - val_mean_absolute_error: 0.6681\n",
      "Epoch 4/20\n",
      "5329654/5329654 [==============================] - 7s 1us/step - loss: 0.7287 - mean_absolute_error: 0.6642 - val_loss: 0.7270 - val_mean_absolute_error: 0.6584\n",
      "Epoch 5/20\n",
      "5329654/5329654 [==============================] - 7s 1us/step - loss: 0.6597 - mean_absolute_error: 0.6325 - val_loss: 0.7184 - val_mean_absolute_error: 0.6545\n",
      "Epoch 6/20\n",
      "5329654/5329654 [==============================] - 6s 1us/step - loss: 0.5970 - mean_absolute_error: 0.6023 - val_loss: 0.7179 - val_mean_absolute_error: 0.6543\n",
      "Epoch 7/20\n",
      "5329654/5329654 [==============================] - 6s 1us/step - loss: 0.5478 - mean_absolute_error: 0.5775 - val_loss: 0.7211 - val_mean_absolute_error: 0.6559\n",
      "Epoch 8/20\n",
      "5329654/5329654 [==============================] - 6s 1us/step - loss: 0.5129 - mean_absolute_error: 0.5593 - val_loss: 0.7253 - val_mean_absolute_error: 0.6581\n",
      "Epoch 9/20\n",
      "5329654/5329654 [==============================] - 7s 1us/step - loss: 0.4889 - mean_absolute_error: 0.5469 - val_loss: 0.7278 - val_mean_absolute_error: 0.6592\n",
      "Epoch 10/20\n",
      "5329654/5329654 [==============================] - 7s 1us/step - loss: 0.4715 - mean_absolute_error: 0.5378 - val_loss: 0.7302 - val_mean_absolute_error: 0.6604\n",
      "Epoch 11/20\n",
      "5329654/5329654 [==============================] - 7s 1us/step - loss: 0.4588 - mean_absolute_error: 0.5311 - val_loss: 0.7314 - val_mean_absolute_error: 0.6610\n",
      "Epoch 12/20\n",
      "5329654/5329654 [==============================] - 7s 1us/step - loss: 0.4487 - mean_absolute_error: 0.5257 - val_loss: 0.7310 - val_mean_absolute_error: 0.6605\n",
      "Epoch 13/20\n",
      "5329654/5329654 [==============================] - 6s 1us/step - loss: 0.4415 - mean_absolute_error: 0.5217 - val_loss: 0.7320 - val_mean_absolute_error: 0.6611\n",
      "Epoch 14/20\n",
      "5329654/5329654 [==============================] - 6s 1us/step - loss: 0.4351 - mean_absolute_error: 0.5183 - val_loss: 0.7315 - val_mean_absolute_error: 0.6608\n",
      "Epoch 15/20\n",
      "5329654/5329654 [==============================] - 7s 1us/step - loss: 0.4296 - mean_absolute_error: 0.5152 - val_loss: 0.7312 - val_mean_absolute_error: 0.6607\n",
      "Epoch 16/20\n",
      "5329654/5329654 [==============================] - 6s 1us/step - loss: 0.4253 - mean_absolute_error: 0.5128 - val_loss: 0.7304 - val_mean_absolute_error: 0.6602\n",
      "Epoch 17/20\n",
      "5329654/5329654 [==============================] - 6s 1us/step - loss: 0.4215 - mean_absolute_error: 0.5107 - val_loss: 0.7306 - val_mean_absolute_error: 0.6604\n",
      "Epoch 18/20\n",
      "5329654/5329654 [==============================] - 7s 1us/step - loss: 0.4177 - mean_absolute_error: 0.5086 - val_loss: 0.7294 - val_mean_absolute_error: 0.6596\n",
      "Epoch 19/20\n",
      "5329654/5329654 [==============================] - 7s 1us/step - loss: 0.4149 - mean_absolute_error: 0.5069 - val_loss: 0.7288 - val_mean_absolute_error: 0.6593\n",
      "Epoch 20/20\n",
      "5329654/5329654 [==============================] - 7s 1us/step - loss: 0.4123 - mean_absolute_error: 0.5053 - val_loss: 0.7280 - val_mean_absolute_error: 0.6589\n"
     ]
    }
   ],
   "source": [
    "\n",
    "history = model.fit([u_train, m_train], r_train, batch_size= 100000, epochs=20,\n",
    "    verbose=1, callbacks = [tensorboard], validation_data=([u_test, m_test], r_test))\n",
    " #\n"
   ]
  },
  {
   "cell_type": "code",
   "execution_count": 11,
   "metadata": {
    "ExecuteTime": {
     "end_time": "2019-08-20T06:05:19.142667Z",
     "start_time": "2019-08-20T06:03:05.377683Z"
    },
    "scrolled": true
   },
   "outputs": [
    {
     "name": "stdout",
     "output_type": "stream",
     "text": [
      "Train on 17676688 samples, validate on 88828 samples\n",
      "Epoch 1/10\n",
      "17676688/17676688 [==============================] - 15s 1us/step - loss: 0.7607 - mean_absolute_error: 0.6704 - val_loss: 0.6434 - val_mean_absolute_error: 0.6101\n",
      "Epoch 2/10\n",
      "17676688/17676688 [==============================] - 13s 1us/step - loss: 0.5758 - mean_absolute_error: 0.5791 - val_loss: 0.6109 - val_mean_absolute_error: 0.5948\n",
      "Epoch 3/10\n",
      "17676688/17676688 [==============================] - 13s 1us/step - loss: 0.4884 - mean_absolute_error: 0.5350 - val_loss: 0.6113 - val_mean_absolute_error: 0.5948\n",
      "Epoch 4/10\n",
      "17676688/17676688 [==============================] - 13s 1us/step - loss: 0.4445 - mean_absolute_error: 0.5117 - val_loss: 0.6129 - val_mean_absolute_error: 0.5957\n",
      "Epoch 5/10\n",
      "17676688/17676688 [==============================] - 13s 1us/step - loss: 0.4209 - mean_absolute_error: 0.4984 - val_loss: 0.6150 - val_mean_absolute_error: 0.5969\n",
      "Epoch 6/10\n",
      "17676688/17676688 [==============================] - 13s 1us/step - loss: 0.4067 - mean_absolute_error: 0.4901 - val_loss: 0.6145 - val_mean_absolute_error: 0.5966\n",
      "Epoch 7/10\n",
      "17676688/17676688 [==============================] - 13s 1us/step - loss: 0.3965 - mean_absolute_error: 0.4840 - val_loss: 0.6135 - val_mean_absolute_error: 0.5960\n",
      "Epoch 8/10\n",
      "17676688/17676688 [==============================] - 13s 1us/step - loss: 0.3894 - mean_absolute_error: 0.4796 - val_loss: 0.6144 - val_mean_absolute_error: 0.5956\n",
      "Epoch 9/10\n",
      "17676688/17676688 [==============================] - 13s 1us/step - loss: 0.3839 - mean_absolute_error: 0.4762 - val_loss: 0.6139 - val_mean_absolute_error: 0.5954\n",
      "Epoch 10/10\n",
      "17676688/17676688 [==============================] - 13s 1us/step - loss: 0.3796 - mean_absolute_error: 0.4734 - val_loss: 0.6124 - val_mean_absolute_error: 0.5950\n"
     ]
    }
   ],
   "source": [
    "\n",
    "history = model.fit([u_train, m_train, mr_train], r_train, batch_size= 100000, epochs=10,\n",
    "    verbose=1, callbacks = None, validation_data=([u_test, m_test, mr_test], r_test))\n",
    " #\n"
   ]
  },
  {
   "cell_type": "code",
   "execution_count": 14,
   "metadata": {
    "ExecuteTime": {
     "end_time": "2019-08-30T03:58:50.278871Z",
     "start_time": "2019-08-30T03:58:50.276989Z"
    }
   },
   "outputs": [
    {
     "data": {
      "text/plain": [
       "(1776552,)"
      ]
     },
     "execution_count": 14,
     "metadata": {},
     "output_type": "execute_result"
    }
   ],
   "source": [
    "r_test.shape"
   ]
  },
  {
   "cell_type": "code",
   "execution_count": 48,
   "metadata": {
    "ExecuteTime": {
     "end_time": "2019-08-30T04:19:15.155493Z",
     "start_time": "2019-08-30T04:17:04.298940Z"
    }
   },
   "outputs": [],
   "source": [
    "result = model.predict([u_train, m_train]).reshape(-1) - r_train\n",
    "train_mean=abs(result).mean()\n",
    "train_std = result.std()\n",
    "del result\n",
    "result = model.predict([u_test, m_test]).reshape(-1) - r_test\n",
    "test_mean = abs(result).mean()\n",
    "test_std = result.std()\n",
    "del result"
   ]
  },
  {
   "cell_type": "code",
   "execution_count": 1,
   "metadata": {
    "ExecuteTime": {
     "end_time": "2019-09-01T06:38:07.426858Z",
     "start_time": "2019-09-01T06:38:07.421043Z"
    },
    "scrolled": true
   },
   "outputs": [
    {
     "data": {
      "text/plain": [
       "'result = model.predict([u_train, m_train, mr_train]).reshape(-1) - r_train\\ntrain_mean=abs(result).mean()\\ntrain_std = result.std()\\ndel result\\nresult = model.predict([u_test, m_test, mr_test]).reshape(-1) - r_test\\ntest_mean = abs(result).mean()\\ntest_std = result.std()\\ndel result'"
      ]
     },
     "execution_count": 1,
     "metadata": {},
     "output_type": "execute_result"
    }
   ],
   "source": [
    "\"\"\"result = model.predict([u_train, m_train, mr_train]).reshape(-1) - r_train\n",
    "train_mean=abs(result).mean()\n",
    "train_std = result.std()\n",
    "del result\n",
    "result = model.predict([u_test, m_test, mr_test]).reshape(-1) - r_test\n",
    "test_mean = abs(result).mean()\n",
    "test_std = result.std()\n",
    "del result\"\"\""
   ]
  },
  {
   "cell_type": "markdown",
   "metadata": {},
   "source": [
    "\n",
    "計算結果\n",
    "<br/>不要只看上面的資料，要看實際的要直接算一次\n",
    "\n",
    "### 沒有Dropout\n",
    "訓練0.28，測試0.727\n",
    "### Dropout = 0.3\n",
    "訓練0.62，測試0.62\n",
    "\n",
    "### Dropout = 0.3 + 正則化\n",
    "keras.regularizers.l2(1e-6)\n",
    "訓練0.56，測試0.65\n",
    "\n",
    "### Dropout = 0.3 輸出時加上該電影的平均評分，並只抓1000評論以上的電影\n",
    "訓練資料:\n",
    "abs(loss).mean() = 0.36278606066990915 \n",
    "標準差 = 0.48438608045942294\n",
    "\n",
    "測試資料:\n",
    "abs(loss).mean() = 0.5950168054784901 \n",
    "標準差 = 0.7825261732436337\n",
    "\n",
    "### 加上兩層Dense[200,100,1]relu然後輸出\n",
    "abs(loss).mean() = 0.5249670271601128 \n",
    "標準差 = 0.6882695584227468\n",
    "\n",
    "測試資料:\n",
    "abs(loss).mean() = 0.6047279668688645 \n",
    "標準差 = 0.7952802090451994\n",
    "(跟平均分的算法差不多，不過這個還沒有dropout)\n",
    "\n",
    "\n"
   ]
  },
  {
   "cell_type": "code",
   "execution_count": 49,
   "metadata": {
    "ExecuteTime": {
     "end_time": "2019-08-30T04:19:16.634005Z",
     "start_time": "2019-08-30T04:19:15.175538Z"
    }
   },
   "outputs": [
    {
     "name": "stdout",
     "output_type": "stream",
     "text": [
      "結果出來了，訓練結果訓練資料:\n",
      "abs(loss).mean() = 0.3195066151582834 \n",
      "標準差 = 0.41547637743599997\n",
      "\n",
      "測試資料:\n",
      "abs(loss).mean() = 0.6585722368792404 \n",
      "標準差 = 0.848340796403475\n"
     ]
    }
   ],
   "source": [
    "result = \"結果出來了，訓練結果訓練資料:\\nabs(loss).mean() = \"+ str(train_mean) + \" \\n標準差 = \" + str(train_std)+\"\\n\\n測試資料:\\nabs(loss).mean() = \"+ str(test_mean) + \" \\n標準差 = \" + str(test_std)\n",
    "\n",
    "telegram_bot_sendtext(result)\n",
    "\n",
    "print(result)"
   ]
  },
  {
   "cell_type": "code",
   "execution_count": 50,
   "metadata": {
    "ExecuteTime": {
     "end_time": "2019-08-30T04:19:16.656407Z",
     "start_time": "2019-08-30T04:19:16.655167Z"
    }
   },
   "outputs": [],
   "source": [
    "#model.save(\"\")"
   ]
  },
  {
   "cell_type": "code",
   "execution_count": 51,
   "metadata": {
    "ExecuteTime": {
     "end_time": "2019-08-30T04:20:53.622024Z",
     "start_time": "2019-08-30T04:19:16.675846Z"
    }
   },
   "outputs": [],
   "source": [
    "predict = model.predict([u_test, m_test]).reshape(-1)"
   ]
  },
  {
   "cell_type": "code",
   "execution_count": 52,
   "metadata": {
    "ExecuteTime": {
     "end_time": "2019-08-30T04:20:53.714323Z",
     "start_time": "2019-08-30T04:20:53.642149Z"
    }
   },
   "outputs": [],
   "source": [
    "loss = np.array(predict) - np.array(r_test)"
   ]
  },
  {
   "cell_type": "code",
   "execution_count": 53,
   "metadata": {
    "ExecuteTime": {
     "end_time": "2019-08-30T04:20:53.736333Z",
     "start_time": "2019-08-30T04:20:53.734178Z"
    }
   },
   "outputs": [
    {
     "data": {
      "text/plain": [
       "(12435862,)"
      ]
     },
     "execution_count": 53,
     "metadata": {},
     "output_type": "execute_result"
    }
   ],
   "source": [
    "loss.shape"
   ]
  },
  {
   "cell_type": "code",
   "execution_count": 54,
   "metadata": {
    "ExecuteTime": {
     "end_time": "2019-08-30T04:20:53.786164Z",
     "start_time": "2019-08-30T04:20:53.756359Z"
    }
   },
   "outputs": [
    {
     "data": {
      "text/plain": [
       "0.6585722368792404"
      ]
     },
     "execution_count": 54,
     "metadata": {},
     "output_type": "execute_result"
    }
   ],
   "source": [
    "abs(loss).mean()"
   ]
  },
  {
   "cell_type": "code",
   "execution_count": 55,
   "metadata": {
    "ExecuteTime": {
     "end_time": "2019-08-30T04:20:54.213106Z",
     "start_time": "2019-08-30T04:20:53.806034Z"
    }
   },
   "outputs": [
    {
     "data": {
      "image/png": "[encoded data removed]",
      "text/plain": [
       "<Figure size 432x288 with 1 Axes>"
      ]
     },
     "metadata": {},
     "output_type": "display_data"
    }
   ],
   "source": [
    "plt.hist(loss, 300, )  \n",
    "plt.show()"
   ]
  },
  {
   "cell_type": "code",
   "execution_count": 31,
   "metadata": {
    "ExecuteTime": {
     "end_time": "2019-08-30T04:04:48.526301Z",
     "start_time": "2019-08-30T04:04:47.903787Z"
    }
   },
   "outputs": [
    {
     "name": "stderr",
     "output_type": "stream",
     "text": [
      "/home/fio/anaconda3/lib/python3.6/site-packages/matplotlib/axes/_axes.py:6462: UserWarning: The 'normed' kwarg is deprecated, and has been replaced by the 'density' kwarg.\n",
      "  warnings.warn(\"The 'normed' kwarg is deprecated, and has been \"\n",
      "/home/fio/anaconda3/lib/python3.6/site-packages/ipykernel_launcher.py:7: MatplotlibDeprecationWarning: scipy.stats.norm.pdf\n",
      "  import sys\n"
     ]
    },
    {
     "data": {
      "text/plain": [
       "[<matplotlib.lines.Line2D at 0x7f30ccbc4d68>]"
      ]
     },
     "execution_count": 31,
     "metadata": {},
     "output_type": "execute_result"
    },
    {
     "data": {
      "image/png": "[encoded data removed]",
      "text/plain": [
       "<Figure size 432x288 with 1 Axes>"
      ]
     },
     "metadata": {},
     "output_type": "display_data"
    }
   ],
   "source": [
    "import matplotlib.pyplot as plt\n",
    "import matplotlib.mlab as mlab  \n",
    "plt.hist(predict, bins= 300, normed=1, alpha=0.1)\n",
    "num_bins = 300\n",
    "n, bins, patches = plt.hist(predict, num_bins, normed=1, alpha=0.5)  \n",
    "# add a 'best fit' line  \n",
    "y = mlab.normpdf(bins, predict.mean(), predict.std())\n",
    "plt.plot(bins, y, 'r--')  "
   ]
  },
  {
   "cell_type": "code",
   "execution_count": null,
   "metadata": {},
   "outputs": [],
   "source": [
    "\n",
    "\n",
    "\n",
    "r_train.shape\n",
    "\n",
    "\n",
    "\n",
    "\n",
    "\n",
    "\n",
    "result = \"結果出來了，訓練結果訓練資料abs(loss).mean() = \"+ str(train_mean) + \" 標準差 = \" + str(train_std)+\"\\n測試資料abs(loss).mean() = \"+ str(test_mean) + \" 標準差 = \" + str(test_std)\n",
    "\n",
    "telegram_bot_sendtext(result)\n",
    "\n",
    "print(result)\n",
    "\n",
    "predict = model.predict([u_test, m_test]).reshape(-1)\n",
    "\n",
    "predict\n",
    "\n",
    "\n",
    "\n",
    "predict[np.where(predict<0.5)].shape\n",
    "\n",
    "predict[np.where(predict>5)].mean()\n",
    "\n",
    "import matplotlib.pyplot as plt\n",
    "import matplotlib.mlab as mlab  \n",
    "plt.hist(predict, bins= 30, normed=1, alpha=0.1)\n",
    "num_bins = 50 \n",
    "n, bins, patches = plt.hist(predict, num_bins, normed=1, alpha=0.5)  \n",
    "# add a 'best fit' line  \n",
    "y = mlab.normpdf(bins, predict.mean(), predict.std())\n",
    "plt.plot(bins, y, 'r--')  \n",
    "#plt.xlabel('Smarts')  \n",
    "#plt.ylabel('Probability')  \n",
    "#plt.title(r'Histogram of IQ: $\\mu=100$, $\\sigma=15$')  \n",
    "\n",
    "# Tweak spacing to prevent clipping of ylabel  \n",
    "plt.subplots_adjust(left=0.15)  \n",
    "plt.show() \n",
    "#y = mlab.normpdf(bins, predict.mean(), predict.std())\n",
    "\n",
    "abs(result).mean()\n",
    "\n",
    "abs(result).mean()\n",
    "\n",
    "\n",
    "telegram_bot_sendtext(\"@IshengChen The model train is finish,\\n the abs(loss).mean() is\"+str(abs(result).mean()))"
   ]
  }
 ],
 "metadata": {
  "hide_input": false,
  "kernelspec": {
   "display_name": "Python 3",
   "language": "python",
   "name": "python3"
  },
  "language_info": {
   "codemirror_mode": {
    "name": "ipython",
    "version": 3
   },
   "file_extension": ".py",
   "mimetype": "text/x-python",
   "name": "python",
   "nbconvert_exporter": "python",
   "pygments_lexer": "ipython3",
   "version": "3.6.5"
  },
  "varInspector": {
   "cols": {
    "lenName": 16,
    "lenType": 16,
    "lenVar": 40
   },
   "kernels_config": {
    "python": {
     "delete_cmd_postfix": "",
     "delete_cmd_prefix": "del ",
     "library": "var_list.py",
     "varRefreshCmd": "print(var_dic_list())"
    },
    "r": {
     "delete_cmd_postfix": ") ",
     "delete_cmd_prefix": "rm(",
     "library": "var_list.r",
     "varRefreshCmd": "cat(var_dic_list()) "
    }
   },
   "types_to_exclude": [
    "module",
    "function",
    "builtin_function_or_method",
    "instance",
    "_Feature"
   ],
   "window_display": false
  }
 },
 "nbformat": 4,
 "nbformat_minor": 2
}
