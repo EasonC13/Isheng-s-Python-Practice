{
 "cells": [
  {
   "cell_type": "code",
   "execution_count": 2,
   "metadata": {
    "ExecuteTime": {
     "end_time": "2019-09-14T14:45:30.286296Z",
     "start_time": "2019-09-14T14:45:30.284525Z"
    }
   },
   "outputs": [],
   "source": [
    "import pandas as pd\n",
    "import numpy as np"
   ]
  },
  {
   "cell_type": "code",
   "execution_count": 3,
   "metadata": {
    "ExecuteTime": {
     "end_time": "2019-09-14T14:45:30.411772Z",
     "start_time": "2019-09-14T14:45:30.410293Z"
    }
   },
   "outputs": [],
   "source": [
    "import sklearn"
   ]
  },
  {
   "cell_type": "code",
   "execution_count": 94,
   "metadata": {
    "ExecuteTime": {
     "end_time": "2019-09-14T15:23:23.073909Z",
     "start_time": "2019-09-14T15:23:23.012412Z"
    }
   },
   "outputs": [],
   "source": [
    "import requests\n",
    "def telegram_bot_sendtext(bot_message):\n",
    "    \n",
    "    bot_token = '661544421:AAHuZSMukZmFlhU-npE23CowogP375a0au4'\n",
    "    bot_chatID = '-225157366'\n",
    "    send_text = 'https://api.telegram.org/bot' + bot_token + '/sendMessage?chat_id=' + bot_chatID + '&parse_mode=Markdown&text=' + bot_message\n",
    "\n",
    "    response = requests.get(send_text)\n",
    "\n",
    "    return response.json()\n"
   ]
  },
  {
   "cell_type": "code",
   "execution_count": 72,
   "metadata": {
    "ExecuteTime": {
     "end_time": "2019-09-14T15:14:39.077574Z",
     "start_time": "2019-09-14T15:14:35.762484Z"
    }
   },
   "outputs": [],
   "source": [
    "#載入資料\n",
    "origin_df = pd.read_csv(\"./data/train.csv\", encoding='big5')\n",
    "\n",
    "X_test = pd.read_csv(\"./data/test.csv\", encoding='big5')\n",
    "\n",
    "train_y = (origin_df.Y1=='Y')+0\n",
    "\n",
    "dropped_col = ['Y1', 'CUS_ID', ]\n",
    "\n",
    "df = origin_df.copy()\n",
    "traindf = pd.get_dummies(df.drop(columns=dropped_col).fillna(0))\n",
    "\n",
    "testdf = pd.get_dummies(X_test.drop(columns = 'CUS_ID').fillna(0))"
   ]
  },
  {
   "cell_type": "code",
   "execution_count": 73,
   "metadata": {
    "ExecuteTime": {
     "end_time": "2019-09-14T15:14:47.723454Z",
     "start_time": "2019-09-14T15:14:47.720790Z"
    }
   },
   "outputs": [
    {
     "data": {
      "text/plain": [
       "(100000, 294)"
      ]
     },
     "execution_count": 73,
     "metadata": {},
     "output_type": "execute_result"
    }
   ],
   "source": [
    "traindf.shape"
   ]
  },
  {
   "cell_type": "code",
   "execution_count": 74,
   "metadata": {
    "ExecuteTime": {
     "end_time": "2019-09-14T15:14:52.827837Z",
     "start_time": "2019-09-14T15:14:52.825037Z"
    }
   },
   "outputs": [
    {
     "data": {
      "text/plain": [
       "(150000, 294)"
      ]
     },
     "execution_count": 74,
     "metadata": {},
     "output_type": "execute_result"
    }
   ],
   "source": [
    "testdf.shape"
   ]
  },
  {
   "cell_type": "code",
   "execution_count": 9,
   "metadata": {
    "ExecuteTime": {
     "end_time": "2019-09-14T14:45:35.997006Z",
     "start_time": "2019-09-14T14:45:35.995164Z"
    }
   },
   "outputs": [],
   "source": [
    "from sklearn.model_selection import train_test_split\n",
    "#x_train, x_valid, y_train, y_valid = train_test_split(traindf, train_y, test_size=0.05)\n",
    "x_train, y_train = traindf, train_y"
   ]
  },
  {
   "cell_type": "code",
   "execution_count": 11,
   "metadata": {
    "ExecuteTime": {
     "end_time": "2019-09-14T14:45:37.534270Z",
     "start_time": "2019-09-14T14:45:37.532639Z"
    }
   },
   "outputs": [],
   "source": [
    "import xgboost as xgb\n",
    "\n",
    "model = xgb.XGBClassifier(n_estimators=10000, tree_method='gpu_hist', slient= 0, max_depth=6)\n",
    "\n",
    "model.fit(x_train, y_train)"
   ]
  },
  {
   "cell_type": "code",
   "execution_count": 13,
   "metadata": {
    "ExecuteTime": {
     "end_time": "2019-09-14T14:47:33.305215Z",
     "start_time": "2019-09-14T14:47:22.850342Z"
    }
   },
   "outputs": [
    {
     "data": {
      "text/plain": [
       "0.99999"
      ]
     },
     "execution_count": 13,
     "metadata": {},
     "output_type": "execute_result"
    }
   ],
   "source": [
    "result = model.predict(x_train)\n",
    "\n",
    "sklearn.metrics.accuracy_score(result, y_train)"
   ]
  },
  {
   "cell_type": "code",
   "execution_count": 54,
   "metadata": {
    "ExecuteTime": {
     "end_time": "2019-09-14T14:36:12.352021Z",
     "start_time": "2019-09-14T14:36:12.161054Z"
    }
   },
   "outputs": [],
   "source": [
    "result = model.predict(x_valid)\n",
    "\n",
    "sklearn.metrics.accuracy_score(result, y_valid)"
   ]
  },
  {
   "cell_type": "code",
   "execution_count": 55,
   "metadata": {
    "ExecuteTime": {
     "end_time": "2019-09-14T14:36:12.632078Z",
     "start_time": "2019-09-14T14:36:12.629162Z"
    }
   },
   "outputs": [
    {
     "data": {
      "text/plain": [
       "0.9776"
      ]
     },
     "execution_count": 55,
     "metadata": {},
     "output_type": "execute_result"
    }
   ],
   "source": [
    "sklearn.metrics.accuracy_score(result, y_valid)"
   ]
  },
  {
   "cell_type": "code",
   "execution_count": 15,
   "metadata": {
    "ExecuteTime": {
     "end_time": "2019-09-14T14:49:37.910863Z",
     "start_time": "2019-09-14T14:49:21.223230Z"
    }
   },
   "outputs": [],
   "source": [
    "result = model.predict(testdf)"
   ]
  },
  {
   "cell_type": "code",
   "execution_count": 25,
   "metadata": {
    "ExecuteTime": {
     "end_time": "2019-09-14T14:52:28.328690Z",
     "start_time": "2019-09-14T14:52:28.325301Z"
    }
   },
   "outputs": [],
   "source": [
    "unique, counts = np.unique(result, return_counts=True)\n",
    "result = dict(zip(unique, counts))"
   ]
  },
  {
   "cell_type": "code",
   "execution_count": 26,
   "metadata": {
    "ExecuteTime": {
     "end_time": "2019-09-14T14:52:30.767254Z",
     "start_time": "2019-09-14T14:52:30.764932Z"
    }
   },
   "outputs": [
    {
     "data": {
      "text/plain": [
       "{0: 149791, 1: 209}"
      ]
     },
     "execution_count": 26,
     "metadata": {},
     "output_type": "execute_result"
    }
   ],
   "source": [
    "result"
   ]
  },
  {
   "cell_type": "code",
   "execution_count": 27,
   "metadata": {
    "ExecuteTime": {
     "end_time": "2019-09-14T14:52:57.766523Z",
     "start_time": "2019-09-14T14:52:57.763673Z"
    }
   },
   "outputs": [],
   "source": [
    "unique, counts = np.unique(train_y, return_counts=True)\n",
    "result = dict(zip(unique, counts))"
   ]
  },
  {
   "cell_type": "code",
   "execution_count": 28,
   "metadata": {
    "ExecuteTime": {
     "end_time": "2019-09-14T14:53:00.349863Z",
     "start_time": "2019-09-14T14:53:00.347370Z"
    }
   },
   "outputs": [
    {
     "data": {
      "text/plain": [
       "{0: 98000, 1: 2000}"
      ]
     },
     "execution_count": 28,
     "metadata": {},
     "output_type": "execute_result"
    }
   ],
   "source": [
    "result"
   ]
  },
  {
   "cell_type": "markdown",
   "metadata": {},
   "source": [
    "經過前面的運算，我發現儘管準確率高，模型並沒有抓出多數的1。<br>因此我要用SMOTE來讓1多一點"
   ]
  },
  {
   "cell_type": "code",
   "execution_count": 75,
   "metadata": {
    "ExecuteTime": {
     "end_time": "2019-09-14T15:15:03.994722Z",
     "start_time": "2019-09-14T15:15:03.992934Z"
    }
   },
   "outputs": [],
   "source": [
    "from imblearn.over_sampling import SMOTE"
   ]
  },
  {
   "cell_type": "code",
   "execution_count": 76,
   "metadata": {
    "ExecuteTime": {
     "end_time": "2019-09-14T15:15:05.015998Z",
     "start_time": "2019-09-14T15:15:05.014114Z"
    }
   },
   "outputs": [],
   "source": [
    "smote = SMOTE(n_jobs = 8)"
   ]
  },
  {
   "cell_type": "code",
   "execution_count": 77,
   "metadata": {
    "ExecuteTime": {
     "end_time": "2019-09-14T15:15:08.184054Z",
     "start_time": "2019-09-14T15:15:06.456433Z"
    }
   },
   "outputs": [],
   "source": [
    "s_x, s_y = smote.fit_resample(traindf, train_y)"
   ]
  },
  {
   "cell_type": "code",
   "execution_count": 78,
   "metadata": {
    "ExecuteTime": {
     "end_time": "2019-09-14T15:15:09.854251Z",
     "start_time": "2019-09-14T15:15:09.850090Z"
    }
   },
   "outputs": [
    {
     "name": "stdout",
     "output_type": "stream",
     "text": [
      "{0: 98000, 1: 98000}\n"
     ]
    }
   ],
   "source": [
    "unique, counts = np.unique(s_y, return_counts=True)\n",
    "result = dict(zip(unique, counts))\n",
    "print(result)"
   ]
  },
  {
   "cell_type": "code",
   "execution_count": 79,
   "metadata": {
    "ExecuteTime": {
     "end_time": "2019-09-14T15:15:17.506457Z",
     "start_time": "2019-09-14T15:15:17.504183Z"
    }
   },
   "outputs": [],
   "source": [
    "smote_x = pd.DataFrame(s_x)\n",
    "smote_x.columns = traindf.columns"
   ]
  },
  {
   "cell_type": "code",
   "execution_count": 80,
   "metadata": {
    "ExecuteTime": {
     "end_time": "2019-09-14T15:15:18.590104Z",
     "start_time": "2019-09-14T15:15:18.576856Z"
    }
   },
   "outputs": [
    {
     "data": {
      "text/html": [
       "<div>\n",
       "<style scoped>\n",
       "    .dataframe tbody tr th:only-of-type {\n",
       "        vertical-align: middle;\n",
       "    }\n",
       "\n",
       "    .dataframe tbody tr th {\n",
       "        vertical-align: top;\n",
       "    }\n",
       "\n",
       "    .dataframe thead th {\n",
       "        text-align: right;\n",
       "    }\n",
       "</style>\n",
       "<table border=\"1\" class=\"dataframe\">\n",
       "  <thead>\n",
       "    <tr style=\"text-align: right;\">\n",
       "      <th></th>\n",
       "      <th>EDUCATION_CD</th>\n",
       "      <th>MARRIAGE_CD</th>\n",
       "      <th>L1YR_A_ISSUE_CNT</th>\n",
       "      <th>L1YR_B_ISSUE_CNT</th>\n",
       "      <th>CHANNEL_A_POL_CNT</th>\n",
       "      <th>CHANNEL_B_POL_CNT</th>\n",
       "      <th>OCCUPATION_CLASS_CD</th>\n",
       "      <th>APC_CNT</th>\n",
       "      <th>INSD_CNT</th>\n",
       "      <th>APC_1ST_YEARDIF</th>\n",
       "      <th>...</th>\n",
       "      <th>FINANCETOOLS_D_Y</th>\n",
       "      <th>FINANCETOOLS_E_0</th>\n",
       "      <th>FINANCETOOLS_E_N</th>\n",
       "      <th>FINANCETOOLS_E_Y</th>\n",
       "      <th>FINANCETOOLS_F_0</th>\n",
       "      <th>FINANCETOOLS_F_N</th>\n",
       "      <th>FINANCETOOLS_F_Y</th>\n",
       "      <th>FINANCETOOLS_G_0</th>\n",
       "      <th>FINANCETOOLS_G_N</th>\n",
       "      <th>FINANCETOOLS_G_Y</th>\n",
       "    </tr>\n",
       "  </thead>\n",
       "  <tbody>\n",
       "    <tr>\n",
       "      <td>0</td>\n",
       "      <td>0.0</td>\n",
       "      <td>0.0</td>\n",
       "      <td>0.0</td>\n",
       "      <td>0.0</td>\n",
       "      <td>0.0</td>\n",
       "      <td>0.0</td>\n",
       "      <td>1.0</td>\n",
       "      <td>0.0</td>\n",
       "      <td>0.0</td>\n",
       "      <td>0.046512</td>\n",
       "      <td>...</td>\n",
       "      <td>0.0</td>\n",
       "      <td>1.0</td>\n",
       "      <td>0.0</td>\n",
       "      <td>0.0</td>\n",
       "      <td>1.0</td>\n",
       "      <td>0.0</td>\n",
       "      <td>0.0</td>\n",
       "      <td>1.0</td>\n",
       "      <td>0.0</td>\n",
       "      <td>0.0</td>\n",
       "    </tr>\n",
       "    <tr>\n",
       "      <td>1</td>\n",
       "      <td>0.0</td>\n",
       "      <td>0.0</td>\n",
       "      <td>0.0</td>\n",
       "      <td>0.0</td>\n",
       "      <td>0.0</td>\n",
       "      <td>0.0</td>\n",
       "      <td>1.0</td>\n",
       "      <td>0.0</td>\n",
       "      <td>0.0</td>\n",
       "      <td>0.046512</td>\n",
       "      <td>...</td>\n",
       "      <td>0.0</td>\n",
       "      <td>1.0</td>\n",
       "      <td>0.0</td>\n",
       "      <td>0.0</td>\n",
       "      <td>1.0</td>\n",
       "      <td>0.0</td>\n",
       "      <td>0.0</td>\n",
       "      <td>1.0</td>\n",
       "      <td>0.0</td>\n",
       "      <td>0.0</td>\n",
       "    </tr>\n",
       "    <tr>\n",
       "      <td>2</td>\n",
       "      <td>1.0</td>\n",
       "      <td>0.0</td>\n",
       "      <td>1.0</td>\n",
       "      <td>0.0</td>\n",
       "      <td>1.0</td>\n",
       "      <td>0.0</td>\n",
       "      <td>1.0</td>\n",
       "      <td>1.0</td>\n",
       "      <td>0.0</td>\n",
       "      <td>0.000000</td>\n",
       "      <td>...</td>\n",
       "      <td>0.0</td>\n",
       "      <td>0.0</td>\n",
       "      <td>1.0</td>\n",
       "      <td>0.0</td>\n",
       "      <td>0.0</td>\n",
       "      <td>1.0</td>\n",
       "      <td>0.0</td>\n",
       "      <td>0.0</td>\n",
       "      <td>1.0</td>\n",
       "      <td>0.0</td>\n",
       "    </tr>\n",
       "    <tr>\n",
       "      <td>3</td>\n",
       "      <td>0.0</td>\n",
       "      <td>0.0</td>\n",
       "      <td>0.0</td>\n",
       "      <td>0.0</td>\n",
       "      <td>0.0</td>\n",
       "      <td>0.0</td>\n",
       "      <td>1.0</td>\n",
       "      <td>0.0</td>\n",
       "      <td>0.0</td>\n",
       "      <td>0.162791</td>\n",
       "      <td>...</td>\n",
       "      <td>0.0</td>\n",
       "      <td>1.0</td>\n",
       "      <td>0.0</td>\n",
       "      <td>0.0</td>\n",
       "      <td>1.0</td>\n",
       "      <td>0.0</td>\n",
       "      <td>0.0</td>\n",
       "      <td>1.0</td>\n",
       "      <td>0.0</td>\n",
       "      <td>0.0</td>\n",
       "    </tr>\n",
       "    <tr>\n",
       "      <td>4</td>\n",
       "      <td>1.0</td>\n",
       "      <td>0.0</td>\n",
       "      <td>0.0</td>\n",
       "      <td>0.0</td>\n",
       "      <td>1.0</td>\n",
       "      <td>0.0</td>\n",
       "      <td>1.0</td>\n",
       "      <td>1.0</td>\n",
       "      <td>0.0</td>\n",
       "      <td>0.116279</td>\n",
       "      <td>...</td>\n",
       "      <td>0.0</td>\n",
       "      <td>1.0</td>\n",
       "      <td>0.0</td>\n",
       "      <td>0.0</td>\n",
       "      <td>1.0</td>\n",
       "      <td>0.0</td>\n",
       "      <td>0.0</td>\n",
       "      <td>1.0</td>\n",
       "      <td>0.0</td>\n",
       "      <td>0.0</td>\n",
       "    </tr>\n",
       "  </tbody>\n",
       "</table>\n",
       "<p>5 rows × 294 columns</p>\n",
       "</div>"
      ],
      "text/plain": [
       "   EDUCATION_CD  MARRIAGE_CD  L1YR_A_ISSUE_CNT  L1YR_B_ISSUE_CNT  \\\n",
       "0           0.0          0.0               0.0               0.0   \n",
       "1           0.0          0.0               0.0               0.0   \n",
       "2           1.0          0.0               1.0               0.0   \n",
       "3           0.0          0.0               0.0               0.0   \n",
       "4           1.0          0.0               0.0               0.0   \n",
       "\n",
       "   CHANNEL_A_POL_CNT  CHANNEL_B_POL_CNT  OCCUPATION_CLASS_CD  APC_CNT  \\\n",
       "0                0.0                0.0                  1.0      0.0   \n",
       "1                0.0                0.0                  1.0      0.0   \n",
       "2                1.0                0.0                  1.0      1.0   \n",
       "3                0.0                0.0                  1.0      0.0   \n",
       "4                1.0                0.0                  1.0      1.0   \n",
       "\n",
       "   INSD_CNT  APC_1ST_YEARDIF  ...  FINANCETOOLS_D_Y  FINANCETOOLS_E_0  \\\n",
       "0       0.0         0.046512  ...               0.0               1.0   \n",
       "1       0.0         0.046512  ...               0.0               1.0   \n",
       "2       0.0         0.000000  ...               0.0               0.0   \n",
       "3       0.0         0.162791  ...               0.0               1.0   \n",
       "4       0.0         0.116279  ...               0.0               1.0   \n",
       "\n",
       "   FINANCETOOLS_E_N  FINANCETOOLS_E_Y  FINANCETOOLS_F_0  FINANCETOOLS_F_N  \\\n",
       "0               0.0               0.0               1.0               0.0   \n",
       "1               0.0               0.0               1.0               0.0   \n",
       "2               1.0               0.0               0.0               1.0   \n",
       "3               0.0               0.0               1.0               0.0   \n",
       "4               0.0               0.0               1.0               0.0   \n",
       "\n",
       "   FINANCETOOLS_F_Y  FINANCETOOLS_G_0  FINANCETOOLS_G_N  FINANCETOOLS_G_Y  \n",
       "0               0.0               1.0               0.0               0.0  \n",
       "1               0.0               1.0               0.0               0.0  \n",
       "2               0.0               0.0               1.0               0.0  \n",
       "3               0.0               1.0               0.0               0.0  \n",
       "4               0.0               1.0               0.0               0.0  \n",
       "\n",
       "[5 rows x 294 columns]"
      ]
     },
     "execution_count": 80,
     "metadata": {},
     "output_type": "execute_result"
    }
   ],
   "source": [
    "smote_x.head()"
   ]
  },
  {
   "cell_type": "code",
   "execution_count": 81,
   "metadata": {
    "ExecuteTime": {
     "end_time": "2019-09-14T15:15:19.635470Z",
     "start_time": "2019-09-14T15:15:19.622729Z"
    }
   },
   "outputs": [
    {
     "data": {
      "text/html": [
       "<div>\n",
       "<style scoped>\n",
       "    .dataframe tbody tr th:only-of-type {\n",
       "        vertical-align: middle;\n",
       "    }\n",
       "\n",
       "    .dataframe tbody tr th {\n",
       "        vertical-align: top;\n",
       "    }\n",
       "\n",
       "    .dataframe thead th {\n",
       "        text-align: right;\n",
       "    }\n",
       "</style>\n",
       "<table border=\"1\" class=\"dataframe\">\n",
       "  <thead>\n",
       "    <tr style=\"text-align: right;\">\n",
       "      <th></th>\n",
       "      <th>EDUCATION_CD</th>\n",
       "      <th>MARRIAGE_CD</th>\n",
       "      <th>L1YR_A_ISSUE_CNT</th>\n",
       "      <th>L1YR_B_ISSUE_CNT</th>\n",
       "      <th>CHANNEL_A_POL_CNT</th>\n",
       "      <th>CHANNEL_B_POL_CNT</th>\n",
       "      <th>OCCUPATION_CLASS_CD</th>\n",
       "      <th>APC_CNT</th>\n",
       "      <th>INSD_CNT</th>\n",
       "      <th>APC_1ST_YEARDIF</th>\n",
       "      <th>...</th>\n",
       "      <th>FINANCETOOLS_D_Y</th>\n",
       "      <th>FINANCETOOLS_E_0</th>\n",
       "      <th>FINANCETOOLS_E_N</th>\n",
       "      <th>FINANCETOOLS_E_Y</th>\n",
       "      <th>FINANCETOOLS_F_0</th>\n",
       "      <th>FINANCETOOLS_F_N</th>\n",
       "      <th>FINANCETOOLS_F_Y</th>\n",
       "      <th>FINANCETOOLS_G_0</th>\n",
       "      <th>FINANCETOOLS_G_N</th>\n",
       "      <th>FINANCETOOLS_G_Y</th>\n",
       "    </tr>\n",
       "  </thead>\n",
       "  <tbody>\n",
       "    <tr>\n",
       "      <td>0</td>\n",
       "      <td>2.0</td>\n",
       "      <td>0.0</td>\n",
       "      <td>4</td>\n",
       "      <td>0</td>\n",
       "      <td>4</td>\n",
       "      <td>0</td>\n",
       "      <td>1.0</td>\n",
       "      <td>0</td>\n",
       "      <td>0</td>\n",
       "      <td>0.000000</td>\n",
       "      <td>...</td>\n",
       "      <td>0</td>\n",
       "      <td>1</td>\n",
       "      <td>0</td>\n",
       "      <td>0</td>\n",
       "      <td>1</td>\n",
       "      <td>0</td>\n",
       "      <td>0</td>\n",
       "      <td>1</td>\n",
       "      <td>0</td>\n",
       "      <td>0</td>\n",
       "    </tr>\n",
       "    <tr>\n",
       "      <td>1</td>\n",
       "      <td>0.0</td>\n",
       "      <td>0.0</td>\n",
       "      <td>0</td>\n",
       "      <td>0</td>\n",
       "      <td>0</td>\n",
       "      <td>0</td>\n",
       "      <td>1.0</td>\n",
       "      <td>0</td>\n",
       "      <td>0</td>\n",
       "      <td>0.181818</td>\n",
       "      <td>...</td>\n",
       "      <td>0</td>\n",
       "      <td>1</td>\n",
       "      <td>0</td>\n",
       "      <td>0</td>\n",
       "      <td>1</td>\n",
       "      <td>0</td>\n",
       "      <td>0</td>\n",
       "      <td>1</td>\n",
       "      <td>0</td>\n",
       "      <td>0</td>\n",
       "    </tr>\n",
       "    <tr>\n",
       "      <td>2</td>\n",
       "      <td>1.0</td>\n",
       "      <td>0.0</td>\n",
       "      <td>0</td>\n",
       "      <td>0</td>\n",
       "      <td>1</td>\n",
       "      <td>0</td>\n",
       "      <td>1.0</td>\n",
       "      <td>0</td>\n",
       "      <td>0</td>\n",
       "      <td>0.068182</td>\n",
       "      <td>...</td>\n",
       "      <td>0</td>\n",
       "      <td>1</td>\n",
       "      <td>0</td>\n",
       "      <td>0</td>\n",
       "      <td>1</td>\n",
       "      <td>0</td>\n",
       "      <td>0</td>\n",
       "      <td>1</td>\n",
       "      <td>0</td>\n",
       "      <td>0</td>\n",
       "    </tr>\n",
       "    <tr>\n",
       "      <td>3</td>\n",
       "      <td>0.0</td>\n",
       "      <td>0.0</td>\n",
       "      <td>0</td>\n",
       "      <td>0</td>\n",
       "      <td>0</td>\n",
       "      <td>0</td>\n",
       "      <td>1.0</td>\n",
       "      <td>0</td>\n",
       "      <td>0</td>\n",
       "      <td>0.159091</td>\n",
       "      <td>...</td>\n",
       "      <td>0</td>\n",
       "      <td>1</td>\n",
       "      <td>0</td>\n",
       "      <td>0</td>\n",
       "      <td>1</td>\n",
       "      <td>0</td>\n",
       "      <td>0</td>\n",
       "      <td>1</td>\n",
       "      <td>0</td>\n",
       "      <td>0</td>\n",
       "    </tr>\n",
       "    <tr>\n",
       "      <td>4</td>\n",
       "      <td>1.0</td>\n",
       "      <td>0.0</td>\n",
       "      <td>0</td>\n",
       "      <td>0</td>\n",
       "      <td>1</td>\n",
       "      <td>0</td>\n",
       "      <td>1.0</td>\n",
       "      <td>0</td>\n",
       "      <td>0</td>\n",
       "      <td>0.045455</td>\n",
       "      <td>...</td>\n",
       "      <td>0</td>\n",
       "      <td>1</td>\n",
       "      <td>0</td>\n",
       "      <td>0</td>\n",
       "      <td>1</td>\n",
       "      <td>0</td>\n",
       "      <td>0</td>\n",
       "      <td>1</td>\n",
       "      <td>0</td>\n",
       "      <td>0</td>\n",
       "    </tr>\n",
       "  </tbody>\n",
       "</table>\n",
       "<p>5 rows × 294 columns</p>\n",
       "</div>"
      ],
      "text/plain": [
       "   EDUCATION_CD  MARRIAGE_CD  L1YR_A_ISSUE_CNT  L1YR_B_ISSUE_CNT  \\\n",
       "0           2.0          0.0                 4                 0   \n",
       "1           0.0          0.0                 0                 0   \n",
       "2           1.0          0.0                 0                 0   \n",
       "3           0.0          0.0                 0                 0   \n",
       "4           1.0          0.0                 0                 0   \n",
       "\n",
       "   CHANNEL_A_POL_CNT  CHANNEL_B_POL_CNT  OCCUPATION_CLASS_CD  APC_CNT  \\\n",
       "0                  4                  0                  1.0        0   \n",
       "1                  0                  0                  1.0        0   \n",
       "2                  1                  0                  1.0        0   \n",
       "3                  0                  0                  1.0        0   \n",
       "4                  1                  0                  1.0        0   \n",
       "\n",
       "   INSD_CNT  APC_1ST_YEARDIF  ...  FINANCETOOLS_D_Y  FINANCETOOLS_E_0  \\\n",
       "0         0         0.000000  ...                 0                 1   \n",
       "1         0         0.181818  ...                 0                 1   \n",
       "2         0         0.068182  ...                 0                 1   \n",
       "3         0         0.159091  ...                 0                 1   \n",
       "4         0         0.045455  ...                 0                 1   \n",
       "\n",
       "   FINANCETOOLS_E_N  FINANCETOOLS_E_Y  FINANCETOOLS_F_0  FINANCETOOLS_F_N  \\\n",
       "0                 0                 0                 1                 0   \n",
       "1                 0                 0                 1                 0   \n",
       "2                 0                 0                 1                 0   \n",
       "3                 0                 0                 1                 0   \n",
       "4                 0                 0                 1                 0   \n",
       "\n",
       "   FINANCETOOLS_F_Y  FINANCETOOLS_G_0  FINANCETOOLS_G_N  FINANCETOOLS_G_Y  \n",
       "0                 0                 1                 0                 0  \n",
       "1                 0                 1                 0                 0  \n",
       "2                 0                 1                 0                 0  \n",
       "3                 0                 1                 0                 0  \n",
       "4                 0                 1                 0                 0  \n",
       "\n",
       "[5 rows x 294 columns]"
      ]
     },
     "execution_count": 81,
     "metadata": {},
     "output_type": "execute_result"
    }
   ],
   "source": [
    "testdf.head()"
   ]
  },
  {
   "cell_type": "code",
   "execution_count": 88,
   "metadata": {
    "ExecuteTime": {
     "end_time": "2019-09-14T15:22:38.648937Z",
     "start_time": "2019-09-14T15:20:47.619896Z"
    }
   },
   "outputs": [
    {
     "data": {
      "text/plain": [
       "XGBClassifier(base_score=0.5, booster='gbtree', colsample_bylevel=1,\n",
       "              colsample_bytree=1, gamma=0, learning_rate=0.1, max_delta_step=0,\n",
       "              max_depth=6, min_child_weight=1, missing=None, n_estimators=10000,\n",
       "              n_jobs=1, nthread=None, objective='binary:logistic',\n",
       "              random_state=0, reg_alpha=0, reg_lambda=1, scale_pos_weight=1,\n",
       "              seed=None, silent=True, slient=0, subsample=1,\n",
       "              tree_method='gpu_hist')"
      ]
     },
     "execution_count": 88,
     "metadata": {},
     "output_type": "execute_result"
    }
   ],
   "source": [
    "import xgboost as xgb\n",
    "\n",
    "model = xgb.XGBClassifier(n_estimators=10000, tree_method='gpu_hist', slient= 0, max_depth=6)\n",
    "\n",
    "model.fit(smote_x, s_y)"
   ]
  },
  {
   "cell_type": "code",
   "execution_count": 89,
   "metadata": {
    "ExecuteTime": {
     "end_time": "2019-09-14T15:23:01.299683Z",
     "start_time": "2019-09-14T15:22:39.660267Z"
    }
   },
   "outputs": [],
   "source": [
    "result = model.predict(smote_x)"
   ]
  },
  {
   "cell_type": "code",
   "execution_count": 90,
   "metadata": {
    "ExecuteTime": {
     "end_time": "2019-09-14T15:23:02.327779Z",
     "start_time": "2019-09-14T15:23:02.319553Z"
    }
   },
   "outputs": [
    {
     "data": {
      "text/plain": [
       "0.999938775510204"
      ]
     },
     "execution_count": 90,
     "metadata": {},
     "output_type": "execute_result"
    }
   ],
   "source": [
    "sklearn.metrics.accuracy_score(result, s_y)"
   ]
  },
  {
   "cell_type": "code",
   "execution_count": 91,
   "metadata": {
    "ExecuteTime": {
     "end_time": "2019-09-14T15:23:03.354027Z",
     "start_time": "2019-09-14T15:23:03.350443Z"
    }
   },
   "outputs": [
    {
     "name": "stdout",
     "output_type": "stream",
     "text": [
      "{0: 98008, 1: 97992}\n"
     ]
    }
   ],
   "source": [
    "unique, counts = np.unique(result, return_counts=True)\n",
    "count_result = dict(zip(unique, counts))\n",
    "print(count_result)"
   ]
  },
  {
   "cell_type": "code",
   "execution_count": 92,
   "metadata": {
    "ExecuteTime": {
     "end_time": "2019-09-14T15:23:20.983980Z",
     "start_time": "2019-09-14T15:23:04.358885Z"
    }
   },
   "outputs": [],
   "source": [
    "result = model.predict(testdf)"
   ]
  },
  {
   "cell_type": "code",
   "execution_count": 98,
   "metadata": {
    "ExecuteTime": {
     "end_time": "2019-09-14T15:28:11.567540Z",
     "start_time": "2019-09-14T15:28:11.555763Z"
    },
    "scrolled": true
   },
   "outputs": [
    {
     "ename": "NameError",
     "evalue": "name 'telegram_bot_sendtextgram_bot_sendtext' is not defined",
     "output_type": "error",
     "traceback": [
      "\u001b[0;31m---------------------------------------------------------\u001b[0m",
      "\u001b[0;31mNameError\u001b[0m               Traceback (most recent call last)",
      "\u001b[0;32m<ipython-input-98-d384e43af586>\u001b[0m in \u001b[0;36m<module>\u001b[0;34m\u001b[0m\n\u001b[0;32m----> 1\u001b[0;31m \u001b[0mtelegram_bot_sendtextgram_bot_sendtext\u001b[0m\u001b[0;34m(\u001b[0m\u001b[0;34m\"模型好囉\"\u001b[0m\u001b[0;34m)\u001b[0m\u001b[0;34m\u001b[0m\u001b[0;34m\u001b[0m\u001b[0m\n\u001b[0m",
      "\u001b[0;31mNameError\u001b[0m: name 'telegram_bot_sendtextgram_bot_sendtext' is not defined"
     ]
    }
   ],
   "source": [
    "telegram_bot_sendtextgram_bot_sendtext(\"模型好囉\")"
   ]
  },
  {
   "cell_type": "code",
   "execution_count": 93,
   "metadata": {
    "ExecuteTime": {
     "end_time": "2019-09-14T15:23:21.998124Z",
     "start_time": "2019-09-14T15:23:21.994828Z"
    }
   },
   "outputs": [
    {
     "name": "stdout",
     "output_type": "stream",
     "text": [
      "{0: 149613, 1: 387}\n"
     ]
    }
   ],
   "source": [
    "unique, counts = np.unique(result, return_counts=True)\n",
    "count_result = dict(zip(unique, counts))\n",
    "print(count_result)"
   ]
  },
  {
   "cell_type": "code",
   "execution_count": 96,
   "metadata": {
    "ExecuteTime": {
     "end_time": "2019-09-14T15:27:25.955275Z",
     "start_time": "2019-09-14T15:24:58.879195Z"
    }
   },
   "outputs": [
    {
     "data": {
      "text/plain": [
       "XGBRegressor(base_score=0.5, booster='gbtree', colsample_bylevel=1,\n",
       "             colsample_bytree=1, gamma=0, learning_rate=0.1, max_delta_step=0,\n",
       "             max_depth=6, min_child_weight=1, missing=None, n_estimators=10000,\n",
       "             n_jobs=1, nthread=None, objective='reg:linear', random_state=0,\n",
       "             reg_alpha=0, reg_lambda=1, scale_pos_weight=1, seed=None,\n",
       "             silent=True, subsample=1, tree_method='gpu_hist')"
      ]
     },
     "execution_count": 96,
     "metadata": {},
     "output_type": "execute_result"
    }
   ],
   "source": [
    "import xgboost as xgb\n",
    "\n",
    "model = xgb.XGBRegressor(n_estimators=10000, tree_method='gpu_hist', max_depth=6)\n",
    "\n",
    "model.fit(smote_x, s_y)"
   ]
  },
  {
   "cell_type": "code",
   "execution_count": 97,
   "metadata": {
    "ExecuteTime": {
     "end_time": "2019-09-14T15:28:10.547758Z",
     "start_time": "2019-09-14T15:27:26.957050Z"
    }
   },
   "outputs": [],
   "source": [
    "result_train = model.predict(smote_x)\n",
    "result_test = model.predict(testdf)"
   ]
  },
  {
   "cell_type": "code",
   "execution_count": 112,
   "metadata": {
    "ExecuteTime": {
     "end_time": "2019-09-14T15:30:39.118269Z",
     "start_time": "2019-09-14T15:30:39.115079Z"
    }
   },
   "outputs": [
    {
     "data": {
      "text/plain": [
       "(74421,)"
      ]
     },
     "execution_count": 112,
     "metadata": {},
     "output_type": "execute_result"
    }
   ],
   "source": [
    "result_test[result_test>0.035].shape"
   ]
  },
  {
   "cell_type": "code",
   "execution_count": 107,
   "metadata": {
    "ExecuteTime": {
     "end_time": "2019-09-14T15:30:25.894244Z",
     "start_time": "2019-09-14T15:30:25.891450Z"
    }
   },
   "outputs": [
    {
     "data": {
      "text/plain": [
       "(150000,)"
      ]
     },
     "execution_count": 107,
     "metadata": {},
     "output_type": "execute_result"
    }
   ],
   "source": [
    "result.shape"
   ]
  },
  {
   "cell_type": "code",
   "execution_count": 104,
   "metadata": {
    "ExecuteTime": {
     "end_time": "2019-09-14T15:29:03.585163Z",
     "start_time": "2019-09-14T15:29:03.484842Z"
    }
   },
   "outputs": [
    {
     "data": {
      "image/png": "[encoded data removed]",
      "text/plain": [
       "<Figure size 432x288 with 1 Axes>"
      ]
     },
     "metadata": {
      "needs_background": "light"
     },
     "output_type": "display_data"
    }
   ],
   "source": [
    "import matplotlib.pyplot as plt\n",
    "plt.hist(result_test)\n",
    "plt.show()"
   ]
  },
  {
   "cell_type": "code",
   "execution_count": null,
   "metadata": {},
   "outputs": [],
   "source": []
  },
  {
   "cell_type": "code",
   "execution_count": null,
   "metadata": {},
   "outputs": [],
   "source": []
  },
  {
   "cell_type": "code",
   "execution_count": null,
   "metadata": {},
   "outputs": [],
   "source": []
  },
  {
   "cell_type": "code",
   "execution_count": 113,
   "metadata": {
    "ExecuteTime": {
     "end_time": "2019-09-14T15:34:50.013054Z",
     "start_time": "2019-09-14T15:34:42.272135Z"
    }
   },
   "outputs": [
    {
     "data": {
      "text/plain": [
       "XGBRegressor(base_score=0.5, booster='gbtree', colsample_bylevel=1,\n",
       "             colsample_bytree=1, gamma=0, learning_rate=0.1, max_delta_step=0,\n",
       "             max_depth=3, min_child_weight=1, missing=None, n_estimators=1000,\n",
       "             n_jobs=1, nthread=None, objective='reg:linear', random_state=0,\n",
       "             reg_alpha=0, reg_lambda=1, scale_pos_weight=1, seed=None,\n",
       "             silent=True, subsample=1, tree_method='gpu_hist')"
      ]
     },
     "execution_count": 113,
     "metadata": {},
     "output_type": "execute_result"
    }
   ],
   "source": [
    "import xgboost as xgb\n",
    "\n",
    "model = xgb.XGBRegressor(n_estimators=1000, tree_method='gpu_hist')\n",
    "\n",
    "model.fit(smote_x, s_y)"
   ]
  },
  {
   "cell_type": "code",
   "execution_count": 114,
   "metadata": {
    "ExecuteTime": {
     "end_time": "2019-09-14T15:34:54.231713Z",
     "start_time": "2019-09-14T15:34:51.018185Z"
    }
   },
   "outputs": [],
   "source": [
    "result_train = model.predict(smote_x)\n",
    "result_test = model.predict(testdf)"
   ]
  },
  {
   "cell_type": "code",
   "execution_count": 118,
   "metadata": {
    "ExecuteTime": {
     "end_time": "2019-09-14T15:35:16.347486Z",
     "start_time": "2019-09-14T15:35:16.344194Z"
    }
   },
   "outputs": [
    {
     "data": {
      "text/plain": [
       "(74718,)"
      ]
     },
     "execution_count": 118,
     "metadata": {},
     "output_type": "execute_result"
    }
   ],
   "source": [
    "result_test[result_test>0.05].shape"
   ]
  },
  {
   "cell_type": "code",
   "execution_count": 119,
   "metadata": {
    "ExecuteTime": {
     "end_time": "2019-09-14T15:35:47.234168Z",
     "start_time": "2019-09-14T15:35:47.231409Z"
    }
   },
   "outputs": [
    {
     "data": {
      "text/plain": [
       "(150000,)"
      ]
     },
     "execution_count": 119,
     "metadata": {},
     "output_type": "execute_result"
    }
   ],
   "source": [
    "result.shape"
   ]
  },
  {
   "cell_type": "code",
   "execution_count": 120,
   "metadata": {
    "ExecuteTime": {
     "end_time": "2019-09-14T15:35:48.376548Z",
     "start_time": "2019-09-14T15:35:48.279968Z"
    }
   },
   "outputs": [
    {
     "data": {
      "image/png": "[encoded data removed]",
      "text/plain": [
       "<Figure size 432x288 with 1 Axes>"
      ]
     },
     "metadata": {
      "needs_background": "light"
     },
     "output_type": "display_data"
    }
   ],
   "source": [
    "import matplotlib.pyplot as plt\n",
    "plt.hist(result_test)\n",
    "plt.show()"
   ]
  },
  {
   "cell_type": "code",
   "execution_count": null,
   "metadata": {},
   "outputs": [],
   "source": []
  }
 ],
 "metadata": {
  "hide_input": false,
  "kernelspec": {
   "display_name": "gpu",
   "language": "python",
   "name": "gpu"
  },
  "language_info": {
   "codemirror_mode": {
    "name": "ipython",
    "version": 3
   },
   "file_extension": ".py",
   "mimetype": "text/x-python",
   "name": "python",
   "nbconvert_exporter": "python",
   "pygments_lexer": "ipython3",
   "version": "3.6.9"
  },
  "varInspector": {
   "cols": {
    "lenName": 16,
    "lenType": 16,
    "lenVar": 40
   },
   "kernels_config": {
    "python": {
     "delete_cmd_postfix": "",
     "delete_cmd_prefix": "del ",
     "library": "var_list.py",
     "varRefreshCmd": "print(var_dic_list())"
    },
    "r": {
     "delete_cmd_postfix": ") ",
     "delete_cmd_prefix": "rm(",
     "library": "var_list.r",
     "varRefreshCmd": "cat(var_dic_list()) "
    }
   },
   "types_to_exclude": [
    "module",
    "function",
    "builtin_function_or_method",
    "instance",
    "_Feature"
   ],
   "window_display": false
  }
 },
 "nbformat": 4,
 "nbformat_minor": 2
}
