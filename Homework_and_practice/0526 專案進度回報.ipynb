{
 "cells": [
  {
   "cell_type": "markdown",
   "metadata": {},
   "source": [
    "# 主題：健康上網AI守門員！ 色情圖片辨識\n",
    "### 組員：陳怡升、張睿傑、李志恆<br/>\n",
    "#### 概述：\n",
    "我們希望打造一個新型態的健康上網守門員<br/>透過色情圖片辨識，當偵測到使用者在瀏覽色情內容時，將會自動播放歌曲[Big Enough](https://www.youtube.com/watch?v=rvrZJ5C_Nwg)中[牛仔的尖叫片段](https://www.youtube.com/watch?v=Qcp2W1-SFt4)，<br/>並按下ALT+F4關閉視窗或讓滑鼠到處飄移亂點造成使用者無法正常操作電腦。\n",
    "\n",
    "#### 目的：\n",
    "本來我們想做色情圖片辨識，不過想想辨識出來也要有個用途，靈光一閃就想到這個\"健康上網AI守門員\"的idea<br/>\n",
    "如果成功，會在暑假將其改良成開機後自動在背景執行，為我國青少年身心健康發展盡一份心力。\n",
    "\n",
    "#### 具體做法：\n",
    "我們將透過github上的[NSFW數據庫](https://github.com/GantMan/nsfw_model)來取得資料進行訓練<br/>我們使用Keras中的InceptionV3模型來辨識，後面再使用CNN跟NN去做學習，來打造色情圖片辨識模型。<br/>\n",
    "然後將該模型抓出來，打造成一個能夠辨識使用者有無在瀏覽色情內容的程式<br/>\n",
    "該程式將定期做螢幕截圖並辨識傑途中是否有色情內容。<br/>如果有，將會自動播放歌曲Big Enough中牛仔的尖叫片段，\n",
    "並按下ALT+F4關閉視窗或讓滑鼠到處飄移亂點造成使用者無法正常操作電腦。<br/>\n",
    "音樂播放的部分目前規劃使用os.system開啟，目前也在尋找其他支援播放mp3的moudle，不過還沒找到<br/>\n",
    "關閉視窗、讓滑鼠飄移亂點，讓使用者無法正常操作將使用autopy套件來達成。\n",
    "\n",
    "#### 進度規劃：\n",
    "0521-0523：準備資料<br/>\n",
    "0523-0528：訓練模型<br/>\n",
    "0528-0602：將程式本體建置完成<br/>\n",
    "0602-0605：撰寫文本的部分，準備上台報告，準備呈現影片<br/>\n",
    "\n",
    "#### 目前進度：\n",
    "目前訓練準確度已高達81%，隨著訓練次數增加持續上升中。\n"
   ]
  },
  {
   "cell_type": "code",
   "execution_count": null,
   "metadata": {},
   "outputs": [],
   "source": []
  },
  {
   "cell_type": "code",
   "execution_count": null,
   "metadata": {},
   "outputs": [],
   "source": []
  },
  {
   "cell_type": "code",
   "execution_count": null,
   "metadata": {},
   "outputs": [],
   "source": []
  }
 ],
 "metadata": {
  "kernelspec": {
   "display_name": "Python 3",
   "language": "python",
   "name": "python3"
  },
  "language_info": {
   "codemirror_mode": {
    "name": "ipython",
    "version": 3
   },
   "file_extension": ".py",
   "mimetype": "text/x-python",
   "name": "python",
   "nbconvert_exporter": "python",
   "pygments_lexer": "ipython3",
   "version": "3.6.5"
  }
 },
 "nbformat": 4,
 "nbformat_minor": 2
}
