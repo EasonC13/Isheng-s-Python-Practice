{
 "cells": [
  {
   "cell_type": "code",
   "execution_count": 1,
   "metadata": {
    "ExecuteTime": {
     "end_time": "2019-09-15T13:08:39.300015Z",
     "start_time": "2019-09-15T13:08:38.918784Z"
    }
   },
   "outputs": [],
   "source": [
    "import pandas as pd\n",
    "import numpy as np\n",
    "import matplotlib.pyplot as plt"
   ]
  },
  {
   "cell_type": "code",
   "execution_count": 7,
   "metadata": {
    "ExecuteTime": {
     "end_time": "2019-09-15T13:08:52.093160Z",
     "start_time": "2019-09-15T13:08:52.091234Z"
    }
   },
   "outputs": [],
   "source": [
    "import sklearn"
   ]
  },
  {
   "cell_type": "code",
   "execution_count": 8,
   "metadata": {
    "ExecuteTime": {
     "end_time": "2019-09-15T13:08:52.656390Z",
     "start_time": "2019-09-15T13:08:52.653746Z"
    }
   },
   "outputs": [],
   "source": [
    "import requests\n",
    "def telegram_bot_sendtext(bot_message):\n",
    "    \n",
    "    bot_token = '661544421:AAHuZSMukZmFlhU-npE23CowogP375a0au4'\n",
    "    bot_chatID = '-225157366'\n",
    "    send_text = 'https://api.telegram.org/bot' + bot_token + '/sendMessage?chat_id=' + bot_chatID + '&parse_mode=Markdown&text=' + bot_message\n",
    "\n",
    "    response = requests.get(send_text)\n",
    "\n",
    "    return response.json()\n"
   ]
  },
  {
   "cell_type": "code",
   "execution_count": 9,
   "metadata": {
    "ExecuteTime": {
     "end_time": "2019-09-15T13:08:56.540594Z",
     "start_time": "2019-09-15T13:08:53.359201Z"
    }
   },
   "outputs": [
    {
     "name": "stderr",
     "output_type": "stream",
     "text": [
      "/home/fio/anaconda3/envs/gpu/lib/python3.6/site-packages/IPython/core/interactiveshell.py:3058: DtypeWarning: Columns (17,21,22) have mixed types. Specify dtype option on import or set low_memory=False.\n",
      "  interactivity=interactivity, compiler=compiler, result=result)\n"
     ]
    }
   ],
   "source": [
    "train_y = (pd.read_csv(\"./data/train.csv\", encoding='big5')['Y1']==\"Y\")+0\n",
    "\n",
    "train_x = pd.read_csv(\"./data/0915_train_pro.csv\").drop(columns = 'Unnamed: 0')\n",
    "\n",
    "test_x = pd.read_csv(\"./data/0915_test_pro.csv\").drop(columns = 'Unnamed: 0')"
   ]
  },
  {
   "cell_type": "code",
   "execution_count": 10,
   "metadata": {
    "ExecuteTime": {
     "end_time": "2019-09-15T13:08:56.842535Z",
     "start_time": "2019-09-15T13:08:56.676343Z"
    }
   },
   "outputs": [
    {
     "data": {
      "text/plain": [
       "(4000, 294)"
      ]
     },
     "execution_count": 10,
     "metadata": {},
     "output_type": "execute_result"
    }
   ],
   "source": [
    "from imblearn.under_sampling import RandomUnderSampler\n",
    "\n",
    "RS = RandomUnderSampler(random_state=8787)\n",
    "\n",
    "train_x, train_y = RS.fit_resample(train_x, train_y)\n",
    "train_x = pd.DataFrame(train_x)\n",
    "train_x.columns = test_x.columns\n",
    "train_x.shape"
   ]
  },
  {
   "cell_type": "code",
   "execution_count": 11,
   "metadata": {
    "ExecuteTime": {
     "end_time": "2019-09-15T13:08:57.825157Z",
     "start_time": "2019-09-15T13:08:57.820519Z"
    }
   },
   "outputs": [],
   "source": [
    "from sklearn.model_selection import train_test_split\n",
    "x_train, x_valid, y_train, y_valid = train_test_split(train_x, train_y, test_size=0.4, random_state = 8787)\n",
    "#x_train, y_train = train_x, train_y"
   ]
  },
  {
   "cell_type": "code",
   "execution_count": 12,
   "metadata": {
    "ExecuteTime": {
     "end_time": "2019-09-15T13:08:58.900620Z",
     "start_time": "2019-09-15T13:08:58.366179Z"
    }
   },
   "outputs": [
    {
     "name": "stdout",
     "output_type": "stream",
     "text": [
      "Score is 0.736875\n"
     ]
    }
   ],
   "source": [
    "import xgboost as xgb\n",
    "\n",
    "model = xgb.XGBClassifier(n_estimators=100, tree_method='gpu_hist', slient= 0, max_depth=4)\n",
    "\n",
    "model.fit(x_train, y_train)\n",
    "print(\"Score is\", sklearn.metrics.accuracy_score(model.predict(x_valid), y_valid))"
   ]
  },
  {
   "cell_type": "code",
   "execution_count": 13,
   "metadata": {
    "ExecuteTime": {
     "end_time": "2019-09-15T13:08:59.981482Z",
     "start_time": "2019-09-15T13:08:59.979580Z"
    }
   },
   "outputs": [],
   "source": [
    "models = []\n",
    "models.append(model)"
   ]
  },
  {
   "cell_type": "code",
   "execution_count": 14,
   "metadata": {
    "ExecuteTime": {
     "end_time": "2019-09-15T13:09:01.104508Z",
     "start_time": "2019-09-15T13:09:00.607001Z"
    }
   },
   "outputs": [],
   "source": [
    "tests = model.predict(test_x).reshape(-1,1)\n",
    "valids = model.predict(x_valid).reshape(-1, 1)"
   ]
  },
  {
   "cell_type": "code",
   "execution_count": 15,
   "metadata": {
    "ExecuteTime": {
     "end_time": "2019-09-15T13:09:01.688953Z",
     "start_time": "2019-09-15T13:09:01.686037Z"
    }
   },
   "outputs": [],
   "source": [
    "from pathlib import Path\n",
    "from keras.preprocessing.image import ImageDataGenerator\n",
    "from keras.backend import clear_session\n",
    "from keras.optimizers import SGD\n",
    "from keras.models import Model, load_model\n",
    "from keras.layers import Dense, Dropout, Flatten, AveragePooling2D\n",
    "from keras import regularizers\n",
    "from keras.initializers import he_normal\n",
    "from keras.callbacks import ModelCheckpoint, LearningRateScheduler, EarlyStopping\n",
    "\n",
    "from keras.callbacks import TensorBoard\n",
    "import time\n",
    "from time import time as currentTime\n",
    "import tensorflow as tf\n",
    "import keras"
   ]
  },
  {
   "cell_type": "code",
   "execution_count": 16,
   "metadata": {
    "ExecuteTime": {
     "end_time": "2019-09-15T13:09:02.988206Z",
     "start_time": "2019-09-15T13:09:02.984938Z"
    }
   },
   "outputs": [],
   "source": [
    "def build_model():\n",
    "    in_out = keras.Input(shape = (294,), name = \"input\")\n",
    "    out=in_out\n",
    "    for i in [100,100, 100]:\n",
    "        out1 = Dense(i, activation = \"relu\")(out)\n",
    "        out2 = Dense(i, activation = \"sigmoid\")(out)\n",
    "        out = keras.layers.concatenate([out1, out2])\n",
    "        out = Dropout(0.3)(out)\n",
    "    output = Dense(2, activation = \"softmax\")(out)\n",
    "\n",
    "    model = keras.Model(\n",
    "        inputs = [in_out],\n",
    "        outputs = output\n",
    "    )\n",
    "    model.compile(loss = \"categorical_crossentropy\",\n",
    "              optimizer = 'Adam', metrics = [\"acc\"])\n",
    "    return model"
   ]
  },
  {
   "cell_type": "code",
   "execution_count": 17,
   "metadata": {
    "ExecuteTime": {
     "end_time": "2019-09-15T13:09:03.971338Z",
     "start_time": "2019-09-15T13:09:03.969012Z"
    }
   },
   "outputs": [],
   "source": [
    "from keras.callbacks import TensorBoard\n",
    "import time\n",
    "from time import time as currentTime\n",
    "import tensorflow as tf\n",
    "tensorboard = TensorBoard(log_dir=\"logs/{}\".format(currentTime()))"
   ]
  },
  {
   "cell_type": "code",
   "execution_count": 18,
   "metadata": {
    "ExecuteTime": {
     "end_time": "2019-09-15T13:09:04.410001Z",
     "start_time": "2019-09-15T13:09:04.407727Z"
    }
   },
   "outputs": [],
   "source": [
    "y_train_util = keras.utils.np_utils.to_categorical(y_train)\n",
    "y_valid_util = keras.utils.np_utils.to_categorical(y_valid)"
   ]
  },
  {
   "cell_type": "code",
   "execution_count": 19,
   "metadata": {
    "ExecuteTime": {
     "end_time": "2019-09-15T13:09:09.656013Z",
     "start_time": "2019-09-15T13:09:05.280098Z"
    },
    "scrolled": true
   },
   "outputs": [
    {
     "name": "stdout",
     "output_type": "stream",
     "text": [
      "1600/1600 [==============================] - 0s 17us/step\n",
      "Model 1 score 0.71\n"
     ]
    }
   ],
   "source": [
    "model = build_model()\n",
    "model.fit(x_train, y_train_util, epochs=18,\n",
    "    verbose=0, validation_data = [x_valid, y_valid_util], validation_freq=3,\n",
    "          callbacks=[tensorboard])\n",
    "print(\"Model %d score %.2f\"%(1, model.evaluate(x_valid, y_valid_util)[1]))"
   ]
  },
  {
   "cell_type": "code",
   "execution_count": 20,
   "metadata": {
    "ExecuteTime": {
     "end_time": "2019-09-15T13:30:11.905596Z",
     "start_time": "2019-09-15T13:09:31.026224Z"
    }
   },
   "outputs": [
    {
     "name": "stdout",
     "output_type": "stream",
     "text": [
      "1600/1600 [==============================] - 0s 17us/step\n",
      "Model 0 score 0.72 \n",
      "\n",
      "1600/1600 [==============================] - 0s 18us/step\n",
      "Model 1 score 0.72 \n",
      "\n",
      "1600/1600 [==============================] - 0s 19us/step\n",
      "Model 2 score 0.70 \n",
      "\n",
      "1600/1600 [==============================] - 0s 19us/step\n",
      "Model 3 score 0.72 \n",
      "\n",
      "1600/1600 [==============================] - 0s 20us/step\n",
      "Model 4 score 0.72 \n",
      "\n",
      "1600/1600 [==============================] - 0s 20us/step\n",
      "Model 5 score 0.71 \n",
      "\n",
      "1600/1600 [==============================] - 0s 28us/step\n",
      "Model 19 score 0.72 \n",
      "\n",
      "1600/1600 [==============================] - 0s 28us/step\n",
      "Model 20 score 0.69 \n",
      "\n",
      "1600/1600 [==============================] - 0s 29us/step\n",
      "Model 21 score 0.72 \n",
      "\n",
      "1600/1600 [==============================] - 0s 31us/step\n",
      "Model 22 score 0.71 \n",
      "\n",
      "1600/1600 [==============================] - 0s 30us/step\n",
      "Model 23 score 0.72 \n",
      "\n",
      "1600/1600 [==============================] - 0s 31us/step\n",
      "Model 24 score 0.72 \n",
      "\n",
      "1600/1600 [==============================] - 0s 31us/step\n",
      "Model 25 score 0.72 \n",
      "\n",
      "1600/1600 [==============================] - 0s 32us/step\n",
      "Model 26 score 0.67 \n",
      "\n",
      "1600/1600 [==============================] - 0s 32us/step\n",
      "Model 27 score 0.70 \n",
      "\n",
      "1600/1600 [==============================] - 0s 34us/step\n",
      "Model 28 score 0.70 \n",
      "\n",
      "1600/1600 [==============================] - 0s 33us/step\n",
      "Model 29 score 0.72 \n",
      "\n",
      "1600/1600 [==============================] - 0s 34us/step\n",
      "Model 30 score 0.73 \n",
      "\n",
      "1600/1600 [==============================] - 0s 34us/step\n",
      "Model 31 score 0.72 \n",
      "\n",
      "1600/1600 [==============================] - 0s 35us/step\n",
      "Model 32 score 0.71 \n",
      "\n",
      "1600/1600 [==============================] - 0s 36us/step\n",
      "Model 33 score 0.71 \n",
      "\n",
      "1600/1600 [==============================] - 0s 36us/step\n",
      "Model 34 score 0.72 \n",
      "\n",
      "1600/1600 [==============================] - 0s 36us/step\n",
      "Model 35 score 0.71 \n",
      "\n",
      "1600/1600 [==============================] - 0s 37us/step\n",
      "Model 36 score 0.72 \n",
      "\n",
      "1600/1600 [==============================] - 0s 37us/step\n",
      "Model 37 score 0.72 \n",
      "\n",
      "1600/1600 [==============================] - 0s 38us/step\n",
      "Model 38 score 0.72 \n",
      "\n",
      "1600/1600 [==============================] - 0s 39us/step\n",
      "Model 39 score 0.71 \n",
      "\n",
      "1600/1600 [==============================] - 0s 39us/step\n",
      "Model 40 score 0.71 \n",
      "\n",
      "1600/1600 [==============================] - 0s 39us/step\n",
      "Model 41 score 0.72 \n",
      "\n",
      "1600/1600 [==============================] - 0s 40us/step\n",
      "Model 42 score 0.70 \n",
      "\n",
      "1600/1600 [==============================] - 0s 40us/step\n",
      "Model 43 score 0.71 \n",
      "\n",
      "1600/1600 [==============================] - 0s 41us/step\n",
      "Model 44 score 0.71 \n",
      "\n",
      "1600/1600 [==============================] - 0s 44us/step\n",
      "Model 45 score 0.72 \n",
      "\n",
      "1600/1600 [==============================] - 0s 42us/step\n",
      "Model 46 score 0.71 \n",
      "\n",
      "1600/1600 [==============================] - 0s 43us/step\n",
      "Model 47 score 0.72 \n",
      "\n",
      "1600/1600 [==============================] - 0s 42us/step\n",
      "Model 48 score 0.71 \n",
      "\n",
      "1600/1600 [==============================] - 0s 43us/step\n",
      "Model 49 score 0.73 \n",
      "\n",
      "1600/1600 [==============================] - 0s 44us/step\n",
      "Model 50 score 0.70 \n",
      "\n",
      "1600/1600 [==============================] - 0s 45us/step\n",
      "Model 51 score 0.72 \n",
      "\n",
      "1600/1600 [==============================] - 0s 44us/step\n",
      "Model 52 score 0.73 \n",
      "\n",
      "1600/1600 [==============================] - 0s 45us/step\n",
      "Model 53 score 0.71 \n",
      "\n",
      "1600/1600 [==============================] - 0s 46us/step\n",
      "Model 54 score 0.72 \n",
      "\n",
      "1600/1600 [==============================] - 0s 46us/step\n",
      "Model 55 score 0.73 \n",
      "\n",
      "1600/1600 [==============================] - 0s 48us/step\n",
      "Model 56 score 0.71 \n",
      "\n",
      "1600/1600 [==============================] - 0s 48us/step\n",
      "Model 57 score 0.72 \n",
      "\n",
      "1600/1600 [==============================] - 0s 48us/step\n",
      "Model 58 score 0.71 \n",
      "\n",
      "1600/1600 [==============================] - 0s 49us/step\n",
      "Model 59 score 0.68 \n",
      "\n",
      "1600/1600 [==============================] - 0s 51us/step\n",
      "Model 60 score 0.71 \n",
      "\n",
      "1600/1600 [==============================] - 0s 50us/step\n",
      "Model 61 score 0.70 \n",
      "\n",
      "1600/1600 [==============================] - 0s 50us/step\n",
      "Model 62 score 0.72 \n",
      "\n",
      "1600/1600 [==============================] - 0s 50us/step\n",
      "Model 63 score 0.70 \n",
      "\n",
      "1600/1600 [==============================] - 0s 51us/step\n",
      "Model 64 score 0.72 \n",
      "\n",
      "1600/1600 [==============================] - 0s 52us/step\n",
      "Model 65 score 0.72 \n",
      "\n",
      "1600/1600 [==============================] - 0s 51us/step\n",
      "Model 66 score 0.72 \n",
      "\n",
      "1600/1600 [==============================] - 0s 53us/step\n",
      "Model 67 score 0.71 \n",
      "\n",
      "1600/1600 [==============================] - 0s 53us/step\n",
      "Model 68 score 0.71 \n",
      "\n",
      "1600/1600 [==============================] - 0s 53us/step\n",
      "Model 69 score 0.73 \n",
      "\n",
      "1600/1600 [==============================] - 0s 54us/step\n",
      "Model 70 score 0.71 \n",
      "\n",
      "1600/1600 [==============================] - 0s 55us/step\n",
      "Model 71 score 0.72 \n",
      "\n",
      "1600/1600 [==============================] - 0s 55us/step\n",
      "Model 72 score 0.71 \n",
      "\n",
      "1600/1600 [==============================] - 0s 56us/step\n",
      "Model 73 score 0.71 \n",
      "\n",
      "1600/1600 [==============================] - 0s 57us/step\n",
      "Model 74 score 0.73 \n",
      "\n",
      "1600/1600 [==============================] - 0s 58us/step\n",
      "Model 75 score 0.72 \n",
      "\n",
      "1600/1600 [==============================] - 0s 59us/step\n",
      "Model 76 score 0.70 \n",
      "\n",
      "1600/1600 [==============================] - 0s 59us/step\n",
      "Model 77 score 0.72 \n",
      "\n",
      "1600/1600 [==============================] - 0s 60us/step\n",
      "Model 78 score 0.71 \n",
      "\n",
      "1600/1600 [==============================] - 0s 59us/step\n",
      "Model 79 score 0.72 \n",
      "\n"
     ]
    }
   ],
   "source": [
    "for i in range(80):\n",
    "    model = build_model()\n",
    "    model.fit(x_train, y_train_util, epochs=18,\n",
    "        verbose=0, validation_data = [x_valid, y_valid_util], validation_freq=3,\n",
    "              callbacks=[tensorboard])\n",
    "    print(\"Model %d score %.2f \\n\"%(i, model.evaluate(x_valid, y_valid_util)[1]))\n",
    "    valids = np.concatenate((valids, model.predict(x_valid).argmax(axis=1).reshape(-1,1)),\n",
    "                            axis = 1)\n",
    "    tests = np.concatenate((tests, model.predict(test_x).argmax(axis=1).reshape(-1,1)),\n",
    "                            axis = 1)\n",
    "    models.append(model)"
   ]
  },
  {
   "cell_type": "code",
   "execution_count": 22,
   "metadata": {
    "ExecuteTime": {
     "end_time": "2019-09-15T13:48:49.166083Z",
     "start_time": "2019-09-15T13:48:49.163632Z"
    }
   },
   "outputs": [
    {
     "data": {
      "text/plain": [
       "'finsih'"
      ]
     },
     "execution_count": 22,
     "metadata": {},
     "output_type": "execute_result"
    }
   ],
   "source": [
    "\"finsih\""
   ]
  },
  {
   "cell_type": "code",
   "execution_count": 25,
   "metadata": {
    "ExecuteTime": {
     "end_time": "2019-09-15T13:49:34.909902Z",
     "start_time": "2019-09-15T13:49:34.907918Z"
    }
   },
   "outputs": [],
   "source": [
    "temp = valids"
   ]
  },
  {
   "cell_type": "code",
   "execution_count": 31,
   "metadata": {
    "ExecuteTime": {
     "end_time": "2019-09-15T13:51:28.842545Z",
     "start_time": "2019-09-15T13:51:28.839917Z"
    }
   },
   "outputs": [
    {
     "data": {
      "text/plain": [
       "(81,)"
      ]
     },
     "execution_count": 31,
     "metadata": {},
     "output_type": "execute_result"
    }
   ],
   "source": [
    "temp[0].shape"
   ]
  },
  {
   "cell_type": "code",
   "execution_count": 50,
   "metadata": {
    "ExecuteTime": {
     "end_time": "2019-09-15T13:56:52.603066Z",
     "start_time": "2019-09-15T13:56:52.596909Z"
    }
   },
   "outputs": [],
   "source": [
    "temp_valid = []\n",
    "for i in range(temp.shape[0]):    \n",
    "    counts = np.bincount(temp[i])\n",
    "    #返回众数\n",
    "    temp_valid.append(np.argmax(counts))\n",
    "temp_valid = np.array(temp_valid)"
   ]
  },
  {
   "cell_type": "code",
   "execution_count": 49,
   "metadata": {
    "ExecuteTime": {
     "end_time": "2019-09-15T13:56:07.717923Z",
     "start_time": "2019-09-15T13:56:07.713456Z"
    }
   },
   "outputs": [
    {
     "data": {
      "text/plain": [
       "0.73375"
      ]
     },
     "execution_count": 49,
     "metadata": {},
     "output_type": "execute_result"
    }
   ],
   "source": [
    "from sklearn.metrics import accuracy_score\n",
    "accuracy_score(np.array(temp_valid), y_valid)"
   ]
  },
  {
   "cell_type": "code",
   "execution_count": 58,
   "metadata": {
    "ExecuteTime": {
     "end_time": "2019-09-15T14:00:45.154824Z",
     "start_time": "2019-09-15T14:00:45.152254Z"
    }
   },
   "outputs": [
    {
     "data": {
      "text/plain": [
       "81"
      ]
     },
     "execution_count": 58,
     "metadata": {},
     "output_type": "execute_result"
    }
   ],
   "source": []
  },
  {
   "cell_type": "code",
   "execution_count": 172,
   "metadata": {
    "ExecuteTime": {
     "end_time": "2019-09-15T14:23:27.854849Z",
     "start_time": "2019-09-15T14:23:27.745517Z"
    }
   },
   "outputs": [
    {
     "name": "stdout",
     "output_type": "stream",
     "text": [
      "Model: \"model_106\"\n",
      "__________________________________________________________________________________________________\n",
      "Layer (type)                    Output Shape         Param #     Connected to                     \n",
      "==================================================================================================\n",
      "input (InputLayer)              (None, 81)           0                                            \n",
      "__________________________________________________________________________________________________\n",
      "dense_733 (Dense)               (None, 1300)         106600      input[0][0]                      \n",
      "__________________________________________________________________________________________________\n",
      "dense_734 (Dense)               (None, 1300)         106600      input[0][0]                      \n",
      "__________________________________________________________________________________________________\n",
      "concatenate_314 (Concatenate)   (None, 2600)         0           dense_733[0][0]                  \n",
      "                                                                 dense_734[0][0]                  \n",
      "__________________________________________________________________________________________________\n",
      "dropout_314 (Dropout)           (None, 2600)         0           concatenate_314[0][0]            \n",
      "__________________________________________________________________________________________________\n",
      "dense_735 (Dense)               (None, 300)          780300      dropout_314[0][0]                \n",
      "__________________________________________________________________________________________________\n",
      "dense_736 (Dense)               (None, 300)          780300      dropout_314[0][0]                \n",
      "__________________________________________________________________________________________________\n",
      "concatenate_315 (Concatenate)   (None, 600)          0           dense_735[0][0]                  \n",
      "                                                                 dense_736[0][0]                  \n",
      "__________________________________________________________________________________________________\n",
      "dropout_315 (Dropout)           (None, 600)          0           concatenate_315[0][0]            \n",
      "__________________________________________________________________________________________________\n",
      "dense_737 (Dense)               (None, 2)            1202        dropout_315[0][0]                \n",
      "==================================================================================================\n",
      "Total params: 1,775,002\n",
      "Trainable params: 1,775,002\n",
      "Non-trainable params: 0\n",
      "__________________________________________________________________________________________________\n"
     ]
    }
   ],
   "source": [
    "ready_out_la = keras.Input(shape = (valids.shape[1],), name = \"input\")\n",
    "ready_out=ready_out_la\n",
    "for i in [1300, 300]:\n",
    "    ready_out1 = Dense(i, activation = \"relu\")(ready_out)\n",
    "    ready_out2 = Dense(i, activation = \"sigmoid\")(ready_out)\n",
    "    ready_out = keras.layers.concatenate([ready_out1, ready_out2])\n",
    "    ready_out = Dropout(0.3)(ready_out)\n",
    "ready_output = Dense(2, activation = \"softmax\")(ready_out)\n",
    "\n",
    "model = keras.Model(\n",
    "    inputs = [ready_out_la],\n",
    "    outputs = ready_output\n",
    ")\n",
    "model.compile(loss = \"categorical_crossentropy\",\n",
    "          optimizer = 'Adam', metrics = [\"acc\"])\n",
    "model.summary()"
   ]
  },
  {
   "cell_type": "code",
   "execution_count": 173,
   "metadata": {
    "ExecuteTime": {
     "end_time": "2019-09-15T14:23:28.856633Z",
     "start_time": "2019-09-15T14:23:28.853570Z"
    }
   },
   "outputs": [],
   "source": [
    "train_valid_x, test_valid_x, train_valid_y, test_valid_y = train_test_split(temp, y_valid_util, test_size = 0.1, random_state = 8787)"
   ]
  },
  {
   "cell_type": "code",
   "execution_count": 176,
   "metadata": {
    "ExecuteTime": {
     "end_time": "2019-09-15T14:24:17.010574Z",
     "start_time": "2019-09-15T14:24:01.350582Z"
    },
    "scrolled": true
   },
   "outputs": [
    {
     "name": "stdout",
     "output_type": "stream",
     "text": [
      "Train on 1440 samples, validate on 160 samples\n",
      "Epoch 1/85\n",
      "1440/1440 [==============================] - 0s 130us/step - loss: 0.3180 - acc: 0.8653\n",
      "Epoch 2/85\n",
      "1440/1440 [==============================] - 0s 124us/step - loss: 0.3019 - acc: 0.8771\n",
      "Epoch 3/85\n",
      "1440/1440 [==============================] - 0s 134us/step - loss: 0.3378 - acc: 0.8694 - val_loss: 0.9839 - val_acc: 0.6937\n",
      "Epoch 4/85\n",
      "1440/1440 [==============================] - 0s 123us/step - loss: 0.3181 - acc: 0.8750\n",
      "Epoch 5/85\n",
      "1440/1440 [==============================] - 0s 125us/step - loss: 0.3151 - acc: 0.8715\n",
      "Epoch 6/85\n",
      "1440/1440 [==============================] - 0s 134us/step - loss: 0.3118 - acc: 0.8757 - val_loss: 1.0549 - val_acc: 0.7250\n",
      "Epoch 7/85\n",
      "1440/1440 [==============================] - 0s 126us/step - loss: 0.3069 - acc: 0.8729\n",
      "Epoch 8/85\n",
      "1440/1440 [==============================] - 0s 126us/step - loss: 0.3094 - acc: 0.8826\n",
      "Epoch 9/85\n",
      "1440/1440 [==============================] - 0s 136us/step - loss: 0.3133 - acc: 0.8771 - val_loss: 0.9857 - val_acc: 0.7312\n",
      "Epoch 10/85\n",
      "1440/1440 [==============================] - 0s 126us/step - loss: 0.3146 - acc: 0.8778\n",
      "Epoch 11/85\n",
      "1440/1440 [==============================] - 0s 124us/step - loss: 0.3139 - acc: 0.8771\n",
      "Epoch 12/85\n",
      "1440/1440 [==============================] - 0s 135us/step - loss: 0.3117 - acc: 0.8785 - val_loss: 1.0021 - val_acc: 0.6937\n",
      "Epoch 13/85\n",
      "1440/1440 [==============================] - 0s 123us/step - loss: 0.3289 - acc: 0.8715\n",
      "Epoch 14/85\n",
      "1440/1440 [==============================] - 0s 125us/step - loss: 0.3227 - acc: 0.8757\n",
      "Epoch 15/85\n",
      "1440/1440 [==============================] - 0s 133us/step - loss: 0.3005 - acc: 0.8854 - val_loss: 0.9967 - val_acc: 0.7125\n",
      "Epoch 16/85\n",
      "1440/1440 [==============================] - 0s 125us/step - loss: 0.3125 - acc: 0.8736\n",
      "Epoch 17/85\n",
      "1440/1440 [==============================] - 0s 124us/step - loss: 0.3096 - acc: 0.8743\n",
      "Epoch 18/85\n",
      "1440/1440 [==============================] - 0s 132us/step - loss: 0.2988 - acc: 0.8833 - val_loss: 1.1092 - val_acc: 0.7063\n",
      "Epoch 19/85\n",
      "1440/1440 [==============================] - 0s 125us/step - loss: 0.3123 - acc: 0.8785\n",
      "Epoch 20/85\n",
      "1440/1440 [==============================] - 0s 125us/step - loss: 0.3023 - acc: 0.8812\n",
      "Epoch 21/85\n",
      "1440/1440 [==============================] - 0s 134us/step - loss: 0.3030 - acc: 0.8819 - val_loss: 0.9956 - val_acc: 0.7063\n",
      "Epoch 22/85\n",
      "1440/1440 [==============================] - 0s 124us/step - loss: 0.3199 - acc: 0.8722\n",
      "Epoch 23/85\n",
      "1440/1440 [==============================] - 0s 124us/step - loss: 0.3014 - acc: 0.8819\n",
      "Epoch 24/85\n",
      "1440/1440 [==============================] - 0s 134us/step - loss: 0.2985 - acc: 0.8771 - val_loss: 1.0285 - val_acc: 0.7188\n",
      "Epoch 25/85\n",
      "1440/1440 [==============================] - 0s 125us/step - loss: 0.3005 - acc: 0.8819\n",
      "Epoch 26/85\n",
      "1440/1440 [==============================] - 0s 124us/step - loss: 0.3175 - acc: 0.8757\n",
      "Epoch 27/85\n",
      "1440/1440 [==============================] - 0s 133us/step - loss: 0.2976 - acc: 0.8847 - val_loss: 1.1220 - val_acc: 0.6937\n",
      "Epoch 28/85\n",
      "1440/1440 [==============================] - 0s 124us/step - loss: 0.2968 - acc: 0.8882\n",
      "Epoch 29/85\n",
      "1440/1440 [==============================] - 0s 126us/step - loss: 0.3003 - acc: 0.8792\n",
      "Epoch 30/85\n",
      "1440/1440 [==============================] - 0s 132us/step - loss: 0.3011 - acc: 0.8819 - val_loss: 1.0759 - val_acc: 0.7000\n",
      "Epoch 31/85\n",
      "1440/1440 [==============================] - 0s 125us/step - loss: 0.3038 - acc: 0.8806\n",
      "Epoch 32/85\n",
      "1440/1440 [==============================] - 0s 125us/step - loss: 0.2887 - acc: 0.8861\n",
      "Epoch 33/85\n",
      "1440/1440 [==============================] - 0s 132us/step - loss: 0.3019 - acc: 0.8812 - val_loss: 1.0429 - val_acc: 0.7063\n",
      "Epoch 34/85\n",
      "1440/1440 [==============================] - 0s 124us/step - loss: 0.3067 - acc: 0.8792\n",
      "Epoch 35/85\n",
      "1440/1440 [==============================] - 0s 127us/step - loss: 0.2976 - acc: 0.8819\n",
      "Epoch 36/85\n",
      "1440/1440 [==============================] - 0s 133us/step - loss: 0.2969 - acc: 0.8840 - val_loss: 1.0464 - val_acc: 0.7000\n",
      "Epoch 37/85\n",
      "1440/1440 [==============================] - 0s 125us/step - loss: 0.3006 - acc: 0.8806\n",
      "Epoch 38/85\n",
      "1440/1440 [==============================] - 0s 124us/step - loss: 0.2976 - acc: 0.8840\n",
      "Epoch 39/85\n",
      "1440/1440 [==============================] - 0s 132us/step - loss: 0.2884 - acc: 0.8819 - val_loss: 1.0869 - val_acc: 0.6875\n",
      "Epoch 40/85\n",
      "1440/1440 [==============================] - 0s 125us/step - loss: 0.2883 - acc: 0.8868\n",
      "Epoch 41/85\n",
      "1440/1440 [==============================] - 0s 125us/step - loss: 0.3060 - acc: 0.8778\n",
      "Epoch 42/85\n",
      "1440/1440 [==============================] - 0s 133us/step - loss: 0.3197 - acc: 0.8764 - val_loss: 1.0332 - val_acc: 0.7000\n",
      "Epoch 43/85\n",
      "1440/1440 [==============================] - 0s 123us/step - loss: 0.3040 - acc: 0.8840\n",
      "Epoch 44/85\n",
      "1440/1440 [==============================] - 0s 124us/step - loss: 0.3056 - acc: 0.8806\n",
      "Epoch 45/85\n",
      "1440/1440 [==============================] - 0s 134us/step - loss: 0.3001 - acc: 0.8792 - val_loss: 1.0710 - val_acc: 0.7000\n",
      "Epoch 46/85\n",
      "1440/1440 [==============================] - 0s 123us/step - loss: 0.3044 - acc: 0.8868\n",
      "Epoch 47/85\n",
      "1440/1440 [==============================] - 0s 126us/step - loss: 0.3008 - acc: 0.8833\n",
      "Epoch 48/85\n",
      "1440/1440 [==============================] - 0s 135us/step - loss: 0.2988 - acc: 0.8861 - val_loss: 1.0540 - val_acc: 0.7063\n",
      "Epoch 49/85\n",
      "1440/1440 [==============================] - 0s 126us/step - loss: 0.3088 - acc: 0.8785\n",
      "Epoch 50/85\n",
      "1440/1440 [==============================] - 0s 126us/step - loss: 0.3066 - acc: 0.8757\n",
      "Epoch 51/85\n",
      "1440/1440 [==============================] - 0s 133us/step - loss: 0.2900 - acc: 0.8896 - val_loss: 1.1418 - val_acc: 0.7063\n",
      "Epoch 52/85\n",
      "1440/1440 [==============================] - 0s 125us/step - loss: 0.2907 - acc: 0.8903\n",
      "Epoch 53/85\n",
      "1440/1440 [==============================] - 0s 124us/step - loss: 0.2965 - acc: 0.8861\n",
      "Epoch 54/85\n",
      "1440/1440 [==============================] - 0s 133us/step - loss: 0.2888 - acc: 0.8854 - val_loss: 1.1332 - val_acc: 0.7000\n",
      "Epoch 55/85\n",
      "1440/1440 [==============================] - 0s 124us/step - loss: 0.2844 - acc: 0.8903\n",
      "Epoch 56/85\n",
      "1440/1440 [==============================] - 0s 122us/step - loss: 0.2993 - acc: 0.8882\n",
      "Epoch 57/85\n",
      "1440/1440 [==============================] - 0s 133us/step - loss: 0.2870 - acc: 0.8840 - val_loss: 1.1499 - val_acc: 0.7000\n",
      "Epoch 58/85\n",
      "1440/1440 [==============================] - 0s 124us/step - loss: 0.3047 - acc: 0.8819\n",
      "Epoch 59/85\n",
      "1440/1440 [==============================] - 0s 125us/step - loss: 0.2899 - acc: 0.8868\n",
      "Epoch 60/85\n",
      "1440/1440 [==============================] - 0s 133us/step - loss: 0.3012 - acc: 0.8819 - val_loss: 1.1891 - val_acc: 0.7125\n",
      "Epoch 61/85\n",
      "1440/1440 [==============================] - 0s 123us/step - loss: 0.2924 - acc: 0.8840\n",
      "Epoch 62/85\n",
      "1440/1440 [==============================] - 0s 124us/step - loss: 0.2937 - acc: 0.8854\n",
      "Epoch 63/85\n",
      "1440/1440 [==============================] - 0s 133us/step - loss: 0.2903 - acc: 0.8896 - val_loss: 1.1083 - val_acc: 0.7000\n",
      "Epoch 64/85\n",
      "1440/1440 [==============================] - 0s 125us/step - loss: 0.3246 - acc: 0.8694\n",
      "Epoch 65/85\n",
      "1440/1440 [==============================] - 0s 126us/step - loss: 0.2902 - acc: 0.8861\n",
      "Epoch 66/85\n",
      "1440/1440 [==============================] - 0s 134us/step - loss: 0.2966 - acc: 0.8861 - val_loss: 1.1023 - val_acc: 0.7125\n",
      "Epoch 67/85\n",
      "1440/1440 [==============================] - 0s 125us/step - loss: 0.2934 - acc: 0.8799\n",
      "Epoch 68/85\n",
      "1440/1440 [==============================] - 0s 125us/step - loss: 0.2980 - acc: 0.8819\n",
      "Epoch 69/85\n",
      "1440/1440 [==============================] - 0s 134us/step - loss: 0.2956 - acc: 0.8861 - val_loss: 1.1866 - val_acc: 0.6813\n",
      "Epoch 70/85\n",
      "1440/1440 [==============================] - 0s 122us/step - loss: 0.2886 - acc: 0.8903\n",
      "Epoch 71/85\n",
      "1440/1440 [==============================] - 0s 125us/step - loss: 0.2965 - acc: 0.8882\n",
      "Epoch 72/85\n",
      "1440/1440 [==============================] - 0s 134us/step - loss: 0.2926 - acc: 0.8910 - val_loss: 1.1190 - val_acc: 0.6687\n",
      "Epoch 73/85\n"
     ]
    },
    {
     "name": "stdout",
     "output_type": "stream",
     "text": [
      "1440/1440 [==============================] - 0s 126us/step - loss: 0.2972 - acc: 0.8882\n",
      "Epoch 74/85\n",
      "1440/1440 [==============================] - 0s 125us/step - loss: 0.2897 - acc: 0.8882\n",
      "Epoch 75/85\n",
      "1440/1440 [==============================] - 0s 132us/step - loss: 0.2989 - acc: 0.8868 - val_loss: 1.1208 - val_acc: 0.7063\n",
      "Epoch 76/85\n",
      "1440/1440 [==============================] - 0s 124us/step - loss: 0.2943 - acc: 0.8861\n",
      "Epoch 77/85\n",
      "1440/1440 [==============================] - 0s 126us/step - loss: 0.2896 - acc: 0.8861\n",
      "Epoch 78/85\n",
      "1440/1440 [==============================] - 0s 132us/step - loss: 0.2793 - acc: 0.8875 - val_loss: 1.1395 - val_acc: 0.6875\n",
      "Epoch 79/85\n",
      "1440/1440 [==============================] - 0s 124us/step - loss: 0.2878 - acc: 0.8910\n",
      "Epoch 80/85\n",
      "1440/1440 [==============================] - 0s 123us/step - loss: 0.2852 - acc: 0.8903\n",
      "Epoch 81/85\n",
      "1440/1440 [==============================] - 0s 132us/step - loss: 0.2797 - acc: 0.8903 - val_loss: 1.1562 - val_acc: 0.7063\n",
      "Epoch 82/85\n",
      "1440/1440 [==============================] - 0s 127us/step - loss: 0.2833 - acc: 0.8882\n",
      "Epoch 83/85\n",
      "1440/1440 [==============================] - 0s 124us/step - loss: 0.2923 - acc: 0.8826\n",
      "Epoch 84/85\n",
      "1440/1440 [==============================] - 0s 133us/step - loss: 0.2858 - acc: 0.8882 - val_loss: 1.1720 - val_acc: 0.7250\n",
      "Epoch 85/85\n",
      "1440/1440 [==============================] - 0s 127us/step - loss: 0.2801 - acc: 0.8944\n"
     ]
    },
    {
     "data": {
      "text/plain": [
       "<keras.callbacks.History at 0x7f6457a20320>"
      ]
     },
     "execution_count": 176,
     "metadata": {},
     "output_type": "execute_result"
    }
   ],
   "source": [
    "model.fit(train_valid_x, train_valid_y, epochs=85, verbose=1,\n",
    "          validation_data= [test_valid_x, test_valid_y], validation_freq= 3)"
   ]
  },
  {
   "cell_type": "code",
   "execution_count": 177,
   "metadata": {
    "ExecuteTime": {
     "end_time": "2019-09-15T14:24:17.587803Z",
     "start_time": "2019-09-15T14:24:17.467139Z"
    }
   },
   "outputs": [
    {
     "name": "stdout",
     "output_type": "stream",
     "text": [
      "1440/1440 [==============================] - 0s 73us/step\n",
      "160/160 [==============================] - 0s 75us/step\n"
     ]
    },
    {
     "data": {
      "text/plain": [
       "([0.2672401196426816, 0.8993055555555556], [1.16314594745636, 0.70625])"
      ]
     },
     "execution_count": 177,
     "metadata": {},
     "output_type": "execute_result"
    }
   ],
   "source": [
    "model.evaluate(train_valid_x, train_valid_y), model.evaluate(test_valid_x, test_valid_y)"
   ]
  },
  {
   "cell_type": "code",
   "execution_count": 159,
   "metadata": {
    "ExecuteTime": {
     "end_time": "2019-09-15T14:21:12.642364Z",
     "start_time": "2019-09-15T14:21:12.524436Z"
    }
   },
   "outputs": [
    {
     "name": "stdout",
     "output_type": "stream",
     "text": [
      "1440/1440 [==============================] - 0s 71us/step\n",
      "160/160 [==============================] - 0s 73us/step\n"
     ]
    },
    {
     "data": {
      "text/plain": [
       "([0.2926975283357832, 0.88125], [1.0258247077465057, 0.7])"
      ]
     },
     "execution_count": 159,
     "metadata": {},
     "output_type": "execute_result"
    }
   ],
   "source": [
    "model.evaluate(train_valid_x, train_valid_y), model.evaluate(test_valid_x, test_valid_y)"
   ]
  },
  {
   "cell_type": "code",
   "execution_count": 155,
   "metadata": {
    "ExecuteTime": {
     "end_time": "2019-09-15T14:20:45.125188Z",
     "start_time": "2019-09-15T14:20:45.006544Z"
    }
   },
   "outputs": [
    {
     "name": "stdout",
     "output_type": "stream",
     "text": [
      "1440/1440 [==============================] - 0s 72us/step\n",
      "160/160 [==============================] - 0s 72us/step\n"
     ]
    },
    {
     "data": {
      "text/plain": [
       "([0.29432350595792134, 0.8833333333333333], [1.096831452846527, 0.725])"
      ]
     },
     "execution_count": 155,
     "metadata": {},
     "output_type": "execute_result"
    }
   ],
   "source": [
    "model.evaluate(train_valid_x, train_valid_y), model.evaluate(test_valid_x, test_valid_y)"
   ]
  },
  {
   "cell_type": "code",
   "execution_count": null,
   "metadata": {},
   "outputs": [],
   "source": [
    "\n"
   ]
  },
  {
   "cell_type": "code",
   "execution_count": 220,
   "metadata": {
    "ExecuteTime": {
     "end_time": "2019-09-15T14:29:38.749627Z",
     "start_time": "2019-09-15T14:29:38.156998Z"
    }
   },
   "outputs": [
    {
     "name": "stdout",
     "output_type": "stream",
     "text": [
      "Score is 0.7125\n"
     ]
    }
   ],
   "source": [
    "train_valid_x, test_valid_x, train_valid_y, test_valid_y = train_test_split(temp, y_valid, test_size = 0.1, random_state = 8787)\n",
    "import xgboost as xgb\n",
    "\n",
    "model = xgb.XGBClassifier(n_estimators=100, tree_method='gpu_hist', slient= 0, max_depth=10)\n",
    "\n",
    "model.fit(train_valid_x, train_valid_y)\n",
    "print(\"Score is\", sklearn.metrics.accuracy_score(model.predict(test_valid_x), test_valid_y))"
   ]
  },
  {
   "cell_type": "code",
   "execution_count": 221,
   "metadata": {
    "ExecuteTime": {
     "end_time": "2019-09-15T14:29:39.922696Z",
     "start_time": "2019-09-15T14:29:39.783369Z"
    }
   },
   "outputs": [
    {
     "name": "stdout",
     "output_type": "stream",
     "text": [
      "Score is 0.70625\n"
     ]
    }
   ],
   "source": [
    "rf = sklearn.ensemble.RandomForestClassifier(n_estimators=100)\n",
    "rf.fit(train_valid_x, train_valid_y)\n",
    "print(\"Score is\", sklearn.metrics.accuracy_score(rf.predict(test_valid_x), test_valid_y))"
   ]
  },
  {
   "cell_type": "markdown",
   "metadata": {},
   "source": [
    "結果xgboost最好，所以我使用xgboost來投票"
   ]
  },
  {
   "cell_type": "code",
   "execution_count": 223,
   "metadata": {
    "ExecuteTime": {
     "end_time": "2019-09-15T14:30:40.827618Z",
     "start_time": "2019-09-15T14:30:40.181082Z"
    }
   },
   "outputs": [
    {
     "name": "stdout",
     "output_type": "stream",
     "text": [
      "Score is 0.899375\n"
     ]
    }
   ],
   "source": [
    "#train_valid_x, test_valid_x, train_valid_y, test_valid_y = train_test_split(temp, y_valid, test_size = 0.1, random_state = 8787)\n",
    "train_valid_x, train_valid_y = temp, y_valid\n",
    "\n",
    "import xgboost as xgb\n",
    "\n",
    "model = xgb.XGBClassifier(n_estimators=100, tree_method='gpu_hist', slient= 0, max_depth=10)\n",
    "\n",
    "model.fit(train_valid_x, train_valid_y)\n",
    "print(\"Score is\", sklearn.metrics.accuracy_score(model.predict(train_valid_x), train_valid_y))"
   ]
  },
  {
   "cell_type": "code",
   "execution_count": 224,
   "metadata": {
    "ExecuteTime": {
     "end_time": "2019-09-15T14:31:04.214364Z",
     "start_time": "2019-09-15T14:31:04.211871Z"
    }
   },
   "outputs": [
    {
     "data": {
      "text/plain": [
       "(150000, 81)"
      ]
     },
     "execution_count": 224,
     "metadata": {},
     "output_type": "execute_result"
    }
   ],
   "source": [
    "tests.shape"
   ]
  },
  {
   "cell_type": "code",
   "execution_count": 227,
   "metadata": {
    "ExecuteTime": {
     "end_time": "2019-09-15T14:31:17.200921Z",
     "start_time": "2019-09-15T14:31:17.125474Z"
    }
   },
   "outputs": [],
   "source": [
    "result = model.predict(tests)"
   ]
  },
  {
   "cell_type": "code",
   "execution_count": 231,
   "metadata": {
    "ExecuteTime": {
     "end_time": "2019-09-15T14:32:59.387794Z",
     "start_time": "2019-09-15T14:32:59.120876Z"
    }
   },
   "outputs": [],
   "source": [
    "submit = pd.read_csv(\"./data/submit_test.csv\")\n",
    "\n",
    "submit.Ypred = result\n",
    "\n",
    "submit.to_csv(\"./data/submit/0915_night.csv\")"
   ]
  },
  {
   "cell_type": "code",
   "execution_count": null,
   "metadata": {},
   "outputs": [],
   "source": []
  }
 ],
 "metadata": {
  "hide_input": false,
  "kernelspec": {
   "display_name": "gpu",
   "language": "python",
   "name": "gpu"
  },
  "language_info": {
   "codemirror_mode": {
    "name": "ipython",
    "version": 3
   },
   "file_extension": ".py",
   "mimetype": "text/x-python",
   "name": "python",
   "nbconvert_exporter": "python",
   "pygments_lexer": "ipython3",
   "version": "3.6.9"
  },
  "varInspector": {
   "cols": {
    "lenName": 16,
    "lenType": 16,
    "lenVar": 40
   },
   "kernels_config": {
    "python": {
     "delete_cmd_postfix": "",
     "delete_cmd_prefix": "del ",
     "library": "var_list.py",
     "varRefreshCmd": "print(var_dic_list())"
    },
    "r": {
     "delete_cmd_postfix": ") ",
     "delete_cmd_prefix": "rm(",
     "library": "var_list.r",
     "varRefreshCmd": "cat(var_dic_list()) "
    }
   },
   "types_to_exclude": [
    "module",
    "function",
    "builtin_function_or_method",
    "instance",
    "_Feature"
   ],
   "window_display": false
  }
 },
 "nbformat": 4,
 "nbformat_minor": 2
}
