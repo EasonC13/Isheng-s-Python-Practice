{
 "cells": [
  {
   "cell_type": "code",
   "execution_count": 203,
   "metadata": {},
   "outputs": [],
   "source": [
    "%matplotlib inline\n",
    "import numpy as np\n",
    "import pandas as pd\n",
    "import matplotlib.pyplot as plt\n",
    "import os \n",
    "import numpy as np \n",
    "import pandas as pd \n",
    "import pickle \n",
    "import quandl \n",
    "from datetime import datetime\n",
    "from selenium import webdriver\n",
    "from sklearn.model_selection import train_test_split\n",
    "from sklearn.linear_model import LinearRegression\n",
    "#我只是import 爽的..."
   ]
  },
  {
   "cell_type": "code",
   "execution_count": 35,
   "metadata": {},
   "outputs": [],
   "source": [
    "a=\"http://e-service.cwb.gov.tw/HistoryDataQuery/DayDataController.do?command=viewMain&station=C0AH70&stname=%25E6%259D%25BE%25E5%25B1%25B1&datepicker=2019-03-31\"\n",
    "rw=list(a)"
   ]
  },
  {
   "cell_type": "code",
   "execution_count": 51,
   "metadata": {},
   "outputs": [],
   "source": [
    "data=[]\n",
    "for i in range(1,32):\n",
    "    a=rw\n",
    "    \n",
    "    a[-2]=str(int(i/10))\n",
    "    a[-1]=str(i%10)\n",
    "    a=''.join(a)\n",
    "    data.append(a)"
   ]
  },
  {
   "cell_type": "markdown",
   "metadata": {},
   "source": [
    "取得松山測站三月份的全部觀測資料<br/>\n",
    "做初步資料整理後  併入一個名為df的list裡面"
   ]
  },
  {
   "cell_type": "code",
   "execution_count": 301,
   "metadata": {},
   "outputs": [],
   "source": [
    "df=[]\n",
    "col_n = ['StnPres','Temperature','RH','WS','WD',]\n",
    "for i in range(0,31):\n",
    "    a=pd.read_html(data[i])\n",
    "    a=a[1].dropna()\n",
    "    a.columns=list(a.loc[2])\n",
    "    a=a.drop(1)\n",
    "    a=a.drop(2)\n",
    "    a = pd.DataFrame(a,columns = col_n)\n",
    "    a=a.reset_index(drop=True)\n",
    "    \n",
    "    df.append(a)"
   ]
  },
  {
   "cell_type": "code",
   "execution_count": 304,
   "metadata": {},
   "outputs": [
    {
     "data": {
      "text/html": [
       "<div>\n",
       "<style scoped>\n",
       "    .dataframe tbody tr th:only-of-type {\n",
       "        vertical-align: middle;\n",
       "    }\n",
       "\n",
       "    .dataframe tbody tr th {\n",
       "        vertical-align: top;\n",
       "    }\n",
       "\n",
       "    .dataframe thead th {\n",
       "        text-align: right;\n",
       "    }\n",
       "</style>\n",
       "<table border=\"1\" class=\"dataframe\">\n",
       "  <thead>\n",
       "    <tr style=\"text-align: right;\">\n",
       "      <th></th>\n",
       "      <th>StnPres</th>\n",
       "      <th>Temperature</th>\n",
       "      <th>RH</th>\n",
       "      <th>WS</th>\n",
       "      <th>WD</th>\n",
       "    </tr>\n",
       "  </thead>\n",
       "  <tbody>\n",
       "    <tr>\n",
       "      <th>0</th>\n",
       "      <td>1014.9</td>\n",
       "      <td>17.7</td>\n",
       "      <td>77</td>\n",
       "      <td>2.1</td>\n",
       "      <td>78</td>\n",
       "    </tr>\n",
       "    <tr>\n",
       "      <th>1</th>\n",
       "      <td>1015.0</td>\n",
       "      <td>17.7</td>\n",
       "      <td>79</td>\n",
       "      <td>1.9</td>\n",
       "      <td>75</td>\n",
       "    </tr>\n",
       "    <tr>\n",
       "      <th>2</th>\n",
       "      <td>1014.8</td>\n",
       "      <td>18.0</td>\n",
       "      <td>79</td>\n",
       "      <td>1.7</td>\n",
       "      <td>81</td>\n",
       "    </tr>\n",
       "    <tr>\n",
       "      <th>3</th>\n",
       "      <td>1014.8</td>\n",
       "      <td>18.0</td>\n",
       "      <td>79</td>\n",
       "      <td>1.8</td>\n",
       "      <td>83</td>\n",
       "    </tr>\n",
       "    <tr>\n",
       "      <th>4</th>\n",
       "      <td>1014.5</td>\n",
       "      <td>17.9</td>\n",
       "      <td>81</td>\n",
       "      <td>2.3</td>\n",
       "      <td>87</td>\n",
       "    </tr>\n",
       "  </tbody>\n",
       "</table>\n",
       "</div>"
      ],
      "text/plain": [
       "  StnPres Temperature  RH   WS  WD\n",
       "0  1014.9        17.7  77  2.1  78\n",
       "1  1015.0        17.7  79  1.9  75\n",
       "2  1014.8        18.0  79  1.7  81\n",
       "3  1014.8        18.0  79  1.8  83\n",
       "4  1014.5        17.9  81  2.3  87"
      ]
     },
     "execution_count": 304,
     "metadata": {},
     "output_type": "execute_result"
    }
   ],
   "source": [
    "df[0].head()"
   ]
  },
  {
   "cell_type": "markdown",
   "metadata": {},
   "source": [
    "將資料轉換為Array準備進行訓練<br/>\n",
    "其中有一日的資料有缺漏，故使用Try,Error來排除"
   ]
  },
  {
   "cell_type": "code",
   "execution_count": 478,
   "metadata": {},
   "outputs": [],
   "source": [
    "npdf=[]\n",
    "for i in range(31):\n",
    "    a=np.array(df[i])\n",
    "    #print(i)\n",
    "    try:a=a.astype(np.float64)\n",
    "    except ValueError:pass\n",
    "    npdf.append(a)\n",
    "npdf=np.array(npdf)"
   ]
  },
  {
   "cell_type": "code",
   "execution_count": 479,
   "metadata": {
    "scrolled": false
   },
   "outputs": [
    {
     "data": {
      "text/plain": [
       "31"
      ]
     },
     "execution_count": 479,
     "metadata": {},
     "output_type": "execute_result"
    }
   ],
   "source": [
    "len(npdf)"
   ]
  },
  {
   "cell_type": "code",
   "execution_count": null,
   "metadata": {},
   "outputs": [],
   "source": []
  },
  {
   "cell_type": "code",
   "execution_count": 480,
   "metadata": {},
   "outputs": [],
   "source": [
    "c=[]\n",
    "for i in range(31):\n",
    "    a= '/' not in npdf[i]\n",
    "    c.append(a)\n",
    "npdf=npdf[c]"
   ]
  },
  {
   "cell_type": "code",
   "execution_count": null,
   "metadata": {},
   "outputs": [],
   "source": []
  },
  {
   "cell_type": "markdown",
   "metadata": {},
   "source": [
    "這個動作很精華<br/>\n",
    "我將資料型態整理為可訓練的樣子"
   ]
  },
  {
   "cell_type": "code",
   "execution_count": 483,
   "metadata": {},
   "outputs": [
    {
     "data": {
      "text/plain": [
       "30"
      ]
     },
     "execution_count": 483,
     "metadata": {},
     "output_type": "execute_result"
    }
   ],
   "source": [
    "npdf=npdf.reshape(30,int(len(npdf.reshape(-1))/30))\n",
    "len(npdf)"
   ]
  },
  {
   "cell_type": "markdown",
   "metadata": {},
   "source": [
    "取得3/2~3/31中午12時的氣溫"
   ]
  },
  {
   "cell_type": "code",
   "execution_count": 484,
   "metadata": {},
   "outputs": [],
   "source": [
    "TomorrowTempreture=[]\n",
    "for i in range(1,31):\n",
    "    TomorrowTempreture.append(df[i]['Temperature'][13])\n",
    "TomorrowTempreture.append('16.6') #手動補上4月一號的溫度\n",
    "TomorrowTempreture=np.array(TomorrowTempreture).reshape(-1,1)"
   ]
  },
  {
   "cell_type": "code",
   "execution_count": 510,
   "metadata": {},
   "outputs": [],
   "source": [
    "TomorrowTempreture=[]\n",
    "for i in range(1,31):\n",
    "    TomorrowTempreture.append(df[i]['Temperature'][13])\n",
    "TomorrowTempreture.append('16.6') #手動補上4月一號的溫度\n",
    "TomorrowTempreture=np.array(TomorrowTempreture).reshape(-1,1)"
   ]
  },
  {
   "cell_type": "code",
   "execution_count": 511,
   "metadata": {},
   "outputs": [
    {
     "data": {
      "text/plain": [
       "31"
      ]
     },
     "execution_count": 511,
     "metadata": {},
     "output_type": "execute_result"
    }
   ],
   "source": [
    "d=[True]+c[0:-1]\n",
    "TomorrowTempreture=TomorrowTempreture[d]\n",
    "len(d)"
   ]
  },
  {
   "cell_type": "code",
   "execution_count": 512,
   "metadata": {},
   "outputs": [],
   "source": [
    "npdf_train,npdf_test,TomorrowTempreture_train,TomorrowTempreture_test=train_test_split(npdf,TomorrowTempreture,test_size=0.3,random_state=9)"
   ]
  },
  {
   "cell_type": "code",
   "execution_count": 513,
   "metadata": {},
   "outputs": [],
   "source": [
    "GoPredict=LinearRegression()"
   ]
  },
  {
   "cell_type": "code",
   "execution_count": 514,
   "metadata": {},
   "outputs": [
    {
     "data": {
      "text/plain": [
       "LinearRegression(copy_X=True, fit_intercept=True, n_jobs=1, normalize=False)"
      ]
     },
     "execution_count": 514,
     "metadata": {},
     "output_type": "execute_result"
    }
   ],
   "source": [
    "GoPredict.fit(npdf_train,TomorrowTempreture_train)"
   ]
  },
  {
   "cell_type": "code",
   "execution_count": 515,
   "metadata": {},
   "outputs": [],
   "source": [
    "#我還需要把npdf轉換成能訓練的格式，可能要把他一日的全部併成一個array"
   ]
  },
  {
   "cell_type": "code",
   "execution_count": null,
   "metadata": {},
   "outputs": [],
   "source": []
  },
  {
   "cell_type": "code",
   "execution_count": 516,
   "metadata": {},
   "outputs": [],
   "source": [
    "TomorrowTempreture_predict=GoPredict.predict(npdf_test)"
   ]
  },
  {
   "cell_type": "code",
   "execution_count": 517,
   "metadata": {},
   "outputs": [
    {
     "data": {
      "text/plain": [
       "array([[1008.3, 18.3, 87.0, ..., 69.0, 1.2, 75.0],\n",
       "       [1014.6, 17.0, 69.0, ..., 77.0, 1.0, 290.0],\n",
       "       [1012.7, 18.2, 81.0, ..., 85.0, 1.8, 79.0],\n",
       "       ...,\n",
       "       [1012.9, 20.0, 79.0, ..., 72.0, 0.6, 72.0],\n",
       "       [1008.9, 24.2, 77.0, ..., 78.0, 0.7, 62.0],\n",
       "       [1013.5, 15.7, 70.0, ..., 54.0, 0.6, 68.0]], dtype=object)"
      ]
     },
     "execution_count": 517,
     "metadata": {},
     "output_type": "execute_result"
    }
   ],
   "source": [
    "npdf_test"
   ]
  },
  {
   "cell_type": "code",
   "execution_count": 518,
   "metadata": {},
   "outputs": [
    {
     "data": {
      "text/plain": [
       "array([[39.27837762],\n",
       "       [56.96336908],\n",
       "       [24.58963568],\n",
       "       [21.85493296],\n",
       "       [34.60116711],\n",
       "       [18.81445543],\n",
       "       [26.3899559 ],\n",
       "       [54.70611445],\n",
       "       [31.47332177]])"
      ]
     },
     "execution_count": 518,
     "metadata": {},
     "output_type": "execute_result"
    }
   ],
   "source": [
    "TomorrowTempreture_predict"
   ]
  },
  {
   "cell_type": "code",
   "execution_count": 519,
   "metadata": {},
   "outputs": [
    {
     "data": {
      "text/plain": [
       "array([['17.6'],\n",
       "       ['20.0'],\n",
       "       ['21.9'],\n",
       "       ['19.2'],\n",
       "       ['13.6'],\n",
       "       ['24.8'],\n",
       "       ['28.3'],\n",
       "       ['29.0'],\n",
       "       ['24.1']], dtype='<U4')"
      ]
     },
     "execution_count": 519,
     "metadata": {},
     "output_type": "execute_result"
    }
   ],
   "source": [
    "TomorrowTempreture_test"
   ]
  },
  {
   "cell_type": "code",
   "execution_count": null,
   "metadata": {},
   "outputs": [],
   "source": []
  },
  {
   "cell_type": "code",
   "execution_count": null,
   "metadata": {},
   "outputs": [],
   "source": []
  }
 ],
 "metadata": {
  "kernelspec": {
   "display_name": "Python 3",
   "language": "python",
   "name": "python3"
  },
  "language_info": {
   "codemirror_mode": {
    "name": "ipython",
    "version": 3
   },
   "file_extension": ".py",
   "mimetype": "text/x-python",
   "name": "python",
   "nbconvert_exporter": "python",
   "pygments_lexer": "ipython3",
   "version": "3.6.5"
  }
 },
 "nbformat": 4,
 "nbformat_minor": 2
}
