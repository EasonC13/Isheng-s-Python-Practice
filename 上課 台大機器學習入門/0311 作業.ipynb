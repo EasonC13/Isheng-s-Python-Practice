{
 "cells": [
  {
   "cell_type": "code",
   "execution_count": 2,
   "metadata": {},
   "outputs": [],
   "source": [
    "%matplotlib inline\n",
    "import numpy as np\n",
    "import matplotlib.pyplot as plt\n",
    "import pandas as pd\n",
    "from ipywidgets import interact"
   ]
  },
  {
   "cell_type": "code",
   "execution_count": 60,
   "metadata": {},
   "outputs": [
    {
     "data": {
      "application/vnd.jupyter.widget-view+json": {
       "model_id": "e39a924b3cf84c52913311095ee65355",
       "version_major": 2,
       "version_minor": 0
      },
      "text/plain": [
       "interactive(children=(Text(value='a', description='x'), Output()), _dom_classes=('widget-interact',))"
      ]
     },
     "metadata": {},
     "output_type": "display_data"
    },
    {
     "data": {
      "text/plain": [
       "<function __main__.testord(x='a')>"
      ]
     },
     "execution_count": 60,
     "metadata": {},
     "output_type": "execute_result"
    }
   ],
   "source": [
    "#查看輸入字的ANSCII代碼\n",
    "def testord(x='a'):\n",
    "    try:\n",
    "        print(ord(x))\n",
    "    except TypeError:\n",
    "        if len(x)>1:\n",
    "            print(\"please enter only one number\")\n",
    "        else:\n",
    "            print(\"Please enter one number\")\n",
    "interact(testord,x='a')"
   ]
  },
  {
   "cell_type": "code",
   "execution_count": 44,
   "metadata": {},
   "outputs": [
    {
     "data": {
      "application/vnd.jupyter.widget-view+json": {
       "model_id": "69e304d8e75f4ee29945e16fb38d2762",
       "version_major": 2,
       "version_minor": 0
      },
      "text/plain": [
       "interactive(children=(Text(value='a', description='x'), Output()), _dom_classes=('widget-interact',))"
      ]
     },
     "metadata": {},
     "output_type": "display_data"
    },
    {
     "data": {
      "text/plain": [
       "<function __main__.testord(x='a')>"
      ]
     },
     "execution_count": 44,
     "metadata": {},
     "output_type": "execute_result"
    }
   ],
   "source": [
    "interact(testord,x='a')"
   ]
  },
  {
   "cell_type": "code",
   "execution_count": 1,
   "metadata": {},
   "outputs": [
    {
     "name": "stdout",
     "output_type": "stream",
     "text": [
      "Please only enter \n",
      "1. Punctuation\n",
      "2. English Letters\n",
      "3. Chinese letters\n"
     ]
    },
    {
     "data": {
      "application/vnd.jupyter.widget-view+json": {
       "model_id": "68dbf32e33fd46ee87dbc645cf93ac4c",
       "version_major": 2,
       "version_minor": 0
      },
      "text/plain": [
       "interactive(children=(Text(value='a', description='x'), Output()), _dom_classes=('widget-interact',))"
      ]
     },
     "metadata": {},
     "output_type": "display_data"
    },
    {
     "data": {
      "text/plain": [
       "<function __main__.mains(x='a')>"
      ]
     },
     "execution_count": 1,
     "metadata": {},
     "output_type": "execute_result"
    }
   ],
   "source": [
    "#測定輸入的文字為數字、字母或中文\n",
    "from ipywidgets import interact\n",
    "def dectord(x):\n",
    "    c=ord(x)\n",
    "    if c<=57 and c>=48:\n",
    "        print('Number')\n",
    "    elif c<=47:\n",
    "        print('Punctuation')\n",
    "    elif c<=64 and c>=58:\n",
    "        print('Punctuation')\n",
    "    elif c>=65 and c<=90:\n",
    "        print('Upper case letter')\n",
    "    elif c>=97 and c<=122:\n",
    "        print(\"Lower case letters\")\n",
    "    elif c>=123 and c<=200:\n",
    "        print('Punctuation')\n",
    "    elif c>10000:\n",
    "        print(\"Chinese letters\")\n",
    "    else:\n",
    "        print(\"Other letters.\")\n",
    "def mains(x='a'):\n",
    "    '''This function can help you to dected which type you are entering'''\n",
    "    if len(x)==1:\n",
    "        dectord(x)\n",
    "    elif len(x)>1:\n",
    "        print(\"please enter only one number\")\n",
    "    else:\n",
    "        print(\"Please enter one number\")\n",
    "\n",
    "print(\"Please only enter \\n1. Punctuation\\n2. English Letters\\n3. Chinese letters\")\n",
    "interact(mains,x='a')"
   ]
  },
  {
   "cell_type": "code",
   "execution_count": null,
   "metadata": {},
   "outputs": [],
   "source": []
  },
  {
   "cell_type": "code",
   "execution_count": 58,
   "metadata": {},
   "outputs": [
    {
     "name": "stdout",
     "output_type": "stream",
     "text": [
      "請選擇欲前往都市\n"
     ]
    },
    {
     "data": {
      "application/vnd.jupyter.widget-view+json": {
       "model_id": "17df1d34bc674c2981db10f26a44e73b",
       "version_major": 2,
       "version_minor": 0
      },
      "text/plain": [
       "interactive(children=(Dropdown(description='x', options={'台北': 1, '台中': 2, '高雄': 3}, value=1), Output()), _dom…"
      ]
     },
     "metadata": {},
     "output_type": "display_data"
    },
    {
     "data": {
      "text/plain": [
       "<function __main__.typein(x)>"
      ]
     },
     "execution_count": 58,
     "metadata": {},
     "output_type": "execute_result"
    }
   ],
   "source": [
    "def typein(x):\n",
    "    if x==1:\n",
    "        print('台北很冷')\n",
    "    elif x==2:\n",
    "        print('台中空氣很糟')\n",
    "    elif x==3:\n",
    "        print('高雄發大財')\n",
    "print(\"請選擇欲前往都市\")\n",
    "interact(typein,x={'台北':1,'台中':2,'高雄':3})"
   ]
  },
  {
   "cell_type": "code",
   "execution_count": 61,
   "metadata": {},
   "outputs": [
    {
     "data": {
      "application/vnd.jupyter.widget-view+json": {
       "model_id": "55aab8bf06a04a6bad1001e96aea023d",
       "version_major": 2,
       "version_minor": 0
      },
      "text/plain": [
       "interactive(children=(Text(value='a', description='x'), Output()), _dom_classes=('widget-interact',))"
      ]
     },
     "metadata": {},
     "output_type": "display_data"
    },
    {
     "data": {
      "text/plain": [
       "<function __main__.testord(x='a')>"
      ]
     },
     "execution_count": 61,
     "metadata": {},
     "output_type": "execute_result"
    }
   ],
   "source": [
    "%matplotlib inline\n",
    "import numpy as np\n",
    "import matplotlib.pyplot as plt\n",
    "import pandas as pd\n",
    "from ipywidgets import interact\n",
    "\n",
    "def transcode(x=''):\n",
    "    "
   ]
  },
  {
   "cell_type": "code",
   "execution_count": 128,
   "metadata": {},
   "outputs": [
    {
     "name": "stdout",
     "output_type": "stream",
     "text": [
      "[25105, 22909, 24859, 20320]\n",
      "我好愛你\n"
     ]
    }
   ],
   "source": [
    "ins='我好愛你'\n",
    "transtra=[]\n",
    "for i in range(len(ins)):\n",
    "    transtra.append(ord(ins[i]))\n",
    "print(transtra)\n",
    "\n",
    "transtrb=[]\n",
    "for i in range(len(transtra)):\n",
    "    transtrb.append(chr(transtra[i]))\n",
    "final=''.join(str(i) for i in transtrb)\n",
    "print(final)"
   ]
  },
  {
   "cell_type": "code",
   "execution_count": 2,
   "metadata": {
    "scrolled": true
   },
   "outputs": [
    {
     "name": "stdout",
     "output_type": "stream",
     "text": [
      "m = mode\n",
      "x = Type in char\n",
      "s = seed\n"
     ]
    },
    {
     "data": {
      "application/vnd.jupyter.widget-view+json": {
       "model_id": "2b0966b46da045409ded9099d38ab927",
       "version_major": 2,
       "version_minor": 0
      },
      "text/plain": [
       "interactive(children=(Dropdown(description='m', options={'加密': 1, '解密': 2}, value=1), Text(value='', descripti…"
      ]
     },
     "metadata": {},
     "output_type": "display_data"
    },
    {
     "data": {
      "text/plain": [
       "<function __main__.main(m, x, s)>"
      ]
     },
     "execution_count": 2,
     "metadata": {},
     "output_type": "execute_result"
    }
   ],
   "source": [
    "'''此程式可以透過設定seed代碼，將文字加密\n",
    "並透過使用同樣的seed代碼，將文字解密\n",
    "要加密或解密，可透過選單選擇\n",
    "有了它，就可以跟朋友 #用暗號聊天 了呢！'''\n",
    "#加密與解密文字程式\n",
    "%matplotlib inline\n",
    "import numpy as np\n",
    "import matplotlib.pyplot as plt\n",
    "import pandas as pd\n",
    "from ipywidgets import interact\n",
    "def main(m,x,s):\n",
    "    if m==1:\n",
    "        trans(x,s)\n",
    "    elif m==2:\n",
    "        tranb(x,s)\n",
    "    else:\n",
    "        print('mode error')\n",
    "def tranb(x,s=1):\n",
    "    try: s=int(s)\n",
    "    except ValueError:\n",
    "        print('Please enter the seed')\n",
    "        s=0\n",
    "    transtra=[]\n",
    "    for i in range(len(x)):\n",
    "        try:\n",
    "            temp=ord(x[i])-(s*s*i*5+s)\n",
    "            temp=chr(temp)\n",
    "        except ValueError:\n",
    "            print(\"Error\")\n",
    "        transtra.append(temp)\n",
    "    final=''.join(str(i) for i in transtra)\n",
    "    print(final)\n",
    "def trans(x,s=1):\n",
    "    try: s=int(s)\n",
    "    except ValueError:\n",
    "        print('Please enter the seed')\n",
    "        s=0\n",
    "    transtra=[]\n",
    "    for i in range(len(x)):\n",
    "        temp=ord(x[i])+(s*s*i*5+s)\n",
    "        temp=chr(temp)\n",
    "        transtra.append(temp)\n",
    "    final=''.join(str(i) for i in transtra)\n",
    "    print(final)\n",
    "    \n",
    "    \n",
    "print('m = mode\\nx = Type in char\\ns = seed')\n",
    "interact(main,m={'加密':1,'解密':2},x='',s='0')"
   ]
  },
  {
   "cell_type": "code",
   "execution_count": 1,
   "metadata": {},
   "outputs": [
    {
     "name": "stdout",
     "output_type": "stream",
     "text": [
      "m = mode\n",
      "x = Type in char\n",
      "s = seed\n"
     ]
    },
    {
     "data": {
      "application/vnd.jupyter.widget-view+json": {
       "model_id": "95f29f79b58c442aa097bdfbc1b937d3",
       "version_major": 2,
       "version_minor": 0
      },
      "text/plain": [
       "interactive(children=(Dropdown(description='m', options={'加密': 1, '解密': 2}, value=1), Text(value='', descripti…"
      ]
     },
     "metadata": {},
     "output_type": "display_data"
    },
    {
     "data": {
      "text/plain": [
       "<function __main__.main(m, x, s)>"
      ]
     },
     "execution_count": 1,
     "metadata": {},
     "output_type": "execute_result"
    }
   ],
   "source": [
    "'''此程式可以透過設定seed代碼，將文字加密\n",
    "並透過使用同樣的seed代碼，將文字解密\n",
    "要加密或解密，可透過選單選擇\n",
    "有了它，就可以跟朋友 #用暗號聊天 了呢'''\n",
    "#加密與解密文字程式\n",
    "%matplotlib inline\n",
    "import numpy as np\n",
    "import matplotlib.pyplot as plt\n",
    "import pandas as pd\n",
    "from ipywidgets import interact\n",
    "\n",
    "def main(m,x,s): \n",
    "#'''主程式，決定要加密還是解密'''\n",
    "    if m==1:\n",
    "        trans(x,s)\n",
    "    elif m==2:\n",
    "        tranb(x,s)\n",
    "    else:\n",
    "        print('mode error')\n",
    "\n",
    "def tranb(x,s=1): #解密程式\n",
    "    try: s=int(s)\n",
    "    except ValueError:\n",
    "        print('Please enter the seed')\n",
    "        s=0\n",
    "    transtra=[]\n",
    "    for i in range(len(x)):\n",
    "        try:\n",
    "            temp=ord(x[i])-(s*s*i*5+s)\n",
    "            temp=chr(temp)\n",
    "        except ValueError:\n",
    "            print(\"Error\")\n",
    "        transtra.append(temp)\n",
    "    final=''.join(str(i) for i in transtra)\n",
    "    print(final)\n",
    "\n",
    "def trans(x,s=1): #加密程式\n",
    "    try: s=int(s)\n",
    "    except ValueError:\n",
    "        print('Please enter the seed')\n",
    "        s=0\n",
    "    transtra=[]\n",
    "    for i in range(len(x)):\n",
    "        temp=ord(x[i])+(s*s*i*5+s)\n",
    "        temp=chr(temp)\n",
    "        transtra.append(temp)\n",
    "    final=''.join(str(i) for i in transtra)\n",
    "    print(final)\n",
    "\n",
    "print('m = mode\\nx = Type in char\\ns = seed')\n",
    "interact(main,m={'加密':1,'解密':2},x='',s='0')"
   ]
  },
  {
   "cell_type": "code",
   "execution_count": 152,
   "metadata": {},
   "outputs": [
    {
     "name": "stdout",
     "output_type": "stream",
     "text": [
      "[683608, 683362, 678823]\n"
     ]
    },
    {
     "data": {
      "text/plain": [
       "['[',\n",
       " '6',\n",
       " '8',\n",
       " '3',\n",
       " '6',\n",
       " '0',\n",
       " '8',\n",
       " ',',\n",
       " ' ',\n",
       " '6',\n",
       " '8',\n",
       " '3',\n",
       " '3',\n",
       " '6',\n",
       " '2',\n",
       " ',',\n",
       " ' ',\n",
       " '6',\n",
       " '7',\n",
       " '8',\n",
       " '8',\n",
       " '2',\n",
       " '3',\n",
       " ']']"
      ]
     },
     "execution_count": 152,
     "metadata": {},
     "output_type": "execute_result"
    }
   ],
   "source": []
  },
  {
   "cell_type": "code",
   "execution_count": 13,
   "metadata": {},
   "outputs": [
    {
     "name": "stdout",
     "output_type": "stream",
     "text": [
      "m = mode\n",
      "x = Type in char\n"
     ]
    },
    {
     "data": {
      "application/vnd.jupyter.widget-view+json": {
       "model_id": "a7338faddeb84f8fa49f56ebffc656d9",
       "version_major": 2,
       "version_minor": 0
      },
      "text/plain": [
       "interactive(children=(Dropdown(description='m', options={'加密': 1, '解密': 2}, value=1), Text(value='', descripti…"
      ]
     },
     "metadata": {},
     "output_type": "display_data"
    },
    {
     "data": {
      "text/plain": [
       "<function __main__.main(m, x, s)>"
      ]
     },
     "execution_count": 13,
     "metadata": {},
     "output_type": "execute_result"
    }
   ],
   "source": [
    "'''此程式可以透過設定seed代碼，將文字加密\n",
    "並透過使用同樣的seed代碼，將文字解密\n",
    "要加密或解密，可透過選單選擇\n",
    "有了它，就可以跟朋友 #用暗號聊天 了呢'''\n",
    "#加密與解密文字程式\n",
    "%matplotlib inline\n",
    "import numpy as np\n",
    "import matplotlib.pyplot as plt\n",
    "import pandas as pd\n",
    "from ipywidgets import interact\n",
    "\n",
    "def main(m,x,s): \n",
    "#'''主程式，決定要加密還是解密'''\n",
    "    if m==1:\n",
    "        trans(x,s)\n",
    "    elif m==2:\n",
    "        tranb(x,s)\n",
    "    else:\n",
    "        print('mode error')\n",
    "\n",
    "def tranb(x,s=1): #解密程式\n",
    "    try: s=int(s)\n",
    "    except ValueError:\n",
    "        print('Please enter the seed')\n",
    "        s=0\n",
    "    transtra=[]\n",
    "    for i in range(len(x)):\n",
    "        try:\n",
    "            temp=ord(x[i])-(s*s*i*5-2)\n",
    "            temp=chr(temp)\n",
    "        except ValueError:\n",
    "            print(\"Error\")\n",
    "        transtra.append(temp)\n",
    "    final=''.join(str(i) for i in transtra)\n",
    "    print(final)\n",
    "\n",
    "def trans(x,s=1): #加密程式\n",
    "    try: s=int(s)\n",
    "    except ValueError:\n",
    "        print('Please enter the seed')\n",
    "        s=0\n",
    "    transtra=[]\n",
    "    for i in range(len(x)):\n",
    "        temp=ord(x[i])+(s*s*i*5+2)\n",
    "        temp=chr(temp)\n",
    "        transtra.append(temp)\n",
    "    final=''.join(str(i) for i in transtra)\n",
    "    print(final)\n",
    "\n",
    "print('m = mode\\nx = Type in char')\n",
    "interact(main,m={'加密':1,'解密':2},x='',s='0')"
   ]
  },
  {
   "cell_type": "code",
   "execution_count": null,
   "metadata": {},
   "outputs": [],
   "source": []
  }
 ],
 "metadata": {
  "kernelspec": {
   "display_name": "Python 3",
   "language": "python",
   "name": "python3"
  },
  "language_info": {
   "codemirror_mode": {
    "name": "ipython",
    "version": 3
   },
   "file_extension": ".py",
   "mimetype": "text/x-python",
   "name": "python",
   "nbconvert_exporter": "python",
   "pygments_lexer": "ipython3",
   "version": "3.6.5"
  }
 },
 "nbformat": 4,
 "nbformat_minor": 2
}
