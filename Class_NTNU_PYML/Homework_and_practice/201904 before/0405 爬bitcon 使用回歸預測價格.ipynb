{
 "cells": [
  {
   "cell_type": "code",
   "execution_count": 4,
   "metadata": {},
   "outputs": [],
   "source": [
    "%matplotlib inline\n",
    "import numpy as np\n",
    "import pandas as pd\n",
    "import matplotlib.pyplot as plt"
   ]
  },
  {
   "cell_type": "code",
   "execution_count": 5,
   "metadata": {},
   "outputs": [],
   "source": [
    "#form https://buzzorange.com/techorange/2017/12/18/how-to-use-python-predict-bitcoin/"
   ]
  },
  {
   "cell_type": "code",
   "execution_count": 6,
   "metadata": {
    "scrolled": false
   },
   "outputs": [],
   "source": [
    "#pd.read_html('https://stock-ai.com/cryptoCurrency')"
   ]
  },
  {
   "cell_type": "code",
   "execution_count": 7,
   "metadata": {},
   "outputs": [],
   "source": [
    "import os \n",
    "import numpy as np \n",
    "import pandas as pd \n",
    "import pickle \n",
    "import quandl \n",
    "from datetime import datetime"
   ]
  },
  {
   "cell_type": "code",
   "execution_count": 8,
   "metadata": {},
   "outputs": [],
   "source": [
    "def get_quandl_data(quandl_id): \n",
    "    \"\"\"Download and cache Quandl dataseries\"\"\" \n",
    "    cache_path = '{}.pkl'.format(quandl_id).replace('/','-')\n",
    "    try:\n",
    "        f = open(cache_path, 'rb')\n",
    "        df = pickle.load(f)\n",
    "        print(\"Loaded {} from cache\".format(quandl_id)) \n",
    "    except (OSError, IOError) as e: \n",
    "        print(\"Downloading {} from Quandl’.format(quandl_id)\") \n",
    "        df = quandl.get(quandl_id, returns=\"pandas\") \n",
    "        df.to_pickle(cache_path) \n",
    "        print(\"Cached {} at {}’.format(quandl_id, cache_path)\")\n",
    "    return df"
   ]
  },
  {
   "cell_type": "code",
   "execution_count": 9,
   "metadata": {},
   "outputs": [
    {
     "data": {
      "text/html": [
       "<script type=\"text/javascript\">window.PlotlyConfig = {MathJaxConfig: 'local'};</script><script type=\"text/javascript\">if (window.MathJax) {MathJax.Hub.Config({SVG: {font: \"STIX-Web\"}});}</script><script>requirejs.config({paths: { 'plotly': ['https://cdn.plot.ly/plotly-latest.min']},});if(!window._Plotly) {require(['plotly'],function(plotly) {window._Plotly=plotly;});}</script>"
      ],
      "text/vnd.plotly.v1+html": [
       "<script type=\"text/javascript\">window.PlotlyConfig = {MathJaxConfig: 'local'};</script><script type=\"text/javascript\">if (window.MathJax) {MathJax.Hub.Config({SVG: {font: \"STIX-Web\"}});}</script><script>requirejs.config({paths: { 'plotly': ['https://cdn.plot.ly/plotly-latest.min']},});if(!window._Plotly) {require(['plotly'],function(plotly) {window._Plotly=plotly;});}</script>"
      ]
     },
     "metadata": {},
     "output_type": "display_data"
    }
   ],
   "source": [
    "import plotly.offline as py \n",
    "import plotly.graph_objs as go \n",
    "import plotly.figure_factory as ff \n",
    "py.init_notebook_mode(connected=True)"
   ]
  },
  {
   "cell_type": "code",
   "execution_count": 10,
   "metadata": {},
   "outputs": [
    {
     "name": "stdout",
     "output_type": "stream",
     "text": [
      "Loaded BCHARTS/KRAKENUSD from cache\n"
     ]
    }
   ],
   "source": [
    "# Pull Kraken BTC price exchange data \n",
    "btc_usd_price_kraken = get_quandl_data(\"BCHARTS/KRAKENUSD\")"
   ]
  },
  {
   "cell_type": "code",
   "execution_count": 11,
   "metadata": {},
   "outputs": [
    {
     "data": {
      "text/html": [
       "<div>\n",
       "<style scoped>\n",
       "    .dataframe tbody tr th:only-of-type {\n",
       "        vertical-align: middle;\n",
       "    }\n",
       "\n",
       "    .dataframe tbody tr th {\n",
       "        vertical-align: top;\n",
       "    }\n",
       "\n",
       "    .dataframe thead th {\n",
       "        text-align: right;\n",
       "    }\n",
       "</style>\n",
       "<table border=\"1\" class=\"dataframe\">\n",
       "  <thead>\n",
       "    <tr style=\"text-align: right;\">\n",
       "      <th></th>\n",
       "      <th>Open</th>\n",
       "      <th>High</th>\n",
       "      <th>Low</th>\n",
       "      <th>Close</th>\n",
       "      <th>Volume (BTC)</th>\n",
       "      <th>Volume (Currency)</th>\n",
       "      <th>Weighted Price</th>\n",
       "    </tr>\n",
       "    <tr>\n",
       "      <th>Date</th>\n",
       "      <th></th>\n",
       "      <th></th>\n",
       "      <th></th>\n",
       "      <th></th>\n",
       "      <th></th>\n",
       "      <th></th>\n",
       "      <th></th>\n",
       "    </tr>\n",
       "  </thead>\n",
       "  <tbody>\n",
       "    <tr>\n",
       "      <th>2014-01-07</th>\n",
       "      <td>874.67040</td>\n",
       "      <td>892.06753</td>\n",
       "      <td>810.00000</td>\n",
       "      <td>810.00000</td>\n",
       "      <td>15.622378</td>\n",
       "      <td>13151.472844</td>\n",
       "      <td>841.835522</td>\n",
       "    </tr>\n",
       "    <tr>\n",
       "      <th>2014-01-08</th>\n",
       "      <td>810.00000</td>\n",
       "      <td>899.84281</td>\n",
       "      <td>788.00000</td>\n",
       "      <td>824.98287</td>\n",
       "      <td>19.182756</td>\n",
       "      <td>16097.329584</td>\n",
       "      <td>839.156269</td>\n",
       "    </tr>\n",
       "    <tr>\n",
       "      <th>2014-01-09</th>\n",
       "      <td>825.56345</td>\n",
       "      <td>870.00000</td>\n",
       "      <td>807.42084</td>\n",
       "      <td>841.86934</td>\n",
       "      <td>8.158335</td>\n",
       "      <td>6784.249982</td>\n",
       "      <td>831.572913</td>\n",
       "    </tr>\n",
       "    <tr>\n",
       "      <th>2014-01-10</th>\n",
       "      <td>839.99000</td>\n",
       "      <td>857.34056</td>\n",
       "      <td>817.00000</td>\n",
       "      <td>857.33056</td>\n",
       "      <td>8.024510</td>\n",
       "      <td>6780.220188</td>\n",
       "      <td>844.938794</td>\n",
       "    </tr>\n",
       "    <tr>\n",
       "      <th>2014-01-11</th>\n",
       "      <td>858.20000</td>\n",
       "      <td>918.05471</td>\n",
       "      <td>857.16554</td>\n",
       "      <td>899.84105</td>\n",
       "      <td>18.748285</td>\n",
       "      <td>16698.566929</td>\n",
       "      <td>890.671709</td>\n",
       "    </tr>\n",
       "  </tbody>\n",
       "</table>\n",
       "</div>"
      ],
      "text/plain": [
       "                 Open       High        Low      Close  Volume (BTC)  \\\n",
       "Date                                                                   \n",
       "2014-01-07  874.67040  892.06753  810.00000  810.00000     15.622378   \n",
       "2014-01-08  810.00000  899.84281  788.00000  824.98287     19.182756   \n",
       "2014-01-09  825.56345  870.00000  807.42084  841.86934      8.158335   \n",
       "2014-01-10  839.99000  857.34056  817.00000  857.33056      8.024510   \n",
       "2014-01-11  858.20000  918.05471  857.16554  899.84105     18.748285   \n",
       "\n",
       "            Volume (Currency)  Weighted Price  \n",
       "Date                                           \n",
       "2014-01-07       13151.472844      841.835522  \n",
       "2014-01-08       16097.329584      839.156269  \n",
       "2014-01-09        6784.249982      831.572913  \n",
       "2014-01-10        6780.220188      844.938794  \n",
       "2014-01-11       16698.566929      890.671709  "
      ]
     },
     "execution_count": 11,
     "metadata": {},
     "output_type": "execute_result"
    }
   ],
   "source": [
    "btc_usd_price_kraken.head()"
   ]
  },
  {
   "cell_type": "code",
   "execution_count": 12,
   "metadata": {},
   "outputs": [],
   "source": [
    "from sklearn.linear_model import LinearRegression\n",
    "from sklearn.model_selection import train_test_split"
   ]
  },
  {
   "cell_type": "code",
   "execution_count": 13,
   "metadata": {},
   "outputs": [],
   "source": [
    "p = LinearRegression()"
   ]
  },
  {
   "cell_type": "code",
   "execution_count": 14,
   "metadata": {},
   "outputs": [],
   "source": [
    "df=btc_usd_price_kraken.copy()"
   ]
  },
  {
   "cell_type": "code",
   "execution_count": 15,
   "metadata": {},
   "outputs": [],
   "source": [
    "df = df.reset_index()"
   ]
  },
  {
   "cell_type": "code",
   "execution_count": 16,
   "metadata": {},
   "outputs": [],
   "source": [
    "df['number']=range(0,len(df.Open))"
   ]
  },
  {
   "cell_type": "code",
   "execution_count": 17,
   "metadata": {},
   "outputs": [],
   "source": [
    "number=np.array(df.number).reshape(-1,1)\n",
    "prize=np.array(df.Close).reshape(-1,1)\n",
    "volume=np.array(df['Volume (Currency)']).reshape(-1,1)\n",
    "PV=np.concatenate((prize,volume),axis=1)"
   ]
  },
  {
   "cell_type": "code",
   "execution_count": 18,
   "metadata": {},
   "outputs": [],
   "source": [
    "number_train,number_test, PV_train, PV_test=train_test_split(number,PV,test_size=0.3,random_state=87)"
   ]
  },
  {
   "cell_type": "code",
   "execution_count": 19,
   "metadata": {},
   "outputs": [
    {
     "data": {
      "text/plain": [
       "LinearRegression(copy_X=True, fit_intercept=True, n_jobs=1, normalize=False)"
      ]
     },
     "execution_count": 19,
     "metadata": {},
     "output_type": "execute_result"
    }
   ],
   "source": [
    "p.fit(number_train,PV_train)"
   ]
  },
  {
   "cell_type": "code",
   "execution_count": 20,
   "metadata": {},
   "outputs": [],
   "source": [
    "result = p.predict(number_test)"
   ]
  },
  {
   "cell_type": "code",
   "execution_count": 21,
   "metadata": {},
   "outputs": [],
   "source": [
    "PR,VR=zip(*result)\n",
    "PRT,VRT=zip(*PV_test)"
   ]
  },
  {
   "cell_type": "code",
   "execution_count": 22,
   "metadata": {},
   "outputs": [
    {
     "data": {
      "text/plain": [
       "<matplotlib.collections.PathCollection at 0x144f911c5c0>"
      ]
     },
     "execution_count": 22,
     "metadata": {},
     "output_type": "execute_result"
    },
    {
     "data": {
      "image/png": "[encoded data removed]",
      "text/plain": [
       "<Figure size 432x288 with 1 Axes>"
      ]
     },
     "metadata": {},
     "output_type": "display_data"
    }
   ],
   "source": [
    "plt.plot(number_test,PR,'r')\n",
    "plt.scatter(number_test,PRT)"
   ]
  },
  {
   "cell_type": "code",
   "execution_count": 24,
   "metadata": {},
   "outputs": [
    {
     "data": {
      "text/plain": [
       "array([[1405],\n",
       "       [ 416],\n",
       "       [1751],\n",
       "       ...,\n",
       "       [ 699],\n",
       "       [ 333],\n",
       "       [1510]])"
      ]
     },
     "execution_count": 24,
     "metadata": {},
     "output_type": "execute_result"
    }
   ],
   "source": [
    "number_train"
   ]
  },
  {
   "cell_type": "code",
   "execution_count": null,
   "metadata": {},
   "outputs": [],
   "source": []
  }
 ],
 "metadata": {
  "kernelspec": {
   "display_name": "Python 3",
   "language": "python",
   "name": "python3"
  },
  "language_info": {
   "codemirror_mode": {
    "name": "ipython",
    "version": 3
   },
   "file_extension": ".py",
   "mimetype": "text/x-python",
   "name": "python",
   "nbconvert_exporter": "python",
   "pygments_lexer": "ipython3",
   "version": "3.6.5"
  }
 },
 "nbformat": 4,
 "nbformat_minor": 2
}
