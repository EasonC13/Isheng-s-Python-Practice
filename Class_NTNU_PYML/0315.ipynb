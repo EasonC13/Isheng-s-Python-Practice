{
 "cells": [
  {
   "cell_type": "code",
   "execution_count": 5,
   "metadata": {},
   "outputs": [],
   "source": [
    "%matplotlib inline\n",
    "import pandas as pd\n",
    "import matplotlib.pyplot as plt\n",
    "import numpy as np"
   ]
  },
  {
   "cell_type": "code",
   "execution_count": 7,
   "metadata": {},
   "outputs": [
    {
     "data": {
      "text/plain": [
       "array([41.5, 84.4, 50.3, 75.6, 98.7, 63.5, 81.1, 74.5])"
      ]
     },
     "execution_count": 7,
     "metadata": {},
     "output_type": "execute_result"
    }
   ],
   "source": [
    "grades=[35,74,43,66,87,55,71,65]\n",
    "grad_arr = np.array(grades)\n",
    "grad_arr*1.1+3"
   ]
  },
  {
   "cell_type": "code",
   "execution_count": 13,
   "metadata": {},
   "outputs": [
    {
     "data": {
      "text/plain": [
       "77.5"
      ]
     },
     "execution_count": 13,
     "metadata": {},
     "output_type": "execute_result"
    }
   ],
   "source": [
    "grades = np.array([85,70,80])\n",
    "weights = np.array([0.2,0.35,0.45])\n",
    "wgrades = grades * weights\n",
    "wgrades.sum()"
   ]
  },
  {
   "cell_type": "code",
   "execution_count": 15,
   "metadata": {},
   "outputs": [
    {
     "data": {
      "text/plain": [
       "77.5"
      ]
     },
     "execution_count": 15,
     "metadata": {},
     "output_type": "execute_result"
    }
   ],
   "source": [
    "grades @ weights\n",
    "# @ 是 dot的功能，矩陣乘法"
   ]
  },
  {
   "cell_type": "code",
   "execution_count": 25,
   "metadata": {},
   "outputs": [
    {
     "data": {
      "text/plain": [
       "array([77.5 , 76.85, 63.7 ])"
      ]
     },
     "execution_count": 25,
     "metadata": {},
     "output_type": "execute_result"
    }
   ],
   "source": [
    "grades = np.array([[85,70,80],\n",
    "                 [12,88,97],\n",
    "                 [85,91,33]])\n",
    "wgrades = grades * weights\n",
    "wgrades.sum(axis=1) #axis=1 代表是列之間相加"
   ]
  },
  {
   "cell_type": "code",
   "execution_count": 29,
   "metadata": {},
   "outputs": [
    {
     "data": {
      "text/plain": [
       "array([0.2 , 0.35, 0.45])"
      ]
     },
     "execution_count": 29,
     "metadata": {},
     "output_type": "execute_result"
    }
   ],
   "source": [
    "weights.shape #查看它的維度\n",
    "weights"
   ]
  },
  {
   "cell_type": "code",
   "execution_count": 33,
   "metadata": {},
   "outputs": [
    {
     "data": {
      "text/plain": [
       "array([[0.2 ],\n",
       "       [0.35],\n",
       "       [0.45]])"
      ]
     },
     "execution_count": 33,
     "metadata": {},
     "output_type": "execute_result"
    }
   ],
   "source": [
    "weights.reshape(3,1) #把它變直的，然後就可以跑矩陣了\n",
    "#這樣比較是常規的數學，不過numpy就算不是直的也可以"
   ]
  },
  {
   "cell_type": "code",
   "execution_count": 47,
   "metadata": {},
   "outputs": [],
   "source": [
    "A = np.random.randint(0,9,50)"
   ]
  },
  {
   "cell_type": "code",
   "execution_count": 44,
   "metadata": {},
   "outputs": [
    {
     "data": {
      "text/plain": [
       "(50,)"
      ]
     },
     "execution_count": 44,
     "metadata": {},
     "output_type": "execute_result"
    }
   ],
   "source": [
    "A.shape"
   ]
  },
  {
   "cell_type": "code",
   "execution_count": 46,
   "metadata": {},
   "outputs": [
    {
     "data": {
      "text/plain": [
       "array([[1, 7, 6, 5, 5, 2, 6, 5, 6, 2],\n",
       "       [5, 3, 8, 4, 5, 6, 4, 2, 4, 6],\n",
       "       [7, 8, 1, 3, 6, 2, 2, 8, 8, 7],\n",
       "       [8, 8, 6, 4, 0, 3, 4, 6, 8, 1],\n",
       "       [3, 2, 4, 0, 1, 2, 8, 7, 5, 1]])"
      ]
     },
     "execution_count": 46,
     "metadata": {},
     "output_type": "execute_result"
    }
   ],
   "source": [
    "A.shape = (5,10) #可以這樣改，不過大家不喜歡，因為這樣會直接改在A上\n",
    "A"
   ]
  },
  {
   "cell_type": "code",
   "execution_count": 53,
   "metadata": {},
   "outputs": [
    {
     "data": {
      "text/plain": [
       "array([[3, 4, 8, 1, 2],\n",
       "       [6, 2, 0, 7, 6],\n",
       "       [6, 1, 5, 4, 4],\n",
       "       [1, 8, 2, 0, 2],\n",
       "       [4, 3, 8, 0, 1],\n",
       "       [7, 8, 7, 4, 4],\n",
       "       [6, 2, 1, 1, 7],\n",
       "       [3, 2, 1, 1, 2],\n",
       "       [4, 8, 4, 1, 8],\n",
       "       [8, 5, 5, 7, 4]])"
      ]
     },
     "execution_count": 53,
     "metadata": {},
     "output_type": "execute_result"
    }
   ],
   "source": [
    "B = A.reshape(10,5)  #這樣會改在B上\n",
    "B  #數據分析常常去reshape"
   ]
  },
  {
   "cell_type": "code",
   "execution_count": 55,
   "metadata": {
    "scrolled": true
   },
   "outputs": [
    {
     "data": {
      "text/plain": [
       "array([3, 4, 8, 1, 2, 6, 2, 0, 7, 6, 6, 1, 5, 4, 4, 1, 8, 2, 0, 2, 4, 3,\n",
       "       8, 0, 1, 7, 8, 7, 4, 4, 6, 2, 1, 1, 7, 3, 2, 1, 1, 2, 4, 8, 4, 1,\n",
       "       8, 8, 5, 5, 7, 4])"
      ]
     },
     "execution_count": 55,
     "metadata": {},
     "output_type": "execute_result"
    }
   ],
   "source": [
    "A.ravel()"
   ]
  },
  {
   "cell_type": "code",
   "execution_count": 61,
   "metadata": {
    "scrolled": true
   },
   "outputs": [
    {
     "data": {
      "text/plain": [
       "array([[1, 0, 0],\n",
       "       [0, 2, 0],\n",
       "       [0, 0, 3]])"
      ]
     },
     "execution_count": 61,
     "metadata": {},
     "output_type": "execute_result"
    }
   ],
   "source": [
    "np.diag((1,2,3))"
   ]
  },
  {
   "cell_type": "code",
   "execution_count": 70,
   "metadata": {},
   "outputs": [
    {
     "data": {
      "text/plain": [
       "array([ 3,  5,  7, 87])"
      ]
     },
     "execution_count": 70,
     "metadata": {},
     "output_type": "execute_result"
    }
   ],
   "source": [
    "#array過濾器\n",
    "\n",
    "L = np.array([3,-2,-1,5,7,-3,87])\n",
    "want = L>0 #Python自己判斷正負 #酷喔\n",
    "L[want]\n",
    "#\n",
    "L[L>0] #可以直接這樣寫，就能找到要的了\n"
   ]
  },
  {
   "cell_type": "code",
   "execution_count": 87,
   "metadata": {},
   "outputs": [
    {
     "data": {
      "text/plain": [
       "array([3, 5, 7])"
      ]
     },
     "execution_count": 87,
     "metadata": {},
     "output_type": "execute_result"
    }
   ],
   "source": [
    "L = np.array([3,-2,-1,5,7,-3,87])\n",
    "want = L>0 #Python自己判斷正負 #酷喔\n",
    "L[want]\n",
    "#\n",
    "L[L>0] #可以直接這樣寫，就能找到要的了\n",
    "#\n",
    "L[(L>0) & (L<10)] #找多個可以這樣，記得一定要加括號，and要用'&'\n",
    "#\n",
    "\n"
   ]
  },
  {
   "cell_type": "code",
   "execution_count": 99,
   "metadata": {},
   "outputs": [
    {
     "data": {
      "text/plain": [
       "[<matplotlib.lines.Line2D at 0x16605920828>]"
      ]
     },
     "execution_count": 99,
     "metadata": {},
     "output_type": "execute_result"
    },
    {
     "data": {
      "image/png": "[encoded data removed]",
      "text/plain": [
       "<Figure size 432x288 with 1 Axes>"
      ]
     },
     "metadata": {},
     "output_type": "display_data"
    }
   ],
   "source": [
    "x= np.linspace(-5,5,1000)\n",
    "y = np.sinc(x)\n",
    "plt.plot(x,y,lw=6) #粗=6\n",
    "plt.plot(x[y>0],y[y>0], 'o') #用點印出"
   ]
  },
  {
   "cell_type": "code",
   "execution_count": 3,
   "metadata": {},
   "outputs": [],
   "source": [
    "import sympy as sym #數學運算"
   ]
  },
  {
   "cell_type": "code",
   "execution_count": 102,
   "metadata": {},
   "outputs": [
    {
     "data": {
      "text/plain": [
       "0.8333333333333333"
      ]
     },
     "execution_count": 102,
     "metadata": {},
     "output_type": "execute_result"
    }
   ],
   "source": [
    "1/2 + 1/3"
   ]
  },
  {
   "cell_type": "code",
   "execution_count": 104,
   "metadata": {},
   "outputs": [
    {
     "data": {
      "text/plain": [
       "5/6"
      ]
     },
     "execution_count": 104,
     "metadata": {},
     "output_type": "execute_result"
    }
   ],
   "source": [
    "#可以這樣算 \n",
    "sym.Rational(1,2)+ sym.Rational(1,3)"
   ]
  },
  {
   "cell_type": "code",
   "execution_count": 9,
   "metadata": {},
   "outputs": [
    {
     "data": {
      "image/png": "[encoded data removed]",
      "text/latex": [
       "$$\\frac{5}{6}$$"
      ],
      "text/plain": [
       "5/6"
      ]
     },
     "execution_count": 9,
     "metadata": {},
     "output_type": "execute_result"
    }
   ],
   "source": [
    "sym.init_printing() #美化\n",
    "sym.Rational(1,2)+ sym.Rational(1,3)"
   ]
  },
  {
   "cell_type": "code",
   "execution_count": 4,
   "metadata": {},
   "outputs": [
    {
     "data": {
      "image/png": "[encoded data removed]",
      "text/latex": [
       "$$\\frac{5}{6}$$"
      ],
      "text/plain": [
       "5/6"
      ]
     },
     "execution_count": 4,
     "metadata": {},
     "output_type": "execute_result"
    }
   ],
   "source": [
    "sym.S(1)/2+sym.S(1)/3 #然後可以這樣"
   ]
  },
  {
   "cell_type": "code",
   "execution_count": 2,
   "metadata": {},
   "outputs": [],
   "source": [
    "from sympy import S,N #直接inport進來"
   ]
  },
  {
   "cell_type": "code",
   "execution_count": 7,
   "metadata": {},
   "outputs": [
    {
     "data": {
      "image/png": "[encoded data removed]",
      "text/latex": [
       "$$\\frac{5}{6}$$"
      ],
      "text/plain": [
       "5/6"
      ]
     },
     "execution_count": 7,
     "metadata": {},
     "output_type": "execute_result"
    }
   ],
   "source": [
    "S(1)/2+S(1)/3"
   ]
  },
  {
   "cell_type": "code",
   "execution_count": 10,
   "metadata": {},
   "outputs": [
    {
     "data": {
      "image/png": "[encoded data removed]",
      "text/latex": [
       "$$\\pi$$"
      ],
      "text/plain": [
       "π"
      ]
     },
     "execution_count": 10,
     "metadata": {},
     "output_type": "execute_result"
    }
   ],
   "source": [
    "sym.pi #印出pi 也可以用 \\pi+TAB"
   ]
  },
  {
   "cell_type": "code",
   "execution_count": 18,
   "metadata": {},
   "outputs": [
    {
     "data": {
      "image/png": "[encoded data removed]",
      "text/latex": [
       "$$3.1415926535897932385$$"
      ],
      "text/plain": [
       "3.1415926535897932385"
      ]
     },
     "execution_count": 18,
     "metadata": {},
     "output_type": "execute_result"
    }
   ],
   "source": [
    "N(sym.pi,20) #算出pi的20位 #它會現場算"
   ]
  },
  {
   "cell_type": "code",
   "execution_count": 25,
   "metadata": {},
   "outputs": [],
   "source": [
    "π = sym.pi\n",
    "pistring = str(N(π,100000))\n",
    "'1221' in pistring"
   ]
  },
  {
   "cell_type": "code",
   "execution_count": 36,
   "metadata": {},
   "outputs": [
    {
     "data": {
      "image/png": "[encoded data removed]",
      "text/latex": [
       "$$661$$"
      ],
      "text/plain": [
       "661"
      ]
     },
     "execution_count": 36,
     "metadata": {},
     "output_type": "execute_result"
    }
   ],
   "source": [
    "pistring.find('1224') #在8732位 出現1221"
   ]
  },
  {
   "cell_type": "code",
   "execution_count": 42,
   "metadata": {},
   "outputs": [
    {
     "data": {
      "text/plain": [
       "'1224'"
      ]
     },
     "execution_count": 42,
     "metadata": {},
     "output_type": "execute_result"
    }
   ],
   "source": [
    "pistring[661:665] #找PY中出現1221的位置並弄出來"
   ]
  },
  {
   "cell_type": "code",
   "execution_count": 43,
   "metadata": {},
   "outputs": [
    {
     "data": {
      "text/plain": [
       "True"
      ]
     },
     "execution_count": 43,
     "metadata": {},
     "output_type": "execute_result"
    }
   ],
   "source": [
    "sym.isprime(7) #看是不是質數"
   ]
  },
  {
   "cell_type": "code",
   "execution_count": 46,
   "metadata": {},
   "outputs": [
    {
     "data": {
      "text/plain": [
       "False"
      ]
     },
     "execution_count": 46,
     "metadata": {},
     "output_type": "execute_result"
    }
   ],
   "source": [
    "sym.isprime(9487) #9487不是質數"
   ]
  },
  {
   "cell_type": "code",
   "execution_count": 47,
   "metadata": {},
   "outputs": [
    {
     "data": {
      "image/png": "[encoded data removed]",
      "text/latex": [
       "$$\\left \\{ 53 : 1, \\quad 179 : 1\\right \\}$$"
      ],
      "text/plain": [
       "{53: 1, 179: 1}"
      ]
     },
     "execution_count": 47,
     "metadata": {},
     "output_type": "execute_result"
    }
   ],
   "source": [
    "sym.factorint(9487) #將9487因數分解"
   ]
  },
  {
   "cell_type": "code",
   "execution_count": 55,
   "metadata": {},
   "outputs": [
    {
     "data": {
      "image/png": "[encoded data removed]",
      "text/latex": [
       "$$6823$$"
      ],
      "text/plain": [
       "6823"
      ]
     },
     "execution_count": 55,
     "metadata": {},
     "output_type": "execute_result"
    }
   ],
   "source": [
    "sym.prime(877) #印出第877個質數"
   ]
  },
  {
   "cell_type": "code",
   "execution_count": 53,
   "metadata": {},
   "outputs": [
    {
     "data": {
      "image/png": "[encoded data removed]",
      "text/latex": [
       "$$9491$$"
      ],
      "text/plain": [
       "9491"
      ]
     },
     "execution_count": 53,
     "metadata": {},
     "output_type": "execute_result"
    }
   ],
   "source": [
    "sym.nextprime(9487) #9487後的第一個質數"
   ]
  },
  {
   "cell_type": "code",
   "execution_count": 4,
   "metadata": {},
   "outputs": [
    {
     "name": "stdout",
     "output_type": "stream",
     "text": [
      "3和5是孿生質數\n",
      "5和7是孿生質數\n",
      "11和13是孿生質數\n",
      "17和19是孿生質數\n",
      "29和31是孿生質數\n",
      "41和43是孿生質數\n",
      "59和61是孿生質數\n",
      "71和73是孿生質數\n",
      "101和103是孿生質數\n",
      "107和109是孿生質數\n",
      "137和139是孿生質數\n",
      "149和151是孿生質數\n",
      "179和181是孿生質數\n",
      "191和193是孿生質數\n",
      "197和199是孿生質數\n",
      "227和229是孿生質數\n"
     ]
    }
   ],
   "source": [
    "for i in range(2,50):\n",
    "    a=sym.prime(i)\n",
    "    b=sym.prime(i+1)\n",
    "    if b-a==2:\n",
    "        print(f'{a}和{b}是孿生質數')"
   ]
  },
  {
   "cell_type": "code",
   "execution_count": 5,
   "metadata": {},
   "outputs": [],
   "source": [
    "A=sym.Matrix([[2,-1,3],\n",
    "             [0,1,2],\n",
    "             [-1,1,2]])"
   ]
  },
  {
   "cell_type": "code",
   "execution_count": 11,
   "metadata": {},
   "outputs": [
    {
     "data": {
      "image/png": "[encoded data removed]",
      "text/latex": [
       "$$5$$"
      ],
      "text/plain": [
       "5"
      ]
     },
     "execution_count": 11,
     "metadata": {},
     "output_type": "execute_result"
    }
   ],
   "source": [
    "A.det() #行列式"
   ]
  },
  {
   "cell_type": "code",
   "execution_count": 10,
   "metadata": {},
   "outputs": [
    {
     "data": {
      "text/latex": [
       "$$\\left[\\begin{matrix}0 & 1 & -1\\\\- \\frac{2}{5} & \\frac{7}{5} & - \\frac{4}{5}\\\\\\frac{1}{5} & - \\frac{1}{5} & \\frac{2}{5}\\end{matrix}\\right]$$"
      ],
      "text/plain": [
       "⎡ 0     1     -1 ⎤\n",
       "⎢                ⎥\n",
       "⎢-2/5  7/5   -4/5⎥\n",
       "⎢                ⎥\n",
       "⎣1/5   -1/5  2/5 ⎦"
      ]
     },
     "execution_count": 10,
     "metadata": {},
     "output_type": "execute_result"
    }
   ],
   "source": [
    "A.inv()"
   ]
  },
  {
   "cell_type": "code",
   "execution_count": 24,
   "metadata": {},
   "outputs": [
    {
     "data": {
      "image/png": "[encoded data removed]",
      "text/latex": [
       "$$x^{2} - 3 x + 2$$"
      ],
      "text/plain": [
       " 2          \n",
       "x  - 3⋅x + 2"
      ]
     },
     "execution_count": 24,
     "metadata": {},
     "output_type": "execute_result"
    }
   ],
   "source": [
    "x=sym.Symbol('x') #把S設成sympy的symbol 要設了才能用，也可以用下面那種\n",
    "f=x**2-3*x+2\n",
    "f"
   ]
  },
  {
   "cell_type": "code",
   "execution_count": 15,
   "metadata": {},
   "outputs": [
    {
     "data": {
      "image/png": "[encoded data removed]",
      "text/latex": [
       "$$2 x - 3$$"
      ],
      "text/plain": [
       "2⋅x - 3"
      ]
     },
     "execution_count": 15,
     "metadata": {},
     "output_type": "execute_result"
    }
   ],
   "source": [
    "sym.diff(f,x) #微分\n"
   ]
  },
  {
   "cell_type": "code",
   "execution_count": 17,
   "metadata": {},
   "outputs": [
    {
     "data": {
      "image/png": "[encoded data removed]",
      "text/latex": [
       "$$\\frac{x^{3}}{3} - \\frac{3 x^{2}}{2} + 2 x$$"
      ],
      "text/plain": [
       " 3      2      \n",
       "x    3⋅x       \n",
       "── - ──── + 2⋅x\n",
       "3     2        "
      ]
     },
     "execution_count": 17,
     "metadata": {},
     "output_type": "execute_result"
    }
   ],
   "source": [
    "sym.integrate(f,x) #積分"
   ]
  },
  {
   "cell_type": "code",
   "execution_count": 21,
   "metadata": {},
   "outputs": [
    {
     "data": {
      "image/png": "[encoded data removed]",
      "text/latex": [
       "$$5 x^{2} + 2 x + 1$$"
      ],
      "text/plain": [
       "   2          \n",
       "5⋅x  + 2⋅x + 1"
      ]
     },
     "execution_count": 21,
     "metadata": {},
     "output_type": "execute_result"
    }
   ],
   "source": [
    "g=5*x**2+2*x+1\n",
    "g"
   ]
  },
  {
   "cell_type": "code",
   "execution_count": 23,
   "metadata": {},
   "outputs": [
    {
     "data": {
      "image/png": "[encoded data removed]",
      "text/latex": [
       "$$\\left(x^{2} - 3 x + 2\\right) \\left(5 x^{2} + 2 x + 1\\right)$$"
      ],
      "text/plain": [
       "⎛ 2          ⎞ ⎛   2          ⎞\n",
       "⎝x  - 3⋅x + 2⎠⋅⎝5⋅x  + 2⋅x + 1⎠"
      ]
     },
     "execution_count": 23,
     "metadata": {},
     "output_type": "execute_result"
    }
   ],
   "source": [
    "c=f*g\n",
    "c"
   ]
  },
  {
   "cell_type": "code",
   "execution_count": 25,
   "metadata": {},
   "outputs": [],
   "source": [
    "from sympy.abc import x,y,z"
   ]
  },
  {
   "cell_type": "code",
   "execution_count": 26,
   "metadata": {},
   "outputs": [],
   "source": [
    "f=sym.atan(x)"
   ]
  },
  {
   "cell_type": "code",
   "execution_count": 30,
   "metadata": {},
   "outputs": [
    {
     "data": {
      "image/png": "[encoded data removed]",
      "text/latex": [
       "$$\\frac{1}{x^{2} + 1}$$"
      ],
      "text/plain": [
       "  1   \n",
       "──────\n",
       " 2    \n",
       "x  + 1"
      ]
     },
     "execution_count": 30,
     "metadata": {},
     "output_type": "execute_result"
    }
   ],
   "source": [
    "sym.diff(f,x)"
   ]
  },
  {
   "cell_type": "code",
   "execution_count": 33,
   "metadata": {},
   "outputs": [
    {
     "data": {
      "image/png": "[encoded data removed]",
      "text/latex": [
       "$$x \\operatorname{atan}{\\left (x \\right )} - \\frac{1}{2} \\log{\\left (x^{2} + 1 \\right )}$$"
      ],
      "text/plain": [
       "               ⎛ 2    ⎞\n",
       "            log⎝x  + 1⎠\n",
       "x⋅atan(x) - ───────────\n",
       "                 2     "
      ]
     },
     "execution_count": 33,
     "metadata": {},
     "output_type": "execute_result"
    }
   ],
   "source": [
    "sym.integrate(f,x) #可以做很複雜的算法這樣"
   ]
  },
  {
   "cell_type": "markdown",
   "metadata": {},
   "source": [
    "#Pandas教學"
   ]
  },
  {
   "cell_type": "code",
   "execution_count": 90,
   "metadata": {},
   "outputs": [],
   "source": [
    "%matplotlib inline\n",
    "import pandas as pd\n",
    "import matplotlib.pyplot as plt\n",
    "import numpy as np"
   ]
  },
  {
   "cell_type": "code",
   "execution_count": 91,
   "metadata": {},
   "outputs": [],
   "source": [
    "df = pd.read_csv('http://stats.moe.gov.tw/files/detail/107/107_student.csv')\n",
    "#讀入csv"
   ]
  },
  {
   "cell_type": "code",
   "execution_count": 92,
   "metadata": {},
   "outputs": [
    {
     "data": {
      "text/html": [
       "<div>\n",
       "<style scoped>\n",
       "    .dataframe tbody tr th:only-of-type {\n",
       "        vertical-align: middle;\n",
       "    }\n",
       "\n",
       "    .dataframe tbody tr th {\n",
       "        vertical-align: top;\n",
       "    }\n",
       "\n",
       "    .dataframe thead th {\n",
       "        text-align: right;\n",
       "    }\n",
       "</style>\n",
       "<table border=\"1\" class=\"dataframe\">\n",
       "  <thead>\n",
       "    <tr style=\"text-align: right;\">\n",
       "      <th></th>\n",
       "      <th>學校代碼</th>\n",
       "      <th>學校名稱</th>\n",
       "      <th>日間∕進修別</th>\n",
       "      <th>等級別</th>\n",
       "      <th>一年級男生</th>\n",
       "      <th>一年級女生</th>\n",
       "      <th>二年級男生</th>\n",
       "      <th>二年級女生</th>\n",
       "      <th>三年級男生</th>\n",
       "      <th>三年級女生</th>\n",
       "      <th>...</th>\n",
       "      <th>五年級男生</th>\n",
       "      <th>五年級女生</th>\n",
       "      <th>六年級男生</th>\n",
       "      <th>六年級女生</th>\n",
       "      <th>七年級男生</th>\n",
       "      <th>七年級女生</th>\n",
       "      <th>延修生男生</th>\n",
       "      <th>延修生女生</th>\n",
       "      <th>縣市名稱</th>\n",
       "      <th>體系別</th>\n",
       "    </tr>\n",
       "  </thead>\n",
       "  <tbody>\n",
       "    <tr>\n",
       "      <th>0</th>\n",
       "      <td>1</td>\n",
       "      <td>國立政治大學</td>\n",
       "      <td>D 日</td>\n",
       "      <td>D 博士</td>\n",
       "      <td>96</td>\n",
       "      <td>85</td>\n",
       "      <td>82</td>\n",
       "      <td>78</td>\n",
       "      <td>93</td>\n",
       "      <td>59</td>\n",
       "      <td>...</td>\n",
       "      <td>71</td>\n",
       "      <td>52</td>\n",
       "      <td>58</td>\n",
       "      <td>46</td>\n",
       "      <td>74</td>\n",
       "      <td>40</td>\n",
       "      <td>-</td>\n",
       "      <td>-</td>\n",
       "      <td>30 臺北市</td>\n",
       "      <td>1 一般</td>\n",
       "    </tr>\n",
       "    <tr>\n",
       "      <th>1</th>\n",
       "      <td>1</td>\n",
       "      <td>國立政治大學</td>\n",
       "      <td>D 日</td>\n",
       "      <td>M 碩士</td>\n",
       "      <td>624</td>\n",
       "      <td>742</td>\n",
       "      <td>632</td>\n",
       "      <td>695</td>\n",
       "      <td>348</td>\n",
       "      <td>431</td>\n",
       "      <td>...</td>\n",
       "      <td>-</td>\n",
       "      <td>-</td>\n",
       "      <td>-</td>\n",
       "      <td>-</td>\n",
       "      <td>-</td>\n",
       "      <td>-</td>\n",
       "      <td>-</td>\n",
       "      <td>-</td>\n",
       "      <td>30 臺北市</td>\n",
       "      <td>1 一般</td>\n",
       "    </tr>\n",
       "    <tr>\n",
       "      <th>2</th>\n",
       "      <td>1</td>\n",
       "      <td>國立政治大學</td>\n",
       "      <td>D 日</td>\n",
       "      <td>B 學士</td>\n",
       "      <td>899</td>\n",
       "      <td>1,287</td>\n",
       "      <td>890</td>\n",
       "      <td>1,332</td>\n",
       "      <td>878</td>\n",
       "      <td>1,325</td>\n",
       "      <td>...</td>\n",
       "      <td>-</td>\n",
       "      <td>-</td>\n",
       "      <td>-</td>\n",
       "      <td>-</td>\n",
       "      <td>-</td>\n",
       "      <td>-</td>\n",
       "      <td>326</td>\n",
       "      <td>463</td>\n",
       "      <td>30 臺北市</td>\n",
       "      <td>1 一般</td>\n",
       "    </tr>\n",
       "    <tr>\n",
       "      <th>3</th>\n",
       "      <td>1</td>\n",
       "      <td>國立政治大學</td>\n",
       "      <td>N 職</td>\n",
       "      <td>M 碩士</td>\n",
       "      <td>303</td>\n",
       "      <td>248</td>\n",
       "      <td>253</td>\n",
       "      <td>259</td>\n",
       "      <td>201</td>\n",
       "      <td>210</td>\n",
       "      <td>...</td>\n",
       "      <td>53</td>\n",
       "      <td>47</td>\n",
       "      <td>-</td>\n",
       "      <td>-</td>\n",
       "      <td>-</td>\n",
       "      <td>-</td>\n",
       "      <td>-</td>\n",
       "      <td>-</td>\n",
       "      <td>30 臺北市</td>\n",
       "      <td>1 一般</td>\n",
       "    </tr>\n",
       "    <tr>\n",
       "      <th>4</th>\n",
       "      <td>2</td>\n",
       "      <td>國立清華大學</td>\n",
       "      <td>D 日</td>\n",
       "      <td>D 博士</td>\n",
       "      <td>225</td>\n",
       "      <td>99</td>\n",
       "      <td>201</td>\n",
       "      <td>71</td>\n",
       "      <td>189</td>\n",
       "      <td>73</td>\n",
       "      <td>...</td>\n",
       "      <td>158</td>\n",
       "      <td>50</td>\n",
       "      <td>112</td>\n",
       "      <td>43</td>\n",
       "      <td>168</td>\n",
       "      <td>58</td>\n",
       "      <td>-</td>\n",
       "      <td>-</td>\n",
       "      <td>18 新竹市</td>\n",
       "      <td>1 一般</td>\n",
       "    </tr>\n",
       "    <tr>\n",
       "      <th>5</th>\n",
       "      <td>2</td>\n",
       "      <td>國立清華大學</td>\n",
       "      <td>D 日</td>\n",
       "      <td>M 碩士</td>\n",
       "      <td>1,315</td>\n",
       "      <td>719</td>\n",
       "      <td>1,159</td>\n",
       "      <td>639</td>\n",
       "      <td>464</td>\n",
       "      <td>306</td>\n",
       "      <td>...</td>\n",
       "      <td>6</td>\n",
       "      <td>13</td>\n",
       "      <td>4</td>\n",
       "      <td>10</td>\n",
       "      <td>-</td>\n",
       "      <td>-</td>\n",
       "      <td>-</td>\n",
       "      <td>-</td>\n",
       "      <td>18 新竹市</td>\n",
       "      <td>1 一般</td>\n",
       "    </tr>\n",
       "    <tr>\n",
       "      <th>6</th>\n",
       "      <td>2</td>\n",
       "      <td>國立清華大學</td>\n",
       "      <td>D 日</td>\n",
       "      <td>B 學士</td>\n",
       "      <td>1,089</td>\n",
       "      <td>865</td>\n",
       "      <td>1,087</td>\n",
       "      <td>936</td>\n",
       "      <td>1,161</td>\n",
       "      <td>994</td>\n",
       "      <td>...</td>\n",
       "      <td>-</td>\n",
       "      <td>-</td>\n",
       "      <td>-</td>\n",
       "      <td>-</td>\n",
       "      <td>-</td>\n",
       "      <td>-</td>\n",
       "      <td>286</td>\n",
       "      <td>166</td>\n",
       "      <td>18 新竹市</td>\n",
       "      <td>1 一般</td>\n",
       "    </tr>\n",
       "    <tr>\n",
       "      <th>7</th>\n",
       "      <td>2</td>\n",
       "      <td>國立清華大學</td>\n",
       "      <td>D 日</td>\n",
       "      <td>X 4+X</td>\n",
       "      <td>22</td>\n",
       "      <td>16</td>\n",
       "      <td>19</td>\n",
       "      <td>8</td>\n",
       "      <td>-</td>\n",
       "      <td>-</td>\n",
       "      <td>...</td>\n",
       "      <td>-</td>\n",
       "      <td>-</td>\n",
       "      <td>-</td>\n",
       "      <td>-</td>\n",
       "      <td>-</td>\n",
       "      <td>-</td>\n",
       "      <td>-</td>\n",
       "      <td>-</td>\n",
       "      <td>18 新竹市</td>\n",
       "      <td>1 一般</td>\n",
       "    </tr>\n",
       "    <tr>\n",
       "      <th>8</th>\n",
       "      <td>2</td>\n",
       "      <td>國立清華大學</td>\n",
       "      <td>N 職</td>\n",
       "      <td>M 碩士</td>\n",
       "      <td>186</td>\n",
       "      <td>238</td>\n",
       "      <td>165</td>\n",
       "      <td>227</td>\n",
       "      <td>40</td>\n",
       "      <td>125</td>\n",
       "      <td>...</td>\n",
       "      <td>17</td>\n",
       "      <td>46</td>\n",
       "      <td>8</td>\n",
       "      <td>14</td>\n",
       "      <td>16</td>\n",
       "      <td>52</td>\n",
       "      <td>-</td>\n",
       "      <td>-</td>\n",
       "      <td>18 新竹市</td>\n",
       "      <td>1 一般</td>\n",
       "    </tr>\n",
       "    <tr>\n",
       "      <th>9</th>\n",
       "      <td>3</td>\n",
       "      <td>國立臺灣大學</td>\n",
       "      <td>D 日</td>\n",
       "      <td>D 博士</td>\n",
       "      <td>408</td>\n",
       "      <td>196</td>\n",
       "      <td>374</td>\n",
       "      <td>168</td>\n",
       "      <td>383</td>\n",
       "      <td>147</td>\n",
       "      <td>...</td>\n",
       "      <td>304</td>\n",
       "      <td>123</td>\n",
       "      <td>234</td>\n",
       "      <td>109</td>\n",
       "      <td>352</td>\n",
       "      <td>153</td>\n",
       "      <td>-</td>\n",
       "      <td>-</td>\n",
       "      <td>30 臺北市</td>\n",
       "      <td>1 一般</td>\n",
       "    </tr>\n",
       "  </tbody>\n",
       "</table>\n",
       "<p>10 rows × 22 columns</p>\n",
       "</div>"
      ],
      "text/plain": [
       "   學校代碼    學校名稱 日間∕進修別    等級別  一年級男生  一年級女生  二年級男生  二年級女生  三年級男生  三年級女生  ...   \\\n",
       "0     1  國立政治大學    D 日   D 博士     96     85     82     78     93     59  ...    \n",
       "1     1  國立政治大學    D 日   M 碩士    624    742    632    695    348    431  ...    \n",
       "2     1  國立政治大學    D 日   B 學士    899  1,287    890  1,332    878  1,325  ...    \n",
       "3     1  國立政治大學    N 職   M 碩士    303    248    253    259    201    210  ...    \n",
       "4     2  國立清華大學    D 日   D 博士    225     99    201     71    189     73  ...    \n",
       "5     2  國立清華大學    D 日   M 碩士  1,315    719  1,159    639    464    306  ...    \n",
       "6     2  國立清華大學    D 日   B 學士  1,089    865  1,087    936  1,161    994  ...    \n",
       "7     2  國立清華大學    D 日  X 4+X     22     16     19      8      -      -  ...    \n",
       "8     2  國立清華大學    N 職   M 碩士    186    238    165    227     40    125  ...    \n",
       "9     3  國立臺灣大學    D 日   D 博士    408    196    374    168    383    147  ...    \n",
       "\n",
       "  五年級男生 五年級女生 六年級男生 六年級女生 七年級男生 七年級女生 延修生男生 延修生女生    縣市名稱   體系別  \n",
       "0    71    52    58    46    74    40     -     -  30 臺北市  1 一般  \n",
       "1     -     -     -     -     -     -     -     -  30 臺北市  1 一般  \n",
       "2     -     -     -     -     -     -   326   463  30 臺北市  1 一般  \n",
       "3    53    47     -     -     -     -     -     -  30 臺北市  1 一般  \n",
       "4   158    50   112    43   168    58     -     -  18 新竹市  1 一般  \n",
       "5     6    13     4    10     -     -     -     -  18 新竹市  1 一般  \n",
       "6     -     -     -     -     -     -   286   166  18 新竹市  1 一般  \n",
       "7     -     -     -     -     -     -     -     -  18 新竹市  1 一般  \n",
       "8    17    46     8    14    16    52     -     -  18 新竹市  1 一般  \n",
       "9   304   123   234   109   352   153     -     -  30 臺北市  1 一般  \n",
       "\n",
       "[10 rows x 22 columns]"
      ]
     },
     "execution_count": 92,
     "metadata": {},
     "output_type": "execute_result"
    }
   ],
   "source": [
    "df.head(10)"
   ]
  },
  {
   "cell_type": "code",
   "execution_count": 93,
   "metadata": {},
   "outputs": [
    {
     "data": {
      "text/html": [
       "<div>\n",
       "<style scoped>\n",
       "    .dataframe tbody tr th:only-of-type {\n",
       "        vertical-align: middle;\n",
       "    }\n",
       "\n",
       "    .dataframe tbody tr th {\n",
       "        vertical-align: top;\n",
       "    }\n",
       "\n",
       "    .dataframe thead th {\n",
       "        text-align: right;\n",
       "    }\n",
       "</style>\n",
       "<table border=\"1\" class=\"dataframe\">\n",
       "  <thead>\n",
       "    <tr style=\"text-align: right;\">\n",
       "      <th></th>\n",
       "      <th>一年級男生</th>\n",
       "      <th>一年級女生</th>\n",
       "    </tr>\n",
       "  </thead>\n",
       "  <tbody>\n",
       "    <tr>\n",
       "      <th>0</th>\n",
       "      <td>96</td>\n",
       "      <td>85</td>\n",
       "    </tr>\n",
       "    <tr>\n",
       "      <th>1</th>\n",
       "      <td>624</td>\n",
       "      <td>742</td>\n",
       "    </tr>\n",
       "    <tr>\n",
       "      <th>2</th>\n",
       "      <td>899</td>\n",
       "      <td>1,287</td>\n",
       "    </tr>\n",
       "    <tr>\n",
       "      <th>3</th>\n",
       "      <td>303</td>\n",
       "      <td>248</td>\n",
       "    </tr>\n",
       "    <tr>\n",
       "      <th>4</th>\n",
       "      <td>225</td>\n",
       "      <td>99</td>\n",
       "    </tr>\n",
       "  </tbody>\n",
       "</table>\n",
       "</div>"
      ],
      "text/plain": [
       "  一年級男生  一年級女生\n",
       "0    96     85\n",
       "1   624    742\n",
       "2   899  1,287\n",
       "3   303    248\n",
       "4   225     99"
      ]
     },
     "execution_count": 93,
     "metadata": {},
     "output_type": "execute_result"
    }
   ],
   "source": [
    "df[['一年級男生','一年級女生']].head() #只要看這個的話"
   ]
  },
  {
   "cell_type": "code",
   "execution_count": 94,
   "metadata": {},
   "outputs": [],
   "source": [
    "dfb=np.array(df.一年級男生)   #把一年級男生的數據弄出來"
   ]
  },
  {
   "cell_type": "code",
   "execution_count": 95,
   "metadata": {},
   "outputs": [],
   "source": [
    "dfg=np.array(df.一年級女生)"
   ]
  },
  {
   "cell_type": "code",
   "execution_count": 111,
   "metadata": {},
   "outputs": [],
   "source": [
    "dfr = np.array(df.等級別)\n",
    "dfrtf = []\n",
    "for i in range(len(dfr)):\n",
    "    dfrtf.append('B 學士' in dfr[i])"
   ]
  },
  {
   "cell_type": "code",
   "execution_count": 112,
   "metadata": {},
   "outputs": [],
   "source": [
    "#製作 大學部 男女比"
   ]
  },
  {
   "cell_type": "code",
   "execution_count": 113,
   "metadata": {},
   "outputs": [],
   "source": [
    "def removeicon(arr,icon,ac=''):\n",
    "    c=list(arr)\n",
    "    for i in range(len(c)):c[i]=c[i].replace(str(icon),ac)\n",
    "    return c"
   ]
  },
  {
   "cell_type": "code",
   "execution_count": 114,
   "metadata": {},
   "outputs": [],
   "source": [
    "dfbb=dfb[dfrtf]\n",
    "dfgb=dfg[dfrtf]\n",
    "dfbb=np.array(removeicon(dfbb,','))\n",
    "dfbb=np.array(removeicon(dfbb,'-','0'))\n",
    "\n",
    "dfgb=np.array(removeicon(dfgb,','))\n",
    "dfgb=np.array(removeicon(dfgb,'-','0'))\n",
    "dfgb=dfgb.astype(int)\n",
    "dfbb=dfbb.astype(int)"
   ]
  },
  {
   "cell_type": "code",
   "execution_count": 115,
   "metadata": {},
   "outputs": [
    {
     "name": "stderr",
     "output_type": "stream",
     "text": [
      "C:\\Users\\user\\Anaconda3\\lib\\site-packages\\ipykernel_launcher.py:1: RuntimeWarning: invalid value encountered in true_divide\n",
      "  \"\"\"Entry point for launching an IPython kernel.\n"
     ]
    }
   ],
   "source": [
    "bg=dfbb/dfgb"
   ]
  },
  {
   "cell_type": "code",
   "execution_count": 119,
   "metadata": {},
   "outputs": [
    {
     "name": "stdout",
     "output_type": "stream",
     "text": [
      "small is 96, \n",
      "big is 97, \n",
      "男女比最小的是： 康寧大學\n",
      "男女比最大的是： 康寧大學\n"
     ]
    }
   ],
   "source": [
    "big=0\n",
    "small=0\n",
    "others=[]\n",
    "otherb=[]\n",
    "bigi=0\n",
    "smalli=0\n",
    "for i in range(len(bg)):\n",
    "    if bg[i]==bg[small]:\n",
    "        others.append(i)\n",
    "    elif bg[i]<bg[small]:\n",
    "        small=i\n",
    "        others=[]\n",
    "    if bg[i]==bg[big]:\n",
    "        pass\n",
    "    elif bg[i]>bg[big]:\n",
    "        big=i\n",
    "print('small is %d,'%(small),str(others)[1:len(str(others)) - 1])\n",
    "print('big is %d,'%(big),str(otherb)[1:len(str(others))-1])\n",
    "dfs=df.學校名稱\n",
    "dfs=dfs[dfrtf]\n",
    "dfs=np.array(dfs)\n",
    "print('男女比最小的是：',dfs[small])\n",
    "print('男女比最大的是：',dfs[big])\n",
    "#...這神奇結果..."
   ]
  },
  {
   "cell_type": "code",
   "execution_count": 117,
   "metadata": {},
   "outputs": [
    {
     "name": "stdout",
     "output_type": "stream",
     "text": [
      "男女比最小的是： 康寧大學\n",
      "男女比最大的是： 康寧大學\n"
     ]
    }
   ],
   "source": [
    "dfs=df.學校名稱\n",
    "dfs=dfs[dfrtf]\n",
    "dfs=np.array(dfs)\n",
    "print('男女比最小的是：',dfs[small])\n",
    "print('男女比最大的是：',dfs[big])"
   ]
  },
  {
   "cell_type": "code",
   "execution_count": 41,
   "metadata": {},
   "outputs": [
    {
     "name": "stdout",
     "output_type": "stream",
     "text": [
      "男女比最小的是： 國立臺南大學\n",
      "男女比最大的是： 康寧大學\n"
     ]
    },
    {
     "name": "stderr",
     "output_type": "stream",
     "text": [
      "C:\\Users\\user\\Anaconda3\\lib\\site-packages\\ipykernel_launcher.py:27: RuntimeWarning: invalid value encountered in true_divide\n"
     ]
    }
   ],
   "source": [
    "%matplotlib inline\n",
    "import pandas as pd\n",
    "import matplotlib.pyplot as plt\n",
    "import numpy as np\n",
    "df = pd.read_csv('http://stats.moe.gov.tw/files/detail/107/107_student.csv')\n",
    "#讀入csv\n",
    "dfb=np.array(df.三年級男生)\n",
    "dfg=np.array(df.三年級女生)\n",
    "dfr = np.array(df.等級別)\n",
    "dfrtf = []\n",
    "for i in range(len(dfr)):\n",
    "    dfrtf.append('B 學士' in dfr[i])\n",
    "def removeicon(arr,icon,ac=''): #移除不相干符號\n",
    "    c=list(arr)\n",
    "    for i in range(len(c)):c[i]=c[i].replace(str(icon),ac)\n",
    "    return c\n",
    "dfbb=dfb[dfrtf]\n",
    "dfgb=dfg[dfrtf]\n",
    "dfbb=np.array(removeicon(dfbb,','))\n",
    "dfbb=np.array(removeicon(dfbb,'-','0'))\n",
    "dfgb=np.array(removeicon(dfgb,','))\n",
    "dfgb=np.array(removeicon(dfgb,'-','0'))\n",
    "\n",
    "dfgb=dfgb.astype(int) #轉換格式\n",
    "dfbb=dfbb.astype(int)\n",
    "\n",
    "bg=dfbb/dfgb #男女比計算\n",
    "\n",
    "big=0\n",
    "small=0\n",
    "others=[]\n",
    "otherb=[]\n",
    "bigi=0\n",
    "smalli=0\n",
    "for i in range(len(bg)):\n",
    "    if bg[i]==bg[small]:\n",
    "        others.append(i)\n",
    "    elif bg[i]<bg[small]:\n",
    "        small=i\n",
    "        others=[]\n",
    "    if bg[i]==bg[big]:\n",
    "        pass\n",
    "    elif bg[i]>bg[big]:\n",
    "        big=i\n",
    "#print('small is %d,'%(small),str(others)[1:len(str(others)) - 1])\n",
    "#print('big is %d,'%(big),str(otherb)[1:len(str(others))-1])\n",
    "#檢查有無多個學校並列第一\n",
    "dfs=df.學校名稱\n",
    "dfs=dfs[dfrtf]\n",
    "dfs=np.array(dfs)\n",
    "print('男女比最小的是：',dfs[small])\n",
    "print('男女比最大的是：',dfs[big])"
   ]
  },
  {
   "cell_type": "code",
   "execution_count": 40,
   "metadata": {},
   "outputs": [
    {
     "data": {
      "text/plain": [
       "[(0.2857142857142857, '國立臺南大學'),\n",
       " (0.39086294416243655, '國立臺灣藝術大學'),\n",
       " (0.41076487252124644, '實踐大學'),\n",
       " (0.4158415841584158, '稻江科技暨管理學院'),\n",
       " (0.42567567567567566, '東吳大學'),\n",
       " (0.4461538461538462, '國立臺南藝術大學'),\n",
       " (0.44814814814814813, '國立臺北藝術大學'),\n",
       " (0.466955579631636, '實踐大學'),\n",
       " (0.4745762711864407, '國立臺灣藝術大學'),\n",
       " (0.5123339658444023, '國立臺北教育大學'),\n",
       " (0.5362035225048923, '國立臺中教育大學'),\n",
       " (0.5369127516778524, '中山醫學大學'),\n",
       " (0.5441465009810333, '世新大學'),\n",
       " (0.546875, '康寧大學'),\n",
       " (0.5471698113207547, '世新大學'),\n",
       " (0.565068493150685, '國立臺北大學'),\n",
       " (0.5754908598510494, '亞洲大學'),\n",
       " (0.5844155844155844, '馬偕醫學院'),\n",
       " (0.5962695547533092, '靜宜大學'),\n",
       " (0.6010230179028133, '慈濟大學'),\n",
       " (0.6237623762376238, '玄奘大學'),\n",
       " (0.6259420864736216, '銘傳大學'),\n",
       " (0.632830626450116, '東吳大學'),\n",
       " (0.6356340288924559, '輔仁大學'),\n",
       " (0.6408094435075885, '臺北醫學大學'),\n",
       " (0.6428571428571429, '玄奘大學'),\n",
       " (0.6541353383458647, '亞洲大學'),\n",
       " (0.6626415094339623, '國立政治大學'),\n",
       " (0.6813031161473088, '高雄醫學大學'),\n",
       " (0.6931818181818182, '國立屏東大學'),\n",
       " (0.710691823899371, '長榮大學'),\n",
       " (0.7335766423357665, '輔仁大學'),\n",
       " (0.7362637362637363, '國立屏東大學'),\n",
       " (0.7432432432432432, '中國醫藥大學'),\n",
       " (0.7664670658682635, '中國文化大學'),\n",
       " (0.7820037105751392, '國立臺灣師範大學'),\n",
       " (0.7967741935483871, '國立暨南國際大學'),\n",
       " (0.8281157708210277, '東海大學'),\n",
       " (0.8287581699346406, '國立臺北大學'),\n",
       " (0.8290598290598291, '國立中興大學'),\n",
       " (0.83, '開南大學'),\n",
       " (0.8378378378378378, '長庚大學'),\n",
       " (0.8424855491329479, '臺北市立大學'),\n",
       " (0.8666666666666667, '台灣首府大學'),\n",
       " (0.8705263157894737, '國立東華大學'),\n",
       " (0.8752515090543259, '國立臺南大學'),\n",
       " (0.8927867560110366, '中國文化大學'),\n",
       " (0.893048128342246, '佛光大學'),\n",
       " (0.8933649289099526, '國立臺東大學'),\n",
       " (0.8966521106259098, '真理大學'),\n",
       " (0.9, '國立臺東大學'),\n",
       " (0.9077306733167082, '國立金門大學'),\n",
       " (0.9139784946236559, '南華大學'),\n",
       " (0.9232505643340858, '國立高雄師範大學'),\n",
       " (0.9312169312169312, '稻江科技暨管理學院'),\n",
       " (0.9318181818181818, '台灣首府大學'),\n",
       " (0.9667201283079391, '淡江大學'),\n",
       " (0.9983164983164983, '國立彰化師範大學'),\n",
       " (1.0, '法鼓文理學院'),\n",
       " (1.0086206896551724, '開南大學'),\n",
       " (1.0149253731343284, '中信金融管理學院'),\n",
       " (1.018181818181818, '淡江大學'),\n",
       " (1.0275618374558304, '義守大學'),\n",
       " (1.0316455696202531, '華梵大學'),\n",
       " (1.059217877094972, '國立嘉義大學'),\n",
       " (1.0671487603305785, '大葉大學'),\n",
       " (1.0754716981132075, '東海大學'),\n",
       " (1.1274104683195592, '中原大學'),\n",
       " (1.1290322580645162, '南華大學'),\n",
       " (1.1680080482897384, '國立清華大學'),\n",
       " (1.170731707317073, '國立金門大學'),\n",
       " (1.172972972972973, '國立陽明大學'),\n",
       " (1.2363636363636363, '國立臺灣海洋大學'),\n",
       " (1.2451253481894151, '國立中正大學'),\n",
       " (1.268380155409444, '國立臺灣大學'),\n",
       " (1.269436997319035, '元智大學'),\n",
       " (1.2966101694915255, '國立聯合大學'),\n",
       " (1.3184931506849316, '明道大學'),\n",
       " (1.3333333333333333, '大葉大學'),\n",
       " (1.3345238095238094, '國立中興大學'),\n",
       " (1.3723653395784543, '國立高雄大學'),\n",
       " (1.3770491803278688, '大同大學'),\n",
       " (1.3955555555555557, '國立臺灣體育運動大學'),\n",
       " (1.425, '長榮大學'),\n",
       " (1.4285714285714286, '國立宜蘭大學'),\n",
       " (1.4666666666666666, '逢甲大學'),\n",
       " (1.511061946902655, '國立中山大學'),\n",
       " (1.5254237288135593, '國立嘉義大學'),\n",
       " (1.53125, '明道大學'),\n",
       " (1.5333333333333334, '真理大學'),\n",
       " (1.5526315789473684, '中華大學'),\n",
       " (1.5570469798657718, '國立體育大學'),\n",
       " (1.5641677255400255, '逢甲大學'),\n",
       " (1.6746987951807228, '國立成功大學'),\n",
       " (1.75, '國立中央大學'),\n",
       " (1.7647058823529411, '中華大學'),\n",
       " (1.9037433155080214, '國立宜蘭大學'),\n",
       " (2.046153846153846, '國立聯合大學'),\n",
       " (2.1048387096774195, '義守大學'),\n",
       " (2.2009237875288683, '國立臺灣海洋大學'),\n",
       " (2.255050505050505, '國立交通大學'),\n",
       " (2.625, '國立臺灣體育運動大學'),\n",
       " (nan, '中山醫學大學'),\n",
       " (4.8, '康寧大學')]"
      ]
     },
     "execution_count": 40,
     "metadata": {},
     "output_type": "execute_result"
    }
   ],
   "source": [
    "dff = list(zip(bg,dfs))\n",
    "dff.sort(reverse=0)\n",
    "dff"
   ]
  },
  {
   "cell_type": "code",
   "execution_count": 16,
   "metadata": {},
   "outputs": [],
   "source": [
    "dfs.sort()"
   ]
  },
  {
   "cell_type": "code",
   "execution_count": 17,
   "metadata": {},
   "outputs": [
    {
     "data": {
      "text/plain": [
       "array([  0,   1,   2,   3,   4,   5,   6,   7,   8,   9,  10,  12,  11,\n",
       "        13,  14,  15,  16,  17,  18,  19,  20,  21,  22,  23,  24,  26,\n",
       "        25,  27,  28,  29,  30,  31,  32,  33,  34,  35,  36,  37,  38,\n",
       "        39,  40,  41,  42,  43,  44,  45,  46,  47,  48,  49,  50,  52,\n",
       "        51,  53,  54,  55,  56,  57,  58,  59,  60,  61,  62,  63,  65,\n",
       "        64,  66,  67,  68,  69,  70,  71,  72,  73,  74,  75,  76,  77,\n",
       "        79,  78,  80,  81,  82,  83,  84,  85,  86,  87,  88,  89,  90,\n",
       "        92,  91,  93,  94,  95,  96,  97,  98,  99, 100, 101, 102, 103],\n",
       "      dtype=int64)"
      ]
     },
     "execution_count": 17,
     "metadata": {},
     "output_type": "execute_result"
    }
   ],
   "source": [
    "np.argsort(dfs)"
   ]
  },
  {
   "cell_type": "code",
   "execution_count": 1,
   "metadata": {},
   "outputs": [
    {
     "name": "stdout",
     "output_type": "stream",
     "text": [
      "m = mode\n",
      "x = Type in char\n",
      "s = seed\n"
     ]
    },
    {
     "data": {
      "application/vnd.jupyter.widget-view+json": {
       "model_id": "15a85da5722e4779bdcc9de4e2df7d45",
       "version_major": 2,
       "version_minor": 0
      },
      "text/plain": [
       "interactive(children=(Dropdown(description='m', options={'加密': 1, '解密': 2}, value=1), Text(value='', descripti…"
      ]
     },
     "metadata": {},
     "output_type": "display_data"
    },
    {
     "data": {
      "text/plain": [
       "<function __main__.main(m, x, s)>"
      ]
     },
     "execution_count": 1,
     "metadata": {},
     "output_type": "execute_result"
    }
   ],
   "source": [
    "'''此程式可以透過設定seed代碼，將文字加密\n",
    "並透過使用同樣的seed代碼，將文字解密\n",
    "要加密或解密，可透過選單選擇\n",
    "有了它，就可以跟朋友 #用暗號聊天 了呢！'''\n",
    "#加密與解密文字程式\n",
    "%matplotlib inline\n",
    "import numpy as np\n",
    "import matplotlib.pyplot as plt\n",
    "import pandas as pd\n",
    "from ipywidgets import interact\n",
    "def main(m,x,s):\n",
    "    if m==1:\n",
    "        trans(x,s)\n",
    "    elif m==2:\n",
    "        tranb(x,s)\n",
    "    else:\n",
    "        print('mode error')\n",
    "def tranb(x,s=1):\n",
    "    try: s=int(s)\n",
    "    except ValueError:\n",
    "        print('Please enter the seed')\n",
    "        s=0\n",
    "    transtra=[]\n",
    "    for i in range(len(x)):\n",
    "        try:\n",
    "            temp=ord(x[i])-(s*s*i*5+s)\n",
    "            temp=chr(temp)\n",
    "        except ValueError:\n",
    "            print(\"Error\")\n",
    "        transtra.append(temp)\n",
    "    final=''.join(str(i) for i in transtra)\n",
    "    print(final)\n",
    "def trans(x,s=1):\n",
    "    try: s=int(s)\n",
    "    except ValueError:\n",
    "        print('Please enter the seed')\n",
    "        s=0\n",
    "    transtra=[]\n",
    "    for i in range(len(x)):\n",
    "        temp=ord(x[i])+(s*s*i*5+s)\n",
    "        temp=chr(temp)\n",
    "        transtra.append(temp)\n",
    "    final=''.join(str(i) for i in transtra)\n",
    "    print(final)\n",
    "    \n",
    "    \n",
    "print('m = mode\\nx = Type in char\\ns = seed')\n",
    "interact(main,m={'加密':1,'解密':2},x='',s='0')"
   ]
  },
  {
   "cell_type": "code",
   "execution_count": null,
   "metadata": {},
   "outputs": [],
   "source": []
  }
 ],
 "metadata": {
  "kernelspec": {
   "display_name": "Python 3",
   "language": "python",
   "name": "python3"
  },
  "language_info": {
   "codemirror_mode": {
    "name": "ipython",
    "version": 3
   },
   "file_extension": ".py",
   "mimetype": "text/x-python",
   "name": "python",
   "nbconvert_exporter": "python",
   "pygments_lexer": "ipython3",
   "version": "3.6.5"
  }
 },
 "nbformat": 4,
 "nbformat_minor": 2
}
