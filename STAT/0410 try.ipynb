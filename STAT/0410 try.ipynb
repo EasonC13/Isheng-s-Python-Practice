{
 "cells": [
  {
   "cell_type": "code",
   "execution_count": 4,
   "metadata": {},
   "outputs": [],
   "source": [
    "e=2.17828\n",
    "pi=3.14159\n",
    "def normal(x,mu,sigma):\n",
    "    y=(1/sqrt(2*pi))*pow(e,-((x-mu)*(x-mu)/(2*sigma)))\n",
    "    return y"
   ]
  },
  {
   "cell_type": "code",
   "execution_count": 5,
   "metadata": {},
   "outputs": [],
   "source": [
    "import numpy as np"
   ]
  },
  {
   "cell_type": "code",
   "execution_count": 7,
   "metadata": {},
   "outputs": [
    {
     "data": {
      "text/plain": [
       "array([-100,  -99,  -98,  -97,  -96,  -95,  -94,  -93,  -92,  -91,  -90,\n",
       "        -89,  -88,  -87,  -86,  -85,  -84,  -83,  -82,  -81,  -80,  -79,\n",
       "        -78,  -77,  -76,  -75,  -74,  -73,  -72,  -71,  -70,  -69,  -68,\n",
       "        -67,  -66,  -65,  -64,  -63,  -62,  -61,  -60,  -59,  -58,  -57,\n",
       "        -56,  -55,  -54,  -53,  -52,  -51,  -50,  -49,  -48,  -47,  -46,\n",
       "        -45,  -44,  -43,  -42,  -41,  -40,  -39,  -38,  -37,  -36,  -35,\n",
       "        -34,  -33,  -32,  -31,  -30,  -29,  -28,  -27,  -26,  -25,  -24,\n",
       "        -23,  -22,  -21,  -20,  -19,  -18,  -17,  -16,  -15,  -14,  -13,\n",
       "        -12,  -11,  -10,   -9,   -8,   -7,   -6,   -5,   -4,   -3,   -2,\n",
       "         -1,    0,    1,    2,    3,    4,    5,    6,    7,    8,    9,\n",
       "         10,   11,   12,   13,   14,   15,   16,   17,   18,   19,   20,\n",
       "         21,   22,   23,   24,   25,   26,   27,   28,   29,   30,   31,\n",
       "         32,   33,   34,   35,   36,   37,   38,   39,   40,   41,   42,\n",
       "         43,   44,   45,   46,   47,   48,   49,   50,   51,   52,   53,\n",
       "         54,   55,   56,   57,   58,   59,   60,   61,   62,   63,   64,\n",
       "         65,   66,   67,   68,   69,   70,   71,   72,   73,   74,   75,\n",
       "         76,   77,   78,   79,   80,   81,   82,   83,   84,   85,   86,\n",
       "         87,   88,   89,   90,   91,   92,   93,   94,   95,   96,   97,\n",
       "         98,   99])"
      ]
     },
     "execution_count": 7,
     "metadata": {},
     "output_type": "execute_result"
    }
   ],
   "source": [
    "np.arange(-100,100)"
   ]
  },
  {
   "cell_type": "code",
   "execution_count": null,
   "metadata": {},
   "outputs": [],
   "source": []
  }
 ],
 "metadata": {
  "kernelspec": {
   "display_name": "Python 3",
   "language": "python",
   "name": "python3"
  },
  "language_info": {
   "codemirror_mode": {
    "name": "ipython",
    "version": 3
   },
   "file_extension": ".py",
   "mimetype": "text/x-python",
   "name": "python",
   "nbconvert_exporter": "python",
   "pygments_lexer": "ipython3",
   "version": "3.6.5"
  }
 },
 "nbformat": 4,
 "nbformat_minor": 2
}
