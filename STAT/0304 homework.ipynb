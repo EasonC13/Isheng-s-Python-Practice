{
 "cells": [
  {
   "cell_type": "code",
   "execution_count": 10,
   "metadata": {},
   "outputs": [
    {
     "name": "stdout",
     "output_type": "stream",
     "text": [
      "avg = 73.35510204081632\n",
      "median = 73.3\n",
      "mode = 74\n",
      "var = 140.126719\n",
      "Standard Deviation = 11.837513\n",
      "range = 58.6\n",
      "First Quartile = 67.94999999999999\n",
      "Third Quartile = 79.44999999999999\n",
      "IQR = 11\n"
     ]
    }
   ],
   "source": [
    "import pandas as pd\n",
    "import numpy as np\n",
    "import matplotlib.pylab as plt\n",
    "%matplotlib inline\n",
    "data=['50.4', '50.5', '50.9', '54.6', '55.7', '56.8', '64.1', '64.8', '65.9', '66', '66.3', '66.3', '67.3', '68.6', '70', '70', '71', '71', '72.2', '72.3', '72.6', '72.7', '72.8', '73.2', '73.3', '73.3', '73.6', '73.6', '73.8', '74', '74', '74', '76.4', '76.5', '76.5', '76.9', '77.4', '79.3', '79.6', '80.5', '80.6', '80.7', '82.4', '83', '84.4', '96', '99.6', '100', '109']\n",
    "for i in range(len(data)):\n",
    "    data[i]=float(data[i])\n",
    "a=0\n",
    "c=0\n",
    "b=0\n",
    "i=0\n",
    "for i in range(len(data)):\n",
    "    b=float(data[i])-73.35\n",
    "    a+=np.square(b)\n",
    "a=a/48\n",
    "\n",
    "print(\"avg =\",sum(data)/len(data))\n",
    "print(\"median =\",data[int(len(data)/2)+1])\n",
    "print(\"mode = 74\")\n",
    "print(\"var = %2f\\nStandard Deviation = %2f\"%(a,np.sqrt(a)))\n",
    "range1=float(data[len(data)-1])-float(data[0])\n",
    "print(\"range =\",range1)\n",
    "q1=data[12]+((data[13]-data[12])*0.5)\n",
    "q3=data[int((len(data)+1)/2/2*3)]+((data[38]-data[37])*0.5)\n",
    "print(\"First Quartile = %s\\nThird Quartile = %s\\nIQR = %d\"%(q1,q3,11))\n",
    "\n",
    "#---------------------------------------------------\n",
    "\n"
   ]
  },
  {
   "cell_type": "code",
   "execution_count": 10,
   "metadata": {},
   "outputs": [],
   "source": [
    "x=['50~59','60~69','70~79','80~89','90~99','100~109']\n"
   ]
  },
  {
   "cell_type": "code",
   "execution_count": 40,
   "metadata": {},
   "outputs": [
    {
     "data": {
      "text/plain": [
       "Text(0,0.5,'Frequency')"
      ]
     },
     "execution_count": 40,
     "metadata": {},
     "output_type": "execute_result"
    },
    {
     "data": {
      "image/png": "[encoded data removed]",
      "text/plain": [
       "<Figure size 432x288 with 1 Axes>"
      ]
     },
     "metadata": {},
     "output_type": "display_data"
    }
   ],
   "source": [
    "x=['44.5','54.5','64.5','74.5','84.5','94.5','104.5','114.5']\n",
    "xm=[0,0,0,0,0,0,0,0]\n",
    "xc=[0,0]\n",
    "error=0\n",
    "for i in range(len(data)):\n",
    "    t=float(data[i])\n",
    "    if t>=50 and t<60:\n",
    "        xm[1]+=1\n",
    "    elif t>=40 and t<50:\n",
    "        xc[0]+=1\n",
    "    elif t>=60 and t<70:\n",
    "        xm[2]+=1\n",
    "    elif t>=70 and t<80:\n",
    "        xm[3]+=1\n",
    "    elif t>=80 and t<90:\n",
    "        xm[4]+=1\n",
    "    elif t>=90 and t<100:\n",
    "        xm[5]+=1\n",
    "    elif t>=100 and t<110:\n",
    "        xm[6]+=1\n",
    "    elif t>=110 and t<120:\n",
    "        xc[7]+=1\n",
    "    else:\n",
    "        error=error+1\n",
    "if error!=0:\n",
    "    print(\"you have %d number out of ranges.\"%(error))\n",
    "plt.bar(x,xm)\n",
    "plt.title(\"Histogram of weight of %d subjects from data\"%(len(data)))#圖表名稱 還要調整\n",
    "plt.xlabel(\"Weight\")\n",
    "plt.ylabel(\"Frequency\")"
   ]
  },
  {
   "cell_type": "code",
   "execution_count": 61,
   "metadata": {},
   "outputs": [
    {
     "name": "stdout",
     "output_type": "stream",
     "text": [
      "within 1 : 85.19261504081632 61.51758904081632\n",
      "73.355102 + 35.512539 = 108.867641, 73.355102 - 35.512539 = 37.842563\n",
      "within 3 : 108.86764104081632 37.842563040816316\n"
     ]
    }
   ],
   "source": [
    "avg = 73.35510204081632\n",
    "SD = 11.837513\n",
    "print(\"within 1 :\", avg+SD,avg-SD)\n",
    "print(\"%f + %f = %f, %f - %f = %f\"%(avg,SD*3,avg+SD+SD+SD,avg,SD*3,avg-SD-SD-SD))\n",
    "print(\"within 3 :\", avg+SD+SD+SD,avg-SD-SD-SD)"
   ]
  },
  {
   "cell_type": "code",
   "execution_count": 41,
   "metadata": {},
   "outputs": [],
   "source": [
    "xt=[(55,6),(56,7)]"
   ]
  },
  {
   "cell_type": "code",
   "execution_count": 42,
   "metadata": {},
   "outputs": [
    {
     "data": {
      "text/plain": [
       "Text(0,0.5,'Frequency')"
      ]
     },
     "execution_count": 42,
     "metadata": {},
     "output_type": "execute_result"
    },
    {
     "data": {
      "image/png": "[encoded data removed]",
      "text/plain": [
       "<Figure size 432x288 with 1 Axes>"
      ]
     },
     "metadata": {},
     "output_type": "display_data"
    }
   ],
   "source": [
    "plt.plot(x,xm)\n",
    "plt.title(\"Frequency polygon of weight of %d subjects from data\"%(len(data)))#圖表名稱 還要調整\n",
    "plt.xlabel(\"Weight\")\n",
    "plt.ylabel(\"Frequency\")"
   ]
  },
  {
   "cell_type": "code",
   "execution_count": null,
   "metadata": {},
   "outputs": [],
   "source": []
  },
  {
   "cell_type": "code",
   "execution_count": 113,
   "metadata": {},
   "outputs": [
    {
     "name": "stdout",
     "output_type": "stream",
     "text": [
      "5\t| 0 0 0 4 5 6 \n",
      "6\t| 4 4 5 6 6 6 7 8 \n",
      "7\t| 0 0 1 1 2 2 2 2 2 3 3 3 3 3 3 4 4 4 6 6 6 6 7 9 9 \n",
      "8\t| 0 0 0 2 3 4 \n",
      "9\t| 6 9 \n",
      "10\t| 0 9 \n"
     ]
    }
   ],
   "source": [
    "#莖葉圖\n",
    "ftp=int(float(data[0])/10)\n",
    "ltp=int(float(data[len(data)-1])/10)\n",
    "temp=ftp\n",
    "for i in range (ltp-ftp+1):\n",
    "    print(\"%d\\t| \"%(temp),end='')\n",
    "    temp+=1\n",
    "    for i in range(len(data)):\n",
    "        if float(data[i])<temp*10 and float(data[i])>=temp*10-10:\n",
    "            print(int(float(data[i])%10),end=' ')\n",
    "    print()"
   ]
  },
  {
   "cell_type": "code",
   "execution_count": 114,
   "metadata": {},
   "outputs": [],
   "source": [
    "#盒狀圖"
   ]
  },
  {
   "cell_type": "code",
   "execution_count": 115,
   "metadata": {},
   "outputs": [
    {
     "data": {
      "text/plain": [
       "5.0"
      ]
     },
     "execution_count": 115,
     "metadata": {},
     "output_type": "execute_result"
    }
   ],
   "source": [
    "int(data[0])/10"
   ]
  },
  {
   "cell_type": "code",
   "execution_count": 116,
   "metadata": {},
   "outputs": [
    {
     "data": {
      "text/plain": [
       "73.35510204081632"
      ]
     },
     "execution_count": 116,
     "metadata": {},
     "output_type": "execute_result"
    }
   ],
   "source": [
    "sum(data)/len(data)"
   ]
  },
  {
   "cell_type": "code",
   "execution_count": 117,
   "metadata": {},
   "outputs": [
    {
     "data": {
      "text/plain": [
       "6"
      ]
     },
     "execution_count": 117,
     "metadata": {},
     "output_type": "execute_result"
    }
   ],
   "source": [
    "256%10"
   ]
  },
  {
   "cell_type": "code",
   "execution_count": 118,
   "metadata": {},
   "outputs": [],
   "source": [
    "for i in range(len(data)):\n",
    "    data[i]=float(data[i])"
   ]
  },
  {
   "cell_type": "code",
   "execution_count": null,
   "metadata": {},
   "outputs": [],
   "source": []
  },
  {
   "cell_type": "code",
   "execution_count": 119,
   "metadata": {},
   "outputs": [
    {
     "data": {
      "text/plain": [
       "73.3"
      ]
     },
     "execution_count": 119,
     "metadata": {},
     "output_type": "execute_result"
    }
   ],
   "source": [
    "data[int(len(data)/2)+1]"
   ]
  },
  {
   "cell_type": "code",
   "execution_count": 43,
   "metadata": {},
   "outputs": [
    {
     "data": {
      "text/plain": [
       "Text(0,0.5,'Weight')"
      ]
     },
     "execution_count": 43,
     "metadata": {},
     "output_type": "execute_result"
    },
    {
     "data": {
      "image/png": "[encoded data removed]",
      "text/plain": [
       "<Figure size 432x288 with 1 Axes>"
      ]
     },
     "metadata": {},
     "output_type": "display_data"
    }
   ],
   "source": [
    "plt.boxplot(data)\n",
    "plt.title(\"Box-and-whisker plot of %d subject from data\"%(len(data)))#圖表名稱 還要調整\n",
    "plt.ylabel(\"Weight\")"
   ]
  },
  {
   "cell_type": "code",
   "execution_count": 48,
   "metadata": {},
   "outputs": [],
   "source": [
    "med=  73.3\n",
    "SD = 11.8\n",
    "within1=[]\n",
    "within2=[]\n",
    "within3=[]\n",
    "outwithin=[]\n",
    "for i in range(len(data)):\n",
    "    temp=data[i]\n",
    "    if temp<=med+SD and temp>=med-SD:\n",
    "        within1.append(temp)\n",
    "    elif temp<=med+SD+SD and temp>=med-SD-SD:\n",
    "        within2.append(temp)\n",
    "    elif temp<=med+SD+SD+SD and temp>=med-SD-SD-SD:\n",
    "        within3.append(temp)\n",
    "    else:\n",
    "        outwithin.append(temp)\n"
   ]
  },
  {
   "cell_type": "code",
   "execution_count": 54,
   "metadata": {},
   "outputs": [
    {
     "data": {
      "text/plain": [
       "0.9387755102040817"
      ]
     },
     "execution_count": 54,
     "metadata": {},
     "output_type": "execute_result"
    }
   ],
   "source": [
    "46/49"
   ]
  },
  {
   "cell_type": "code",
   "execution_count": 45,
   "metadata": {},
   "outputs": [
    {
     "data": {
      "text/plain": [
       "0.5065359477124183"
      ]
     },
     "execution_count": 45,
     "metadata": {},
     "output_type": "execute_result"
    }
   ],
   "source": [
    " (2142-1057)/2142 "
   ]
  },
  {
   "cell_type": "code",
   "execution_count": 65,
   "metadata": {},
   "outputs": [
    {
     "data": {
      "text/plain": [
       "0.9591836734693877"
      ]
     },
     "execution_count": 65,
     "metadata": {},
     "output_type": "execute_result"
    }
   ],
   "source": [
    "47/49"
   ]
  },
  {
   "cell_type": "code",
   "execution_count": 64,
   "metadata": {},
   "outputs": [
    {
     "name": "stdout",
     "output_type": "stream",
     "text": [
      "2\n"
     ]
    }
   ],
   "source": [
    "c100=0\n",
    "for i in range(len(data)):\n",
    "    if data[i]>=100:c100+=1\n",
    "print(c100)"
   ]
  },
  {
   "cell_type": "code",
   "execution_count": 12,
   "metadata": {},
   "outputs": [
    {
     "data": {
      "text/plain": [
       "137.26696376509787"
      ]
     },
     "execution_count": 12,
     "metadata": {},
     "output_type": "execute_result"
    }
   ],
   "source": [
    "np.var(data)"
   ]
  },
  {
   "cell_type": "code",
   "execution_count": 14,
   "metadata": {},
   "outputs": [
    {
     "data": {
      "text/plain": [
       "25"
      ]
     },
     "execution_count": 14,
     "metadata": {},
     "output_type": "execute_result"
    }
   ],
   "source": [
    "np.square(-5)"
   ]
  },
  {
   "cell_type": "code",
   "execution_count": 18,
   "metadata": {},
   "outputs": [
    {
     "data": {
      "text/plain": [
       "73.35510204081632"
      ]
     },
     "execution_count": 18,
     "metadata": {},
     "output_type": "execute_result"
    }
   ],
   "source": [
    "np.mean(data)"
   ]
  },
  {
   "cell_type": "code",
   "execution_count": 22,
   "metadata": {},
   "outputs": [
    {
     "data": {
      "text/plain": [
       "11.83751207715839"
      ]
     },
     "execution_count": 22,
     "metadata": {},
     "output_type": "execute_result"
    }
   ],
   "source": [
    "np.std(data,ddof=1)"
   ]
  },
  {
   "cell_type": "code",
   "execution_count": 28,
   "metadata": {},
   "outputs": [
    {
     "ename": "NameError",
     "evalue": "name 'std' is not defined",
     "output_type": "error",
     "traceback": [
      "\u001b[1;31m---------------------------------------------------------------------------\u001b[0m",
      "\u001b[1;31mNameError\u001b[0m                                 Traceback (most recent call last)",
      "\u001b[1;32m<ipython-input-28-9fc309f8178a>\u001b[0m in \u001b[0;36m<module>\u001b[1;34m()\u001b[0m\n\u001b[1;32m----> 1\u001b[1;33m \u001b[0mstd\u001b[0m\u001b[1;33m(\u001b[0m\u001b[0mdata\u001b[0m\u001b[1;33m)\u001b[0m\u001b[1;33m\u001b[0m\u001b[0m\n\u001b[0m",
      "\u001b[1;31mNameError\u001b[0m: name 'std' is not defined"
     ]
    }
   ],
   "source": []
  },
  {
   "cell_type": "code",
   "execution_count": 3,
   "metadata": {},
   "outputs": [
    {
     "data": {
      "text/plain": [
       "37.5"
      ]
     },
     "execution_count": 3,
     "metadata": {},
     "output_type": "execute_result"
    }
   ],
   "source": [
    "(len(data)+1)/2/2*3"
   ]
  },
  {
   "cell_type": "code",
   "execution_count": null,
   "metadata": {},
   "outputs": [],
   "source": []
  }
 ],
 "metadata": {
  "kernelspec": {
   "display_name": "Python 3",
   "language": "python",
   "name": "python3"
  },
  "language_info": {
   "codemirror_mode": {
    "name": "ipython",
    "version": 3
   },
   "file_extension": ".py",
   "mimetype": "text/x-python",
   "name": "python",
   "nbconvert_exporter": "python",
   "pygments_lexer": "ipython3",
   "version": "3.6.5"
  }
 },
 "nbformat": 4,
 "nbformat_minor": 2
}
